{
 "metadata": {
  "name": "",
  "signature": "sha256:0579b907f26df3d8f3f7877f4ac2ea7b764c9e69df379d6051cebfa931d17f9e"
 },
 "nbformat": 3,
 "nbformat_minor": 0,
 "worksheets": [
  {
   "cells": [
    {
     "cell_type": "markdown",
     "metadata": {},
     "source": [
      "Basic Functions and Numerical Indexing\n",
      "==\n",
      "\n",
      "# 1. Generating Arrays and Matrices"
     ]
    },
    {
     "cell_type": "markdown",
     "metadata": {},
     "source": [
      "##linspace\n",
      "\n",
      "linspace( l , u , n ) generates a set of n points uniformly spaced between l, a lower bound (inclusive) and u, an upper bound (inclusive).\n"
     ]
    },
    {
     "cell_type": "code",
     "collapsed": false,
     "input": [
      "x = linspace(0, 10, 11)\n",
      "print x, type(x)"
     ],
     "language": "python",
     "metadata": {},
     "outputs": [
      {
       "output_type": "stream",
       "stream": "stdout",
       "text": [
        "[  0.   1.   2.   3.   4.   5.   6.   7.   8.   9.  10.] <type 'numpy.ndarray'>\n"
       ]
      }
     ],
     "prompt_number": 2
    },
    {
     "cell_type": "markdown",
     "metadata": {},
     "source": [
      "## logspace\n",
      "logspace( l , u , n ) produces a set of logarithmically spaced points between 10 l and 10 u . It is identical to 10\\*\\*linspace(l,u,n) ."
     ]
    },
    {
     "cell_type": "code",
     "collapsed": false,
     "input": [
      "x = logspace(0, 10, 11)\n",
      "print x, type(x)"
     ],
     "language": "python",
     "metadata": {},
     "outputs": [
      {
       "output_type": "stream",
       "stream": "stdout",
       "text": [
        "[  1.00000000e+00   1.00000000e+01   1.00000000e+02   1.00000000e+03\n",
        "   1.00000000e+04   1.00000000e+05   1.00000000e+06   1.00000000e+07\n",
        "   1.00000000e+08   1.00000000e+09   1.00000000e+10] <type 'numpy.ndarray'>\n"
       ]
      }
     ],
     "prompt_number": 25
    },
    {
     "cell_type": "markdown",
     "metadata": {},
     "source": [
      "## arange\n",
      "arange( l , u , s ) produces a set of points spaced by s between l, a lower bound (inclusive) and u, an upper bound (exclusive). \n",
      "\n",
      "arange can be used with a single parameter, so that arange(n) is equivalent to arange(0,n,1) . Note that arange will return integer data type if all inputs are integer."
     ]
    },
    {
     "cell_type": "code",
     "collapsed": false,
     "input": [
      "x = arange(11.0)\n",
      "print x, type(x)\n",
      "\n",
      "x = arange(4, 10, 1.25)\n",
      "print x, type(x)"
     ],
     "language": "python",
     "metadata": {},
     "outputs": [
      {
       "output_type": "stream",
       "stream": "stdout",
       "text": [
        "[  0.   1.   2.   3.   4.   5.   6.   7.   8.   9.  10.] <type 'numpy.ndarray'>\n",
        "[ 4.    5.25  6.5   7.75  9.  ] <type 'numpy.ndarray'>\n"
       ]
      }
     ],
     "prompt_number": 28
    },
    {
     "cell_type": "markdown",
     "metadata": {},
     "source": [
      "## meshgrid\n",
      "meshgrid broadcasts two vectors to produce two 2-dimensional arrays, and is a useful function when plotting 3-dimensional functions."
     ]
    },
    {
     "cell_type": "code",
     "collapsed": false,
     "input": [
      "x = arange(5)\n",
      "x[4] = 5\n",
      "print x\n",
      "y = arange(3)\n",
      "print y\n",
      "\n",
      "X, Y = meshgrid(x, y)\n",
      "\n",
      "print \"X\\n\", X\n",
      "print \"Y\\n\", Y"
     ],
     "language": "python",
     "metadata": {},
     "outputs": [
      {
       "output_type": "stream",
       "stream": "stdout",
       "text": [
        "[0 1 2 3 5]\n",
        "[0 1 2]\n",
        "X\n",
        "[[0 1 2 3 5]\n",
        " [0 1 2 3 5]\n",
        " [0 1 2 3 5]]\n",
        "Y\n",
        "[[0 0 0 0 0]\n",
        " [1 1 1 1 1]\n",
        " [2 2 2 2 2]]\n"
       ]
      }
     ],
     "prompt_number": 6
    },
    {
     "cell_type": "markdown",
     "metadata": {},
     "source": [
      "## r_     [generate row vector]\n",
      "r_ is a convenience function which generates 1-dimensional arrays from slice notation. While r_ is highly flexible, the most common use is \n",
      "*r_[ start : end : stepOrCount ]*\n",
      "where start and end are the start and end\n",
      "points, and stepOrCount can be either a step size, if a real value, or a count, if complex.\n",
      "\n",
      "Note that r_ is not a function and that is used with []."
     ]
    },
    {
     "cell_type": "code",
     "collapsed": false,
     "input": [
      "# Method 1\n",
      "print r_[0:10:1] ## equiv. arange(0, 10, 1)\n",
      "\n",
      "x = r_[0:10:0.5] # equiv. arange(0, 10, 0.5)\n",
      "print x, type(x)\n",
      "\n",
      "# Method 2\n",
      "print r_[0:10:5j] # equiv. linspace(0, 10, 5)\n",
      "\n",
      "# r_ can also be used to concatenate slices using commas \n",
      "# to separate slice notation blocks.\n",
      "print r_[0:2, 7:11, 1:4]\n"
     ],
     "language": "python",
     "metadata": {},
     "outputs": [
      {
       "output_type": "stream",
       "stream": "stdout",
       "text": [
        "[0 1 2 3 4 5 6 7 8 9]\n",
        "[ 0.   0.5  1.   1.5  2.   2.5  3.   3.5  4.   4.5  5.   5.5  6.   6.5  7.\n",
        "  7.5  8.   8.5  9.   9.5] <type 'numpy.ndarray'>\n",
        "[  0.    2.5   5.    7.5  10. ]\n",
        "[ 0  1  7  8  9 10  1  2  3]\n"
       ]
      }
     ],
     "prompt_number": 7
    },
    {
     "cell_type": "markdown",
     "metadata": {},
     "source": [
      "## c_ (generate column vector)\n",
      "\n",
      "c_ is virtually identical to r_ except that column arrays are generates, which are 2-dimensional (second dimension has size 1)"
     ]
    },
    {
     "cell_type": "code",
     "collapsed": false,
     "input": [
      "print c_[0:5:2]\n",
      "\n",
      "print c_[1:5:4j]"
     ],
     "language": "python",
     "metadata": {},
     "outputs": [
      {
       "output_type": "stream",
       "stream": "stdout",
       "text": [
        "[[0]\n",
        " [2]\n",
        " [4]]\n",
        "[[ 1.        ]\n",
        " [ 2.33333333]\n",
        " [ 3.66666667]\n",
        " [ 5.        ]]\n"
       ]
      }
     ],
     "prompt_number": 42
    },
    {
     "cell_type": "markdown",
     "metadata": {},
     "source": [
      "## ix_\n",
      "ix_( a , b ) constructs an n-dimensional open mesh from n 1-dimensional lists or arrays. The output of ix_ is an n-element tuple containing 1-dimensional arrays. \n",
      "\n",
      "The primary use of ix_ is to simplify selecting slabs inside a matrix. Slicing can also be used to select elements from an array as long as the slice pattern is regular. \n",
      "\n",
      "ix_ is particularly useful for selecting elements from an array using indices which are not regularly spaced, as in the final example."
     ]
    },
    {
     "cell_type": "code",
     "collapsed": false,
     "input": [
      "x = reshape(arange(25.0), (5, 5))\n",
      "print x\n",
      "\n",
      "print x[ix_([2,3], [0,1,2])] # Rows 2, 3; Cols 0, 1, 2\n",
      "print x[2:4, :3]\n",
      "\n",
      "print x[ix_([0, 3], [0,1,4])] # No slice equivalents"
     ],
     "language": "python",
     "metadata": {},
     "outputs": [
      {
       "output_type": "stream",
       "stream": "stdout",
       "text": [
        "[[  0.   1.   2.   3.   4.]\n",
        " [  5.   6.   7.   8.   9.]\n",
        " [ 10.  11.  12.  13.  14.]\n",
        " [ 15.  16.  17.  18.  19.]\n",
        " [ 20.  21.  22.  23.  24.]]\n",
        "[[ 10.  11.  12.]\n",
        " [ 15.  16.  17.]]\n",
        "[[ 10.  11.  12.]\n",
        " [ 15.  16.  17.]]\n",
        "[[  0.   1.   4.]\n",
        " [ 15.  16.  19.]]\n"
       ]
      }
     ],
     "prompt_number": 46
    },
    {
     "cell_type": "markdown",
     "metadata": {},
     "source": [
      "## mgrid\n",
      "\n",
      "mgrid is very similar to meshgrid but behaves like r_ and c_ in that it takes slices as input, and uses a real valued variable to denote step size and complex to denote number of values. The output is an $n + 1$ dimensional vector where the first index of the output indexes the meshes."
     ]
    },
    {
     "cell_type": "code",
     "collapsed": false,
     "input": [
      "x = mgrid[0:3, 0:2:0.5]\n",
      "print type(x), \"\\n\", x\n",
      "\n",
      "x, y = mgrid[0:3:3j, 0:2:5j]\n",
      "print \"x\\n\", x\n",
      "print \"y\\n\", y"
     ],
     "language": "python",
     "metadata": {},
     "outputs": [
      {
       "output_type": "stream",
       "stream": "stdout",
       "text": [
        "<type 'numpy.ndarray'> \n",
        "[[[ 0.   0.   0.   0. ]\n",
        "  [ 1.   1.   1.   1. ]\n",
        "  [ 2.   2.   2.   2. ]]\n",
        "\n",
        " [[ 0.   0.5  1.   1.5]\n",
        "  [ 0.   0.5  1.   1.5]\n",
        "  [ 0.   0.5  1.   1.5]]]\n",
        "x\n",
        "[[ 0.   0.   0.   0.   0. ]\n",
        " [ 1.5  1.5  1.5  1.5  1.5]\n",
        " [ 3.   3.   3.   3.   3. ]]\n",
        "y\n",
        "[[ 0.   0.5  1.   1.5  2. ]\n",
        " [ 0.   0.5  1.   1.5  2. ]\n",
        " [ 0.   0.5  1.   1.5  2. ]]\n"
       ]
      }
     ],
     "prompt_number": 51
    },
    {
     "cell_type": "markdown",
     "metadata": {},
     "source": [
      "## ogrid\n",
      "ogrid is identical to mgrid except that the arrays returned are always 1-dimensional. \n",
      "\n",
      "ogrid output is generally more appropriate for looping code, while mgrid is usually more appropriate for vectorized code. When the size of the arrays is large, then ogrid uses much less memory."
     ]
    },
    {
     "cell_type": "code",
     "collapsed": false,
     "input": [
      "print ogrid[0:3, 0:2:0.5]\n",
      "\n",
      "print ogrid[0:3:3j, 0:2:5j]"
     ],
     "language": "python",
     "metadata": {},
     "outputs": [
      {
       "output_type": "stream",
       "stream": "stdout",
       "text": [
        "[array([[ 0.],\n",
        "       [ 1.],\n",
        "       [ 2.]]), array([[ 0. ,  0.5,  1. ,  1.5]])]\n",
        "[array([[ 0. ],\n",
        "       [ 1.5],\n",
        "       [ 3. ]]), array([[ 0. ,  0.5,  1. ,  1.5,  2. ]])]\n"
       ]
      }
     ],
     "prompt_number": 53
    },
    {
     "cell_type": "markdown",
     "metadata": {},
     "source": [
      "# 2. Rounding"
     ]
    },
    {
     "cell_type": "markdown",
     "metadata": {},
     "source": [
      "## around, round\n",
      "around rounds to the nearest integer, or to a particular decimal place when called with two arguments."
     ]
    },
    {
     "cell_type": "code",
     "collapsed": false,
     "input": [
      "x = randn(3)\n",
      "print x, type(x)\n",
      "\n",
      "print around(x)\n",
      "\n",
      "print around(x, 2)\n",
      "\n",
      "\"\"\" \n",
      "around can also be used as a method on an ndarray \u2013 except that the method is named round . For example,\n",
      "x.round(2) is identical to around(x, 2) . The change of names is needed to avoid conflicting with the\n",
      "Python built-in function round .\n",
      "\"\"\"\n",
      "print x.round(2)"
     ],
     "language": "python",
     "metadata": {},
     "outputs": [
      {
       "output_type": "stream",
       "stream": "stdout",
       "text": [
        "[-1.35933562  1.87291807 -0.79183179] <type 'numpy.ndarray'>\n",
        "[-1.  2. -1.]\n",
        "[-1.36  1.87 -0.79]\n",
        "[-1.36  1.87 -0.79]\n"
       ]
      }
     ],
     "prompt_number": 56
    },
    {
     "cell_type": "markdown",
     "metadata": {},
     "source": [
      "## floor\n",
      "\n",
      "floor rounds to the next smallest integer."
     ]
    },
    {
     "cell_type": "code",
     "collapsed": false,
     "input": [
      "x = randn(3)\n",
      "\n",
      "print x, floor(x)"
     ],
     "language": "python",
     "metadata": {},
     "outputs": [
      {
       "output_type": "stream",
       "stream": "stdout",
       "text": [
        "[-0.84707806  0.68947744  0.96193031] [-1.  0.  0.]\n"
       ]
      }
     ],
     "prompt_number": 58
    },
    {
     "cell_type": "markdown",
     "metadata": {},
     "source": [
      "## ceil\n",
      "ceil rounds to the next largest integer."
     ]
    },
    {
     "cell_type": "code",
     "collapsed": false,
     "input": [
      "x = randn(3)\n",
      "\n",
      "print x, ceil(x)"
     ],
     "language": "python",
     "metadata": {},
     "outputs": [
      {
       "output_type": "stream",
       "stream": "stdout",
       "text": [
        "[ 2.33473783 -0.67575051  0.03902439] [ 3. -0.  1.]\n"
       ]
      }
     ],
     "prompt_number": 60
    },
    {
     "cell_type": "markdown",
     "metadata": {},
     "source": [
      "# 3. Mathematics"
     ]
    },
    {
     "cell_type": "markdown",
     "metadata": {},
     "source": [
      "## sum, cumsum\n",
      "\n",
      "*sum* sums elements in an array. By default, it will sum all elements in the array, and so the second argument is normally used to provide the axis to use \u2013 **0 to sum down columns, 1 to sum across rows**. \n",
      "\n",
      "*cumsum* produces the cumulative sum of the values in the array, and is also usually used with the second argument to indicate the axis to use."
     ]
    },
    {
     "cell_type": "code",
     "collapsed": false,
     "input": [
      "x = randn(3, 4)\n",
      "print x, type(x)\n",
      "\n",
      "print sum(x) # sum up all elements\n",
      "\n",
      "print sum(x, 0) # Down columns, 4 elements\n",
      "\n",
      "print sum(x, 1) # Across rows, 3 elements\n",
      "\n",
      "print \"Show summing step-by-step\"\n",
      "print cumsum(x, 0) # Down columns, 4 elements\n",
      "\n",
      "\"\"\"\n",
      "sum and cumsum can both be used as function or as methods. \n",
      "When used as methods, the first input is the\n",
      "axis so that sum(x,0) is the same as x.sum(0) .\n",
      "\"\"\"\n",
      "\n",
      "print x.cumsum(0)"
     ],
     "language": "python",
     "metadata": {},
     "outputs": []
    },
    {
     "cell_type": "markdown",
     "metadata": {},
     "source": [
      "## prod, cumprod\n",
      "\n",
      "prod and cumprod behave similarly to sum and cumsum except that the product and cumulative product are\n",
      "returned. prod and cumprod can be called as function or methods."
     ]
    },
    {
     "cell_type": "markdown",
     "metadata": {},
     "source": [
      "## diff\n",
      "\n",
      "diff computes the finite difference of a vector (also array) and returns n-1 an element vector when used on an n element vector. \n",
      "\n",
      "diff operates on the last axis by default, and so diff(x) operates across columns and returns x[:,1:size(x,1)]-x[:,:size(x,1)-1] for a 2-dimensional array. diff takes an optional keyword argument axis so that diff(x, axis=0) will operate across rows. diff can also be used to produce higher\n",
      "order differences (e.g. double difference)."
     ]
    },
    {
     "cell_type": "code",
     "collapsed": false,
     "input": [
      "x = randn(3, 4)\n",
      "print x\n",
      "\n",
      "y = diff(x) # column-wise first difference\n",
      "print y\n",
      "\n",
      "z = diff(x, axis=0) # row-wise first difference\n",
      "print z \n",
      "\n",
      "k = diff(x, 2, axis=0) # row-wise 2nd difference\n",
      "print k "
     ],
     "language": "python",
     "metadata": {},
     "outputs": [
      {
       "output_type": "stream",
       "stream": "stdout",
       "text": [
        "[[-0.00377766 -0.86485389 -1.25181554 -0.25634945]\n",
        " [-0.0315389   0.37301952 -0.32236016  0.9900874 ]\n",
        " [-2.4495594  -0.0894626  -0.87432993 -0.29684085]]\n",
        "[[-0.86107623 -0.38696165  0.99546609]\n",
        " [ 0.40455842 -0.69537968  1.31244756]\n",
        " [ 2.3600968  -0.78486733  0.57748907]]\n",
        "[[-0.02776124  1.2378734   0.92945538  1.24643685]\n",
        " [-2.4180205  -0.46248211 -0.55196977 -1.28692826]]\n",
        "[[-2.39025925 -1.70035552 -1.48142514 -2.5333651 ]]\n"
       ]
      }
     ],
     "prompt_number": 72
    },
    {
     "cell_type": "markdown",
     "metadata": {},
     "source": [
      "##exp\n",
      "exp returns the element-by-element exponential (e x ) for an array.\n",
      "\n",
      "##log\n",
      "log returns the element-by-element natural logarithm (ln(x )) for an array.\n",
      "\n",
      "##log10\n",
      "log10 returns the element-by-element base-10 logarithm (log 10 (x )) for an array.\n",
      "\n",
      "##sqrt\n",
      "sqrt returns the element-by-element square root for an array.\n",
      "\n",
      "##square\n",
      "square returns the element-by-element square (x 2 ) for an array, and is equivalent to calling x\\*\\*2.0 when x is an array (but not a matrix ) \n",
      "\n",
      "##absolute , abs\n",
      "abs and absolute returns the element-by-element absolute value for an array. \n",
      "\n",
      "##sign\n",
      "sign returns the element-by-element sign function, defined as 0 if x = 0, and $x / | x |$ otherwise."
     ]
    },
    {
     "cell_type": "markdown",
     "metadata": {},
     "source": [
      "# 3. Set Functions"
     ]
    },
    {
     "cell_type": "markdown",
     "metadata": {},
     "source": [
      "## unique\n",
      "unique returns the unique elements in an array. It only operates on the entire array. An optional second argument can be returned which contains the original indices of the unique elements."
     ]
    },
    {
     "cell_type": "code",
     "collapsed": false,
     "input": [
      "x = repeat(randn(3), 2)\n",
      "print x\n",
      "\n",
      "print unique(x)\n",
      "\n",
      "y, index = unique(x, True)\n",
      "print \"y\\n\", y\n",
      "print \"index\\n\", index\n",
      "\n",
      "print x.flat[index]"
     ],
     "language": "python",
     "metadata": {},
     "outputs": []
    },
    {
     "cell_type": "markdown",
     "metadata": {},
     "source": [
      "## in1d\n",
      "\n",
      "in1d returns a Boolean array with the same size as the first input array indicating the elements which are also in a second array."
     ]
    },
    {
     "cell_type": "code",
     "collapsed": false,
     "input": [
      "x = arange(10.0)\n",
      "y = arange(5, 15.0)\n",
      "print x\n",
      "print y\n",
      "print in1d(x,y)\n",
      "print x.flat[in1d(x, y)]"
     ],
     "language": "python",
     "metadata": {},
     "outputs": [
      {
       "output_type": "stream",
       "stream": "stdout",
       "text": [
        "[ 0.  1.  2.  3.  4.  5.  6.  7.  8.  9.]\n",
        "[  5.   6.   7.   8.   9.  10.  11.  12.  13.  14.]\n",
        "[False False False False False  True  True  True  True  True]\n",
        "[ 5.  6.  7.  8.  9.]\n"
       ]
      }
     ],
     "prompt_number": 87
    },
    {
     "cell_type": "markdown",
     "metadata": {},
     "source": [
      "## intersect1d\n",
      "\n",
      "intersect1d is similar to in1d , except that it returns the elements rather than a Boolean array, and only unique elements are returned. It is equivalent to unique(x.flat[in1d(x,y)]) ."
     ]
    },
    {
     "cell_type": "code",
     "collapsed": false,
     "input": [
      "x = arange(10.0)\n",
      "y = arange(5, 15.0)\n",
      "print intersect1d(x, y)"
     ],
     "language": "python",
     "metadata": {},
     "outputs": [
      {
       "output_type": "stream",
       "stream": "stdout",
       "text": [
        "[ 5.  6.  7.  8.  9.]\n"
       ]
      }
     ],
     "prompt_number": 89
    },
    {
     "cell_type": "markdown",
     "metadata": {},
     "source": [
      "## union1d\n",
      "\n",
      "union1d returns the unique set of elements in 2 arrays."
     ]
    },
    {
     "cell_type": "code",
     "collapsed": false,
     "input": [
      "x = arange(10.0)\n",
      "y = arange(5, 15.0)\n",
      "print union1d(x, y)"
     ],
     "language": "python",
     "metadata": {},
     "outputs": [
      {
       "output_type": "stream",
       "stream": "stdout",
       "text": [
        "[  0.   1.   2.   3.   4.   5.   6.   7.   8.   9.  10.  11.  12.  13.  14.]\n"
       ]
      }
     ],
     "prompt_number": 90
    },
    {
     "cell_type": "markdown",
     "metadata": {},
     "source": [
      "## setdiff1d\n",
      "\n",
      "setdiff1d returns the set of the elements which are only in the first array but not in the second array."
     ]
    },
    {
     "cell_type": "code",
     "collapsed": false,
     "input": [
      "x = arange(10.0)\n",
      "y = arange(5, 15.0)\n",
      "print setdiff1d(x, y)"
     ],
     "language": "python",
     "metadata": {},
     "outputs": [
      {
       "output_type": "stream",
       "stream": "stdout",
       "text": [
        "[ 0.  1.  2.  3.  4.]\n"
       ]
      }
     ],
     "prompt_number": 92
    },
    {
     "cell_type": "markdown",
     "metadata": {},
     "source": [
      "## setxor1d\n",
      "\n",
      "setxor1d returns the set of elements which are in one (and only one) of two arrays."
     ]
    },
    {
     "cell_type": "code",
     "collapsed": false,
     "input": [
      "x = arange(10.0)\n",
      "y = arange(5, 15.0)\n",
      "print setxor1d(x, y)"
     ],
     "language": "python",
     "metadata": {},
     "outputs": [
      {
       "output_type": "stream",
       "stream": "stdout",
       "text": [
        "[  0.   1.   2.   3.   4.  10.  11.  12.  13.  14.]\n"
       ]
      }
     ],
     "prompt_number": 94
    },
    {
     "cell_type": "markdown",
     "metadata": {},
     "source": [
      "# 4. Sorting"
     ]
    },
    {
     "cell_type": "markdown",
     "metadata": {},
     "source": [
      "## sort\n",
      "*sort* sorts the elements of an array. By default, it sorts using the last axis of x. It uses an optional second argument to indicate the axis to use for sorting (i.e. 0 for column-by-column, None for sorting all elements).\n",
      "sort does not alter the input when called as function, unlike the method version of sort()."
     ]
    },
    {
     "cell_type": "code",
     "collapsed": false,
     "input": [
      "x = randn(4, 2)\n",
      "print x\n",
      "\n"
     ],
     "language": "python",
     "metadata": {},
     "outputs": [
      {
       "output_type": "stream",
       "stream": "stdout",
       "text": [
        "[[ 0.82095928 -0.0954686 ]\n",
        " [ 0.84152499  0.28866132]\n",
        " [-0.11235598 -2.17862792]\n",
        " [ 0.18489633  1.0981108 ]]\n"
       ]
      }
     ],
     "prompt_number": 5
    },
    {
     "cell_type": "code",
     "collapsed": false,
     "input": [
      "print sort(x)\n",
      "\n",
      "y=sort((x*-1))*-1\n",
      "print y"
     ],
     "language": "python",
     "metadata": {},
     "outputs": [
      {
       "output_type": "stream",
       "stream": "stdout",
       "text": [
        "[[-0.0954686   0.82095928]\n",
        " [ 0.28866132  0.84152499]\n",
        " [-2.17862792 -0.11235598]\n",
        " [ 0.18489633  1.0981108 ]]\n",
        "[[ 0.82095928 -0.0954686 ]\n",
        " [ 0.84152499  0.28866132]\n",
        " [-0.11235598 -2.17862792]\n",
        " [ 1.0981108   0.18489633]]\n"
       ]
      }
     ],
     "prompt_number": 6
    },
    {
     "cell_type": "markdown",
     "metadata": {},
     "source": [
      "## max, amax, argmax, min, amin, argmin\n",
      "\n",
      "max and min return the maximum and minimum values from an array. They take an optional second argument which indicates the axis to use.\n",
      "\n",
      "max and min can only be used on arrays as methods. When used as a function, amax and amin must be used to avoid conflicts with the built-in functions max and min . This behavior is also seen in around and round .\n",
      "\n",
      "argmax and argmin return the index or indices of the maximum or minimum element(s). They are used in an identical manner to max and min , and can be used either as a function or method."
     ]
    },
    {
     "cell_type": "code",
     "collapsed": false,
     "input": [
      "x = rand(3, 4)\n",
      "print x\n",
      "\n",
      "print amax(x)\n",
      "\n",
      "print x.max()\n",
      "\n",
      "print x.max(0)\n",
      "\n",
      "print x.max(1)"
     ],
     "language": "python",
     "metadata": {},
     "outputs": [
      {
       "output_type": "stream",
       "stream": "stdout",
       "text": [
        "[[ 0.43315651  0.02441145  0.11901514  0.26914438]\n",
        " [ 0.92460907  0.61414815  0.42783612  0.93502144]\n",
        " [ 0.07964041  0.72272389  0.73760963  0.43450565]]\n",
        "0.935021443419\n",
        "0.935021443419\n",
        "[ 0.92460907  0.72272389  0.73760963  0.93502144]\n",
        "[ 0.43315651  0.93502144  0.73760963]\n"
       ]
      }
     ],
     "prompt_number": 109
    },
    {
     "cell_type": "markdown",
     "metadata": {},
     "source": [
      "## maximum, minimum\n",
      "\n",
      "Compare two broadcastable arrays, and find element-wise maximum or minimum."
     ]
    },
    {
     "cell_type": "code",
     "collapsed": false,
     "input": [
      "x, y = randn(4), randn(4)\n",
      "\n",
      "print x\n",
      "print y\n",
      "print maximum(x, y)\n",
      "print minimum(x, y)"
     ],
     "language": "python",
     "metadata": {},
     "outputs": [
      {
       "output_type": "stream",
       "stream": "stdout",
       "text": [
        "[-0.32996414 -0.31067422 -1.21666756 -0.0781147 ]\n",
        "[-0.10147909  0.01919219  0.48431127 -0.06735522]\n",
        "[-0.10147909  0.01919219  0.48431127 -0.06735522]\n",
        "[-0.32996414 -0.31067422 -1.21666756 -0.0781147 ]\n"
       ]
      }
     ],
     "prompt_number": 112
    },
    {
     "cell_type": "markdown",
     "metadata": {},
     "source": [
      "## NaN functions\n",
      "\n",
      "NaN means Not-A-Number. NaN function are convenience function which act similarly to their non-NaN versions, only ignoring NaN values (rather than propagating) when computing the function."
     ]
    },
    {
     "cell_type": "markdown",
     "metadata": {},
     "source": [
      "## nansum\n",
      "\n",
      "nansum is identical sum , except that NaNs are ignored. nansum can be used to easily generate other NaN-functions, such as nanstd (standard deviation, ignoring nans) since variance can be implemented using 2\n",
      "sums."
     ]
    },
    {
     "cell_type": "code",
     "collapsed": false,
     "input": [
      "x = randn(4)\n",
      "x[1] = nan\n",
      "print x\n",
      "\n",
      "print sum(x)\n",
      "print nansum(x)\n",
      "\n",
      "print nansum(x) / sum(x[logical_not(isnan(x))])\n",
      "print nansum(x) / sum(1-isnan(x)) # nanmean()\n",
      "print nanmean(x)"
     ],
     "language": "python",
     "metadata": {},
     "outputs": [
      {
       "output_type": "stream",
       "stream": "stdout",
       "text": [
        "[-0.64044534         nan  0.22330106  0.01812428]\n",
        "nan\n",
        "-0.399020004903\n",
        "1.0\n",
        "-0.133006668301\n",
        "-0.133006668301\n"
       ]
      }
     ],
     "prompt_number": 118
    },
    {
     "cell_type": "markdown",
     "metadata": {},
     "source": [
      "# nanmax, nanargmax, nanmin, nanargmin\n",
      "These functions are identical to their non-NaN counterparts, except that NaNs are ignored."
     ]
    },
    {
     "cell_type": "markdown",
     "metadata": {},
     "source": [
      "# 5. Functions and Methods/Properties"
     ]
    },
    {
     "cell_type": "markdown",
     "metadata": {},
     "source": [
      "Many operations on NumPy arrays and matrices can be performed using a function or as a method of the array. For example, consider reshape ."
     ]
    },
    {
     "cell_type": "code",
     "collapsed": false,
     "input": [
      "x = arange(25.0).reshape((5, 5))\n",
      "print x\n",
      "\n",
      "y = reshape(arange(25.0), (5, 5))\n",
      "print y"
     ],
     "language": "python",
     "metadata": {},
     "outputs": [
      {
       "output_type": "stream",
       "stream": "stdout",
       "text": [
        "[[  0.   1.   2.   3.   4.]\n",
        " [  5.   6.   7.   8.   9.]\n",
        " [ 10.  11.  12.  13.  14.]\n",
        " [ 15.  16.  17.  18.  19.]\n",
        " [ 20.  21.  22.  23.  24.]]\n",
        "[[  0.   1.   2.   3.   4.]\n",
        " [  5.   6.   7.   8.   9.]\n",
        " [ 10.  11.  12.  13.  14.]\n",
        " [ 15.  16.  17.  18.  19.]\n",
        " [ 20.  21.  22.  23.  24.]]\n"
       ]
      }
     ],
     "prompt_number": 123
    },
    {
     "cell_type": "markdown",
     "metadata": {},
     "source": [
      "# Exercises"
     ]
    },
    {
     "cell_type": "markdown",
     "metadata": {},
     "source": [
      "### Q1. Construct each of the following sequences using linspace, arange and r_:\n",
      "$$ 0, 1, ..., 100 $$\n",
      "$$ 0, 0.25, 0.5, ..., 20 $$\n",
      "$$ 50, 49, 48, ..., -50 $$"
     ]
    },
    {
     "cell_type": "code",
     "collapsed": false,
     "input": [],
     "language": "python",
     "metadata": {},
     "outputs": []
    },
    {
     "cell_type": "markdown",
     "metadata": {},
     "source": [
      "### Q2. Is diff(cumsum(x)) the same as x? If not, how can a small modification be made to this statement to recover x?"
     ]
    },
    {
     "cell_type": "code",
     "collapsed": false,
     "input": [],
     "language": "python",
     "metadata": {},
     "outputs": []
    },
    {
     "cell_type": "markdown",
     "metadata": {},
     "source": [
      "### Q3. Suppose y = [nan 2.2 3.9 4.6 nan 2.4 6.1 1.8]. How can nansum be used to compute the variacne of the data?"
     ]
    },
    {
     "cell_type": "code",
     "collapsed": false,
     "input": [],
     "language": "python",
     "metadata": {},
     "outputs": []
    }
   ],
   "metadata": {}
  }
 ]
}