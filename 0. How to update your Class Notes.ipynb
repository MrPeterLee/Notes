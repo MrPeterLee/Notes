{
 "metadata": {
  "name": "",
  "signature": "sha256:6b629adf6251751520bcac766e57b2bf164963377248ab7c0c2586d1075f5fd7"
 },
 "nbformat": 3,
 "nbformat_minor": 0,
 "worksheets": [
  {
   "cells": [
    {
     "cell_type": "markdown",
     "metadata": {},
     "source": [
      "Run the following script to update your Python Class Notes\n",
      "==\n",
      "**Caution: Saving important files in this Workspace/Notes/ folder**\n",
      "\n",
      "- Once updated, any modifications on existing lecture notes will be removed.\n",
      "\n",
      "- However, new files/notebooks in this folder will not be affected."
     ]
    },
    {
     "cell_type": "code",
     "collapsed": false,
     "input": [
      "!cd $HOME/Workspace/Notes/\n",
      "!git checkout -- .\n",
      "!git fetch\n",
      "!git merge origin/master"
     ],
     "language": "python",
     "metadata": {},
     "outputs": [
      {
       "output_type": "stream",
       "stream": "stdout",
       "text": [
        "Already up-to-date.\r\n"
       ]
      }
     ],
     "prompt_number": 1
    }
   ],
   "metadata": {}
  }
 ]
}