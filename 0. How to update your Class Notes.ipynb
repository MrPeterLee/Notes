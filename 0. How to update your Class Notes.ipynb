{
 "cells": [
  {
   "cell_type": "markdown",
   "metadata": {},
   "source": [
    "Run the following script to update your Python Class Notes\n",
    "==\n",
    "**Caution: Saving important files in this Workspace/Notes/ folder**\n",
    "\n",
    "- Once updated, any modifications on existing lecture notes will be removed.\n",
    "\n",
    "- However, new files/notebooks in this folder will not be affected."
   ]
  },
  {
   "cell_type": "code",
   "execution_count": 1,
   "metadata": {
    "collapsed": false
   },
   "outputs": [
    {
     "name": "stdout",
     "output_type": "stream",
     "text": [
      "Already up-to-date.\r\n"
     ]
    }
   ],
   "source": [
    "!cd $HOME/Workspace/Notes/\n",
    "!git checkout -- .\n",
    "!git fetch upstream\n",
    "!git merge upstream/master master"
   ]
  }
 ],
 "metadata": {
  "hide_input": false,
  "kernelspec": {
   "display_name": "Python 3",
   "language": "python",
   "name": "python3"
  },
  "language_info": {
   "codemirror_mode": {
    "name": "ipython",
    "version": 3
   },
   "file_extension": ".py",
   "mimetype": "text/x-python",
   "name": "python",
   "nbconvert_exporter": "python",
   "pygments_lexer": "ipython3",
   "version": "3.4.3"
  }
 },
 "nbformat": 4,
 "nbformat_minor": 0
}
