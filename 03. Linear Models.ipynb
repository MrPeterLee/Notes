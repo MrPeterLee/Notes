{
 "cells": [
  {
   "cell_type": "markdown",
   "metadata": {},
   "source": [
    "Linear Models\n",
    "==\n",
    "Linear models are widely used to help price securities and perform optimal portfolio allocation, among other useful things. \n",
    "\n",
    "One of the significance of linearity in financial modelling is its assurance that a problem terminates at a global optimal solution.\n",
    "\n",
    "Modules such as the **SciPy** and **NumPy** packages contain a variety of linear regression functions for data scientists to work with.\n",
    "\n",
    "In traditional portfolio management, the allocation of assets fllows a linear pattern, and investors have individual styles of investing. We can state the problem of portfolio allocation into a system of linear equations, containning either equalities or inequalities. These linear systems can then be represented in a matrix form as $Ax=B$, where $A$ is the known coefficients, $B$ is the observed result, and $x$ is the vector of values to find out. More often, $x$ contains the optimal security weights to maximize the agent's utility. Using matrix algebra, we can efficiently solve for $x$ using either direct or indirect methods."
   ]
  },
  {
   "cell_type": "markdown",
   "metadata": {},
   "source": [
    "# 2. Linear Optimization\n",
    "\n",
    "Linear optimization focuses on minimizing or maximizing the value of the objective function. The examples are maximizing returns and minimizing volatility. These objectives are usually governed by certain regulations, such as no short-selling rule, limits on the number of securities to be invested, and so on.\n",
    "\n",
    "A number of packages provide optimization methods. The following example makes use of **PuLP**, an open source linear programming modeller."
   ]
  },
  {
   "cell_type": "markdown",
   "metadata": {},
   "source": [
    "## Example - Linear optimization problem\n",
    "Suppose that we are interested in investing in two securities, $x$ and $y$. We would like to find out the actual number of units to invest for every 3 units of security $x$ and 2 units of security $y$, such that the total number of units invested is maximized, where possible. However, there are certain constraints on our investment strategy:\n",
    "- For every 2 units of security $x$ invested and 1 unit of security $y$ invested, the total volume must not exceed 100.\n",
    "- For every unit of security $x$ and $y$ invested, the total volume must not exceed 80.\n",
    "- The total volume allowed to invest in security $x$ must not exceed 40.\n",
    "- Short selling is not allowed for both the securities.\n",
    "\n",
    "The maximization problem can be mathematically represented as follows:\n",
    "$$ \\max: f(x,y) = 3x+2y $$\n",
    "Subject to:\n",
    "$$ 2x+y<=100 $$\n",
    "$$ x+y<=80 $$\n",
    "$$ x<=40 $$\n",
    "$$ x>=0, y>=0 $$"
   ]
  },
  {
   "cell_type": "code",
   "execution_count": 7,
   "metadata": {
    "ExecuteTime": {
     "end_time": "2016-03-20T10:58:09.308135",
     "start_time": "2016-03-20T10:58:09.268851"
    },
    "collapsed": false
   },
   "outputs": [
    {
     "name": "stdout",
     "output_type": "stream",
     "text": [
      "Maximization Results:\n",
      "x = 20.0\n",
      "y = 60.0\n",
      "Objective function's value: 180.0\n"
     ]
    }
   ],
   "source": [
    "import pulp\n",
    "\n",
    "# Define input variables\n",
    "x = pulp.LpVariable(\"x\", lowBound=0)\n",
    "y = pulp.LpVariable(\"y\", lowBound=0)\n",
    "\n",
    "# Formulate the Linear Problem\n",
    "problem = pulp.LpProblem(\"Example - Linear Optimization\", pulp.LpMaximize)\n",
    "problem += 3*x + 2*y, \"The objective function\"\n",
    "problem += 2*x + y <= 100, \"1st constraint\"\n",
    "problem += x + y <= 80, \"2nd constraint\"\n",
    "problem += x <= 40, \"3nd constraint\"\n",
    "\n",
    "# Solve the problem (linear optimziation)\n",
    "problem.solve()\n",
    "\n",
    "#print problem.variables\n",
    "\n",
    "# Show optimization results\n",
    "results = problem.variables()\n",
    "print(\"Maximization Results:\")\n",
    "for x in results:\n",
    "    print(x.name, \"=\", x.varValue)\n",
    "\n",
    "print(\"Objective function's value:\", problem.objective.value())"
   ]
  },
  {
   "cell_type": "markdown",
   "metadata": {},
   "source": [
    "# Integer Programming\n",
    "\n",
    "Linear integer programming problem restricts all variables as integers. It is frequently used in operational research to model real-world working problems. "
   ]
  },
  {
   "cell_type": "markdown",
   "metadata": {},
   "source": [
    "## Example of an integer programming model with binary conditions\n",
    "\n",
    "Suppose we must go for 150 contracts in a particular over-the-counter exotic security from three dealers. \n",
    "- Dealer $X$ quoted \\$500 per contract plus handling fees of \\$4,000, regardless of the number of contracts sold. \n",
    "- Dealer $Y$ charges \\$350 per contract plus a transaction fee of \\$2,000.\n",
    "- Dealer $Z$ charges \\$450 per contract plus a fee of \\$6,000.\n",
    "Dearler $X$ will sell at most 100 contracts, dealer $Y$ at most 90, and dealer $Z$ at most 70. \n",
    "The minimum transaction volume from any dealer is 30 contracts.\n",
    "How should we minimize the cost of purchasing 150 contracts?\n"
   ]
  },
  {
   "cell_type": "code",
   "execution_count": 8,
   "metadata": {
    "ExecuteTime": {
     "end_time": "2016-03-20T10:58:09.326819",
     "start_time": "2016-03-20T10:58:09.319274"
    },
    "collapsed": false
   },
   "outputs": [],
   "source": [
    "import pulp\n",
    "\n",
    "dealers = [\"X\", \"Y\", \"Z\"] # This is the key to use dictionaries\n",
    "\n",
    "variable_costs = {\"X\":500,\n",
    "                  \"Y\":350,\n",
    "                  \"Z\":450}\n",
    "\n",
    "fixed_costs = {\"X\":4000,\n",
    "               \"Y\":2000,\n",
    "               \"Z\":6000}\n",
    "\n",
    "# Define Input Variables\n",
    "quantities = pulp.LpVariable.dicts(\"quantity\", \n",
    "                                   dealers, \n",
    "                                   lowBound=0, \n",
    "                                   cat=pulp.LpInteger)\n",
    "    # quantities are PULP varaibles of intergers\n",
    "\n",
    "is_orders = pulp.LpVariable.dicts(\"orders\",\n",
    "                                  dealers,\n",
    "                                  cat=pulp.LpBinary)\n",
    "    # is_orders are PULP varaibles of binary indicators\n",
    "\n"
   ]
  },
  {
   "cell_type": "markdown",
   "metadata": {},
   "source": [
    "**Incorrect solution**\n",
    "\n",
    "The minimization problem can be mathematically represented as follows:\n",
    "$$ \\min: costs = \\sum_{i=x}^{z} IsOrder_i(variable cost_i \\cdot quantity_i + fixed costs_i) $$\n",
    "Subject to:\n",
    "$$ 30<=quantity_x<=100 $$\n",
    "$$ 30<=quantity_y<=90 $$\n",
    "$$ 30<=quantity_z<=70 $$\n",
    "$$ \\sum_{i=x}^{z} quantity_i = 150 $$"
   ]
  },
  {
   "cell_type": "code",
   "execution_count": 9,
   "metadata": {
    "ExecuteTime": {
     "end_time": "2016-03-20T10:58:09.346456",
     "start_time": "2016-03-20T10:58:09.343546"
    },
    "collapsed": false
   },
   "outputs": [],
   "source": [
    "# Initialize the model with constraints\n",
    "# model = pulp.LpProblem(\"A Cost Minimization Problem\", pulp.LpMinimize)\n",
    "# model += sum([(variable_costs[i]*quantities[i] + \n",
    "#              fixed_costs[i])*is_orders[i] for i in dealers]), \"Objective function\"\n",
    "# model += 30 <= quantities[\"X\"] <= 100, \"Boundary of total volume of X\"\n",
    "# model += 30 <= quantities[\"Y\"] <= 90, \"Boundary of total volume of Y\"\n",
    "# model += 30 <= quantities[\"Z\"] <= 70, \"Boundary of total volume of Z\"\n",
    "# model += sum([quantities[i] for i in dealers]) == 150, \"Total contracts required\"\n",
    "\n",
    "# model.solve()\n"
   ]
  },
  {
   "cell_type": "markdown",
   "metadata": {},
   "source": [
    "**Correct solution**\n",
    "\n",
    "The minimization problem can be mathematically represented as follows:\n",
    "$$ \\min: costs = \\sum_{i=x}^{z} [(variable cost_i \\cdot quantity_i + IsOrder_i \\cdot fixed costs_i)] $$\n",
    "Subject to:\n",
    "$$ IsOrder_x \\cdot 30<=quantity_x<=IsOrder_x \\cdot 100 $$\n",
    "$$ IsOrder_y \\cdot 30<=quantity_y<=IsOrder_y \\cdot 90 $$\n",
    "$$ IsOrder_z \\cdot 30<=quantity_z<=IsOrder_z \\cdot 70 $$\n",
    "$$ \\sum_{i=x}^{i=z} quantity_i = 150 $$"
   ]
  },
  {
   "cell_type": "code",
   "execution_count": 10,
   "metadata": {
    "ExecuteTime": {
     "end_time": "2016-03-20T10:58:09.408230",
     "start_time": "2016-03-20T10:58:09.370506"
    },
    "collapsed": false
   },
   "outputs": [
    {
     "name": "stdout",
     "output_type": "stream",
     "text": [
      "Minimization Results:\n",
      "orders_X = 0.0\n",
      "orders_Y = 1.0\n",
      "orders_Z = 1.0\n",
      "quantity_X = 0.0\n",
      "quantity_Y = 90.0\n",
      "quantity_Z = 60.0\n",
      "Total costs = 66500.0\n"
     ]
    }
   ],
   "source": [
    "# Initialize the model with constraints\n",
    "model = pulp.LpProblem(\"A cost minimization problem\", pulp.LpMinimize)\n",
    "model += sum(variable_costs[i]*quantities[i] + is_orders[i]*fixed_costs[i] for i in dealers), \\\n",
    "        \"Objective function\"\n",
    "model += is_orders[\"X\"]*30 <= quantities[\"X\"] <= is_orders[\"X\"]*100, \"Boundary of dealer X\"\n",
    "model += is_orders[\"Y\"]*30 <= quantities[\"Y\"] <= is_orders[\"Y\"]*90, \"Boundary of dealer Y\"\n",
    "model += is_orders[\"Z\"]*30 <= quantities[\"Z\"] <= is_orders[\"Z\"]*70, \"Boundary of dealer Z\"\n",
    "model += sum([quantities[i] for i in dealers])==150, \"Total contracts required\"\n",
    "\n",
    "model.solve()\n",
    "\n",
    "print(\"Minimization Results:\")\n",
    "for variable in model.variables():\n",
    "    print(variable.name, \"=\", variable.varValue)\n",
    "    \n",
    "print(\"Total costs =\", model.objective.value())"
   ]
  },
  {
   "cell_type": "markdown",
   "metadata": {},
   "source": [
    "# Solve a System of Linear Equations using Matrices\n"
   ]
  },
  {
   "cell_type": "markdown",
   "metadata": {},
   "source": [
    "## Example\n",
    "\n",
    "Solve the following three equations:\n",
    "$$ 2a + b + c = 4 $$\n",
    "$$ a + 3b + 2c = 5 $$\n",
    "$$ a = 6 $$\n",
    "\n",
    "With all of the coefficients visible, the equations are as follows:\n",
    "$$ 2a + 1b + 1c = 4 $$\n",
    "$$ 1a + 3b + 2c = 5 $$\n",
    "$$ 1a + 0b + 0c = 6 $$\n",
    "\n",
    "$$\n",
    "A =\n",
    "  \\begin{bmatrix}\n",
    "    2 & 1 & 1 \\\\\n",
    "    1 & 3 & 2 \\\\\n",
    "    1 & 0 & 0\n",
    "  \\end{bmatrix}\n",
    "$$\n",
    "\n",
    "$$\n",
    "X =\n",
    "  \\begin{bmatrix}\n",
    "    a \\\\ b \\\\ c\n",
    "  \\end{bmatrix}\n",
    "$$\n",
    "\n",
    "$$\n",
    "Y =\n",
    "  \\begin{bmatrix}\n",
    "    4 \\\\ 5 \\\\ 6\n",
    "  \\end{bmatrix}  \n",
    "$$\n",
    "\n",
    "The linear equations can now be stated as follows:\n",
    "$$ AX=Y $$\n",
    "\n",
    "And the solutions can be found:\n",
    "$$X = A^{-1}Y$$\n",
    "\n",
    "Using the *NumPy* arrays, the $X$ matrix can be easily solved using linear algebra."
   ]
  },
  {
   "cell_type": "code",
   "execution_count": 11,
   "metadata": {
    "ExecuteTime": {
     "end_time": "2016-03-20T10:58:09.427931",
     "start_time": "2016-03-20T10:58:09.418478"
    },
    "collapsed": false
   },
   "outputs": [
    {
     "name": "stdout",
     "output_type": "stream",
     "text": [
      "[ 6. -3.  4.]\n"
     ]
    }
   ],
   "source": [
    "import numpy as np\n",
    "\n",
    "A = np.array([[1, 2, 1], \n",
    "              [1, 3, 2],\n",
    "              [1, 0, 0]])\n",
    "\n",
    "Y = np.array([4, 5, 6])\n",
    "\n",
    "print(np.linalg.solve(A, Y))\n"
   ]
  },
  {
   "cell_type": "markdown",
   "metadata": {},
   "source": [
    "# Multivariate OLS\n",
    "\n",
    "Many Python packages such as **SciPy** come with several variants of regression functions. In particular, the **statsmodels** package is a complement to **SciPy** with descriptive statistics and estimation of statistical models. The official page for **statsmodels** is http://statsmodels.sourceforge.net/\n"
   ]
  },
  {
   "cell_type": "markdown",
   "metadata": {},
   "source": [
    "## Simple Example - Perform OLS and view its summary\n",
    "\n",
    "Let's assume that you have implemented an APT model with seven factors that return the values of $Y$. Consider the following set of data collected over 9 time periods, from $t1$ to $t9$. $X1$ to $X7$ are exogenous variables observed at each period. The regression problem is therefore defined as:\n",
    "$$ Y = \\beta_1X_{1}+\\beta_2X_{2}+\\beta_3X_{3}+\\beta_4X_{4}+\\beta_5X_{5}+\\beta_6X_{6}+\\beta_7X_{7}+\\varepsilon $$"
   ]
  },
  {
   "cell_type": "code",
   "execution_count": 6,
   "metadata": {
    "ExecuteTime": {
     "end_time": "2016-03-20T10:58:09.248164",
     "start_time": "2016-03-20T10:58:09.224700"
    },
    "collapsed": false
   },
   "outputs": [
    {
     "name": "stdout",
     "output_type": "stream",
     "text": [
      "                            OLS Regression Results                            \n",
      "==============================================================================\n",
      "Dep. Variable:                      y   R-squared:                       0.953\n",
      "Model:                            OLS   Adj. R-squared:                  0.622\n",
      "Method:                 Least Squares   F-statistic:                     2.879\n",
      "Date:                Sun, 20 Mar 2016   Prob (F-statistic):              0.426\n",
      "Time:                        10:58:09   Log-Likelihood:                 15.729\n",
      "No. Observations:                   9   AIC:                            -15.46\n",
      "Df Residuals:                       1   BIC:                            -13.88\n",
      "Df Model:                           7                                         \n",
      "Covariance Type:            nonrobust                                         \n",
      "==============================================================================\n",
      "                 coef    std err          t      P>|t|      [95.0% Conf. Int.]\n",
      "------------------------------------------------------------------------------\n",
      "const          1.4974      0.320      4.678      0.134        -2.570     5.565\n",
      "x1            -0.1253      0.258     -0.486      0.712        -3.398     3.147\n",
      "x2            -0.4535      0.222     -2.042      0.290        -3.276     2.369\n",
      "x3            -0.4084      0.394     -1.036      0.489        -5.418     4.601\n",
      "x4             0.3430      0.321      1.067      0.479        -3.741     4.427\n",
      "x5            -0.4396      0.194     -2.262      0.265        -2.909     2.030\n",
      "x6             0.2963      0.297      0.996      0.501        -3.483     4.076\n",
      "x7            -0.9998      0.257     -3.886      0.160        -4.268     2.269\n",
      "==============================================================================\n",
      "Omnibus:                        1.704   Durbin-Watson:                   2.938\n",
      "Prob(Omnibus):                  0.426   Jarque-Bera (JB):                0.760\n",
      "Skew:                          -0.139   Prob(JB):                        0.684\n",
      "Kurtosis:                       1.604   Cond. No.                         19.8\n",
      "==============================================================================\n",
      "\n",
      "Warnings:\n",
      "[1] Standard Errors assume that the covariance matrix of the errors is correctly specified.\n"
     ]
    },
    {
     "name": "stderr",
     "output_type": "stream",
     "text": [
      "/usr/local/opt/anaconda/envs/nb/lib/python3.4/site-packages/scipy/stats/stats.py:1557: UserWarning: kurtosistest only valid for n>=20 ... continuing anyway, n=9\n",
      "  \"anyway, n=%i\" % int(n))\n"
     ]
    },
    {
     "data": {
      "text/plain": [
       "array([ 1.49736128, -0.12525588, -0.453542  , -0.40841679,  0.34299651,\n",
       "       -0.43961593,  0.29633744, -0.99976095])"
      ]
     },
     "execution_count": 6,
     "metadata": {},
     "output_type": "execute_result"
    }
   ],
   "source": [
    "import numpy as np\n",
    "import statsmodels.api as sm\n",
    "\n",
    "# Generate some sample data\n",
    "num_periods = 9\n",
    "all_values = np.array([np.random.random(8) for i in range(num_periods)])\n",
    "\n",
    "# Filter the data\n",
    "y_values = all_values[:,0] # First column values as Y\n",
    "x_values = all_values[:, 1:] # All other values as X\n",
    "\n",
    "\n",
    "x_values = sm.add_constant(x_values, prepend=True) # Include the intercept\n",
    "\n",
    "# Fit OLS to the data\n",
    "model = sm.OLS(y_values, x_values) # you can change model parameters after initializaing the model\n",
    "results = model.fit()  # estimate the model\n",
    "print(results.summary()) # show model results\n",
    "\n",
    "# Use the params functions to display the coefficient vector\n",
    "results.params"
   ]
  },
  {
   "cell_type": "markdown",
   "metadata": {},
   "source": [
    "## Advanced Example\n",
    "\n",
    "Let's consider TSLA and SPY. We would like to know how TSLA varies as a function of how SPY varies, so we will take the daily returns of each and regress them against each other.\n",
    "\n",
    "Python's `statsmodels` library has a built-in linear fit function. Note that this will give a line of best fit; whether or not the relationship it shows is significant is for you to determine. The output will also have some statistics about the model, such as R-squared and the F value, which may help you quantify how good the fit actually is."
   ]
  },
  {
   "cell_type": "code",
   "execution_count": 54,
   "metadata": {
    "ExecuteTime": {
     "end_time": "2016-03-20T11:31:00.987080",
     "start_time": "2016-03-20T11:31:00.982392"
    },
    "collapsed": true
   },
   "outputs": [],
   "source": [
    "# Required libraries for Example 2\n",
    "import numpy as np\n",
    "from statsmodels import regression\n",
    "import statsmodels.api as sm\n",
    "import matplotlib.pyplot as plt\n",
    "%matplotlib inline\n",
    "import math"
   ]
  },
  {
   "cell_type": "code",
   "execution_count": 51,
   "metadata": {
    "ExecuteTime": {
     "end_time": "2016-03-20T11:29:43.135039",
     "start_time": "2016-03-20T11:29:43.125247"
    },
    "collapsed": true
   },
   "outputs": [],
   "source": [
    "# First define a function that performs linear regression and plots the results.\n",
    "def linreg(X, Y):\n",
    "    # Running the linear regression\n",
    "    X_with_constant = sm.add_constant(X)\n",
    "    model = regression.linear_model.OLS(Y, X_with_constant).fit()\n",
    "    a = model.params[0]  # Intercept\n",
    "    b = model.params[1]\n",
    "    \n",
    "    print(a, \"b :\", b)\n",
    "    \n",
    "    # Return summary of the regression and plots\n",
    "    X2 = np.linspace(X.min(), X.max(), 100)\n",
    "    Y_hat = a + np.dot(X2, b)\n",
    "    plt.scatter(X, Y, alpha=0.3)  # Plot the raw data\n",
    "    plt.plot(X2, Y_hat, 'r', alpha=0.9);  # Plot the fitted line\n",
    "    plt.xlabel(\"X Value\")\n",
    "    plt.ylabel(\"Y Value\")\n",
    "    \n",
    "    return model.summary()"
   ]
  },
  {
   "cell_type": "markdown",
   "metadata": {},
   "source": [
    "Now we'll get pricing data on TSLA and SPY and perform a regression"
   ]
  },
  {
   "cell_type": "code",
   "execution_count": 46,
   "metadata": {
    "ExecuteTime": {
     "end_time": "2016-03-20T11:28:42.420236",
     "start_time": "2016-03-20T11:28:42.161649"
    },
    "collapsed": true
   },
   "outputs": [],
   "source": [
    "from pandas_datareader import data, wb\n",
    "\n",
    "start = '2014-01-01'\n",
    "end = '2015-01-01'\n",
    "asset = data.DataReader(\"TSLA\", \"yahoo\", start=start, end=end)\n",
    "benchmark = data.DataReader(\"SPY\", \"yahoo\", start=start, end=end)"
   ]
  },
  {
   "cell_type": "code",
   "execution_count": 52,
   "metadata": {
    "ExecuteTime": {
     "end_time": "2016-03-20T11:30:18.326671",
     "start_time": "2016-03-20T11:30:18.067378"
    },
    "collapsed": false
   },
   "outputs": [
    {
     "name": "stdout",
     "output_type": "stream",
     "text": [
      "0.000917155373304 b : 1.95415415044\n"
     ]
    },
    {
     "data": {
      "text/html": [
       "<table class=\"simpletable\">\n",
       "<caption>OLS Regression Results</caption>\n",
       "<tr>\n",
       "  <th>Dep. Variable:</th>            <td>y</td>        <th>  R-squared:         </th> <td>   0.205</td>\n",
       "</tr>\n",
       "<tr>\n",
       "  <th>Model:</th>                   <td>OLS</td>       <th>  Adj. R-squared:    </th> <td>   0.202</td>\n",
       "</tr>\n",
       "<tr>\n",
       "  <th>Method:</th>             <td>Least Squares</td>  <th>  F-statistic:       </th> <td>   64.27</td>\n",
       "</tr>\n",
       "<tr>\n",
       "  <th>Date:</th>             <td>Sun, 20 Mar 2016</td> <th>  Prob (F-statistic):</th> <td>4.23e-14</td>\n",
       "</tr>\n",
       "<tr>\n",
       "  <th>Time:</th>                 <td>11:30:18</td>     <th>  Log-Likelihood:    </th> <td>  549.18</td>\n",
       "</tr>\n",
       "<tr>\n",
       "  <th>No. Observations:</th>      <td>   251</td>      <th>  AIC:               </th> <td>  -1094.</td>\n",
       "</tr>\n",
       "<tr>\n",
       "  <th>Df Residuals:</th>          <td>   249</td>      <th>  BIC:               </th> <td>  -1087.</td>\n",
       "</tr>\n",
       "<tr>\n",
       "  <th>Df Model:</th>              <td>     1</td>      <th>                     </th>     <td> </td>   \n",
       "</tr>\n",
       "<tr>\n",
       "  <th>Covariance Type:</th>      <td>nonrobust</td>    <th>                     </th>     <td> </td>   \n",
       "</tr>\n",
       "</table>\n",
       "<table class=\"simpletable\">\n",
       "<tr>\n",
       "    <td></td>       <th>coef</th>     <th>std err</th>      <th>t</th>      <th>P>|t|</th> <th>[95.0% Conf. Int.]</th> \n",
       "</tr>\n",
       "<tr>\n",
       "  <th>const</th> <td>    0.0009</td> <td>    0.002</td> <td>    0.532</td> <td> 0.595</td> <td>   -0.002     0.004</td>\n",
       "</tr>\n",
       "<tr>\n",
       "  <th>x1</th>    <td>    1.9542</td> <td>    0.244</td> <td>    8.017</td> <td> 0.000</td> <td>    1.474     2.434</td>\n",
       "</tr>\n",
       "</table>\n",
       "<table class=\"simpletable\">\n",
       "<tr>\n",
       "  <th>Omnibus:</th>       <td>64.854</td> <th>  Durbin-Watson:     </th> <td>   1.998</td>\n",
       "</tr>\n",
       "<tr>\n",
       "  <th>Prob(Omnibus):</th> <td> 0.000</td> <th>  Jarque-Bera (JB):  </th> <td> 376.768</td>\n",
       "</tr>\n",
       "<tr>\n",
       "  <th>Skew:</th>          <td> 0.865</td> <th>  Prob(JB):          </th> <td>1.53e-82</td>\n",
       "</tr>\n",
       "<tr>\n",
       "  <th>Kurtosis:</th>      <td> 8.748</td> <th>  Cond. No.          </th> <td>    142.</td>\n",
       "</tr>\n",
       "</table>"
      ],
      "text/plain": [
       "<class 'statsmodels.iolib.summary.Summary'>\n",
       "\"\"\"\n",
       "                            OLS Regression Results                            \n",
       "==============================================================================\n",
       "Dep. Variable:                      y   R-squared:                       0.205\n",
       "Model:                            OLS   Adj. R-squared:                  0.202\n",
       "Method:                 Least Squares   F-statistic:                     64.27\n",
       "Date:                Sun, 20 Mar 2016   Prob (F-statistic):           4.23e-14\n",
       "Time:                        11:30:18   Log-Likelihood:                 549.18\n",
       "No. Observations:                 251   AIC:                            -1094.\n",
       "Df Residuals:                     249   BIC:                            -1087.\n",
       "Df Model:                           1                                         \n",
       "Covariance Type:            nonrobust                                         \n",
       "==============================================================================\n",
       "                 coef    std err          t      P>|t|      [95.0% Conf. Int.]\n",
       "------------------------------------------------------------------------------\n",
       "const          0.0009      0.002      0.532      0.595        -0.002     0.004\n",
       "x1             1.9542      0.244      8.017      0.000         1.474     2.434\n",
       "==============================================================================\n",
       "Omnibus:                       64.854   Durbin-Watson:                   1.998\n",
       "Prob(Omnibus):                  0.000   Jarque-Bera (JB):              376.768\n",
       "Skew:                           0.865   Prob(JB):                     1.53e-82\n",
       "Kurtosis:                       8.748   Cond. No.                         142.\n",
       "==============================================================================\n",
       "\n",
       "Warnings:\n",
       "[1] Standard Errors assume that the covariance matrix of the errors is correctly specified.\n",
       "\"\"\""
      ]
     },
     "execution_count": 52,
     "metadata": {},
     "output_type": "execute_result"
    },
    {
     "data": {
      "image/png": "[encoded data removed]",
      "text/plain": [
       "<matplotlib.figure.Figure at 0x1127a8ef0>"
      ]
     },
     "metadata": {},
     "output_type": "display_data"
    }
   ],
   "source": [
    "# We have to take the percent changes to get returns\n",
    "# Get rid of the 1st (0th) element because it is a NAN\n",
    "r_a = asset['Adj Close'].pct_change()[1:]\n",
    "r_b = benchmark['Adj Close'].pct_change()[1:]\n",
    "\n",
    "\n",
    "linreg(r_b.values, r_a.values)"
   ]
  },
  {
   "cell_type": "markdown",
   "metadata": {},
   "source": [
    "Each point on the above graph represents a day, with the x-coordinate being the return of SPY, and the y-coordinate being the return of TSLA. As we can see, the line of best fit tells us that for every 1% increased return we see from the SPY, we should see an extra 1.92% from TSLA. This is expressed by the parameter $\\beta$, which is 1.9271 as estimated. Of course, for decresed return we will also see about double the loss in TSLA, so we haven't gained anything, we are just more volatile."
   ]
  },
  {
   "cell_type": "markdown",
   "metadata": {
    "ExecuteTime": {
     "end_time": "2016-03-20T11:32:47.126123",
     "start_time": "2016-03-20T11:32:47.121023"
    }
   },
   "source": [
    "## Linear Regression vs. Correlation\n",
    "\n",
    "* Linear regression gives us a specific linear model, but is limited to cases of linear dependence.\n",
    "* Correlation is general to linear and non-linear dependencies, but doesn't give us an actual model.\n",
    "* Both are measures of covariance.\n",
    "* Linear regression can give us relationship between Y and many independent variables by making X multidimensional."
   ]
  },
  {
   "cell_type": "markdown",
   "metadata": {},
   "source": [
    "## Knowing Parameters vs. Estimates\n",
    "\n",
    "It is very important to keep in mind that all $\\alpha$ and $\\beta$ parameters estimated by linear regression are just that - estimates. You can never know the underlying true parameters unless you know the physical process producing the data. The paremeters you estimate today may not be the same as the same analysis done including tomorrow's data, and the underlying true parameters may be moving. As such it is very important when doing actual analysis to pay attention to the standard error of the parameter estimates.  One way to get a sense of how stable your paremeter estimates are is to estimates them using a rolling window of data and see how much variance there is in the estimates.\n"
   ]
  },
  {
   "cell_type": "markdown",
   "metadata": {},
   "source": [
    "## Ordinary Least Squares\n",
    "\n",
    "Regression works by optimizing the placement of the line of best fit (or plane in higher dimensions). It does so by defining how bad the fit is using an objective function. In ordinary least squares regression, a very common type and what we use here, the objective function is:\n",
    "\n",
    "$$\\sum_{i=1}^n (Y_i - a - bX_i)^2$$\n",
    "\n",
    "That is, for each point on the line of best fit, compare it with the real point and take the square of the difference. This function will decrease as we get better paremeter estimates. Regression is a simple case of numerical optimzation that has a closed form solution and does not need any optimizer."
   ]
  },
  {
   "cell_type": "markdown",
   "metadata": {},
   "source": [
    "# Evaluating and reporting results\n",
    "\n",
    "The regression model relies on several assumptions:\n",
    "* The independent variable is not random.\n",
    "* The variance of the error term is constant across observations. This is important for evaluating the goodness of the fit.\n",
    "* The errors are not autocorrelated. The Durbin-Watson statistic detects this; if it is close to 2, there is no autocorrelation.\n",
    "* The errors are normally distributed. If this does not hold, we cannot use some of the statistics, such as the F-test.\n",
    "\n",
    "If we confirm that the necessary assumptions of the regression model are satisfied, we can safely use the statistics reported to analyze the fit. For example, the $R^2$ value tells us the fraction of the total variation of $Y$ that is explained by the model.\n",
    "\n",
    "When making a prediction based on the model, it's useful to report not only a single value but a confidence interval. The linear regression reports 95% confidence intervals for the regression parameters, and we can visualize what this means using the `seaborn` library, which plots the regression line and highlights the 95% (by default) confidence interval for the regression line:"
   ]
  },
  {
   "cell_type": "code",
   "execution_count": 60,
   "metadata": {
    "ExecuteTime": {
     "end_time": "2016-03-20T11:39:38.874843",
     "start_time": "2016-03-20T11:39:38.432878"
    },
    "collapsed": false
   },
   "outputs": [
    {
     "data": {
      "image/png": "[encoded data removed]",
      "text/plain": [
       "<matplotlib.figure.Figure at 0x1150686a0>"
      ]
     },
     "metadata": {},
     "output_type": "display_data"
    }
   ],
   "source": [
    "import seaborn\n",
    "\n",
    "seaborn.regplot(r_b.values, r_a.values);"
   ]
  },
  {
   "cell_type": "markdown",
   "metadata": {
    "ExecuteTime": {
     "end_time": "2016-03-20T11:39:28.295594",
     "start_time": "2016-03-20T11:39:24.937427"
    }
   },
   "source": [
    "We can also find the standard error of estimate, which measures the standard deviation of the error term $\\epsilon$, by getting the `scale` parameter of the model returned by the regression and taking its square root. The formula for standard error of estimate is\n",
    "$$ s = \\left( \\frac{\\sum_{i=1}^n \\epsilon_i^2}{n-2} \\right)^{1/2} $$\n",
    "\n",
    "This is useful because the variance of the error in our prediction $\\hat{Y}$ given the value $X$ is\n",
    "$$ s_f^2 = s^2 \\left( 1 + \\frac{1}{n} + \\frac{(X - \\mu_X)^2}{(n-1)\\sigma_X^2} \\right) $$\n",
    "\n",
    "where $\\mu_X$ is the mean of our observations of $X$ and $\\sigma_X$ is the standard deviation. Then the 95% confidence interval for the prediction is $\\hat{Y} \\pm t_cs_f$, where $t_c$ is the critical value of the t-statistic for $n$ samples and a desired 95% confidence."
   ]
  }
 ],
 "metadata": {
  "hide_input": false,
  "kernelspec": {
   "display_name": "Python 3",
   "language": "python",
   "name": "python3"
  },
  "language_info": {
   "codemirror_mode": {
    "name": "ipython",
    "version": 3
   },
   "file_extension": ".py",
   "mimetype": "text/x-python",
   "name": "python",
   "nbconvert_exporter": "python",
   "pygments_lexer": "ipython3",
   "version": "3.4.4"
  },
  "toc": {
   "toc_cell": false,
   "toc_number_sections": true,
   "toc_threshold": 6,
   "toc_window_display": false
  }
 },
 "nbformat": 4,
 "nbformat_minor": 0
}
