{
 "cells": [
  {
   "cell_type": "markdown",
   "metadata": {},
   "source": [
    "Project Battleship!\n",
    "==\n",
    "In this project you will build a simplified, one-player version of the classic board game Battleship! In this version of the game, there will be a single ship hidden in a random location on a 5x5 grid. The player will have 10 guesses to try to sink the ship.\n",
    "\n",
    "To build this game we will use our knowledge of lists, conditionals and functions in Python. When you're ready to get started, click run to continue.\n"
   ]
  },
  {
   "cell_type": "markdown",
   "metadata": {},
   "source": [
    "# The first thing we need to do is to set up the game board.\n",
    "Create a variable board and set it equal to an empty list.\n",
    "\n",
    "Now we'll use a built-in Python function to generate our board, which we'll make into a 5 x 5 grid of all \"O\"s, for \"ocean.\"\n",
    "\n",
    "print [\"O\"] * 5\n",
    "\n",
    "will print out ['O', 'O', 'O', 'O', 'O'], which is the basis for a row of our board.\n",
    "\n",
    "We'll do this five times to make five rows. (Since we have to do this five times, it sounds like a loop might be in order.)"
   ]
  },
  {
   "cell_type": "code",
   "execution_count": 1,
   "metadata": {
    "collapsed": false
   },
   "outputs": [],
   "source": []
  },
  {
   "cell_type": "markdown",
   "metadata": {},
   "source": [
    "Check it Twice\n",
    "==\n",
    "Great job! Now that we've built our board, let's show it off.\n",
    "\n",
    "Throughout our game, we'll want to print the game board so that the player can see which locations they have already guessed. Regularly printing the board will also help us debug our program.\n",
    "\n",
    "The easiest way to print the board would be to have Python display it for us using the print command. Let's give that a try and see what the results look like—is this a useful way to print our board for Battleship?\n"
   ]
  },
  {
   "cell_type": "code",
   "execution_count": 2,
   "metadata": {
    "collapsed": false
   },
   "outputs": [
    {
     "name": "stdout",
     "output_type": "stream",
     "text": [
      "[['O', 'O', 'O', 'O', 'O'], ['O', 'O', 'O', 'O', 'O'], ['O', 'O', 'O', 'O', 'O'], ['O', 'O', 'O', 'O', 'O'], ['O', 'O', 'O', 'O', 'O']]\n"
     ]
    }
   ],
   "source": []
  },
  {
   "cell_type": "markdown",
   "metadata": {},
   "source": [
    "Custom Print\n",
    "==\n",
    "Now we can see the contents of our list, but clearly it would be easier to play the game if we could print the board out like a grid with each row on its own line.\n",
    "\n",
    "We can use the fact that our board is a list of lists to help us do this. Let's set up a for loop to go through each of the elements in the outer list (each of which is a row of our board) and print them.\n",
    "\n",
    "    First, delete your existing print statement.\n",
    "    Then, define a function named print_board with a single argument, board.\n",
    "    Inside the function, write a for loop to iterates through each row in board and print it to the screen.\n",
    "    Call your function with board to make sure it works.\n",
    "\n"
   ]
  },
  {
   "cell_type": "code",
   "execution_count": 3,
   "metadata": {
    "collapsed": false
   },
   "outputs": [
    {
     "name": "stdout",
     "output_type": "stream",
     "text": [
      "['O', 'O', 'O', 'O', 'O']\n",
      "['O', 'O', 'O', 'O', 'O']\n",
      "['O', 'O', 'O', 'O', 'O']\n",
      "['O', 'O', 'O', 'O', 'O']\n",
      "['O', 'O', 'O', 'O', 'O']\n"
     ]
    }
   ],
   "source": []
  },
  {
   "cell_type": "markdown",
   "metadata": {},
   "source": [
    "Printing Pretty\n",
    "==\n",
    "We're getting pretty close to a playable board, but wouldn't it be nice to get rid of those quote marks and commas? We're storing our data as a list, but the player doesn't need to know that!\n",
    "\n",
    "letters = ['a', 'b', 'c', 'd']\n",
    "print \" \".join(letters)\n",
    "print \"---\".join(letters)\n",
    "\n",
    "    In the example above, we create a list called letters.\n",
    "    Then, we print a b c d. The .join method uses the string to combine the items in the list.\n",
    "    Finally, we print a---b---c---d. We are calling the .join function on the \"---\" string.\n",
    "\n",
    "We want to turn each row into \"O O O O O\".\n",
    "Instructions\n",
    "\n",
    "Inside your function, inside your for loop, use \" \" as the separator to .join the elements of each row."
   ]
  },
  {
   "cell_type": "code",
   "execution_count": 4,
   "metadata": {
    "collapsed": false
   },
   "outputs": [
    {
     "name": "stdout",
     "output_type": "stream",
     "text": [
      "O O O O O\n",
      "O O O O O\n",
      "O O O O O\n",
      "O O O O O\n",
      "O O O O O\n"
     ]
    }
   ],
   "source": []
  },
  {
   "cell_type": "markdown",
   "metadata": {},
   "source": [
    "Hide...\n",
    "==\n",
    "Excellent! Now, let's hide our battleship in a random location on the board.\n",
    "\n",
    "Since we have a 2-dimensional list, we'll use two variables to store the ship's location, ship_row and ship_col.\n",
    "\n",
    "* import numpy as np\n",
    "* coin = np.random.randint(0, 1)\n",
    "* dice = np.random.randint(1, 6)\n",
    "\n",
    "    In the above example, we first import the randint(low, high) function from the random module.\n",
    "    Then, we generate either zero or one and store it in coin.\n",
    "    Finally, we generate a number from one to six inclusive.\n",
    "\n",
    "Let's generate a random_row and random_col from zero to four!\n",
    "Instructions\n",
    "\n",
    "    Define two new functions, random_row and random_col, that each take board as input.\n",
    "    These functions should return a random row index and a random column index from your board, respectively. Use randint(0, len(board) - 1).\n",
    "    Call each function on board.\n"
   ]
  },
  {
   "cell_type": "code",
   "execution_count": 5,
   "metadata": {
    "collapsed": false
   },
   "outputs": [],
   "source": []
  },
  {
   "cell_type": "markdown",
   "metadata": {},
   "source": [
    "...and Seek!\n",
    "==\n",
    "Good job! For now, let's store coordinates for the ship in the variables ship_row and ship_col. Now you have a hidden battleship in your ocean! Let's write the code to allow the player to guess where it is.\n",
    "\n",
    "number = raw_input(\"Enter a number: \")\n",
    "if int(number) == 0:\n",
    "    print \"You entered 0\"\n",
    "\n",
    "raw_input asks the user for input and returns it as a string. But we're going to want to use integers for our guesses! To do this, we'll wrap the raw_inputs with int() to convert the string to an integer.\n",
    "Instructions\n",
    "\n",
    "    Create a new variable called guess_row and set it to int(raw_input(\"Guess Row: \")).\n",
    "    Create a new variable called guess_col and set it to int(raw_input(\"Guess Col: \")).\n",
    "\n",
    "Click Save & Submit and then answer the prompts by typing in a number and pressing Enter (or Return on some computers)."
   ]
  },
  {
   "cell_type": "code",
   "execution_count": 6,
   "metadata": {
    "collapsed": false
   },
   "outputs": [
    {
     "name": "stdout",
     "output_type": "stream",
     "text": [
      "Guess Row: 1\n",
      "Guess Col: 1\n"
     ]
    }
   ],
   "source": []
  },
  {
   "cell_type": "markdown",
   "metadata": {},
   "source": [
    "It's Not Cheating—It's Debugging!\n",
    "==\n",
    "Awesome! Now we have a hidden battleship and a guess from our player. In the next few steps, we'll check the user's guess to see if they are correct.\n",
    "\n",
    "While we're writing and debugging this part of the program, it will be helpful to know where that battleship is hidden. Let's add a print statement that displays the location of the hidden ship.\n",
    "\n",
    "Of course, we'll remove this output when we're finished debugging since if we left it in, our game wouldn't be very challenging. :)\n",
    "\n",
    "Instructions\n",
    "\n",
    "    Print the value of ship_col.\n",
    "    Print the value of ship_row.\n",
    "\n"
   ]
  },
  {
   "cell_type": "code",
   "execution_count": 7,
   "metadata": {
    "collapsed": false
   },
   "outputs": [
    {
     "name": "stdout",
     "output_type": "stream",
     "text": [
      "3\n",
      "3\n"
     ]
    }
   ],
   "source": []
  },
  {
   "cell_type": "markdown",
   "metadata": {},
   "source": [
    "You win!\n",
    "==\n",
    "Okay—now for the fun! We have the actual location of the ship and the player's guess so we can check to see if the player guessed right.\n",
    "\n",
    "For a guess to be right, guess_col should be equal to ship_col and guess_row should be equal to ship_row.\n",
    "\n",
    "if guess_col == 0 and guess_row == 0:\n",
    "    print \"Top-left corner.\"\n",
    "\n",
    "The example above is just a reminder about if statements.\n",
    "Instructions\n",
    "\n",
    "    Add an if guess_row equals ship_row and guess_col equals ship_col.\n",
    "    If that is the case, please print out \"Congratulations! You sank my battleship!\"\n",
    "\n"
   ]
  },
  {
   "cell_type": "code",
   "execution_count": 8,
   "metadata": {
    "collapsed": false
   },
   "outputs": [],
   "source": []
  },
  {
   "cell_type": "markdown",
   "metadata": {},
   "source": [
    "Danger, Will Robinson!!\n",
    "==\n",
    "Great! Of course, the player isn't going to guess right all the time, so we also need to handle the case where the guess is wrong.\n",
    "\n",
    "print board[2][3]\n",
    "\n",
    "The example above prints out \"O\", the element in the 3rd row and 4th column.\n",
    "Instructions\n",
    "\n",
    "    Add an else under the if we wrote in the previous step.\n",
    "    Print out \"You missed my battleship!\"\n",
    "    Set the list element at guess_row, guess_col to \"X\".\n",
    "    As the last line in your else statement, call print_board(board) again so you can see the \"X\".\n",
    "\n",
    "Make sure to enter a col and row that is on the board!"
   ]
  },
  {
   "cell_type": "code",
   "execution_count": 9,
   "metadata": {
    "collapsed": false
   },
   "outputs": [
    {
     "name": "stdout",
     "output_type": "stream",
     "text": [
      "You missed my battleship!\n",
      "O O O O O\n",
      "O X O O O\n",
      "O O O O O\n",
      "O O O O O\n",
      "O O O O O\n"
     ]
    }
   ],
   "source": []
  },
  {
   "cell_type": "markdown",
   "metadata": {},
   "source": [
    "Bad Aim\n",
    "==\n",
    "Great job! Now we can handle both correct and incorrect guesses from the user. But now let’s think a little bit more about the \"miss\" condition.\n",
    "\n",
    "    They can enter a guess that's off the board.\n",
    "    They can guess a spot they’ve already guessed.\n",
    "    They can just miss the ship.\n",
    "\n",
    "We'll add these tests inside our else condition. Let's build the first case now!\n",
    "\n",
    "if x not in range(8) or \\\n",
    "   y not in range(3):\n",
    "        print \"Outside the range\"\n",
    "\n",
    "The example above checks if either x or y are outside those ranges. The \\ character just continues the if statement onto the next line.\n",
    "Instructions\n",
    "\n",
    "    Add a new if: statement that is nested under the else.\n",
    "    Like the example above, it should check if guess_row is not in range(5) or guess_col is not in range(5).\n",
    "    If that is the case, print out \"Oops, that's not even in the ocean.\"\n",
    "    After your new if: statement, add an else: that contains your existing handler for an incorrect guess. Don't forget to indent the code!\n"
   ]
  },
  {
   "cell_type": "code",
   "execution_count": 10,
   "metadata": {
    "collapsed": false
   },
   "outputs": [
    {
     "name": "stdout",
     "output_type": "stream",
     "text": [
      "You missed my battleship!\n",
      "O O O O O\n",
      "O X O O O\n",
      "O O O O O\n",
      "O O O O O\n",
      "O O O O O\n"
     ]
    }
   ],
   "source": []
  },
  {
   "cell_type": "markdown",
   "metadata": {},
   "source": [
    "Not Again!\n",
    "==\n",
    "Great! Now let's handle the second type of incorrect guess: the player guesses a location that was already guessed. How will we know that a location was previously guessed?\n",
    "\n",
    "print board[guess_row][guess_col]\n",
    "\n",
    "The example above will print an 'X' if already guessed or an 'O' otherwise.\n",
    "Instructions\n",
    "\n",
    "    Add an elif to see if the guessed location already has an 'X' in it.\n",
    "    If it has, print \"You guessed that one already.\"\n"
   ]
  },
  {
   "cell_type": "code",
   "execution_count": 11,
   "metadata": {
    "collapsed": false
   },
   "outputs": [
    {
     "name": "stdout",
     "output_type": "stream",
     "text": [
      "You Guessed that one already.\n"
     ]
    }
   ],
   "source": []
  },
  {
   "cell_type": "markdown",
   "metadata": {},
   "source": [
    "Test Run\n",
    "\n",
    "Congratulations! Now you should have a game of Battleship! that is fully functional for one guess.\n",
    "\n",
    "Make sure you play it a couple of times and try different kinds of incorrect guesses. This is a great time to stop and do some serious debugging.\n",
    "\n",
    "In the next step, we'll move on and look at how to give the user 4 guesses to find the battleship.\n",
    "Instructions\n",
    "\n",
    "Thoroughly test your game. Make sure you try a variety of different guesses and look for any errors in the syntax or logic of your program.\n"
   ]
  },
  {
   "cell_type": "markdown",
   "metadata": {},
   "source": [
    "Play It, Sam\n",
    "==\n",
    "You can successfully make one guess in Battleship! But we’d like our game to allow the player to make up to 4 guesses before they lose.\n",
    "\n",
    "for turn in range(4):\n",
    "    # Make a guess\n",
    "    # Test that guess\n",
    "\n",
    "We can use a for loop to iterate through a range. Each iteration will be a turn.\n",
    "Instructions\n",
    "\n",
    "    Add a for loop that repeats the guessing and checking part of your game for 4 turns, like the example above.\n",
    "    At the beginning of each iteration, print \"Turn\", turn + 1 to let the player know what turn they are on.\n",
    "    Indent everything that should be repeated.\n",
    "\n"
   ]
  },
  {
   "cell_type": "code",
   "execution_count": 12,
   "metadata": {
    "collapsed": false
   },
   "outputs": [
    {
     "name": "stdout",
     "output_type": "stream",
     "text": [
      "Turn 1\n",
      "Guess Row:2\n",
      "Guess Col:1\n",
      "You missed my battleship!\n",
      "O O O O O\n",
      "X X O O O\n",
      "O O O O O\n",
      "O O O O O\n",
      "O O O O O\n",
      "Turn 2\n",
      "Guess Row:2\n",
      "Guess Col:1\n",
      "You Guessed that one already.\n",
      "Turn 3\n",
      "Guess Row:2\n",
      "Guess Col:1\n",
      "You Guessed that one already.\n",
      "Turn 4\n",
      "Guess Row:2\n",
      "Guess Col:1\n",
      "You Guessed that one already.\n"
     ]
    }
   ],
   "source": []
  },
  {
   "cell_type": "markdown",
   "metadata": {},
   "source": [
    "Game Over\n",
    "==\n",
    "If someone runs out of guesses without winning right now, the game just exits. It would be nice to let them know why.\n",
    "\n",
    "Since we only want this message to display if the user guesses wrong on their last turn, we need to think carefully about where to put it.\n",
    "\n",
    "    We’ll want to put it under the else that accounts for misses\n",
    "    We’ll want to print the message no matter what the cause of the miss\n",
    "    Since our turn variable starts at 0 and goes to 3, we will want to end the game when turn equals 3.\n",
    "\n",
    "Instructions\n",
    "\n",
    "Add an if statement that checks to see if the user is out of guesses.\n",
    "\n",
    "    Put it under the else that accounts for misses.\n",
    "    Put it after the if/elif/else statements that check for the reason the player missed. We want \"Game Over\" to print regardless of the reason.\n",
    "\n",
    "If turn equals 3, print \"Game Over\"."
   ]
  },
  {
   "cell_type": "code",
   "execution_count": 13,
   "metadata": {
    "collapsed": false
   },
   "outputs": [
    {
     "name": "stdout",
     "output_type": "stream",
     "text": [
      "Turn 1\n",
      "Guess Row:2\n",
      "Guess Col:1\n",
      "You Guessed that one already.\n",
      "Turn 1\n",
      "Turn 2\n",
      "Guess Row:2\n",
      "Guess Col:1\n",
      "You Guessed that one already.\n",
      "Turn 2\n",
      "Turn 3\n",
      "Guess Row:2\n",
      "Guess Col:1\n",
      "You Guessed that one already.\n",
      "Turn 3\n",
      "Turn 4\n",
      "Guess Row:2\n",
      "Guess Col:3\n",
      "Congratulations! You sank my battleship!\n"
     ]
    }
   ],
   "source": []
  },
  {
   "cell_type": "markdown",
   "metadata": {},
   "source": [
    "A Real Win\n",
    "==\n",
    "Almost there! We can play Battleship!, but you’ll notice that when you win, if you haven’t already guessed 4 times, the program asks you to enter another guess. What we’d rather have happen is for the program to end—it’s no fun guessing if you know you’ve already sunk the Battleship!\n",
    "\n",
    "We can use the command break to get out of a for loop.\n",
    "Instructions\n",
    "\n",
    "Add a break under the win condition to end the loop after a win and after game over."
   ]
  },
  {
   "cell_type": "code",
   "execution_count": null,
   "metadata": {
    "collapsed": false
   },
   "outputs": [],
   "source": []
  },
  {
   "cell_type": "markdown",
   "metadata": {},
   "source": [
    "To Your Battle Stations!\n",
    "==\n",
    "Congratulations! You have a fully functional Battleship game! Play it a couple of times and get your friends to try it out, too. (Don’t forget to go back and remove the debugging output that gives away the location of the battleship!)\n",
    "\n",
    "You may want to take some time to clean up and document your code as well.\n",
    "Instructions\n",
    "\n",
    "When you are done playing Battleship, transfer all codes to a single Python Notebook and play it from there!"
   ]
  },
  {
   "cell_type": "markdown",
   "metadata": {},
   "source": [
    "Extra Credit\n",
    "==\n",
    "You can also add on to your Battleship! program to make it more complex and fun to play. Here are some ideas for enhancements—maybe you can think of some more!\n",
    "\n",
    "    Make multiple battleships: you'll need to be careful because you need to make sure that you don’t place battleships on top of each other on the game board. You'll also want to make sure that you balance the size of the board with the number of ships so the game is still challenging and fun to play.\n",
    "\n",
    "    Make battleships of different sizes: this is trickier than it sounds. All the parts of the battleship need to be vertically or horizontally touching and you’ll need to make sure you don’t accidentally place part of a ship off the side of the board.\n",
    "\n",
    "    Make your game a two-player game.\n",
    "\n",
    "    Use functions to allow your game to have more features like rematches, statistics and more!\n",
    "\n",
    "Some of these options will be easier after we cover loops in the next lesson. Think about coming back to Battleship! after a few more lessons and see what other changes you can make!\n"
   ]
  }
 ],
 "metadata": {
  "hide_input": false,
  "kernelspec": {
   "display_name": "Python 3",
   "language": "python",
   "name": "python3"
  },
  "language_info": {
   "codemirror_mode": {
    "name": "ipython",
    "version": 3
   },
   "file_extension": ".py",
   "mimetype": "text/x-python",
   "name": "python",
   "nbconvert_exporter": "python",
   "pygments_lexer": "ipython3",
   "version": "3.5.1"
  },
  "toc": {
   "toc_cell": false,
   "toc_number_sections": true,
   "toc_threshold": 6,
   "toc_window_display": false
  }
 },
 "nbformat": 4,
 "nbformat_minor": 0
}
