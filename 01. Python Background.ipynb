{
 "cells": [
  {
   "cell_type": "markdown",
   "metadata": {},
   "source": [
    "Topic: Python Background\n",
    "==\n",
    "\n",
    "Python is both a general purpose programming language and a statistics programming language. \n",
    "\n",
    "Its general purpose capability is equivalent to Java/C-Sharp, high-level programming with simple syntax, but lack of comparable efficiency as that of C++ (that is, Python/Java/C# programs would run a little bit slower than that of C/C++). Nowadays computation is cheap and this efficiency loss does not really matter for stats analysis. \n",
    "\n",
    "Its statistics capability is mostly ported from Matlab and R. In terms of equivalence, most Matlab toolboxes have its python bothers (exclude Simulink). In terms of data limitation, it is equivalent to the most expensive version of Stata MP, that the amount of data is only limited by the size of computer memory.\n",
    "\n",
    "What makes Python a top-notch is that it is completely free and it is an open-source GNU software. It means that all source code, including those making up the statistics libraries, are freely available to anyone, and the entire python community actively port new functions to python from commercial software. \n",
    "\n",
    "The Python syntax has not changed much since 1990s, and hence while mastering Python, it is expected that you can continue to utilize your learning in the next few decades without switching to a different language. \n",
    "\n",
    "Nowadays big financial corporations embrace Python to architect their infrastructure. JP Morgan’s Athena platform, a cross-market risk management and trading system, uses Python for flexibility in combination with C++ and Java.\n",
    "\n",
    "# Getting Python on Your Own Computer\n",
    "For statistical analysis, the programming should be done via the IPython-Notebook. For general purpose programming, you may choose an IDE (alia, a text editor, such as Spyder) to develop your programs. \n",
    "\n",
    "Note that IPython is an interactive shell for Python, which is 10 times more suitable for statistical analysis. The IPython official documentation is available at http://ipython.org.\n",
    "\n",
    "To get the IPython-notebook running on windows, visit the following website to download the free copy of Anaconda: http://continuum.io/downloads.\n",
    "\n",
    "Anaconda includes nearly 200 Python packages for data analysis. Each package serves for a distinct function of analysis. Having a copy of Anaconda is similar to having a copy of Matlab plus as many toolboxes as possible.  \n",
    "\n",
    "# (Optional) Install a few packages to make Jupyter-Notebook better\n",
    "Two packages I highly recommend:\n",
    "\n",
    " - nbextensions: see https://github.com/ipython-contrib/IPython-notebook-extensions\n",
    " - qgrid: see https://github.com/quantopian/qgrid\n",
    "\n",
    "To install these packages, first use anaconda to create a virtual environment, and then switch to the new environment, reinstall all packages and the new packages, and then you can start jupyter notebook. You may follow these commands:"
   ]
  },
  {
   "cell_type": "code",
   "execution_count": null,
   "metadata": {
    "collapsed": true
   },
   "outputs": [],
   "source": [
    "# To export all the packages from the root environment into a list, then strip out any packages starting with conda\n",
    "conda list --export -n root | egrep -v '^conda' > root_pkgs\n",
    "\n",
    "# Create a new env and install all packages\n",
    "conda create -n nb --file root_pkgs\n",
    "rm root_pkgs\n",
    "\n",
    "source activate nb\n",
    "\n",
    "conda install seaborn -y\n",
    "conda install qgrid -y\n",
    "conda install -f -c https://conda.anaconda.org/robintw nbextensions\n",
    "jupyter notebook"
   ]
  },
  {
   "cell_type": "markdown",
   "metadata": {},
   "source": [
    "# Launch Jupyter-Notebook from Anaconda\n",
    "- Click Launcher from the start menu. \n",
    "- Click “Luanch” to activate ipython notebook.\n",
    "If there are updates available, you can click “Update” to patch new updates. \n",
    "\n",
    "# Launch Jupyter Notebook on this Server\n",
    "I have created a great server for you to code so that you can work on python code projects anywhere from a web browser.\n",
    "\n",
    "To log in the server, type in the following URL into any browser (i.e., Firefox):\n",
    "\n",
    "http://icm.fund:10000\n",
    "\n",
    "And log in with your password.\n",
    "\n",
    "The server has 32-Gb Ram and Server Grade i-7 Quad Core 4.0 Ghz CPU, running 24/7.\n",
    "\n",
    "The next course will introduce the interface of IPython-notebook."
   ]
  }
 ],
 "metadata": {
  "hide_input": false,
  "kernelspec": {
   "display_name": "Python 3",
   "language": "python",
   "name": "python3"
  },
  "language_info": {
   "codemirror_mode": {
    "name": "ipython",
    "version": 3
   },
   "file_extension": ".py",
   "mimetype": "text/x-python",
   "name": "python",
   "nbconvert_exporter": "python",
   "pygments_lexer": "ipython3",
   "version": "3.4.4"
  },
  "toc": {
   "toc_cell": false,
   "toc_number_sections": true,
   "toc_threshold": 6,
   "toc_window_display": true
  }
 },
 "nbformat": 4,
 "nbformat_minor": 0
}
