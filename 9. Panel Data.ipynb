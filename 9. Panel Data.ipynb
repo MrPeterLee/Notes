{
 "cells": [
  {
   "cell_type": "markdown",
   "metadata": {},
   "source": [
    "## Panel Data Structure\n",
    "\n",
    "Panel from Pandas is a container for 3-dimensional data, the name Panel is partially responsible for the name pandas: pan(el)-da(ta)-s. \n",
    "\n",
    "The names for the 3 axes are intended to give some semantic meaning to describing operations involving panel data, and in particular, econometrics analysis of panel data.\n",
    "\n",
    "You may find the axis names slightly arbitrary:\n",
    "  - **items**: axis 0, each item corresponds to a DataFrame.\n",
    "  - **major_axis**: axis 1, it is the index (rows) of each of the DataFrame\n",
    "  - **minor_axis**: axis 2, it is the columns of each of DataFrame.\n",
    "  \n",
    " "
   ]
  },
  {
   "cell_type": "markdown",
   "metadata": {},
   "source": [
    "## Forming a Panel Data using a dict of DataFrame objects"
   ]
  },
  {
   "cell_type": "code",
   "execution_count": 1,
   "metadata": {
    "collapsed": false
   },
   "outputs": [
    {
     "data": {
      "text/plain": [
       "<class 'pandas.core.panel.Panel'>\n",
       "Dimensions: 2 (items) x 4 (major_axis) x 3 (minor_axis)\n",
       "Items axis: section1 to section2\n",
       "Major_axis axis: 0 to 3\n",
       "Minor_axis axis: 0 to 2"
      ]
     },
     "execution_count": 1,
     "metadata": {},
     "output_type": "execute_result"
    }
   ],
   "source": [
    "import pandas as pd\n",
    "import numpy as np\n",
    "\n",
    "data_sources = {'section1': pd.DataFrame(np.random.randn(4, 3)),\n",
    "                'section2': pd.DataFrame(np.random.randn(4, 2))}\n",
    "data_panel = pd.Panel(data_sources)\n",
    "data_panel"
   ]
  },
  {
   "cell_type": "code",
   "execution_count": 2,
   "metadata": {
    "collapsed": false
   },
   "outputs": [
    {
     "name": "stdout",
     "output_type": "stream",
     "text": [
      "          0         1         2\n",
      "0 -0.480677  0.361810 -2.049158\n",
      "1  2.210185  0.308965  0.807426\n",
      "2 -0.247407  0.806478 -0.711215\n",
      "3 -0.709959  0.946604 -0.712647\n",
      "          0         1   2\n",
      "0 -0.331009 -0.374146 NaN\n",
      "1 -0.466970  0.862757 NaN\n",
      "2 -0.664875  0.535663 NaN\n",
      "3  1.058509  0.562763 NaN\n"
     ]
    }
   ],
   "source": [
    "print(data_panel.section1)\n",
    "print(data_panel.section2)"
   ]
  },
  {
   "cell_type": "markdown",
   "metadata": {},
   "source": [
    "## To convert a stacked cross-sectional DataFrame to Panel\n",
    "\n",
    "This method is useful to convert a DataFrame with a two-level index to a Panel.\n",
    "\n",
    "The equivalent Stata command is *widetolong*."
   ]
  },
  {
   "cell_type": "code",
   "execution_count": null,
   "metadata": {
    "collapsed": true
   },
   "outputs": [],
   "source": []
  }
 ],
 "metadata": {
  "kernelspec": {
   "display_name": "Python 3",
   "language": "python",
   "name": "python3"
  },
  "language_info": {
   "codemirror_mode": {
    "name": "ipython",
    "version": 3
   },
   "file_extension": ".py",
   "mimetype": "text/x-python",
   "name": "python",
   "nbconvert_exporter": "python",
   "pygments_lexer": "ipython3",
   "version": "3.4.3"
  }
 },
 "nbformat": 4,
 "nbformat_minor": 0
}
