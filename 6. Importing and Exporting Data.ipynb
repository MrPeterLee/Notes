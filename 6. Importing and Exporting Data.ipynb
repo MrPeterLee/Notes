{
 "metadata": {
  "name": "",
  "signature": "sha256:40f3f9ee7884b1d1fa78adf9eb30659943b1d43520806b1612098beeec29040c"
 },
 "nbformat": 3,
 "nbformat_minor": 0,
 "worksheets": [
  {
   "cells": [
    {
     "cell_type": "markdown",
     "metadata": {},
     "source": [
      "# 1. Importing Data using Pandas\n",
      "\n",
      "Pandas is a high-performance module that provides a comprehensive set of structures for working with data. \n",
      "\n",
      "Pandas is an increasingly important component of the Python scientific stack. All of the data readers in pandas load data into a pandas\n",
      "DataFrame, and so these examples all make use of the values property to extract a NumPy array. \n",
      "\n",
      "Pandas excels at handling structured data, such as data sets containing many variables, working with missing values and merging across multiple data sets. While extremely useful, pandas is not an essential component of the Python scientific stack unlike NumPy, SciPy or matplotlib, and so while pandas doesn\u2019t make data analysis possible in Python, it makes it much easier. \n",
      "\n",
      "Pandas also provides high-performance, robust methods for importing from and exporting to a wide range of formats. In practice, the DataFrame is much more useful since it includes useful information such as column names and read from the data source. \n",
      "\n",
      "In addition to the three formats presented here, pandas can\n",
      "also read json, SQL, html tables or from the clipboard, which is particularly useful for interactive work with Excel, since virtually any source that can be copied to the clipboard can be imported."
     ]
    },
    {
     "cell_type": "markdown",
     "metadata": {},
     "source": [
      "## 1.1 CSV and other formatted text files\n",
      "\n",
      "Comma-separated value (CSV) files can be read using read_csv . When the CSV file contains mixed data, the default behavior will read the file into an array with an object data type, and so further processing is usually required to extract the individual series."
     ]
    },
    {
     "cell_type": "code",
     "collapsed": false,
     "input": [
      "import pandas as pd\n",
      "\n",
      "%pwd\n",
      "\n",
      "csv_data = pd.read_csv(\"Data/FTSE_1984_2012.csv\")\n",
      "\n",
      "csv_data = csv_data.values\n",
      "print type(csv_data)\n",
      "print csv_data[:5]\n",
      "\n",
      "open = csv_data[:1]\n",
      "print open"
     ],
     "language": "python",
     "metadata": {},
     "outputs": [
      {
       "output_type": "stream",
       "stream": "stdout",
       "text": [
        "<type 'numpy.ndarray'>\n",
        "[['2012-02-15' 5899.9 5923.8 5880.6 5892.2 801550000 5892.2]\n",
        " ['2012-02-14' 5905.7 5920.6 5877.2 5899.9 832567200 5899.9]\n",
        " ['2012-02-13' 5852.4 5920.1 5852.4 5905.7 643543000 5905.7]\n",
        " ['2012-02-10' 5895.5 5895.5 5839.9 5852.4 948790200 5852.4]\n",
        " ['2012-02-09' 5875.9 5916.3 5870.5 5895.5 973462200 5895.5]]\n",
        "[['2012-02-15' 5899.9 5923.8 5880.6 5892.2 801550000 5892.2]]\n"
       ]
      }
     ],
     "prompt_number": 1
    },
    {
     "cell_type": "markdown",
     "metadata": {},
     "source": [
      "When the entire file is numeric, the data will be stored as a homogeneous array using one of the numeric data types, typically float64. In this example, the first column contains Excel dates as numbers, which are\n",
      "the number of days past January 1, 1900."
     ]
    },
    {
     "cell_type": "code",
     "collapsed": false,
     "input": [
      "csv_data = pd.read_csv(\"Data/FTSE_1984_2012_numeric.csv\")\n",
      "csv_data = csv_data.values\n",
      "print csv_data[:5, :2]"
     ],
     "language": "python",
     "metadata": {},
     "outputs": [
      {
       "output_type": "stream",
       "stream": "stdout",
       "text": [
        "[[ 40954.    5899.9]\n",
        " [ 40953.    5905.7]\n",
        " [ 40952.    5852.4]\n",
        " [ 40949.    5895.5]\n",
        " [ 40948.    5875.9]]\n"
       ]
      }
     ],
     "prompt_number": 2
    },
    {
     "cell_type": "markdown",
     "metadata": {},
     "source": [
      "## 1.2 Excel files\n",
      "\n",
      "Excel files, both 97/2003 (xls) and 2007/10/13 (xlsx), can be imported using read_excel . \n",
      "Two inputs are required to use read_excel , the filename and the sheet name containing the data. In this example, pandas makes use of the information in the Excel workbook that the first column contains dates and converts these to *datetime*s. Like the mixed CSV data, the array returned has object data type."
     ]
    },
    {
     "cell_type": "code",
     "collapsed": false,
     "input": [
      "import pandas as pd\n",
      "\n",
      "# by default Pandas reads in the first sheet\n",
      "excel_data = pd.read_excel(\"Data/FTSE_1984_2012.xlsx\")\n",
      "\n",
      "excel_data = excel_data.values\n",
      "print excel_data[:5, :2]"
     ],
     "language": "python",
     "metadata": {},
     "outputs": [
      {
       "output_type": "stream",
       "stream": "stdout",
       "text": [
        "[[Timestamp('2012-02-15 00:00:00') 5899.9]\n",
        " [Timestamp('2012-02-14 00:00:00') 5905.7]\n",
        " [Timestamp('2012-02-13 00:00:00') 5852.4]\n",
        " [Timestamp('2012-02-10 00:00:00') 5895.5]\n",
        " [Timestamp('2012-02-09 00:00:00') 5875.9]]\n"
       ]
      }
     ],
     "prompt_number": 3
    },
    {
     "cell_type": "markdown",
     "metadata": {},
     "source": [
      "## 1.3 Stata Files"
     ]
    },
    {
     "cell_type": "code",
     "collapsed": false,
     "input": [
      "import pandas as pd\n",
      "\n",
      "stata_data = pd.read_stata(\"Data/FTSE_1984_2012.dta\")\n",
      "print stata_data.head()"
     ],
     "language": "python",
     "metadata": {},
     "outputs": [
      {
       "output_type": "stream",
       "stream": "stdout",
       "text": [
        "   index   Date    Open    High     Low   Close     Volume  Adj Close\n",
        "0      0  40954  5899.9  5923.8  5880.6  5892.2  801550000     5892.2\n",
        "1      1  40953  5905.7  5920.6  5877.2  5899.9  832567200     5899.9\n",
        "2      2  40952  5852.4  5920.1  5852.4  5905.7  643543000     5905.7\n",
        "3      3  40949  5895.5  5895.5  5839.9  5852.4  948790200     5852.4\n",
        "4      4  40948  5875.9  5916.3  5870.5  5895.5  973462200     5895.5\n"
       ]
      }
     ],
     "prompt_number": 4
    },
    {
     "cell_type": "markdown",
     "metadata": {},
     "source": [
      "## 1.4 Matlab data files (.mat)\n",
      "SciPy enables MATLAB data files (mat files) to be read excluding except the latest V7.3 format, which can be read using PyTables or h5py. Data from compatible mat files can be loaded using loadmat . The data is\n",
      "loaded into a dictionary, and individual variables are accessed using the keys of the dictionary."
     ]
    },
    {
     "cell_type": "code",
     "collapsed": false,
     "input": [
      "import scipy.io\n",
      "\n",
      "matData = scipy.io.loadmat(\"Data/FTSE_1984_2012.mat\")\n",
      "print type(matData)\n",
      "\n",
      "print matData.keys()\n",
      "\n",
      "open = matData[\"open\"]\n",
      "\n",
      "print open[:5]"
     ],
     "language": "python",
     "metadata": {},
     "outputs": [
      {
       "output_type": "stream",
       "stream": "stdout",
       "text": [
        "<type 'dict'>\n",
        "['volume', '__header__', '__globals__', 'high', 'adjclose', 'low', 'close', '__version__', 'open']\n",
        "[[ 5899.9]\n",
        " [ 5905.7]\n",
        " [ 5852.4]\n",
        " [ 5895.5]\n",
        " [ 5875.9]]\n"
       ]
      }
     ],
     "prompt_number": 5
    },
    {
     "cell_type": "markdown",
     "metadata": {},
     "source": [
      "Matlab data files in the newest V7.3 format can be read using PyTables."
     ]
    },
    {
     "cell_type": "code",
     "collapsed": false,
     "input": [
      "import tables\n",
      "\n",
      "matFile = tables.openFile(\"Data/FTSE_1984_2012_v73.mat\")\n",
      "\n",
      "# To find what variables are loaded\n",
      "matFile.root\n",
      "\n",
      "# To load the openning prices\n",
      "matFile.root.open\n",
      "open = matFile.root.open.read()\n",
      "\n",
      "print type(open), open[0, :5]\n",
      "\n",
      "# close the file\n",
      "matFile.close()"
     ],
     "language": "python",
     "metadata": {},
     "outputs": [
      {
       "output_type": "stream",
       "stream": "stdout",
       "text": [
        "<type 'numpy.ndarray'> [ 5899.9  5905.7  5852.4  5895.5  5875.9]\n"
       ]
      }
     ],
     "prompt_number": 6
    },
    {
     "cell_type": "markdown",
     "metadata": {},
     "source": [
      "## 1.5 Loading complex data files\n",
      "\n",
      "Python can be programmed to read any text file format since it contains functions for directly accessing files and parsing strings. \n",
      "\n",
      "Reading poorly formatted data files is an advanced technique and should be\n",
      "avoided if possible. However, some data is only available in formats where reading in data line-by-line is the only option. For example, the standard import methods fail if the raw data is very large (too large for Excel) and is poorly formatted. In this case, the only possibility may be to write a program to read the file line-by-line (or in blocks) and to directly process the raw text.\n",
      "\n",
      "The file IBM_TAQ.txt contains a simple example of data that is difficult to import. This file was downloaded from Wharton Research Data Services and contains all prices for IBM from the TAQ database between January 1, 2001 and January 31, 2001. It is too large to use in Excel and has both numbers, dates and text on each line. \n",
      "\n",
      "The following code block shows one method for importing this data set."
     ]
    },
    {
     "cell_type": "code",
     "collapsed": false,
     "input": [
      "import io\n",
      "\n",
      "f = io.open('Data/IBM_TAQ.txt', 'r')\n",
      "\n",
      "# Initiate loading data using line-by-line\n",
      "line = f.readline()   # Burn the first line as a header\n",
      "line = f.readline()  \n",
      "\n",
      "date = []\n",
      "time = []\n",
      "price = []\n",
      "volume = []\n",
      "while line:\n",
      "    data = line.split(',')\n",
      "    date.append(int(data[1]))\n",
      "    price.append(float(data[3]))\n",
      "    volume.append(int(data[4]))\n",
      "    t = data[2]\n",
      "    time.append(int(t.replace(':', '')))\n",
      "    line = f.readline() # Burn one more line\n",
      "    \n",
      "# Convert to arrays, which are more useful than lists for numeric data\n",
      "date = array(date)\n",
      "price = array(price)\n",
      "volume = array(volume)\n",
      "time = array(time)\n",
      "\n",
      "allData = array([date, price, volume, time])\n",
      "\n",
      "print allData[0:5, 0:4]\n",
      "\n",
      "f.close()"
     ],
     "language": "python",
     "metadata": {},
     "outputs": [
      {
       "output_type": "stream",
       "stream": "stdout",
       "text": [
        "[[  2.00701030e+07   2.00701030e+07   2.00701030e+07   2.00701030e+07]\n",
        " [  9.71800000e+01   9.66000000e+01   9.71700000e+01   9.71700000e+01]\n",
        " [  1.00000000e+02   3.73200000e+05   1.00000000e+03   1.00000000e+02]\n",
        " [  9.30030000e+04   9.30080000e+04   9.30080000e+04   9.30080000e+04]]\n"
       ]
      }
     ],
     "prompt_number": 7
    },
    {
     "cell_type": "markdown",
     "metadata": {},
     "source": [
      "# 2. Data Structures\n",
      "\n",
      "Pandas stores data in a number of structures:\n",
      "- Series: 1-dimensional arrays\n",
      "- DataFrames: Collections of Series and so are 2-dimensional\n",
      "- Panels: Collections of DataFrames and so are 3-dimensional"
     ]
    },
    {
     "cell_type": "markdown",
     "metadata": {},
     "source": [
      "## 2.1 Series\n",
      "\n",
      "Series are the primary building block of the data structures in pandas, and in many ways a Series behaves similarly to a Numpy array. \n",
      "\n",
      "A Series is initialized using a list or tupel, or directly from a NumPy array."
     ]
    },
    {
     "cell_type": "code",
     "collapsed": false,
     "input": [
      "from pandas import Series\n",
      "\n",
      "# List to Series\n",
      "s = Series([0.1, 0.2, 1.3, 1.4, 2.5])\n",
      "print s, type(s)\n",
      "\n",
      "# Array to Series\n",
      "a = array([0.1, 0.2, 1.3, 1.4, 2.5])\n",
      "s = Series(a)\n",
      "print s, type(s)\n",
      "\n",
      "# Dictionary to Series\n",
      "b = {1:0.1, 2:0.2, 3:0.3}\n",
      "s = Series(b)\n",
      "print s\n",
      "\n",
      "# Dictionary to Series\n",
      "b = {\"cat\":0.1, \"dog\":0.2, \"yoyo\":0.3}\n",
      "s = Series(b)\n",
      "print s\n",
      "\n",
      "# Acess index\n",
      "print s.index\n",
      "\n",
      "# Access values\n",
      "print s.values"
     ],
     "language": "python",
     "metadata": {},
     "outputs": [
      {
       "output_type": "stream",
       "stream": "stdout",
       "text": [
        "0    0.1\n",
        "1    0.2\n",
        "2    1.3\n",
        "3    1.4\n",
        "4    2.5\n",
        "dtype: float64 <class 'pandas.core.series.Series'>\n",
        "0    0.1\n",
        "1    0.2\n",
        "2    1.3\n",
        "3    1.4\n",
        "4    2.5\n",
        "dtype: float64 <class 'pandas.core.series.Series'>\n",
        "1    0.1\n",
        "2    0.2\n",
        "3    0.3\n",
        "dtype: float64\n",
        "cat     0.1\n",
        "dog     0.2\n",
        "yoyo    0.3\n",
        "dtype: float64\n",
        "Index([u'cat', u'dog', u'yoyo'], dtype='object')\n",
        "[ 0.1  0.2  0.3]\n"
       ]
      }
     ],
     "prompt_number": 8
    },
    {
     "cell_type": "markdown",
     "metadata": {},
     "source": [
      "Series, like arrays, are sliceable. However, unlike a 1-dimensional array, a Series has an additional column \u2013 an index \u2013 which is a set of values which are associated with the rows of the Series. In this example,\n",
      "pandas has automatically generated an index using the sequence 0, 1, . . . since none was provided. It is also possible to use other values as the index when initializing the Series using a keyword argument."
     ]
    },
    {
     "cell_type": "code",
     "collapsed": false,
     "input": [
      "s = Series([0.1, 0.2, 1.3, 1.4, 2.5], index=[\"a\", \"b\", \"c\", \"d\", \"e\"])\n",
      "print s"
     ],
     "language": "python",
     "metadata": {},
     "outputs": [
      {
       "output_type": "stream",
       "stream": "stdout",
       "text": [
        "a    0.1\n",
        "b    0.2\n",
        "c    1.3\n",
        "d    1.4\n",
        "e    2.5\n",
        "dtype: float64\n"
       ]
      }
     ],
     "prompt_number": 9
    },
    {
     "cell_type": "markdown",
     "metadata": {},
     "source": [
      "The index is part of the \"magic\" of the pandas's data structures (Series and DataFrame) and allows for dictionary-like access to elements in the index (in addition to both numeric slicing and logical indices)."
     ]
    },
    {
     "cell_type": "code",
     "collapsed": false,
     "input": [
      "print s['a']\n",
      "\n",
      "print s[0]\n",
      "\n",
      "print s[[\"a\", 'c']]\n",
      "\n",
      "print s[[0, 2]]\n",
      "\n",
      "print s[:2]\n",
      "\n",
      "# Boolean operations are allowed\n",
      "print s[s>1]"
     ],
     "language": "python",
     "metadata": {},
     "outputs": [
      {
       "output_type": "stream",
       "stream": "stdout",
       "text": [
        "0.1\n",
        "0.1\n",
        "a    0.1\n",
        "c    1.3\n",
        "dtype: float64\n",
        "a    0.1\n",
        "c    1.3\n",
        "dtype: float64\n",
        "a    0.1\n",
        "b    0.2\n",
        "dtype: float64\n",
        "c    1.3\n",
        "d    1.4\n",
        "e    2.5\n",
        "dtype: float64\n"
       ]
      }
     ],
     "prompt_number": 10
    },
    {
     "cell_type": "markdown",
     "metadata": {},
     "source": [
      "In this examples, \u2019a\u2019 and \u2019c\u2019 behave in the same manner as 0 and 2 would in a standard NumPy array. The elements of an index do not have to be unique which another way in which a Series generalizes a NumPy array."
     ]
    },
    {
     "cell_type": "code",
     "collapsed": false,
     "input": [
      "s = Series([0.1, 1.2, 2.3, 3.4, 4.5], index = ['a','b','c','a','b'])\n",
      "print s\n",
      "\n",
      "print s['a']"
     ],
     "language": "python",
     "metadata": {},
     "outputs": [
      {
       "output_type": "stream",
       "stream": "stdout",
       "text": [
        "a    0.1\n",
        "b    1.2\n",
        "c    2.3\n",
        "a    3.4\n",
        "b    4.5\n",
        "dtype: float64\n",
        "a    0.1\n",
        "a    3.4\n",
        "dtype: float64\n"
       ]
      }
     ],
     "prompt_number": 11
    },
    {
     "cell_type": "markdown",
     "metadata": {},
     "source": [
      "### 2.1.1 Calculations\n",
      "\n",
      "Series are like NumPy arrays in that they support most numerical operations."
     ]
    },
    {
     "cell_type": "code",
     "collapsed": false,
     "input": [
      "s = Series([0.1, 1.2, 2.3, 3.4, 4.5], index = ['a','b','c','a','b'])\n",
      "print s * 2\n",
      "\n",
      "print s - 1"
     ],
     "language": "python",
     "metadata": {},
     "outputs": [
      {
       "output_type": "stream",
       "stream": "stdout",
       "text": [
        "a    0.2\n",
        "b    2.4\n",
        "c    4.6\n",
        "a    6.8\n",
        "b    9.0\n",
        "dtype: float64\n",
        "a   -0.9\n",
        "b    0.2\n",
        "c    1.3\n",
        "a    2.4\n",
        "b    3.5\n",
        "dtype: float64\n"
       ]
      }
     ],
     "prompt_number": 12
    },
    {
     "cell_type": "markdown",
     "metadata": {},
     "source": [
      "However, Series are different from arrays when math operations are performed across two Series. In particular, math operations involving two series operate by aligning indices (merging two Series). \n",
      "\n",
      "The mathematical operation is performed in two steps. First, the union of all indices is created, and then the mathematical operation is performed on matching indices. Indices that do not match are given the value NaN (not a number), and values are computed for all unique pairs of repeated indices."
     ]
    },
    {
     "cell_type": "code",
     "collapsed": false,
     "input": [
      "from pandas import Series\n",
      "s1 = Series({'a': 0.1, 'b': 1.2, 'c': 2.3})\n",
      "s2 = Series({'a': 1.0, 'b': 2.0, 'c': 3.0})\n",
      "s3 = Series({'c': 0.1, 'd': 1.2, 'e': 2.3})\n",
      "print s1 + s2\n",
      "\n",
      "print s1 * s2\n",
      "\n",
      "print s1 + s3"
     ],
     "language": "python",
     "metadata": {},
     "outputs": [
      {
       "output_type": "stream",
       "stream": "stdout",
       "text": [
        "a    1.1\n",
        "b    3.2\n",
        "c    5.3\n",
        "dtype: float64\n",
        "a    0.1\n",
        "b    2.4\n",
        "c    6.9\n",
        "dtype: float64\n",
        "a    NaN\n",
        "b    NaN\n",
        "c    2.4\n",
        "d    NaN\n",
        "e    NaN\n",
        "dtype: float64\n"
       ]
      }
     ],
     "prompt_number": 13
    },
    {
     "cell_type": "markdown",
     "metadata": {},
     "source": [
      "Mathematical operations performed on series which have non-unique indices will broadcast the operation to all indices which are common. \n",
      "\n",
      "For example, when one array has 2 elements with the same index, and another has 3, adding the two will produce 6 outputs."
     ]
    },
    {
     "cell_type": "code",
     "collapsed": false,
     "input": [
      "s1 = Series([1.0,2,3],index=['a']*3)\n",
      "s2 = Series([4.0,5],index=['a']*2)\n",
      "\n",
      "print s1 + s2"
     ],
     "language": "python",
     "metadata": {},
     "outputs": [
      {
       "output_type": "stream",
       "stream": "stdout",
       "text": [
        "a    5\n",
        "a    6\n",
        "a    6\n",
        "a    7\n",
        "a    7\n",
        "a    8\n",
        "dtype: float64\n"
       ]
      }
     ],
     "prompt_number": 14
    },
    {
     "cell_type": "markdown",
     "metadata": {},
     "source": [
      "The underlying NumPy array is accessible through the values property, and the index is accessible the index property, which returns an Index type.\n",
      "\n",
      "The NumPy array underlying the index can be retrieved using values on the Index object returned."
     ]
    },
    {
     "cell_type": "code",
     "collapsed": false,
     "input": [
      "s1 = Series([1.0, 2, 3])\n",
      "\n",
      "print s1.values, type(s1.values)\n",
      "\n",
      "print s1.index, type(s1.index)\n",
      "\n",
      "print s1.index.values, type(s1.index.values)\n",
      "\n",
      "s1.index = ['cat', 'dog', 'elephant']\n",
      "print s1.index.values, type(s1.index.values)\n",
      "print s1"
     ],
     "language": "python",
     "metadata": {},
     "outputs": [
      {
       "output_type": "stream",
       "stream": "stdout",
       "text": [
        "[ 1.  2.  3.] <type 'numpy.ndarray'>\n",
        "Int64Index([0, 1, 2], dtype='int64') <class 'pandas.core.index.Int64Index'>\n",
        "[0 1 2] <type 'numpy.ndarray'>\n",
        "[u'cat' u'dog' u'elephant'] <type 'numpy.ndarray'>\n",
        "cat         1\n",
        "dog         2\n",
        "elephant    3\n",
        "dtype: float64\n"
       ]
      }
     ],
     "prompt_number": 15
    },
    {
     "cell_type": "markdown",
     "metadata": {},
     "source": [
      "### 2.1.2 Important methods and properties\n",
      "\n",
      "Series provide a large number of methods to manipulate data. These can broadly be categorized into mathematical and non-math functions. \n",
      "\n",
      "The mathematical functions are generally very similar to those in NumPy due to the underlying structure of a Series.\n",
      "\n",
      "The following list out the non-mathematical methods (which are unique to Pandas)."
     ]
    },
    {
     "cell_type": "markdown",
     "metadata": {},
     "source": [
      "### head and tail\n",
      "\n",
      "head() shows the first 5 rows of a series, and tail() shows the last 5 rows. \n",
      "\n",
      "An optional argument can be used to return a different number of entires, as in head(10)."
     ]
    },
    {
     "cell_type": "code",
     "collapsed": false,
     "input": [
      "s1 = Series(randn(100))\n",
      "print s1.head()\n",
      "print s1.tail(10)"
     ],
     "language": "python",
     "metadata": {},
     "outputs": [
      {
       "output_type": "stream",
       "stream": "stdout",
       "text": [
        "0    0.968762\n",
        "1    0.565307\n",
        "2    0.642855\n",
        "3    0.396153\n",
        "4   -0.307077\n",
        "dtype: float64\n",
        "90    0.972668\n",
        "91   -0.424764\n",
        "92    0.166642\n",
        "93   -1.202058\n",
        "94   -1.216569\n",
        "95    1.287547\n",
        "96    0.404276\n",
        "97    0.196920\n",
        "98    0.837015\n",
        "99    1.508528\n",
        "dtype: float64\n"
       ]
      }
     ],
     "prompt_number": 16
    },
    {
     "cell_type": "markdown",
     "metadata": {},
     "source": [
      "### isnull and notnull\n",
      "\n",
      "isnull() returns a Series with the same indices containning Boolean values indicating True for null values which include NaN and None, among other. \n",
      "\n",
      "notnull() returns the negation of isnull()."
     ]
    },
    {
     "cell_type": "code",
     "collapsed": false,
     "input": [
      "from pandas import Series\n",
      "s1 = Series(randn(10))\n",
      "print s1.head()\n",
      "\n",
      "s1[2] = nan\n",
      "print s1.head()\n",
      "\n",
      "print s1.isnull().head()\n",
      "\n",
      "s2 = s1[s1.notnull()]\n",
      "print s2.head()\n",
      "\n",
      "s2.index = arange(0,9)\n",
      "print s2.head()"
     ],
     "language": "python",
     "metadata": {},
     "outputs": [
      {
       "output_type": "stream",
       "stream": "stdout",
       "text": [
        "0    2.424876\n",
        "1   -0.169768\n",
        "2   -1.926073\n",
        "3   -0.997987\n",
        "4   -0.901599\n",
        "dtype: float64\n",
        "0    2.424876\n",
        "1   -0.169768\n",
        "2         NaN\n",
        "3   -0.997987\n",
        "4   -0.901599\n",
        "dtype: float64\n",
        "0    False\n",
        "1    False\n",
        "2     True\n",
        "3    False\n",
        "4    False\n",
        "dtype: bool\n",
        "0    2.424876\n",
        "1   -0.169768\n",
        "3   -0.997987\n",
        "4   -0.901599\n",
        "5   -1.053645\n",
        "dtype: float64\n",
        "0    2.424876\n",
        "1   -0.169768\n",
        "2   -0.997987\n",
        "3   -0.901599\n",
        "4   -1.053645\n",
        "dtype: float64\n"
       ]
      }
     ],
     "prompt_number": 17
    },
    {
     "cell_type": "markdown",
     "metadata": {},
     "source": [
      "### ix\n",
      "\n",
      "ix is the indexing function which supports selecting individual rows. ix is more useful for DataFrames."
     ]
    },
    {
     "cell_type": "markdown",
     "metadata": {},
     "source": [
      "### describe\n",
      "\n",
      "describe() returns a simple set of summary statistics about a Series. The values returned is a series where the index contains name of the statistics computed."
     ]
    },
    {
     "cell_type": "code",
     "collapsed": false,
     "input": [
      "s1 = Series(arange(10, 20.0))\n",
      "print s1.describe()\n",
      "\n",
      "summ = s1.describe()\n",
      "print summ['mean']"
     ],
     "language": "python",
     "metadata": {},
     "outputs": [
      {
       "output_type": "stream",
       "stream": "stdout",
       "text": [
        "count    10.00000\n",
        "mean     14.50000\n",
        "std       3.02765\n",
        "min      10.00000\n",
        "25%      12.25000\n",
        "50%      14.50000\n",
        "75%      16.75000\n",
        "max      19.00000\n",
        "dtype: float64\n",
        "14.5\n"
       ]
      }
     ],
     "prompt_number": 18
    },
    {
     "cell_type": "markdown",
     "metadata": {},
     "source": [
      "### unique and nunique\n",
      "unique() returns the unique elements of a series and nunique() returns the number of unique values in a Series."
     ]
    },
    {
     "cell_type": "markdown",
     "metadata": {},
     "source": [
      "### drop and dropna\n",
      "\n",
      "drop(*labels*) drop elements with the selected labels from a Series.\n",
      "\n",
      "dropna() only drops null values - NaN or similar."
     ]
    },
    {
     "cell_type": "code",
     "collapsed": false,
     "input": [
      "s1 = Series(arange(1.0, 6), index=['a', 'a', 'b', 'c', 'd'])\n",
      "print s1\n",
      "\n",
      "print s1.drop('a')\n",
      "\n",
      "s1['d'] = nan\n",
      "print s1\n",
      "s2 = s1.dropna()\n",
      "print s2"
     ],
     "language": "python",
     "metadata": {},
     "outputs": [
      {
       "output_type": "stream",
       "stream": "stdout",
       "text": [
        "a    1\n",
        "a    2\n",
        "b    3\n",
        "c    4\n",
        "d    5\n",
        "dtype: float64\n",
        "b    3\n",
        "c    4\n",
        "d    5\n",
        "dtype: float64\n",
        "a     1\n",
        "a     2\n",
        "b     3\n",
        "c     4\n",
        "d   NaN\n",
        "dtype: float64\n",
        "a    1\n",
        "a    2\n",
        "b    3\n",
        "c    4\n",
        "dtype: float64\n"
       ]
      }
     ],
     "prompt_number": 19
    },
    {
     "cell_type": "markdown",
     "metadata": {},
     "source": [
      "### fillna\n",
      "\n",
      "fillna(value) fills all null values in a series with a specific value"
     ]
    },
    {
     "cell_type": "code",
     "collapsed": false,
     "input": [
      "from pandas import Series\n",
      "s1 = Series(arange(1.0, 6), index=['a', 'a', 'b', 'c', 'd'])\n",
      "s1['d'] = nan\n",
      "s1['a'] = nan\n",
      "print s1\n",
      "\n",
      "s2 = s1.fillna(-999)\n",
      "print s2\n",
      "\n",
      "s2.replace(-999,nan)\n",
      "print s2"
     ],
     "language": "python",
     "metadata": {},
     "outputs": [
      {
       "output_type": "stream",
       "stream": "stdout",
       "text": [
        "a   NaN\n",
        "a   NaN\n",
        "b     3\n",
        "c     4\n",
        "d   NaN\n",
        "dtype: float64\n",
        "a   -999\n",
        "a   -999\n",
        "b      3\n",
        "c      4\n",
        "d   -999\n",
        "dtype: float64\n",
        "a   -999\n",
        "a   -999\n",
        "b      3\n",
        "c      4\n",
        "d   -999\n",
        "dtype: float64\n"
       ]
      }
     ],
     "prompt_number": 20
    },
    {
     "cell_type": "markdown",
     "metadata": {},
     "source": [
      "### append\n",
      "\n",
      "append(series) appends one series to another, and is similar to list.append."
     ]
    },
    {
     "cell_type": "markdown",
     "metadata": {},
     "source": [
      "### replace\n",
      "\n",
      "replace(list, values) replace a set of values in a Series with a new value. replace is similar to fillna except that replace also replaces non-null values."
     ]
    },
    {
     "cell_type": "markdown",
     "metadata": {},
     "source": [
      "### update\n",
      "\n",
      "update(series) replaces values in a series with those in another series, matching on the index, and is similar to a SQL update operation."
     ]
    },
    {
     "cell_type": "code",
     "collapsed": false,
     "input": [
      "s1 = Series(arange(1, 4.0), index=['a', 'b', 'c'])\n",
      "print s1\n",
      "\n",
      "s2 = Series(-1 * arange(1, 4.0), index=['c', 'd', 'e'])\n",
      "print s2\n",
      "\n",
      "s1.update(s2)\n",
      "print s1"
     ],
     "language": "python",
     "metadata": {},
     "outputs": [
      {
       "output_type": "stream",
       "stream": "stdout",
       "text": [
        "a    1\n",
        "b    2\n",
        "c    3\n",
        "dtype: float64\n",
        "c   -1\n",
        "d   -2\n",
        "e   -3\n",
        "dtype: float64\n",
        "a    1\n",
        "b    2\n",
        "c   -1\n",
        "dtype: float64\n"
       ]
      }
     ],
     "prompt_number": 21
    },
    {
     "cell_type": "markdown",
     "metadata": {},
     "source": [
      "## 2.2 DataFrame\n",
      "\n",
      "While the Series class is the building block of data structures in pandas, the DataFrame is the work-horse. \n",
      "\n",
      "DataFrames collect multiple series in the same way that a spreadsheet collects multiple columns of data. In a simple sense, a DataFrame is like a 2-dimensional NumPy array \u2013 and when all data is numeric and\n",
      "of the same type (e.g. float64), it is virtually indistinguishable. \n",
      "\n",
      "However, a DataFrame is composed of Series and each Series has its own data type, and so not all DataFrames are representable as homogeneous NumPy arrays.\n",
      "\n",
      "A number of methods are available to initialize a DataFrame. The simplest is from a homogeneous NumPy array."
     ]
    },
    {
     "cell_type": "code",
     "collapsed": false,
     "input": [
      "from pandas import DataFrame\n",
      "\n",
      "a = array([[1.0, 2],\n",
      "           [3, 4]])\n",
      "df = DataFrame(a)\n",
      "print df"
     ],
     "language": "python",
     "metadata": {},
     "outputs": [
      {
       "output_type": "stream",
       "stream": "stdout",
       "text": [
        "   0  1\n",
        "0  1  2\n",
        "1  3  4\n"
       ]
      }
     ],
     "prompt_number": 22
    },
    {
     "cell_type": "markdown",
     "metadata": {},
     "source": [
      "Like a Series, a DataFrame contains the input data as well as row labels. \n",
      "\n",
      "However, since a DataFrame is a collection of columns, it also contains column labels (located along the top edge). When none are provided, the numeric sequence 0, 1, . . . is used. Column names are entered using a keyword argument or later by assigning to columns ."
     ]
    },
    {
     "cell_type": "code",
     "collapsed": false,
     "input": [
      "df = DataFrame(array([[1.0, 2], [3, 4]]), columns=['a', 'b'])\n",
      "print df\n",
      "\n",
      "df = DataFrame(array([[1, 2], [3, 4]]))\n",
      "df.columns = ['dogs', 'cats']\n",
      "print df"
     ],
     "language": "python",
     "metadata": {},
     "outputs": [
      {
       "output_type": "stream",
       "stream": "stdout",
       "text": [
        "   a  b\n",
        "0  1  2\n",
        "1  3  4\n",
        "   dogs  cats\n",
        "0     1     2\n",
        "1     3     4\n"
       ]
      }
     ],
     "prompt_number": 23
    },
    {
     "cell_type": "markdown",
     "metadata": {},
     "source": [
      "Index values are similarly assigned using either the keyword argument index or by setting the index property."
     ]
    },
    {
     "cell_type": "code",
     "collapsed": false,
     "input": [
      "df = DataFrame(array([[1, 2], [3, 4]]))\n",
      "df.columns = ['dogs', 'cats']\n",
      "df.index = ['Alice', 'Bob']\n",
      "print df"
     ],
     "language": "python",
     "metadata": {},
     "outputs": [
      {
       "output_type": "stream",
       "stream": "stdout",
       "text": [
        "       dogs  cats\n",
        "Alice     1     2\n",
        "Bob       3     4\n"
       ]
      }
     ],
     "prompt_number": 24
    },
    {
     "cell_type": "markdown",
     "metadata": {},
     "source": [
      "The final method to create a DataFrame uses a dictionary containing Series, where the keys contain the column names. The DataFrame will automatically align the data using the common indices."
     ]
    },
    {
     "cell_type": "code",
     "collapsed": false,
     "input": [
      "from pandas import Series\n",
      "s1 = Series(arange(0.0, 5))\n",
      "s2 = Series(arange(1.0, 6))\n",
      "print DataFrame({'one':s1, 'two':s2})\n",
      "\n",
      "s3 = Series(arange(2, 4.0))\n",
      "print DataFrame({'one':s1, 'two':s2, 'three':s3})"
     ],
     "language": "python",
     "metadata": {},
     "outputs": [
      {
       "output_type": "stream",
       "stream": "stdout",
       "text": [
        "   one  two\n",
        "0    0    1\n",
        "1    1    2\n",
        "2    2    3\n",
        "3    3    4\n",
        "4    4    5\n",
        "   one  three  two\n",
        "0    0      2    1\n",
        "1    1      3    2\n",
        "2    2    NaN    3\n",
        "3    3    NaN    4\n",
        "4    4    NaN    5\n"
       ]
      }
     ],
     "prompt_number": 25
    },
    {
     "cell_type": "markdown",
     "metadata": {},
     "source": [
      "In the final example, the third series ( s3 ) has fewer values and the DataFrame automatically fills missing values as NaN . Note that is possible to create DataFrames from Series which do not have unique index\n",
      "values, although in these cases the index values of the two series must match exactly \u2013 that is, have the same index values in the same order."
     ]
    },
    {
     "cell_type": "markdown",
     "metadata": {},
     "source": [
      "# 3. Manipulating Dataframes"
     ]
    },
    {
     "cell_type": "markdown",
     "metadata": {},
     "source": [
      "The use of DataFrames will be demonstrated using a data set containing a mix of data types using state level GDP data from the US. \n",
      "\n",
      "The data set contains both the GDP level between 2009 and 2012 (constant\n",
      "2005 USD) and the growth rates for the same years as well as a variable containing the region of the state."
     ]
    },
    {
     "cell_type": "code",
     "collapsed": false,
     "input": [
      "from pandas import read_excel\n",
      "state_gdp = read_excel('/home/peter/Workspace/Notes/Data/US_state_GDP.xls', 'Sheet1')\n",
      "\n",
      "state_gdp.head()"
     ],
     "language": "python",
     "metadata": {},
     "outputs": [
      {
       "html": [
        "<div style=\"max-height:1000px;max-width:1500px;overflow:auto;\">\n",
        "<table border=\"1\" class=\"dataframe\">\n",
        "  <thead>\n",
        "    <tr style=\"text-align: right;\">\n",
        "      <th></th>\n",
        "      <th>state_code</th>\n",
        "      <th>state</th>\n",
        "      <th>gdp_2009</th>\n",
        "      <th>gdp_2010</th>\n",
        "      <th>gdp_2011</th>\n",
        "      <th>gdp_2012</th>\n",
        "      <th>gdp_growth_2009</th>\n",
        "      <th>gdp_growth_2010</th>\n",
        "      <th>gdp_growth_2011</th>\n",
        "      <th>gdp_growth_2012</th>\n",
        "      <th>region</th>\n",
        "    </tr>\n",
        "  </thead>\n",
        "  <tbody>\n",
        "    <tr>\n",
        "      <th>0</th>\n",
        "      <td> AK</td>\n",
        "      <td>     Alaska</td>\n",
        "      <td>   44215</td>\n",
        "      <td>   43472</td>\n",
        "      <td>   44232</td>\n",
        "      <td>   44732</td>\n",
        "      <td> 7.7</td>\n",
        "      <td>-1.7</td>\n",
        "      <td> 1.7</td>\n",
        "      <td> 1.1</td>\n",
        "      <td> FW</td>\n",
        "    </tr>\n",
        "    <tr>\n",
        "      <th>1</th>\n",
        "      <td> AL</td>\n",
        "      <td>    Alabama</td>\n",
        "      <td>  149843</td>\n",
        "      <td>  153839</td>\n",
        "      <td>  155390</td>\n",
        "      <td>  157272</td>\n",
        "      <td>-3.9</td>\n",
        "      <td> 2.7</td>\n",
        "      <td> 1.0</td>\n",
        "      <td> 1.2</td>\n",
        "      <td> SE</td>\n",
        "    </tr>\n",
        "    <tr>\n",
        "      <th>2</th>\n",
        "      <td> AR</td>\n",
        "      <td>   Arkansas</td>\n",
        "      <td>   89776</td>\n",
        "      <td>   92075</td>\n",
        "      <td>   92684</td>\n",
        "      <td>   93892</td>\n",
        "      <td>-2.0</td>\n",
        "      <td> 2.6</td>\n",
        "      <td> 0.7</td>\n",
        "      <td> 1.3</td>\n",
        "      <td> SE</td>\n",
        "    </tr>\n",
        "    <tr>\n",
        "      <th>3</th>\n",
        "      <td> AZ</td>\n",
        "      <td>    Arizona</td>\n",
        "      <td>  221405</td>\n",
        "      <td>  221016</td>\n",
        "      <td>  224787</td>\n",
        "      <td>  230641</td>\n",
        "      <td>-8.2</td>\n",
        "      <td>-0.2</td>\n",
        "      <td> 1.7</td>\n",
        "      <td> 2.6</td>\n",
        "      <td> SW</td>\n",
        "    </tr>\n",
        "    <tr>\n",
        "      <th>4</th>\n",
        "      <td> CA</td>\n",
        "      <td> California</td>\n",
        "      <td> 1667152</td>\n",
        "      <td> 1672473</td>\n",
        "      <td> 1692301</td>\n",
        "      <td> 1751002</td>\n",
        "      <td>-5.1</td>\n",
        "      <td> 0.3</td>\n",
        "      <td> 1.2</td>\n",
        "      <td> 3.5</td>\n",
        "      <td> FW</td>\n",
        "    </tr>\n",
        "  </tbody>\n",
        "</table>\n",
        "</div>"
       ],
       "metadata": {},
       "output_type": "pyout",
       "prompt_number": 26,
       "text": [
        "  state_code       state  gdp_2009  gdp_2010  gdp_2011  gdp_2012  \\\n",
        "0         AK      Alaska     44215     43472     44232     44732   \n",
        "1         AL     Alabama    149843    153839    155390    157272   \n",
        "2         AR    Arkansas     89776     92075     92684     93892   \n",
        "3         AZ     Arizona    221405    221016    224787    230641   \n",
        "4         CA  California   1667152   1672473   1692301   1751002   \n",
        "\n",
        "   gdp_growth_2009  gdp_growth_2010  gdp_growth_2011  gdp_growth_2012 region  \n",
        "0              7.7             -1.7              1.7              1.1     FW  \n",
        "1             -3.9              2.7              1.0              1.2     SE  \n",
        "2             -2.0              2.6              0.7              1.3     SE  \n",
        "3             -8.2             -0.2              1.7              2.6     SW  \n",
        "4             -5.1              0.3              1.2              3.5     FW  "
       ]
      }
     ],
     "prompt_number": 26
    },
    {
     "cell_type": "markdown",
     "metadata": {},
     "source": [
      "## 3.1 Selecting columns\n",
      "\n",
      "Single columns are selectable using the column name, as in state_gdp[\u2019state\u2019] , and the value returned in a Series. \n",
      "\n",
      "Multiple columns are similarly selected using a list of column names as in state_gdp [[\u2019state_code\u2019, \u2019state\u2019]] , or equivalently using an Index object. Note that these two methods are slightly different \u2013 selecting a single column returns a Series while selecting multiple columns returns a DataFrame.\n",
      "\n",
      "This is similar to how NumPy\u2019s scalar selection returns an array with a lower dimension. Use a list of column names containing a single name to return a DataFrame with a single column."
     ]
    },
    {
     "cell_type": "code",
     "collapsed": false,
     "input": [
      "print state_gdp['state_code'].head() # Series\n",
      "\n",
      "print state_gdp[['state_code']].head() # DataFrame\n",
      "\n",
      "# this is useful, or aboves\n",
      "# Use list of list to find columns\n",
      "print state_gdp[['state_code', 'state']].head()\n",
      "\n",
      "print state_gdp[[1, 2]].head()\n",
      "\n",
      "index = state_gdp.index\n",
      "print index # to index columns\n",
      "print state_gdp[index[1:3]].head()  # Columns 1 and 2 (0-based)\n"
     ],
     "language": "python",
     "metadata": {},
     "outputs": [
      {
       "output_type": "stream",
       "stream": "stdout",
       "text": [
        "0    AK\n",
        "1    AL\n",
        "2    AR\n",
        "3    AZ\n",
        "4    CA\n",
        "Name: state_code, dtype: object\n",
        "  state_code\n",
        "0         AK\n",
        "1         AL\n",
        "2         AR\n",
        "3         AZ\n",
        "4         CA\n",
        "  state_code       state\n",
        "0         AK      Alaska\n",
        "1         AL     Alabama\n",
        "2         AR    Arkansas\n",
        "3         AZ     Arizona\n",
        "4         CA  California\n",
        "        state  gdp_2009\n",
        "0      Alaska     44215\n",
        "1     Alabama    149843\n",
        "2    Arkansas     89776\n",
        "3     Arizona    221405\n",
        "4  California   1667152\n",
        "Int64Index([0, 1, 2, 3, 4, 5, 6, 7, 8, 9, 10, 11, 12, 13, 14, 15, 16, 17, 18, 19, 20, 21, 22, 23, 24, 25, 26, 27, 28, 29, 30, 31, 32, 33, 34, 35, 36, 37, 38, 39, 40, 41, 42, 43, 44, 45, 46, 47, 48, 49, 50], dtype='int64')\n",
        "        state  gdp_2009\n",
        "0      Alaska     44215\n",
        "1     Alabama    149843\n",
        "2    Arkansas     89776\n",
        "3     Arizona    221405\n",
        "4  California   1667152\n"
       ]
      }
     ],
     "prompt_number": 27
    },
    {
     "cell_type": "markdown",
     "metadata": {},
     "source": [
      "Finally, single columns can also be selected using dot-notation (properties). This is identical to using df['column'] and so the value returned is a Series."
     ]
    },
    {
     "cell_type": "code",
     "collapsed": false,
     "input": [
      "print state_gdp.state_code.head()\n",
      "print state_gdp.gdp_2011.head()"
     ],
     "language": "python",
     "metadata": {},
     "outputs": [
      {
       "output_type": "stream",
       "stream": "stdout",
       "text": [
        "0    AK\n",
        "1    AL\n",
        "2    AR\n",
        "3    AZ\n",
        "4    CA\n",
        "Name: state_code, dtype: object\n",
        "0      44232\n",
        "1     155390\n",
        "2      92684\n",
        "3     224787\n",
        "4    1692301\n",
        "Name: gdp_2011, dtype: int64\n"
       ]
      }
     ],
     "prompt_number": 28
    },
    {
     "cell_type": "markdown",
     "metadata": {},
     "source": [
      "## 3.2 Selecting rows\n",
      "\n",
      "Rows can be selected using standard numerical slices."
     ]
    },
    {
     "cell_type": "code",
     "collapsed": false,
     "input": [
      "# You can easily slice a data frame to create a sub sample suitable for a particular task\n",
      "regress1 = state_gdp[['state_code', 'gdp_growth_2010']][1:10]\n",
      "regress1"
     ],
     "language": "python",
     "metadata": {},
     "outputs": [
      {
       "html": [
        "<div style=\"max-height:1000px;max-width:1500px;overflow:auto;\">\n",
        "<table border=\"1\" class=\"dataframe\">\n",
        "  <thead>\n",
        "    <tr style=\"text-align: right;\">\n",
        "      <th></th>\n",
        "      <th>state_code</th>\n",
        "      <th>gdp_growth_2010</th>\n",
        "    </tr>\n",
        "  </thead>\n",
        "  <tbody>\n",
        "    <tr>\n",
        "      <th>1</th>\n",
        "      <td> AL</td>\n",
        "      <td> 2.7</td>\n",
        "    </tr>\n",
        "    <tr>\n",
        "      <th>2</th>\n",
        "      <td> AR</td>\n",
        "      <td> 2.6</td>\n",
        "    </tr>\n",
        "    <tr>\n",
        "      <th>3</th>\n",
        "      <td> AZ</td>\n",
        "      <td>-0.2</td>\n",
        "    </tr>\n",
        "    <tr>\n",
        "      <th>4</th>\n",
        "      <td> CA</td>\n",
        "      <td> 0.3</td>\n",
        "    </tr>\n",
        "    <tr>\n",
        "      <th>5</th>\n",
        "      <td> CO</td>\n",
        "      <td> 2.2</td>\n",
        "    </tr>\n",
        "    <tr>\n",
        "      <th>6</th>\n",
        "      <td> CT</td>\n",
        "      <td> 1.2</td>\n",
        "    </tr>\n",
        "    <tr>\n",
        "      <th>7</th>\n",
        "      <td> DC</td>\n",
        "      <td> 3.2</td>\n",
        "    </tr>\n",
        "    <tr>\n",
        "      <th>8</th>\n",
        "      <td> DE</td>\n",
        "      <td> 0.3</td>\n",
        "    </tr>\n",
        "    <tr>\n",
        "      <th>9</th>\n",
        "      <td> FL</td>\n",
        "      <td> 0.3</td>\n",
        "    </tr>\n",
        "  </tbody>\n",
        "</table>\n",
        "</div>"
       ],
       "metadata": {},
       "output_type": "pyout",
       "prompt_number": 29,
       "text": [
        "  state_code  gdp_growth_2010\n",
        "1         AL              2.7\n",
        "2         AR              2.6\n",
        "3         AZ             -0.2\n",
        "4         CA              0.3\n",
        "5         CO              2.2\n",
        "6         CT              1.2\n",
        "7         DC              3.2\n",
        "8         DE              0.3\n",
        "9         FL              0.3"
       ]
      }
     ],
     "prompt_number": 29
    },
    {
     "cell_type": "markdown",
     "metadata": {},
     "source": [
      "A function version is also available using *iloc[ rows ]* which is identical to the standard slicing syntax.\n",
      "\n",
      "Labeled rows can also be selected using the method *loc[ label ]* or *loc[ list of labels ]* to elect multiple rows\n",
      "using their label .\n",
      "\n",
      "Finally, rows can also be selected using logical selection using a Boolean array with the same number of elements as the number of rows as the DataFrame."
     ]
    },
    {
     "cell_type": "code",
     "collapsed": false,
     "input": [
      "state_long_recession = state_gdp.gdp_growth_2010<0\n",
      "regress_recession = state_gdp[state_long_recession]\n",
      "print regress_recession.head()\n",
      "\n",
      "# Or combined \n",
      "print state_gdp[state_gdp.gdp_growth_2010<0]\\\n",
      "               [state_gdp.gdp_growth_2009<0]\\\n",
      "               .head()\n",
      "\n",
      "# Excercise: Find all states with GDP>100000 in 2009 and 2010\n"
     ],
     "language": "python",
     "metadata": {},
     "outputs": [
      {
       "output_type": "stream",
       "stream": "stdout",
       "text": [
        "   state_code    state  gdp_2009  gdp_2010  gdp_2011  gdp_2012  \\\n",
        "0          AK   Alaska     44215     43472     44232     44732   \n",
        "3          AZ  Arizona    221405    221016    224787    230641   \n",
        "33         NV   Nevada    110001    109610    111574    113197   \n",
        "50         WY  Wyoming     32439     32004     31231     31302   \n",
        "\n",
        "    gdp_growth_2009  gdp_growth_2010  gdp_growth_2011  gdp_growth_2012 region  \n",
        "0               7.7             -1.7              1.7              1.1     FW  \n",
        "3              -8.2             -0.2              1.7              2.6     SW  \n",
        "33             -8.2             -0.4              1.8              1.5     FW  \n",
        "50              3.4             -1.3             -2.4              0.2     RM  \n",
        "   state_code    state  gdp_2009  gdp_2010  gdp_2011  gdp_2012  \\\n",
        "3          AZ  Arizona    221405    221016    224787    230641   \n",
        "33         NV   Nevada    110001    109610    111574    113197   \n",
        "\n",
        "    gdp_growth_2009  gdp_growth_2010  gdp_growth_2011  gdp_growth_2012 region  \n",
        "3              -8.2             -0.2              1.7              2.6     SW  \n",
        "33             -8.2             -0.4              1.8              1.5     FW  \n"
       ]
      },
      {
       "output_type": "stream",
       "stream": "stderr",
       "text": [
        "/usr/lib/python2.7/dist-packages/pandas/core/frame.py:1706: UserWarning: Boolean Series key will be reindexed to match DataFrame index.\n",
        "  \"DataFrame index.\", UserWarning)\n"
       ]
      }
     ],
     "prompt_number": 30
    },
    {
     "cell_type": "markdown",
     "metadata": {},
     "source": [
      "## 3.3 Selecting rows and columns\n",
      "\n",
      "Since the behavior of slicing depends on whether the input is text (selects columns) or numeric/Boolean (selects rows), it isn\u2019t possible to use standard slicing to select both rows and columns. \n",
      "\n",
      "Instead, the selector method ix[ rowselector , colselector ] allows joint selection where rowselector is either a scalar selector, a slice selector, a Boolean array, a numeric selector or a row label or list of row labels and colselector is a scalar selector, a slice selector, a Boolean array, a numeric selector or a column name or list of column names."
     ]
    },
    {
     "cell_type": "code",
     "collapsed": false,
     "input": [
      "from pandas import read_excel\n",
      "state_gdp = read_excel('/home/peter/Workspace/Notes/Data/US_state_GDP.xls', 'Sheet1')\n",
      "\n",
      "state_long_recession = state_gdp.gdp_growth_2010<0\n",
      "\n",
      "print state_gdp.ix[state_long_recession, 'state']\n",
      "\n",
      "print state_gdp.ix[state_long_recession, ['state', 'gdp_growth_2009', 'gdp_growth_2010']]\n",
      "\n",
      "print state_gdp.ix[10:15, 0]  # Slice and scalar\n",
      "\n",
      "print state_gdp.ix[10:15, :2] # Slice and slice\n",
      "\n",
      "# Exercise\n",
      "#select Alaska  Arizona Nevada Wyoming and GDP_growth_2011 > 2%\n",
      "\n",
      "print state_gdp.ix[state_gdp.state=='Alaska',:]\\\n",
      "               .ix[state_gdp.gdp_growth_2011>0.02]\n",
      "\n",
      "state_gdp.index = state_gdp.state.values\n",
      "\n",
      "state_gdp.ix[['Alaska', 'Arizona', 'Nevada', 'Wyoming'],:]\\\n",
      "         .ix[state_gdp.gdp_growth_2011>0.02]"
     ],
     "language": "python",
     "metadata": {},
     "outputs": [
      {
       "output_type": "stream",
       "stream": "stdout",
       "text": [
        "0      Alaska\n",
        "3     Arizona\n",
        "33     Nevada\n",
        "50    Wyoming\n",
        "Name: state, dtype: object\n",
        "      state  gdp_growth_2009  gdp_growth_2010\n",
        "0    Alaska              7.7             -1.7\n",
        "3   Arizona             -8.2             -0.2\n",
        "33   Nevada             -8.2             -0.4\n",
        "50  Wyoming              3.4             -1.3\n",
        "10    GA\n",
        "11    HI\n",
        "12    IA\n",
        "13    ID\n",
        "14    IL\n",
        "15    IN\n",
        "Name: state_code, dtype: object\n",
        "   state_code     state\n",
        "10         GA   Georgia\n",
        "11         HI    Hawaii\n",
        "12         IA      Iowa\n",
        "13         ID     Idaho\n",
        "14         IL  Illinois\n",
        "15         IN   Indiana\n",
        "  state_code   state  gdp_2009  gdp_2010  gdp_2011  gdp_2012  gdp_growth_2009  \\\n",
        "0         AK  Alaska     44215     43472     44232     44732              7.7   \n",
        "\n",
        "   gdp_growth_2010  gdp_growth_2011  gdp_growth_2012 region  \n",
        "0             -1.7              1.7              1.1     FW  \n"
       ]
      },
      {
       "html": [
        "<div style=\"max-height:1000px;max-width:1500px;overflow:auto;\">\n",
        "<table border=\"1\" class=\"dataframe\">\n",
        "  <thead>\n",
        "    <tr style=\"text-align: right;\">\n",
        "      <th></th>\n",
        "      <th>state_code</th>\n",
        "      <th>state</th>\n",
        "      <th>gdp_2009</th>\n",
        "      <th>gdp_2010</th>\n",
        "      <th>gdp_2011</th>\n",
        "      <th>gdp_2012</th>\n",
        "      <th>gdp_growth_2009</th>\n",
        "      <th>gdp_growth_2010</th>\n",
        "      <th>gdp_growth_2011</th>\n",
        "      <th>gdp_growth_2012</th>\n",
        "      <th>region</th>\n",
        "    </tr>\n",
        "  </thead>\n",
        "  <tbody>\n",
        "    <tr>\n",
        "      <th>Alaska</th>\n",
        "      <td> AK</td>\n",
        "      <td>  Alaska</td>\n",
        "      <td>  44215</td>\n",
        "      <td>  43472</td>\n",
        "      <td>  44232</td>\n",
        "      <td>  44732</td>\n",
        "      <td> 7.7</td>\n",
        "      <td>-1.7</td>\n",
        "      <td> 1.7</td>\n",
        "      <td> 1.1</td>\n",
        "      <td> FW</td>\n",
        "    </tr>\n",
        "    <tr>\n",
        "      <th>Arizona</th>\n",
        "      <td> AZ</td>\n",
        "      <td> Arizona</td>\n",
        "      <td> 221405</td>\n",
        "      <td> 221016</td>\n",
        "      <td> 224787</td>\n",
        "      <td> 230641</td>\n",
        "      <td>-8.2</td>\n",
        "      <td>-0.2</td>\n",
        "      <td> 1.7</td>\n",
        "      <td> 2.6</td>\n",
        "      <td> SW</td>\n",
        "    </tr>\n",
        "    <tr>\n",
        "      <th>Nevada</th>\n",
        "      <td> NV</td>\n",
        "      <td>  Nevada</td>\n",
        "      <td> 110001</td>\n",
        "      <td> 109610</td>\n",
        "      <td> 111574</td>\n",
        "      <td> 113197</td>\n",
        "      <td>-8.2</td>\n",
        "      <td>-0.4</td>\n",
        "      <td> 1.8</td>\n",
        "      <td> 1.5</td>\n",
        "      <td> FW</td>\n",
        "    </tr>\n",
        "  </tbody>\n",
        "</table>\n",
        "</div>"
       ],
       "metadata": {},
       "output_type": "pyout",
       "prompt_number": 31,
       "text": [
        "        state_code    state  gdp_2009  gdp_2010  gdp_2011  gdp_2012  \\\n",
        "Alaska          AK   Alaska     44215     43472     44232     44732   \n",
        "Arizona         AZ  Arizona    221405    221016    224787    230641   \n",
        "Nevada          NV   Nevada    110001    109610    111574    113197   \n",
        "\n",
        "         gdp_growth_2009  gdp_growth_2010  gdp_growth_2011  gdp_growth_2012  \\\n",
        "Alaska               7.7             -1.7              1.7              1.1   \n",
        "Arizona             -8.2             -0.2              1.7              2.6   \n",
        "Nevada              -8.2             -0.4              1.8              1.5   \n",
        "\n",
        "        region  \n",
        "Alaska      FW  \n",
        "Arizona     SW  \n",
        "Nevada      FW  "
       ]
      }
     ],
     "prompt_number": 31
    },
    {
     "cell_type": "markdown",
     "metadata": {},
     "source": [
      "## 3.4 Adding columns (variables)\n",
      "\n",
      "Columns are added using one of two methods. \n",
      "\n",
      "### 3.4.1. Dict-like syntax\n",
      "The most obvious is to add a Series merging along the index using a dictionary-like syntax. This syntax always adds the column at the end. "
     ]
    },
    {
     "cell_type": "code",
     "collapsed": false,
     "input": [
      "state_gdp_2012 = state_gdp[['state', 'gdp_2012']]\n",
      "print state_gdp_2012.head()\n",
      "\n",
      "# add an extra column from another DataFrame\n",
      "state_gdp_2012['gdp_growth_2012'] = state_gdp.gdp_growth_2012\n",
      "\"\"\" Stata equivalent:    \n",
      "    use state_gdp, clear\n",
      "    keep gdp_growth_2012\n",
      "    save tempfile.dta, replace\n",
      "    use state_gdp_2012, clear\n",
      "    merge _n using tempfile.dta, nogen\n",
      "    drop _merge\n",
      "\"\"\"\n",
      "\n",
      "# add a new variable filled with ones\n",
      "# method 1\n",
      "state_gdp_2012['unos'] = ones(state_gdp_2012.shape[0])\n",
      "# method 2\n",
      "state_gdp_2012['unos2'] = 1\n",
      "\n",
      "state_gdp_2012.head()"
     ],
     "language": "python",
     "metadata": {},
     "outputs": [
      {
       "output_type": "stream",
       "stream": "stdout",
       "text": [
        "                 state  gdp_2012\n",
        "Alaska          Alaska     44732\n",
        "Alabama        Alabama    157272\n",
        "Arkansas      Arkansas     93892\n",
        "Arizona        Arizona    230641\n",
        "California  California   1751002\n"
       ]
      },
      {
       "html": [
        "<div style=\"max-height:1000px;max-width:1500px;overflow:auto;\">\n",
        "<table border=\"1\" class=\"dataframe\">\n",
        "  <thead>\n",
        "    <tr style=\"text-align: right;\">\n",
        "      <th></th>\n",
        "      <th>state</th>\n",
        "      <th>gdp_2012</th>\n",
        "      <th>gdp_growth_2012</th>\n",
        "      <th>unos</th>\n",
        "      <th>unos2</th>\n",
        "    </tr>\n",
        "  </thead>\n",
        "  <tbody>\n",
        "    <tr>\n",
        "      <th>Alaska</th>\n",
        "      <td>     Alaska</td>\n",
        "      <td>   44732</td>\n",
        "      <td> 1.1</td>\n",
        "      <td> 1</td>\n",
        "      <td> 1</td>\n",
        "    </tr>\n",
        "    <tr>\n",
        "      <th>Alabama</th>\n",
        "      <td>    Alabama</td>\n",
        "      <td>  157272</td>\n",
        "      <td> 1.2</td>\n",
        "      <td> 1</td>\n",
        "      <td> 1</td>\n",
        "    </tr>\n",
        "    <tr>\n",
        "      <th>Arkansas</th>\n",
        "      <td>   Arkansas</td>\n",
        "      <td>   93892</td>\n",
        "      <td> 1.3</td>\n",
        "      <td> 1</td>\n",
        "      <td> 1</td>\n",
        "    </tr>\n",
        "    <tr>\n",
        "      <th>Arizona</th>\n",
        "      <td>    Arizona</td>\n",
        "      <td>  230641</td>\n",
        "      <td> 2.6</td>\n",
        "      <td> 1</td>\n",
        "      <td> 1</td>\n",
        "    </tr>\n",
        "    <tr>\n",
        "      <th>California</th>\n",
        "      <td> California</td>\n",
        "      <td> 1751002</td>\n",
        "      <td> 3.5</td>\n",
        "      <td> 1</td>\n",
        "      <td> 1</td>\n",
        "    </tr>\n",
        "  </tbody>\n",
        "</table>\n",
        "</div>"
       ],
       "metadata": {},
       "output_type": "pyout",
       "prompt_number": 32,
       "text": [
        "                 state  gdp_2012  gdp_growth_2012  unos  unos2\n",
        "Alaska          Alaska     44732              1.1     1      1\n",
        "Alabama        Alabama    157272              1.2     1      1\n",
        "Arkansas      Arkansas     93892              1.3     1      1\n",
        "Arizona        Arizona    230641              2.6     1      1\n",
        "California  California   1751002              3.5     1      1"
       ]
      }
     ],
     "prompt_number": 32
    },
    {
     "cell_type": "markdown",
     "metadata": {},
     "source": [
      "### 3.4.2 insert()\n",
      "\n",
      "insert( location , column_name , series ) inserts a Series\n",
      "at an specified location, where location uses 0-based indexing (i.e. 0 places the column first, 1 places it second, etc.), column_name is the name of the column to be added and series is the series data. series is\n",
      "either a Series or another object that is readily convertible into a Series such as a NumPy array."
     ]
    },
    {
     "cell_type": "code",
     "collapsed": false,
     "input": [
      "state_gdp_2012 = state_gdp[['state', 'gdp_2012']]\n",
      "state_gdp_2012.insert(1, 'gdp_growth_2012', state_gdp['gdp_growth_2012'])\n",
      "print state_gdp_2012.head()"
     ],
     "language": "python",
     "metadata": {},
     "outputs": [
      {
       "output_type": "stream",
       "stream": "stdout",
       "text": [
        "                 state  gdp_growth_2012  gdp_2012\n",
        "Alaska          Alaska              1.1     44732\n",
        "Alabama        Alabama              1.2    157272\n",
        "Arkansas      Arkansas              1.3     93892\n",
        "Arizona        Arizona              2.6    230641\n",
        "California  California              3.5   1751002\n"
       ]
      }
     ],
     "prompt_number": 33
    },
    {
     "cell_type": "markdown",
     "metadata": {},
     "source": [
      "Inserting columns with different indices or fewer items than the DataFrame results in a DataFrame with the original indices with NaN -filled missing values in the new Series."
     ]
    },
    {
     "cell_type": "code",
     "collapsed": false,
     "input": [
      "state_gdp_2012 = state_gdp.ix[0:2, ['state', 'gdp_2012']]\n",
      "print state_gdp_2012\n",
      "\n",
      "gdp_2011 = state_gdp.ix[1:4, ['gdp_2011']] \n",
      "state_gdp_2012['gdp_2011'] = gdp_2011\n",
      "\n",
      "# Left - joint\n",
      "print state_gdp_2012"
     ],
     "language": "python",
     "metadata": {},
     "outputs": [
      {
       "output_type": "stream",
       "stream": "stdout",
       "text": [
        "           state  gdp_2012\n",
        "Alaska    Alaska     44732\n",
        "Alabama  Alabama    157272\n",
        "           state  gdp_2012  gdp_2011\n",
        "Alaska    Alaska     44732       NaN\n",
        "Alabama  Alabama    157272    155390\n"
       ]
      }
     ],
     "prompt_number": 34
    },
    {
     "cell_type": "markdown",
     "metadata": {},
     "source": [
      "## 3.5 Deleting columns\n",
      "\n",
      "Columns are deleted using the \n",
      "- del keyword, \n",
      "- pop( column ) on the DataFrame \n",
      "- drop( list of columns ,axis=1) \n",
      "\n",
      "The behavior of these differs slightly: \n",
      "- del will simply delete the Series from the DataFrame. \n",
      "- pop() will both delete the Series and return the Series as an output\n",
      "- drop() will return a DataFrame with the Series dropped by will not modify the original DataFrame."
     ]
    },
    {
     "cell_type": "code",
     "collapsed": false,
     "input": [
      "from pandas import read_excel\n",
      "state_gdp = read_excel('Data/US_state_GDP.xls', 'Sheet1')\n",
      "\n",
      "state_gdp_copy = state_gdp.copy()[['gdp_growth_2011', 'gdp_growth_2012']]\n",
      "state_gdp_copy.index = state_gdp[['state_code']]\n",
      "print state_gdp_copy.head()\n",
      "\n",
      "gdp_growth_2012 = state_gdp_copy.pop('gdp_growth_2012')\n",
      "print gdp_growth_2012.head()\n",
      "\n",
      "print state_gdp_copy.head()\n",
      "\n",
      "del state_gdp_copy['gdp_growth_2011']\n",
      "print state_gdp_copy.head()"
     ],
     "language": "python",
     "metadata": {},
     "outputs": [
      {
       "output_type": "stream",
       "stream": "stdout",
       "text": [
        "       gdp_growth_2011  gdp_growth_2012\n",
        "(AK,)              1.7              1.1\n",
        "(AL,)              1.0              1.2\n",
        "(AR,)              0.7              1.3\n",
        "(AZ,)              1.7              2.6\n",
        "(CA,)              1.2              3.5\n",
        "(AK,)    1.1\n",
        "(AL,)    1.2\n",
        "(AR,)    1.3\n",
        "(AZ,)    2.6\n",
        "(CA,)    3.5\n",
        "Name: gdp_growth_2012, dtype: float64\n",
        "       gdp_growth_2011\n",
        "(AK,)              1.7\n",
        "(AL,)              1.0\n",
        "(AR,)              0.7\n",
        "(AZ,)              1.7\n",
        "(CA,)              1.2\n",
        "Empty DataFrame\n",
        "Columns: []\n",
        "Index: [(AK,), (AL,), (AR,), (AZ,), (CA,)]\n"
       ]
      }
     ],
     "prompt_number": 35
    },
    {
     "cell_type": "code",
     "collapsed": false,
     "input": [
      "state_gdp_copy = state_gdp.copy()\n",
      "state_gdp_copy = state_gdp_copy[['state_code', 'gdp_growth_2011', 'gdp_growth_2012']]\n",
      "\n",
      "#state_gdp_dropped = state_gdp_copy.drop(['state_code', 'gdp_growth_2011'], axis=1)\n",
      "state_gdp_dropped = state_gdp_copy.drop(state_gdp_copy.gdp_growth_2011<0, axis=0)\n",
      "print state_gdp_dropped.head()\n",
      "print state_gdp_copy.head()"
     ],
     "language": "python",
     "metadata": {},
     "outputs": [
      {
       "output_type": "stream",
       "stream": "stdout",
       "text": [
        "  state_code  gdp_growth_2011  gdp_growth_2012\n",
        "2         AR              0.7              1.3\n",
        "3         AZ              1.7              2.6\n",
        "4         CA              1.2              3.5\n",
        "5         CO              1.7              2.1\n",
        "6         CT             -0.1             -0.1\n",
        "  state_code  gdp_growth_2011  gdp_growth_2012\n",
        "0         AK              1.7              1.1\n",
        "1         AL              1.0              1.2\n",
        "2         AR              0.7              1.3\n",
        "3         AZ              1.7              2.6\n",
        "4         CA              1.2              3.5\n"
       ]
      }
     ],
     "prompt_number": 36
    },
    {
     "cell_type": "markdown",
     "metadata": {},
     "source": [
      "## 3.6 Important methods and properties"
     ]
    },
    {
     "cell_type": "markdown",
     "metadata": {},
     "source": [
      "### drop, dropna and drop_duplicates\n",
      "\n",
      "drop() , dropna() and drop_duplicates() can all be used to drop rows or columns from a DataFrame.\n",
      "\n",
      "drop( labels ) drops rows based on the row labels in a label or list labels. drop( column_name ,axis=1) drops columns based on a column name or list column names.\n",
      "\n",
      "dropna() drops rows with any NaN (or null) values. It can be used with the keyword argument dropna(how=\u2019all\u2019) to only drop rows which have missing values for all variables. It can also be used with the keyword argument dropna(axis=1) to drop columns with missing values. \n",
      "\n",
      "drop_duplicates() removes rows which are duplicates or other rows, and is used with the keyword argument drop_duplicates(cols= col_list ) to only consider a subset of all columns when checking for duplicates."
     ]
    },
    {
     "cell_type": "markdown",
     "metadata": {},
     "source": [
      "### values and index\n",
      "\n",
      "values retrieves the NumPy array underlying the DataFrame, and index returns the index of the DataFrame or can be assigned to to set the index."
     ]
    },
    {
     "cell_type": "markdown",
     "metadata": {},
     "source": [
      "### fillna\n",
      "\n",
      "fillna() fills NaN or other null values with other values. The simplest use fill all NaNs with a single value and is called fillna(value= value ). \n",
      "\n",
      "Using a dictionary allows for more sophisticated na-filling with column names as the keys and the replacements as the values."
     ]
    },
    {
     "cell_type": "code",
     "collapsed": false,
     "input": [
      "from pandas import DataFrame\n",
      "df = DataFrame(array([[1, nan], [nan, 2]]))\n",
      "df.columns = ['one', 'two']\n",
      "replacements = {'one':-1, 'two':-2}\n",
      "print df.fillna(value=replacements)"
     ],
     "language": "python",
     "metadata": {},
     "outputs": [
      {
       "output_type": "stream",
       "stream": "stdout",
       "text": [
        "   one  two\n",
        "0    1   -2\n",
        "1   -1    2\n"
       ]
      }
     ],
     "prompt_number": 37
    },
    {
     "cell_type": "markdown",
     "metadata": {},
     "source": [
      "### T and transpose()\n",
      "\n",
      "T and transpose are identical \u2013 both swap rows and columns of a DataFrame. T operates like a property, while transpose is used as a method."
     ]
    },
    {
     "cell_type": "markdown",
     "metadata": {},
     "source": [
      "### sort and sort_index\n",
      "\n",
      "sort and sort_index are identical in their outcome and only differ in the inputs. \n",
      "\n",
      "The default behavior of sort is to sort using the index. Using a keyword argument axis=1 sorts the DataFrame by the column names. Both can also be used to sort by the data in the DataFrame. sort does this using the keyword\n",
      "argument columns , which is either a single column name or a list of column names, and using a list of column names produces a nested sort. sort_index uses the keyword argument by to do the same. \n",
      "\n",
      "Another keyword argument determines the direction of the sort (ascending by default). sort(ascending=False) will produce a descending sort, and when using a nested sort, the sort direction is specified using a list\n",
      "sort(columns=[\u2019one\u2019,\u2019two\u2019], ascending=[True,False]) where each entry corresponds to the columns used to sort."
     ]
    },
    {
     "cell_type": "code",
     "collapsed": false,
     "input": [
      "from pandas import DataFrame\n",
      "\n",
      "df = DataFrame(array([[1, 3], \n",
      "                      [1, 2], \n",
      "                      [3, 2], \n",
      "                      [2, 1]]), columns = ['one', 'two'])\n",
      "print df\n",
      "print df.sort(columns='one')\n",
      "print df.sort(columns=['one', 'two'])\n",
      "print df.sort(columns=['one', 'two'], ascending=[0, 1])\n",
      "\n",
      "\"\"\"\n",
      "The default behavior is to not sort in-place and so it is necessary \n",
      "to assign the output of a sort. Using the keyword argument \n",
      "inplace=True \n",
      "will change the default behavior.\n",
      "\"\"\""
     ],
     "language": "python",
     "metadata": {},
     "outputs": [
      {
       "output_type": "stream",
       "stream": "stdout",
       "text": [
        "   one  two\n",
        "0    1    3\n",
        "1    1    2\n",
        "2    3    2\n",
        "3    2    1\n",
        "   one  two\n",
        "0    1    3\n",
        "1    1    2\n",
        "3    2    1\n",
        "2    3    2\n",
        "   one  two\n",
        "1    1    2\n",
        "0    1    3\n",
        "3    2    1\n",
        "2    3    2\n",
        "   one  two\n",
        "2    3    2\n",
        "3    2    1\n",
        "1    1    2\n",
        "0    1    3\n"
       ]
      },
      {
       "metadata": {},
       "output_type": "pyout",
       "prompt_number": 38,
       "text": [
        "u'\\nThe default behavior is to not sort in-place and so it is necessary \\nto assign the output of a sort. Using the keyword argument \\ninplace=True \\nwill change the default behavior.\\n'"
       ]
      }
     ],
     "prompt_number": 38
    },
    {
     "cell_type": "markdown",
     "metadata": {},
     "source": [
      "### pivot\n",
      "\n",
      "pivot reshapes a table using column values when reshaping. \n",
      "\n",
      "pivot takes three inputs:\n",
      "\n",
      "- The first, index , defines the column to use as the index of the pivoted table. \n",
      "\n",
      "- The second, columns , defines the column to use to form the column names, \n",
      "\n",
      "- And values defines the columns to form the data in the constructed DataFrame.\n",
      "\n",
      "The following example show how a flat DataFrame with repeated values is transformed into a more meaningful representation."
     ]
    },
    {
     "cell_type": "code",
     "collapsed": false,
     "input": [
      "prices = [101.0, 102, 103]\n",
      "tickers = ['GOOG', \"AAPL\"]\n",
      "\n",
      "import itertools\n",
      "data = [v for v in itertools.product(tickers, prices)]\n",
      "print data\n",
      "\n",
      "import pandas as pd\n",
      "dates = pd.date_range('2013-01-03', periods=3)\n",
      "print dates\n",
      "\n",
      "df = DataFrame(data, columns=['ticker', 'price'])\n",
      "df['dates'] = dates.append(dates) # there are two firms, \n",
      "       # we append the dates of each firm to form a long data.\n",
      "print df\n",
      "\n",
      "df.pivot(index='dates', columns='ticker', values='price')"
     ],
     "language": "python",
     "metadata": {},
     "outputs": [
      {
       "output_type": "stream",
       "stream": "stdout",
       "text": [
        "[(u'GOOG', 101.0), (u'GOOG', 102), (u'GOOG', 103), (u'AAPL', 101.0), (u'AAPL', 102), (u'AAPL', 103)]\n",
        "<class 'pandas.tseries.index.DatetimeIndex'>\n",
        "[2013-01-03, ..., 2013-01-05]\n",
        "Length: 3, Freq: D, Timezone: None\n",
        "  ticker  price      dates\n",
        "0   GOOG    101 2013-01-03\n",
        "1   GOOG    102 2013-01-04\n",
        "2   GOOG    103 2013-01-05\n",
        "3   AAPL    101 2013-01-03\n",
        "4   AAPL    102 2013-01-04\n",
        "5   AAPL    103 2013-01-05\n"
       ]
      },
      {
       "html": [
        "<div style=\"max-height:1000px;max-width:1500px;overflow:auto;\">\n",
        "<table border=\"1\" class=\"dataframe\">\n",
        "  <thead>\n",
        "    <tr style=\"text-align: right;\">\n",
        "      <th>ticker</th>\n",
        "      <th>AAPL</th>\n",
        "      <th>GOOG</th>\n",
        "    </tr>\n",
        "    <tr>\n",
        "      <th>dates</th>\n",
        "      <th></th>\n",
        "      <th></th>\n",
        "    </tr>\n",
        "  </thead>\n",
        "  <tbody>\n",
        "    <tr>\n",
        "      <th>2013-01-03</th>\n",
        "      <td> 101</td>\n",
        "      <td> 101</td>\n",
        "    </tr>\n",
        "    <tr>\n",
        "      <th>2013-01-04</th>\n",
        "      <td> 102</td>\n",
        "      <td> 102</td>\n",
        "    </tr>\n",
        "    <tr>\n",
        "      <th>2013-01-05</th>\n",
        "      <td> 103</td>\n",
        "      <td> 103</td>\n",
        "    </tr>\n",
        "  </tbody>\n",
        "</table>\n",
        "</div>"
       ],
       "metadata": {},
       "output_type": "pyout",
       "prompt_number": 39,
       "text": [
        "ticker      AAPL  GOOG\n",
        "dates                 \n",
        "2013-01-03   101   101\n",
        "2013-01-04   102   102\n",
        "2013-01-05   103   103"
       ]
      }
     ],
     "prompt_number": 39
    },
    {
     "cell_type": "markdown",
     "metadata": {},
     "source": [
      "### stack and unstack\n",
      "\n",
      "stack and unstack transform a DataFrame to a Series ( stack ) and back to a DataFrame ( unstack ). \n",
      "\n",
      "The stacked DataFrame (a Series) uses an index containing both the original row and column labels."
     ]
    },
    {
     "cell_type": "markdown",
     "metadata": {},
     "source": [
      "### concat and append\n",
      "\n",
      "append appends rows of another DataFrame to the end of an existing DataFrame. \n",
      "\n",
      "If the data appended has a different set of columns, missing values are NaN-filled. The keyword argument ignore_index=True instructs append to ignore the existing index in the appended DataFrame. This is useful when index values are not meaningful, such as when they are simple numeric values.\n",
      "\n",
      "pd.concat is a core function which concatenates two or more DataFrames using an outer join by default. An outer join is a method of joining DataFrames which will returns a DataFrame using the union of the indices of input DataFrames. This differs from the left join that is used when adding a Series to an existing DataFrame using dictionary syntax. The keyword argument join=\u2019inner\u2019 can be used to perform an\n",
      "inner join, which will return a DataFrame using the intersection of the indices in the input DataFrames.\n",
      "\n",
      "Be default pd.concat will concatenate using column names, and the keyword argument axis=1 can be used to join using index labels."
     ]
    },
    {
     "cell_type": "code",
     "collapsed": false,
     "input": [
      "import pandas as pd\n",
      "\n",
      "df1 = DataFrame([1, 2, 3], index=['a', 'b', 'c'], columns=['one'])\n",
      "df2 = DataFrame([4, 5, 6], index=['c', 'd', 'e'], columns=['two'])\n",
      "\n",
      "print pd.concat((df1, df2), axis=1)\n",
      "\n",
      "pd.concat((df1, df2), axis=1, join='inner')"
     ],
     "language": "python",
     "metadata": {},
     "outputs": [
      {
       "output_type": "stream",
       "stream": "stdout",
       "text": [
        "   one  two\n",
        "a    1  NaN\n",
        "b    2  NaN\n",
        "c    3    4\n",
        "d  NaN    5\n",
        "e  NaN    6\n"
       ]
      },
      {
       "html": [
        "<div style=\"max-height:1000px;max-width:1500px;overflow:auto;\">\n",
        "<table border=\"1\" class=\"dataframe\">\n",
        "  <thead>\n",
        "    <tr style=\"text-align: right;\">\n",
        "      <th></th>\n",
        "      <th>one</th>\n",
        "      <th>two</th>\n",
        "    </tr>\n",
        "  </thead>\n",
        "  <tbody>\n",
        "    <tr>\n",
        "      <th>c</th>\n",
        "      <td> 3</td>\n",
        "      <td> 4</td>\n",
        "    </tr>\n",
        "  </tbody>\n",
        "</table>\n",
        "</div>"
       ],
       "metadata": {},
       "output_type": "pyout",
       "prompt_number": 40,
       "text": [
        "   one  two\n",
        "c    3    4"
       ]
      }
     ],
     "prompt_number": 40
    },
    {
     "cell_type": "markdown",
     "metadata": {},
     "source": [
      "### reindex, reindex_like and reindex_axis\n",
      "\n",
      "reindex changes the labels while null-filling any missing values, which is useful for selecting subsets of a DataFrame or re-ordering rows.\n",
      "\n",
      "reindex_like behaves similarly, but uses the index from another DataFrame.\n",
      "\n",
      "The keyword argument axis directs reindex_axis to alter either rows or columns."
     ]
    },
    {
     "cell_type": "code",
     "collapsed": false,
     "input": [
      "original = DataFrame([[1, 1], \n",
      "                      [2, 2], \n",
      "                      [3, 3.0]], \n",
      "                     index=['a', 'b', 'c'], \n",
      "                     columns=['one', 'two'])\n",
      "print original\n",
      "\n",
      "print original.reindex(index=['b', 'c', 'd'])\n",
      "#alternative: original.index = ['b', 'c', 'd']\n",
      "\n",
      "different = DataFrame([[1, 1], [2, 2], [3, 3.0]], index=['c', 'd', 'e'], \n",
      "                     columns=['one', 'two'])\n",
      "\n",
      "print original.reindex_like(different)\n",
      "\n",
      "print original.reindex_axis(['two', 'one'], axis=1)\n",
      "\n",
      "# 1st difference\n",
      "# Method 1: diff()\n",
      "# Method 2: \n",
      "\"\"\"\n",
      "new = original.copy()\n",
      "new.index = new.index - 1\n",
      "new = new[1:]\n",
      "first_d = new - original\n",
      "\"\"\""
     ],
     "language": "python",
     "metadata": {},
     "outputs": [
      {
       "output_type": "stream",
       "stream": "stdout",
       "text": [
        "   one  two\n",
        "a    1    1\n",
        "b    2    2\n",
        "c    3    3\n",
        "   one  two\n",
        "b    2    2\n",
        "c    3    3\n",
        "d  NaN  NaN\n",
        "   one  two\n",
        "c    3    3\n",
        "d  NaN  NaN\n",
        "e  NaN  NaN\n",
        "   two  one\n",
        "a    1    1\n",
        "b    2    2\n",
        "c    3    3\n"
       ]
      },
      {
       "metadata": {},
       "output_type": "pyout",
       "prompt_number": 41,
       "text": [
        "u'\\nnew = original.copy()\\nnew.index = new.index - 1\\nnew = new[1:]\\nfirst_d = new - original\\n'"
       ]
      }
     ],
     "prompt_number": 41
    },
    {
     "cell_type": "markdown",
     "metadata": {},
     "source": [
      "### merge and join\n",
      "\n",
      "merge and join provide SQL-like operations for merging the DataFrames using row labels or the contents of columns. \n",
      "\n",
      "The primary difference between the two is that merge defaults to using column contents while join defaults to using index labels. Both commands take a large number of optional inputs. The important keyword arguments are:\n",
      "\n",
      "- how , which must be one of \u2019left\u2019 , \u2019right\u2019 , \u2019outer\u2019 , \u2019inner\u2019 describes which set of indices to use when performing the join. \u2019left\u2019 uses the indices of the DataFrame that is used to call the method\n",
      "and \u2019right\u2019 uses the DataFrame input into merge or join . \u2019outer\u2019 uses a union of all indices from both DataFrames and \u2019inner\u2019 uses an intersection from the two DataFrames.\n",
      "\n",
      "- *on* is a single column name of list of column names to use in the merge. on assumes the names are common. If no value is given for on or left_on / right_on , then the common column names are used.\n",
      "\n",
      "- left_on and right_on allow for a merge using columns with different names. When left_on and right_on contains the same column names, the behavior is the same as on.\n",
      "\n",
      "- left_index and right_index indicate that the index labels are the join key for the left and right DataFrames."
     ]
    },
    {
     "cell_type": "code",
     "collapsed": false,
     "input": [
      "left = DataFrame([[1, 2], [3, 4], [5, 6]], columns=['one', 'two'])\n",
      "right = DataFrame([[1, 2], [3, 4], [7, 8]], columns=['one', 'three'])\n",
      "\n",
      "print 'left\\n', left\n",
      "print 'right\\n', right\n",
      "\n",
      "print 'inner merge'\n",
      "print left.merge(right, on='one')\n",
      "\n",
      "print 'right merge'\n",
      "print left.merge(right, on='one', how='right')\n",
      "\n",
      "print 'outer merge'\n",
      "print left.merge(right, on='one', how='outer')\n",
      "\n",
      "print 'inner merge on different columns'\n",
      "print left.merge(right, left_on='one', right_on='three', how='outer')"
     ],
     "language": "python",
     "metadata": {},
     "outputs": [
      {
       "output_type": "stream",
       "stream": "stdout",
       "text": [
        "left\n",
        "   one  two\n",
        "0    1    2\n",
        "1    3    4\n",
        "2    5    6\n",
        "right\n",
        "   one  three\n",
        "0    1      2\n",
        "1    3      4\n",
        "2    7      8\n",
        "inner merge\n",
        "   one  two  three\n",
        "0    1    2      2\n",
        "1    3    4      4\n",
        "right merge\n",
        "   one  two  three\n",
        "0    1    2      2\n",
        "1    3    4      4\n",
        "2    7  NaN      8\n",
        "outer merge\n",
        "   one  two  three\n",
        "0    1    2      2\n",
        "1    3    4      4\n",
        "2    5    6    NaN\n",
        "3    7  NaN      8\n",
        "inner merge on different columns\n",
        "   one_x  two  one_y  three\n",
        "0      1    2    NaN    NaN\n",
        "1      3    4    NaN    NaN\n",
        "2      5    6    NaN    NaN\n",
        "3    NaN  NaN      1      2\n",
        "4    NaN  NaN      3      4\n",
        "5    NaN  NaN      7      8\n"
       ]
      }
     ],
     "prompt_number": 42
    },
    {
     "cell_type": "code",
     "collapsed": false,
     "input": [
      "# Stata equivalents: One to many merge\n",
      "\n",
      "left = DataFrame([[1, 2], \n",
      "                  [3, 4], \n",
      "                  [3, 6]], columns=['one', 'two'])\n",
      "right = DataFrame([[1, 2], \n",
      "                   [3, 4], \n",
      "                   [7, 8]], columns=['one', 'three'])\n",
      "\n",
      "print 'left\\n', left\n",
      "print 'right\\n', right\n",
      "\n",
      "print left.merge(right, on='one')\n",
      "\n",
      "print left.merge(right, on='one', how='right')\n",
      "\n",
      "print left.merge(right, on='one', how='outer')"
     ],
     "language": "python",
     "metadata": {},
     "outputs": [
      {
       "output_type": "stream",
       "stream": "stdout",
       "text": [
        "left\n",
        "   one  two\n",
        "0    1    2\n",
        "1    3    4\n",
        "2    3    6\n",
        "right\n",
        "   one  three\n",
        "0    1      2\n",
        "1    3      4\n",
        "2    7      8\n",
        "   one  two  three\n",
        "0    1    2      2\n",
        "1    3    4      4\n",
        "2    3    6      4\n",
        "   one  two  three\n",
        "0    1    2      2\n",
        "1    3    4      4\n",
        "2    3    6      4\n",
        "3    7  NaN      8\n",
        "   one  two  three\n",
        "0    1    2      2\n",
        "1    3    4      4\n",
        "2    3    6      4\n",
        "3    7  NaN      8\n"
       ]
      }
     ],
     "prompt_number": 43
    },
    {
     "cell_type": "markdown",
     "metadata": {},
     "source": [
      "### update\n",
      "\n",
      "update updates the values in one DataFrame using the non-null values from another DataFrame, using the index labels to determine which records to update."
     ]
    },
    {
     "cell_type": "code",
     "collapsed": false,
     "input": [
      "left = DataFrame([[1, 2], [3, 4], [5, 6]], columns=['one', 'two'])\n",
      "right = DataFrame([[nan, 12], [13, nan], [nan, 8]], \n",
      "                  columns=['one', 'two'], index=[1, 2, 3])\n",
      "\n",
      "print 'left\\n', left\n",
      "print 'right\\n', right\n",
      "\n",
      "left.update(right)  # update values in left\n",
      "print left"
     ],
     "language": "python",
     "metadata": {},
     "outputs": [
      {
       "output_type": "stream",
       "stream": "stdout",
       "text": [
        "left\n",
        "   one  two\n",
        "0    1    2\n",
        "1    3    4\n",
        "2    5    6\n",
        "right\n",
        "   one  two\n",
        "1  NaN   12\n",
        "2   13  NaN\n",
        "3  NaN    8\n",
        "   one  two\n",
        "0    1    2\n",
        "1    3   12\n",
        "2   13    6\n"
       ]
      }
     ],
     "prompt_number": 44
    },
    {
     "cell_type": "markdown",
     "metadata": {},
     "source": [
      "### groupby\n",
      "\n",
      "groupby produces a DataFrameGroupBy object which is a grouped DataFrame, and is useful when a DataFrame has columns containing group data (e.g. sex or race in cross-sectional data). \n",
      "\n",
      "By itself, groupby does not produce any output, and so it is necessary to use other functions on the output DataFrameGroupBy."
     ]
    },
    {
     "cell_type": "code",
     "collapsed": false,
     "input": [
      "from pandas import read_excel\n",
      "state_gdp = read_excel('/home/peter/Workspace/Notes/Data/US_state_GDP.xls', 'Sheet1')\n",
      "\n",
      "subset = state_gdp[['gdp_growth_2009', 'gdp_growth_2010', 'region']]\n",
      "\n",
      "print subset.head()\n",
      "\n",
      "grouped_data = subset.groupby(by='region')\n",
      "\n",
      "# display data in each group\n",
      "for group_id, df in grouped_data:\n",
      "    # you can add lots of complex calculation here to derive statistics\n",
      "    print group_id, '\\n', df.head()\n",
      "    \n",
      "print grouped_data.groups # list group names and index labels for group membership"
     ],
     "language": "python",
     "metadata": {},
     "outputs": [
      {
       "output_type": "stream",
       "stream": "stdout",
       "text": [
        "   gdp_growth_2009  gdp_growth_2010 region\n",
        "0              7.7             -1.7     FW\n",
        "1             -3.9              2.7     SE\n",
        "2             -2.0              2.6     SE\n",
        "3             -8.2             -0.2     SW\n",
        "4             -5.1              0.3     FW\n",
        "FW \n",
        "    gdp_growth_2009  gdp_growth_2010 region\n",
        "0               7.7             -1.7     FW\n",
        "4              -5.1              0.3     FW\n",
        "11             -3.7              3.1     FW\n",
        "33             -8.2             -0.4     FW\n",
        "37             -3.2              5.7     FW\n",
        "GL \n",
        "    gdp_growth_2009  gdp_growth_2010 region\n",
        "14             -3.4              1.8     GL\n",
        "15             -6.0              6.4     GL\n",
        "22             -9.1              4.9     GL\n",
        "35             -5.7              2.1     GL\n",
        "48             -2.8              3.1     GL\n",
        "MW \n",
        "    gdp_growth_2009  gdp_growth_2010 region\n",
        "7              -0.7              3.2     MW\n",
        "8               3.1              0.3     MW\n",
        "20             -1.1              3.3     MW\n",
        "31             -4.3              1.5     MW\n",
        "34             -1.4              4.0     MW\n",
        "NE \n",
        "    gdp_growth_2009  gdp_growth_2010 region\n",
        "6              -3.6              1.2     NE\n",
        "19             -2.4              3.8     NE\n",
        "21             -1.8              1.8     NE\n",
        "30             -1.8              3.3     NE\n",
        "39             -1.6              1.0     NE\n",
        "PL \n",
        "    gdp_growth_2009  gdp_growth_2010 region\n",
        "12             -1.6              1.9     PL\n",
        "16             -3.2              2.6     PL\n",
        "23             -3.5              2.8     PL\n",
        "24             -4.3              1.9     PL\n",
        "28              3.0              7.2     PL\n",
        "RM \n",
        "    gdp_growth_2009  gdp_growth_2010 region\n",
        "5              -2.2              2.2     RM\n",
        "13             -2.8              1.6     RM\n",
        "26             -2.1              2.1     RM\n",
        "44             -1.0              2.3     RM\n",
        "50              3.4             -1.3     RM\n",
        "SE \n",
        "    gdp_growth_2009  gdp_growth_2010 region\n",
        "1              -3.9              2.7     SE\n",
        "2              -2.0              2.6     SE\n",
        "9              -5.9              0.3     SE\n",
        "10             -5.4              1.4     SE\n",
        "17             -3.9              5.0     SE\n",
        "SW \n",
        "    gdp_growth_2009  gdp_growth_2010 region\n",
        "3              -8.2             -0.2     SW\n",
        "32              1.7              0.8     SW\n",
        "36             -1.7              0.6     SW\n",
        "43             -0.5              4.1     SW\n",
        "{u'FW': [0, 4, 11, 33, 37, 47], u'SW': [3, 32, 36, 43], u'NE': [6, 19, 21, 30, 39, 46], u'MW': [7, 8, 20, 31, 34, 38], u'PL': [12, 16, 23, 24, 28, 29, 41], u'RM': [5, 13, 26, 44, 50], u'GL': [14, 15, 22, 35, 48], u'SE': [1, 2, 9, 10, 17, 18, 25, 27, 40, 42, 45, 49]}\n"
       ]
      }
     ],
     "prompt_number": 45
    },
    {
     "cell_type": "code",
     "collapsed": false,
     "input": [
      "# display row_indices in each group\n",
      "print grouped_data.groups['FW']\n",
      "\n",
      "# to select \"FW\" group\n",
      "print subset.ix[grouped_data.groups['FW'], :]\n",
      "\n",
      "# to choose three groups: \"FW\", \"SE\", \"SW\"\n",
      "print subset.ix[grouped_data.groups['FW'] + grouped_data.groups['SE'] + grouped_data.groups['SW'], :]\n",
      "# alternative method 1\n",
      "selected_data = subset.region=='FW'\n",
      "selected_data += subset.region=='SE'\n",
      "selected_data += subset.region=='SW'\n",
      "print subset[selected_data]"
     ],
     "language": "python",
     "metadata": {},
     "outputs": [
      {
       "output_type": "stream",
       "stream": "stdout",
       "text": [
        "[0, 4, 11, 33, 37, 47]\n",
        "    gdp_growth_2009  gdp_growth_2010 region\n",
        "0               7.7             -1.7     FW\n",
        "4              -5.1              0.3     FW\n",
        "11             -3.7              3.1     FW\n",
        "33             -8.2             -0.4     FW\n",
        "37             -3.2              5.7     FW\n",
        "47             -2.4              2.3     FW\n",
        "    gdp_growth_2009  gdp_growth_2010 region\n",
        "0               7.7             -1.7     FW\n",
        "4              -5.1              0.3     FW\n",
        "11             -3.7              3.1     FW\n",
        "33             -8.2             -0.4     FW\n",
        "37             -3.2              5.7     FW\n",
        "47             -2.4              2.3     FW\n",
        "1              -3.9              2.7     SE\n",
        "2              -2.0              2.6     SE\n",
        "9              -5.9              0.3     SE\n",
        "10             -5.4              1.4     SE\n",
        "17             -3.9              5.0     SE\n",
        "18              3.2              5.8     SE\n",
        "25             -3.9              2.0     SE\n",
        "27             -1.5              2.3     SE\n",
        "40             -4.3              2.5     SE\n",
        "42             -3.9              2.5     SE\n",
        "45             -0.7              3.8     SE\n",
        "49              0.6              3.3     SE\n",
        "3              -8.2             -0.2     SW\n",
        "32              1.7              0.8     SW\n",
        "36             -1.7              0.6     SW\n",
        "43             -0.5              4.1     SW\n",
        "    gdp_growth_2009  gdp_growth_2010 region\n",
        "0               7.7             -1.7     FW\n",
        "1              -3.9              2.7     SE\n",
        "2              -2.0              2.6     SE\n",
        "3              -8.2             -0.2     SW\n",
        "4              -5.1              0.3     FW\n",
        "9              -5.9              0.3     SE\n",
        "10             -5.4              1.4     SE\n",
        "11             -3.7              3.1     FW\n",
        "17             -3.9              5.0     SE\n",
        "18              3.2              5.8     SE\n",
        "25             -3.9              2.0     SE\n",
        "27             -1.5              2.3     SE\n",
        "32              1.7              0.8     SW\n",
        "33             -8.2             -0.4     FW\n",
        "36             -1.7              0.6     SW\n",
        "37             -3.2              5.7     FW\n",
        "40             -4.3              2.5     SE\n",
        "42             -3.9              2.5     SE\n",
        "43             -0.5              4.1     SW\n",
        "45             -0.7              3.8     SE\n",
        "47             -2.4              2.3     FW\n",
        "49              0.6              3.3     SE\n"
       ]
      },
      {
       "output_type": "stream",
       "stream": "stderr",
       "text": [
        "/usr/lib/python2.7/dist-packages/pandas/computation/expressions.py:184: UserWarning: evaluating in Python space because the '+' operator is not supported by numexpr for the bool dtype, use '|' instead\n",
        "  unsupported[op_str]))\n"
       ]
      }
     ],
     "prompt_number": 46
    },
    {
     "cell_type": "code",
     "collapsed": false,
     "input": [
      "grouped_data.mean()"
     ],
     "language": "python",
     "metadata": {},
     "outputs": [
      {
       "html": [
        "<div style=\"max-height:1000px;max-width:1500px;overflow:auto;\">\n",
        "<table border=\"1\" class=\"dataframe\">\n",
        "  <thead>\n",
        "    <tr style=\"text-align: right;\">\n",
        "      <th></th>\n",
        "      <th>gdp_growth_2009</th>\n",
        "      <th>gdp_growth_2010</th>\n",
        "    </tr>\n",
        "    <tr>\n",
        "      <th>region</th>\n",
        "      <th></th>\n",
        "      <th></th>\n",
        "    </tr>\n",
        "  </thead>\n",
        "  <tbody>\n",
        "    <tr>\n",
        "      <th>FW</th>\n",
        "      <td>-2.483333</td>\n",
        "      <td> 1.550000</td>\n",
        "    </tr>\n",
        "    <tr>\n",
        "      <th>GL</th>\n",
        "      <td>-5.400000</td>\n",
        "      <td> 3.660000</td>\n",
        "    </tr>\n",
        "    <tr>\n",
        "      <th>MW</th>\n",
        "      <td>-1.250000</td>\n",
        "      <td> 2.433333</td>\n",
        "    </tr>\n",
        "    <tr>\n",
        "      <th>NE</th>\n",
        "      <td>-2.350000</td>\n",
        "      <td> 2.783333</td>\n",
        "    </tr>\n",
        "    <tr>\n",
        "      <th>PL</th>\n",
        "      <td>-1.357143</td>\n",
        "      <td> 2.900000</td>\n",
        "    </tr>\n",
        "    <tr>\n",
        "      <th>RM</th>\n",
        "      <td>-0.940000</td>\n",
        "      <td> 1.380000</td>\n",
        "    </tr>\n",
        "    <tr>\n",
        "      <th>SE</th>\n",
        "      <td>-2.633333</td>\n",
        "      <td> 2.850000</td>\n",
        "    </tr>\n",
        "    <tr>\n",
        "      <th>SW</th>\n",
        "      <td>-2.175000</td>\n",
        "      <td> 1.325000</td>\n",
        "    </tr>\n",
        "  </tbody>\n",
        "</table>\n",
        "</div>"
       ],
       "metadata": {},
       "output_type": "pyout",
       "prompt_number": 47,
       "text": [
        "        gdp_growth_2009  gdp_growth_2010\n",
        "region                                  \n",
        "FW            -2.483333         1.550000\n",
        "GL            -5.400000         3.660000\n",
        "MW            -1.250000         2.433333\n",
        "NE            -2.350000         2.783333\n",
        "PL            -1.357143         2.900000\n",
        "RM            -0.940000         1.380000\n",
        "SE            -2.633333         2.850000\n",
        "SW            -2.175000         1.325000"
       ]
      }
     ],
     "prompt_number": 47
    },
    {
     "cell_type": "code",
     "collapsed": false,
     "input": [
      "grouped_data.std() # try some other methods too"
     ],
     "language": "python",
     "metadata": {},
     "outputs": [
      {
       "html": [
        "<div style=\"max-height:1000px;max-width:1500px;overflow:auto;\">\n",
        "<table border=\"1\" class=\"dataframe\">\n",
        "  <thead>\n",
        "    <tr style=\"text-align: right;\">\n",
        "      <th></th>\n",
        "      <th>gdp_growth_2009</th>\n",
        "      <th>gdp_growth_2010</th>\n",
        "    </tr>\n",
        "    <tr>\n",
        "      <th>region</th>\n",
        "      <th></th>\n",
        "      <th></th>\n",
        "    </tr>\n",
        "  </thead>\n",
        "  <tbody>\n",
        "    <tr>\n",
        "      <th>FW</th>\n",
        "      <td> 5.389403</td>\n",
        "      <td> 2.687564</td>\n",
        "    </tr>\n",
        "    <tr>\n",
        "      <th>GL</th>\n",
        "      <td> 2.494995</td>\n",
        "      <td> 1.952690</td>\n",
        "    </tr>\n",
        "    <tr>\n",
        "      <th>MW</th>\n",
        "      <td> 2.529624</td>\n",
        "      <td> 1.358921</td>\n",
        "    </tr>\n",
        "    <tr>\n",
        "      <th>NE</th>\n",
        "      <td> 0.779102</td>\n",
        "      <td> 1.782601</td>\n",
        "    </tr>\n",
        "    <tr>\n",
        "      <th>PL</th>\n",
        "      <td> 2.572196</td>\n",
        "      <td> 2.236068</td>\n",
        "    </tr>\n",
        "    <tr>\n",
        "      <th>RM</th>\n",
        "      <td> 2.511573</td>\n",
        "      <td> 1.522170</td>\n",
        "    </tr>\n",
        "    <tr>\n",
        "      <th>SE</th>\n",
        "      <td> 2.653071</td>\n",
        "      <td> 1.489051</td>\n",
        "    </tr>\n",
        "    <tr>\n",
        "      <th>SW</th>\n",
        "      <td> 4.256270</td>\n",
        "      <td> 1.899781</td>\n",
        "    </tr>\n",
        "  </tbody>\n",
        "</table>\n",
        "</div>"
       ],
       "metadata": {},
       "output_type": "pyout",
       "prompt_number": 48,
       "text": [
        "        gdp_growth_2009  gdp_growth_2010\n",
        "region                                  \n",
        "FW             5.389403         2.687564\n",
        "GL             2.494995         1.952690\n",
        "MW             2.529624         1.358921\n",
        "NE             0.779102         1.782601\n",
        "PL             2.572196         2.236068\n",
        "RM             2.511573         1.522170\n",
        "SE             2.653071         1.489051\n",
        "SW             4.256270         1.899781"
       ]
      }
     ],
     "prompt_number": 48
    },
    {
     "cell_type": "markdown",
     "metadata": {},
     "source": [
      "### apply, applymap\n",
      "\n",
      "apply executes a function along the columns or rows of a DataFrame. The following example applies the mean function both down columns and across rows, which is a trivial since mean could be executed on the DataFrame directly. apply is more general since it allows custom functions to be applied to a DataFrame.\n",
      "\n",
      "applymap is similar to apply, only that it applies element-by-element rather than column- or row-wise."
     ]
    },
    {
     "cell_type": "code",
     "collapsed": false,
     "input": [
      "from pandas import read_excel\n",
      "state_gdp = read_excel('Data/US_state_GDP.xls', 'Sheet1')\n",
      "\n",
      "subset = state_gdp[['gdp_growth_2009', 'gdp_growth_2010', 'gdp_growth_2011', 'gdp_growth_2012']]\n",
      "\n",
      "subset.index = state_gdp['state_code'].values\n",
      "print subset.head()\n",
      "\n",
      "subset.apply(mean)  # Same as subset.mean()\n"
     ],
     "language": "python",
     "metadata": {},
     "outputs": [
      {
       "output_type": "stream",
       "stream": "stdout",
       "text": [
        "    gdp_growth_2009  gdp_growth_2010  gdp_growth_2011  gdp_growth_2012\n",
        "AK              7.7             -1.7              1.7              1.1\n",
        "AL             -3.9              2.7              1.0              1.2\n",
        "AR             -2.0              2.6              0.7              1.3\n",
        "AZ             -8.2             -0.2              1.7              2.6\n",
        "CA             -5.1              0.3              1.2              3.5\n"
       ]
      },
      {
       "metadata": {},
       "output_type": "pyout",
       "prompt_number": 49,
       "text": [
        "gdp_growth_2009   -2.313725\n",
        "gdp_growth_2010    2.462745\n",
        "gdp_growth_2011    1.590196\n",
        "gdp_growth_2012    2.103922\n",
        "dtype: float64"
       ]
      }
     ],
     "prompt_number": 49
    },
    {
     "cell_type": "code",
     "collapsed": false,
     "input": [
      "subset.apply(mean, axis=1).head() #Same as subset.mean(axis=1)"
     ],
     "language": "python",
     "metadata": {},
     "outputs": [
      {
       "metadata": {},
       "output_type": "pyout",
       "prompt_number": 50,
       "text": [
        "AK    2.200\n",
        "AL    0.250\n",
        "AR    0.650\n",
        "AZ   -1.025\n",
        "CA   -0.025\n",
        "dtype: float64"
       ]
      }
     ],
     "prompt_number": 50
    },
    {
     "cell_type": "markdown",
     "metadata": {},
     "source": [
      "### pivot_table\n",
      "\n",
      "pivot_table provides a method to summarize data by groups. \n",
      "\n",
      "A pivot table first forms groups based using the keyword argument index and then returns an aggregate of all values within the group (using mean by default). The keyword argument aggfun allows for other aggregation function."
     ]
    },
    {
     "cell_type": "code",
     "collapsed": false,
     "input": [
      "from pandas import read_excel\n",
      "state_gdp = read_excel('Data/US_state_GDP.xls', 'Sheet1')\n",
      "\n",
      "subset = state_gdp[['gdp_growth_2009', 'gdp_growth_2010', 'region']]\n",
      "\n",
      "print subset.head()\n",
      "\n",
      "subset.pivot_table(index='region')"
     ],
     "language": "python",
     "metadata": {},
     "outputs": [
      {
       "output_type": "stream",
       "stream": "stdout",
       "text": [
        "   gdp_growth_2009  gdp_growth_2010 region\n",
        "0              7.7             -1.7     FW\n",
        "1             -3.9              2.7     SE\n",
        "2             -2.0              2.6     SE\n",
        "3             -8.2             -0.2     SW\n",
        "4             -5.1              0.3     FW\n"
       ]
      },
      {
       "html": [
        "<div style=\"max-height:1000px;max-width:1500px;overflow:auto;\">\n",
        "<table border=\"1\" class=\"dataframe\">\n",
        "  <thead>\n",
        "    <tr style=\"text-align: right;\">\n",
        "      <th></th>\n",
        "      <th>gdp_growth_2009</th>\n",
        "      <th>gdp_growth_2010</th>\n",
        "    </tr>\n",
        "    <tr>\n",
        "      <th>region</th>\n",
        "      <th></th>\n",
        "      <th></th>\n",
        "    </tr>\n",
        "  </thead>\n",
        "  <tbody>\n",
        "    <tr>\n",
        "      <th>FW</th>\n",
        "      <td>-2.483333</td>\n",
        "      <td> 1.550000</td>\n",
        "    </tr>\n",
        "    <tr>\n",
        "      <th>GL</th>\n",
        "      <td>-5.400000</td>\n",
        "      <td> 3.660000</td>\n",
        "    </tr>\n",
        "    <tr>\n",
        "      <th>MW</th>\n",
        "      <td>-1.250000</td>\n",
        "      <td> 2.433333</td>\n",
        "    </tr>\n",
        "    <tr>\n",
        "      <th>NE</th>\n",
        "      <td>-2.350000</td>\n",
        "      <td> 2.783333</td>\n",
        "    </tr>\n",
        "    <tr>\n",
        "      <th>PL</th>\n",
        "      <td>-1.357143</td>\n",
        "      <td> 2.900000</td>\n",
        "    </tr>\n",
        "    <tr>\n",
        "      <th>RM</th>\n",
        "      <td>-0.940000</td>\n",
        "      <td> 1.380000</td>\n",
        "    </tr>\n",
        "    <tr>\n",
        "      <th>SE</th>\n",
        "      <td>-2.633333</td>\n",
        "      <td> 2.850000</td>\n",
        "    </tr>\n",
        "    <tr>\n",
        "      <th>SW</th>\n",
        "      <td>-2.175000</td>\n",
        "      <td> 1.325000</td>\n",
        "    </tr>\n",
        "  </tbody>\n",
        "</table>\n",
        "</div>"
       ],
       "metadata": {},
       "output_type": "pyout",
       "prompt_number": 51,
       "text": [
        "        gdp_growth_2009  gdp_growth_2010\n",
        "region                                  \n",
        "FW            -2.483333         1.550000\n",
        "GL            -5.400000         3.660000\n",
        "MW            -1.250000         2.433333\n",
        "NE            -2.350000         2.783333\n",
        "PL            -1.357143         2.900000\n",
        "RM            -0.940000         1.380000\n",
        "SE            -2.633333         2.850000\n",
        "SW            -2.175000         1.325000"
       ]
      }
     ],
     "prompt_number": 51
    },
    {
     "cell_type": "markdown",
     "metadata": {},
     "source": [
      "# 4. Statistical functions\n",
      "\n",
      "pandas Series and DataFrame are derived from NumPy arrays and so the vast majority of simple statistical functions are available. This list includes sum , mean , std , var , skew , kurt , prod , median , quantile , abs ,\n",
      "cumsum , and cumprod . DataFrame also supports cov and corr \u2013 the keyword argument axis determines the direction of the operation ( 0 for down columns, 1 for across rows). \n",
      "\n",
      "Novel statistical routines are described below."
     ]
    },
    {
     "cell_type": "markdown",
     "metadata": {},
     "source": [
      "### count\n",
      "\n",
      "count returns number of non-null values \u2013 that is, those which are not NaN or another null value such as None or NaT (not a time, for datetimes)."
     ]
    },
    {
     "cell_type": "markdown",
     "metadata": {},
     "source": [
      "### describe\n",
      "\n",
      "describe provides a summary of the Series or DataFrame."
     ]
    },
    {
     "cell_type": "code",
     "collapsed": false,
     "input": [
      "state_gdp.describe()"
     ],
     "language": "python",
     "metadata": {},
     "outputs": [
      {
       "html": [
        "<div style=\"max-height:1000px;max-width:1500px;overflow:auto;\">\n",
        "<table border=\"1\" class=\"dataframe\">\n",
        "  <thead>\n",
        "    <tr style=\"text-align: right;\">\n",
        "      <th></th>\n",
        "      <th>gdp_2009</th>\n",
        "      <th>gdp_2010</th>\n",
        "      <th>gdp_2011</th>\n",
        "      <th>gdp_2012</th>\n",
        "      <th>gdp_growth_2009</th>\n",
        "      <th>gdp_growth_2010</th>\n",
        "      <th>gdp_growth_2011</th>\n",
        "      <th>gdp_growth_2012</th>\n",
        "    </tr>\n",
        "  </thead>\n",
        "  <tbody>\n",
        "    <tr>\n",
        "      <th>count</th>\n",
        "      <td>      51.000000</td>\n",
        "      <td>      51.000000</td>\n",
        "      <td>      51.000000</td>\n",
        "      <td>      51.000000</td>\n",
        "      <td> 51.000000</td>\n",
        "      <td> 51.000000</td>\n",
        "      <td> 51.000000</td>\n",
        "      <td> 51.000000</td>\n",
        "    </tr>\n",
        "    <tr>\n",
        "      <th>mean</th>\n",
        "      <td>  246866.980392</td>\n",
        "      <td>  252840.666667</td>\n",
        "      <td>  256995.647059</td>\n",
        "      <td>  263327.313725</td>\n",
        "      <td> -2.313725</td>\n",
        "      <td>  2.462745</td>\n",
        "      <td>  1.590196</td>\n",
        "      <td>  2.103922</td>\n",
        "    </tr>\n",
        "    <tr>\n",
        "      <th>std</th>\n",
        "      <td>  299134.165365</td>\n",
        "      <td>  304446.797050</td>\n",
        "      <td>  309689.475995</td>\n",
        "      <td>  319842.518074</td>\n",
        "      <td>  3.077663</td>\n",
        "      <td>  1.886474</td>\n",
        "      <td>  1.610497</td>\n",
        "      <td>  1.948944</td>\n",
        "    </tr>\n",
        "    <tr>\n",
        "      <th>min</th>\n",
        "      <td>   22108.000000</td>\n",
        "      <td>   23341.000000</td>\n",
        "      <td>   23639.000000</td>\n",
        "      <td>   23912.000000</td>\n",
        "      <td> -9.100000</td>\n",
        "      <td> -1.700000</td>\n",
        "      <td> -2.600000</td>\n",
        "      <td> -0.100000</td>\n",
        "    </tr>\n",
        "    <tr>\n",
        "      <th>25%</th>\n",
        "      <td>   64070.500000</td>\n",
        "      <td>   65229.000000</td>\n",
        "      <td>   65714.000000</td>\n",
        "      <td>   66288.000000</td>\n",
        "      <td> -3.900000</td>\n",
        "      <td>  1.450000</td>\n",
        "      <td>  0.900000</td>\n",
        "      <td>  1.250000</td>\n",
        "    </tr>\n",
        "    <tr>\n",
        "      <th>50%</th>\n",
        "      <td>  149843.000000</td>\n",
        "      <td>  153839.000000</td>\n",
        "      <td>  155390.000000</td>\n",
        "      <td>  157272.000000</td>\n",
        "      <td> -2.400000</td>\n",
        "      <td>  2.300000</td>\n",
        "      <td>  1.700000</td>\n",
        "      <td>  1.900000</td>\n",
        "    </tr>\n",
        "    <tr>\n",
        "      <th>75%</th>\n",
        "      <td>  307522.500000</td>\n",
        "      <td>  318748.500000</td>\n",
        "      <td>  327488.500000</td>\n",
        "      <td>  337016.000000</td>\n",
        "      <td> -1.050000</td>\n",
        "      <td>  3.300000</td>\n",
        "      <td>  2.200000</td>\n",
        "      <td>  2.500000</td>\n",
        "    </tr>\n",
        "    <tr>\n",
        "      <th>max</th>\n",
        "      <td> 1667152.000000</td>\n",
        "      <td> 1672473.000000</td>\n",
        "      <td> 1692301.000000</td>\n",
        "      <td> 1751002.000000</td>\n",
        "      <td>  7.700000</td>\n",
        "      <td>  7.200000</td>\n",
        "      <td>  7.800000</td>\n",
        "      <td> 13.400000</td>\n",
        "    </tr>\n",
        "  </tbody>\n",
        "</table>\n",
        "</div>"
       ],
       "metadata": {},
       "output_type": "pyout",
       "prompt_number": 52,
       "text": [
        "             gdp_2009        gdp_2010        gdp_2011        gdp_2012  \\\n",
        "count       51.000000       51.000000       51.000000       51.000000   \n",
        "mean    246866.980392   252840.666667   256995.647059   263327.313725   \n",
        "std     299134.165365   304446.797050   309689.475995   319842.518074   \n",
        "min      22108.000000    23341.000000    23639.000000    23912.000000   \n",
        "25%      64070.500000    65229.000000    65714.000000    66288.000000   \n",
        "50%     149843.000000   153839.000000   155390.000000   157272.000000   \n",
        "75%     307522.500000   318748.500000   327488.500000   337016.000000   \n",
        "max    1667152.000000  1672473.000000  1692301.000000  1751002.000000   \n",
        "\n",
        "       gdp_growth_2009  gdp_growth_2010  gdp_growth_2011  gdp_growth_2012  \n",
        "count        51.000000        51.000000        51.000000        51.000000  \n",
        "mean         -2.313725         2.462745         1.590196         2.103922  \n",
        "std           3.077663         1.886474         1.610497         1.948944  \n",
        "min          -9.100000        -1.700000        -2.600000        -0.100000  \n",
        "25%          -3.900000         1.450000         0.900000         1.250000  \n",
        "50%          -2.400000         2.300000         1.700000         1.900000  \n",
        "75%          -1.050000         3.300000         2.200000         2.500000  \n",
        "max           7.700000         7.200000         7.800000        13.400000  "
       ]
      }
     ],
     "prompt_number": 52
    },
    {
     "cell_type": "markdown",
     "metadata": {},
     "source": [
      "### value_counts\n",
      "\n",
      "value_counts performs histogramming of a Series or DataFrame."
     ]
    },
    {
     "cell_type": "code",
     "collapsed": false,
     "input": [
      "state_gdp.region.value_counts()"
     ],
     "language": "python",
     "metadata": {},
     "outputs": [
      {
       "metadata": {},
       "output_type": "pyout",
       "prompt_number": 53,
       "text": [
        "SE    12\n",
        "PL     7\n",
        "NE     6\n",
        "FW     6\n",
        "MW     6\n",
        "GL     5\n",
        "RM     5\n",
        "SW     4\n",
        "dtype: int64"
       ]
      }
     ],
     "prompt_number": 53
    },
    {
     "cell_type": "markdown",
     "metadata": {},
     "source": [
      "## 4.1 Time-series data\n",
      "\n",
      "The pandas TimeSeries object is currently limited to a span of about 585 years centered at 1970. While this is unlikely to create problems, it may not be appropriate for some applications.\n",
      "\n",
      "pandas includes a substantial number of routines which are primarily designed to work with time-series data. A TimeSeries is basically a series where the index contains datetimes index values (more formally the class TimeSeries inherits from Series), and Series constructor will automatically promote a Series with datetime index values to a TimeSeries. \n",
      "\n",
      "The TimeSeries examples all make use of US real GDP data from the Federal Reserve Economic Database (FRED)."
     ]
    },
    {
     "cell_type": "code",
     "collapsed": false,
     "input": [
      "%pwd"
     ],
     "language": "python",
     "metadata": {},
     "outputs": [
      {
       "metadata": {},
       "output_type": "pyout",
       "prompt_number": 54,
       "text": [
        "u'/home/peter/Workspace/Notes'"
       ]
      }
     ],
     "prompt_number": 54
    },
    {
     "cell_type": "code",
     "collapsed": false,
     "input": [
      "from pandas import read_excel\n",
      "\n",
      "GDP_data = read_excel('Data/GDP.xls', 'GDP', skiprows=19)\n",
      "\n",
      "print GDP_data.head()\n",
      "\n",
      "print type(GDP_data)\n",
      "\n",
      "gdp = GDP_data.VALUE\n",
      "gdp.index = GDP_data.DATE\n",
      "print gdp.head()\n",
      "\n",
      "print type(gdp.index)"
     ],
     "language": "python",
     "metadata": {},
     "outputs": [
      {
       "output_type": "stream",
       "stream": "stdout",
       "text": [
        "        DATE  VALUE\n",
        "0 1947-01-01  243.1\n",
        "1 1947-04-01  246.3\n",
        "2 1947-07-01  250.1\n",
        "3 1947-10-01  260.3\n",
        "4 1948-01-01  266.2\n",
        "<class 'pandas.core.frame.DataFrame'>\n",
        "DATE\n",
        "1947-01-01    243.1\n",
        "1947-04-01    246.3\n",
        "1947-07-01    250.1\n",
        "1947-10-01    260.3\n",
        "1948-01-01    266.2\n",
        "Name: VALUE, dtype: float64\n",
        "<class 'pandas.tseries.index.DatetimeIndex'>\n"
       ]
      }
     ],
     "prompt_number": 55
    },
    {
     "cell_type": "markdown",
     "metadata": {},
     "source": [
      "TimeSeries have some useful indexing tricks. For example, all of the data for a particular year can retrieved using gdp[\u2019 yyyy \u2019] syntax where yyyy is a year."
     ]
    },
    {
     "cell_type": "code",
     "collapsed": false,
     "input": [
      "print gdp['2009']\n",
      "\n",
      "print gdp['2009-04'] # All for a particular month"
     ],
     "language": "python",
     "metadata": {},
     "outputs": [
      {
       "output_type": "stream",
       "stream": "stdout",
       "text": [
        "DATE\n",
        "2009-01-01    14381.2\n",
        "2009-04-01    14342.1\n",
        "2009-07-01    14384.4\n",
        "2009-10-01    14564.1\n",
        "Name: VALUE, dtype: float64\n",
        "DATE\n",
        "2009-04-01    14342.1\n",
        "Name: VALUE, dtype: float64\n"
       ]
      }
     ],
     "prompt_number": 56
    },
    {
     "cell_type": "markdown",
     "metadata": {},
     "source": [
      "Dates can also be used for slicing using the notation gdp[\u2019 d1 : d2 :\u2019] where d1 and d2 are both valid date formats (e.g \u20192009\u2019 or \u20192009-01-01\u2019 )"
     ]
    },
    {
     "cell_type": "code",
     "collapsed": false,
     "input": [
      "print gdp['2009':'2010']\n",
      "\n",
      "print gdp['2009-06-01':'2010-06-01']"
     ],
     "language": "python",
     "metadata": {},
     "outputs": [
      {
       "output_type": "stream",
       "stream": "stdout",
       "text": [
        "DATE\n",
        "2009-01-01    14381.2\n",
        "2009-04-01    14342.1\n",
        "2009-07-01    14384.4\n",
        "2009-10-01    14564.1\n",
        "2010-01-01    14672.5\n",
        "2010-04-01    14879.2\n",
        "2010-07-01    15049.8\n",
        "2010-10-01    15231.7\n",
        "Name: VALUE, dtype: float64\n",
        "DATE\n",
        "2009-07-01    14384.4\n",
        "2009-10-01    14564.1\n",
        "2010-01-01    14672.5\n",
        "2010-04-01    14879.2\n",
        "Name: VALUE, dtype: float64\n"
       ]
      }
     ],
     "prompt_number": 57
    },
    {
     "cell_type": "markdown",
     "metadata": {},
     "source": [
      "Slicing indexing can also be accomplished using datetime, for example \n",
      "\n",
      "gdp[ datetime(2009,01,01): datetime(2011,12,01) ]\n",
      "\n",
      "where datetime has been imported using from pandas import datetime ."
     ]
    },
    {
     "cell_type": "markdown",
     "metadata": {},
     "source": [
      "### date_range\n",
      "\n",
      "date_range is a very useful function provided by pandas to generate ranges of dates ( from pandas import date_range ).\n",
      "\n",
      "The basic use is either date_range( beginning_date , ending_date ) which will produce a daily series between the two dates (inclusive) or date_range( beginning_date , periods= periods ) which will produce a\n",
      "daily series starting at beginning_date with *periods* periods."
     ]
    },
    {
     "cell_type": "code",
     "collapsed": false,
     "input": [
      "from pandas import date_range\n",
      "\n",
      "print date_range('2013-01-03', '2013-01-05')\n",
      "print date_range('2013-01-03', periods = 3)"
     ],
     "language": "python",
     "metadata": {},
     "outputs": [
      {
       "output_type": "stream",
       "stream": "stdout",
       "text": [
        "<class 'pandas.tseries.index.DatetimeIndex'>\n",
        "[2013-01-03, ..., 2013-01-05]\n",
        "Length: 3, Freq: D, Timezone: None\n",
        "<class 'pandas.tseries.index.DatetimeIndex'>\n",
        "[2013-01-03, ..., 2013-01-05]\n",
        "Length: 3, Freq: D, Timezone: None\n"
       ]
      }
     ],
     "prompt_number": 58
    },
    {
     "cell_type": "markdown",
     "metadata": {},
     "source": [
      "The keyword argument freq changes the frequency, and common choices include:\n",
      "\n",
      "- S = seconds\n",
      "- T = minutes\n",
      "- H = hourly\n",
      "- D = daily\n",
      "- W = weekly\n",
      "- M = monthly\n",
      "- Q = quarterly\n",
      "- A = annual\n",
      "\n",
      "\n",
      "- U = micro-second\n",
      "- L = millisecond\n",
      "- BD = daily (business days only)\n",
      "- BM = month (end, business)\n",
      "- BMS = month (start, business)\n",
      "- MS = monthly (start)\n",
      "- QS = quarterly (start)\n",
      "- AS = annual (start)"
     ]
    },
    {
     "cell_type": "markdown",
     "metadata": {},
     "source": [
      "Scaling the frequency produces skips that are a multiple of the default, such as in 2D which uses every other day. Combining multiple frequencies produces less regular skips, e.g. 2H10T ."
     ]
    },
    {
     "cell_type": "code",
     "collapsed": false,
     "input": [
      "from pandas import date_range\n",
      "\n",
      "print date_range('2015-01-03', periods=4, freq='Q').values\n",
      "\n",
      "print date_range('2015-01-03', periods=4, freq='7D4H').values\n",
      "\n",
      "print date_range('2015-01-01', periods=4, freq='BM').values\n",
      "\n",
      "\"\"\"\n",
      "Note that the underlying array uses NumPy\u2019s datetime64 as the data type (with nano-second resolution,\n",
      "indicated by [ns] ).\n",
      "\"\"\""
     ],
     "language": "python",
     "metadata": {},
     "outputs": [
      {
       "output_type": "stream",
       "stream": "stdout",
       "text": [
        "['2015-03-31T11:00:00.000000000+1100' '2015-06-30T10:00:00.000000000+1000'\n",
        " '2015-09-30T10:00:00.000000000+1000' '2015-12-31T11:00:00.000000000+1100']\n",
        "['2015-01-03T11:00:00.000000000+1100' '2015-01-10T15:00:00.000000000+1100'\n",
        " '2015-01-17T19:00:00.000000000+1100' '2015-01-24T23:00:00.000000000+1100']\n",
        "['2015-01-30T11:00:00.000000000+1100' '2015-02-27T11:00:00.000000000+1100'\n",
        " '2015-03-31T11:00:00.000000000+1100' '2015-04-30T10:00:00.000000000+1000']\n"
       ]
      },
      {
       "metadata": {},
       "output_type": "pyout",
       "prompt_number": 59,
       "text": [
        "u'\\nNote that the underlying array uses NumPy\\u2019s datetime64 as the data type (with nano-second resolution,\\nindicated by [ns] ).\\n'"
       ]
      }
     ],
     "prompt_number": 59
    },
    {
     "cell_type": "markdown",
     "metadata": {},
     "source": [
      "### resample\n",
      "\n",
      "pandas supports sophisticated resampling which is useful for aggregating form a higher frequency to a lower one using resample . This example uses annual ( \u2019A\u2019 ) and alternative aggregation functions."
     ]
    },
    {
     "cell_type": "code",
     "collapsed": false,
     "input": [
      "print gdp.resample('A', how=mean).tail() # Annual average\n",
      "\n",
      "print gdp.resample(\"A\", how=max).tail() # Maximum"
     ],
     "language": "python",
     "metadata": {},
     "outputs": [
      {
       "output_type": "stream",
       "stream": "stdout",
       "text": [
        "DATE\n",
        "2009-12-31    14417.950\n",
        "2010-12-31    14958.300\n",
        "2011-12-31    15533.825\n",
        "2012-12-31    16244.575\n",
        "2013-12-31    16601.600\n",
        "Freq: A-DEC, Name: VALUE, dtype: float64\n",
        "DATE\n",
        "2009-12-31    14564.1\n",
        "2010-12-31    15231.7\n",
        "2011-12-31    15818.7\n",
        "2012-12-31    16420.3\n",
        "2013-12-31    16667.9\n",
        "Freq: A-DEC, Name: VALUE, dtype: float64\n"
       ]
      }
     ],
     "prompt_number": 60
    },
    {
     "cell_type": "markdown",
     "metadata": {},
     "source": [
      "### pct_change (1st difference)\n",
      "\n",
      "Growth rates are computed using pct_change. The keyword argument periods constructs overlapping growth rates which are useful when using seasonal data."
     ]
    },
    {
     "cell_type": "code",
     "collapsed": false,
     "input": [
      "print gdp.pct_change().tail()\n",
      "\n",
      "print gdp.pct_change(periods=4).tail() # Quarterly data, annual difference"
     ],
     "language": "python",
     "metadata": {},
     "outputs": [
      {
       "output_type": "stream",
       "stream": "stdout",
       "text": [
        "DATE\n",
        "2012-04-01    0.007406\n",
        "2012-07-01    0.012104\n",
        "2012-10-01    0.003931\n",
        "2013-01-01    0.007004\n",
        "2013-04-01    0.008019\n",
        "Name: VALUE, dtype: float64\n",
        "DATE\n",
        "2012-04-01    0.045176\n",
        "2012-07-01    0.047669\n",
        "2012-10-01    0.038031\n",
        "2013-01-01    0.030776\n",
        "2013-04-01    0.031404\n",
        "Name: VALUE, dtype: float64\n"
       ]
      }
     ],
     "prompt_number": 61
    },
    {
     "cell_type": "markdown",
     "metadata": {},
     "source": [
      "# 5. Graphics\n",
      "\n",
      "pandas provides a set of useful plotting routines based on matplotlib which makes use of the structure of a DataFrame. Everything in pandas plot library is reproducible using matplotlib, although often at the cost of additional typing and code complexity (for example, axis labeling)."
     ]
    },
    {
     "cell_type": "markdown",
     "metadata": {},
     "source": [
      "### plot\n",
      "\n",
      "plot is the main plotting method, and by default will produce a line graph of the data in a DataFrame.\n",
      "\n",
      "Calling plot on a DataFrame will plot all series using different colors and generate a legend. A number of keyword argument are available to affect the contents and appearance of the plot.\n",
      "\n",
      "- style , a list of matplotlib styles, one for each series plotted. A dictionary using column names as keys and the line styles as values allows for further customization.\n",
      "- title , a string containing the figure title.\n",
      "- subplots , a Boolean indicating whether to plot using one subplot per series ( True ). The default it\n",
      "False .\n",
      "- legend , a Boolean indicating whether to show a legend\n",
      "- secondary_y , a Boolean indicating whether to plot a series on a secondary set of axis values. See the\n",
      "example below.\n",
      "- ax , a matplotlib axis object to use for the plot. If no axis is provided, then a new axis is created.\n",
      "- kind , a string, one of:\n",
      "-- \u2019line\u2019 , the default\n",
      "-- \u2019bar\u2019 to produce a bar chart. Can also use the keyword argument stacked=True to produce a\n",
      "stacked bar chart.\n",
      "-- \u2019barh\u2019 to produce a horizontal bar chart. Also support stacked=True .\n",
      "-- \u2019kde\u2019 or \u2019density\u2019 to produce a kernel density plot."
     ]
    },
    {
     "cell_type": "markdown",
     "metadata": {},
     "source": [
      "###hist\n",
      "hist produces a histogram plot, and is similar to producing a bar plot using the output of value_count ."
     ]
    },
    {
     "cell_type": "markdown",
     "metadata": {},
     "source": [
      "###boxplot\n",
      "boxplot produces box plots of the series in a DataFrame.\n",
      "###scatter_plot\n",
      "scatter_plot produce a scatter plot from two series in a DataFrame. Three inputs are required: the\n",
      "DataFrame, the column name for the x-axis data and the column name for the y-axis data. scatter_plot\n",
      "is located in pandas.tools.plotting .\n",
      "###scatter_matrix\n",
      "scatter_matrix produces a n by n set of subplots where each subplot contains the bivariate scatter of\n",
      "two series. One input is required, the DataFrame. scatter_matrix is located in pandas.tools.plotting .\n",
      "By default, the diagonal elements are histograms, and the keyword argument diagonal=\u2019kde\u2019 produces a\n",
      "kernel density plot.\n",
      "###lag_plot\n",
      "lag_plot produces a scatter plot of a series against its lagged value. The keyword argument lag chooses\n",
      "the lag used in the plot (default is 1)."
     ]
    },
    {
     "cell_type": "markdown",
     "metadata": {},
     "source": [
      "# Exercise"
     ]
    },
    {
     "cell_type": "markdown",
     "metadata": {},
     "source": [
      "The Federal Reserve Economics Database is a comprehensive database of US, and increasingly global, macroeconomics data. This example will directly download a small macroeconomics data set from FRED and merge it into a single DataFrame. The data in FRED is available in csv using the url pattern http://research.stlouisfed.org/fred2/data/CODE.csv where CODE is the series code. This example will make use of Real GDP, Industrial Production, Core CPI the Unemployment Rate, the Treasury yield slope\n",
      "(10 year yield minus 1 year yield) and the default premium, based on the difference between BAA and AAA rated bonds. \n",
      "\n",
      "The initial block of code imports the future functions, read_csv , DataFrame and scatter_matrix , the only pandas functions directly used in this example. It also sets up lists containing the codes and nice names for the series, and contains the url root for fetching the data.\n",
      "\n",
      "- Treated = Dummy indicating whether the candidate received the treatment\n",
      "- Age = Age in years\n",
      "- Education (years) = Years of education\n",
      "- Black = Dummy indicating African-American\n",
      "- Hispanic = Dummy indicating Hispanic\n",
      "- Married = Dummy indicating married\n",
      "- Real income Before (\\$) = Income before program\n",
      "- Real income After (\\$) = Income after program"
     ]
    },
    {
     "cell_type": "code",
     "collapsed": false,
     "input": [
      "from __future__ import print_function, division\n",
      "\n",
      "\"\"\"\n",
      "python 3\n",
      "print(\"yoyo\") or print \"yoyo\"\n",
      "3/2 = 1.5\n",
      "python 2\n",
      "print \"yoyo\"\n",
      "3/2 = 1\n",
      "\"\"\"\n",
      "\n",
      "from pandas import read_csv\n",
      "from pandas.tools.plotting import scatter_matrix\n",
      "\n",
      "codes = ['GDPC1','INDPRO','CPILFESL','UNRATE','GS10','GS1','BAA','AAA']\n",
      "names = ['Real GDP','Industrial Production','Core CPI','Unemployment Rate',\\\n",
      "'10 Year Yield','1 Year Yield','Baa Yield','Aaa Yield']\n",
      "\n",
      "# r to disable escape\n",
      "base_url = r'http://research.stlouisfed.org/fred2/data/'\n",
      "print(base_url)"
     ],
     "language": "python",
     "metadata": {},
     "outputs": [
      {
       "output_type": "stream",
       "stream": "stdout",
       "text": [
        "http://research.stlouisfed.org/fred2/data/\n"
       ]
      }
     ],
     "prompt_number": 62
    },
    {
     "cell_type": "markdown",
     "metadata": {},
     "source": [
      "The next piece of code starts with an empty list to hold the DataFrames produced by read_csv . The codes\n",
      "are then looped over and directly used in the csv reader."
     ]
    },
    {
     "cell_type": "code",
     "collapsed": false,
     "input": [
      "data = []\n",
      "for code in codes:\n",
      "    print(\"now reading data from\", code)\n",
      "    url = base_url + code + '.csv'\n",
      "    data.append(read_csv(url))"
     ],
     "language": "python",
     "metadata": {},
     "outputs": [
      {
       "output_type": "stream",
       "stream": "stdout",
       "text": [
        "now reading data from GDPC1\n",
        "now reading data from"
       ]
      },
      {
       "output_type": "stream",
       "stream": "stdout",
       "text": [
        " INDPRO\n",
        "now reading data from"
       ]
      },
      {
       "output_type": "stream",
       "stream": "stdout",
       "text": [
        " CPILFESL\n",
        "now reading data from"
       ]
      },
      {
       "output_type": "stream",
       "stream": "stdout",
       "text": [
        " UNRATE\n",
        "now reading data from"
       ]
      },
      {
       "output_type": "stream",
       "stream": "stdout",
       "text": [
        " GS10\n",
        "now reading data from"
       ]
      },
      {
       "output_type": "stream",
       "stream": "stdout",
       "text": [
        " GS1\n",
        "now reading data from"
       ]
      },
      {
       "output_type": "stream",
       "stream": "stdout",
       "text": [
        " BAA\n",
        "now reading data from"
       ]
      },
      {
       "output_type": "stream",
       "stream": "stdout",
       "text": [
        " AAA\n"
       ]
      }
     ],
     "prompt_number": 63
    },
    {
     "cell_type": "markdown",
     "metadata": {},
     "source": [
      "Next, the data is merged into a single DataFrame by building a dictionary where \n",
      "- the keys are the codes and \n",
      "- the values are the Series from each downloaded DataFrame. \n",
      "\n",
      "This block makes use of zip to quickly concatenate two lists into a single iterable."
     ]
    },
    {
     "cell_type": "code",
     "collapsed": false,
     "input": [
      "lst = [[1, 2], [2, 3], [3, 4]]\n",
      "for x, y in lst:\n",
      "    print('x = ', x, \", y = \", y)"
     ],
     "language": "python",
     "metadata": {},
     "outputs": [
      {
       "output_type": "stream",
       "stream": "stdout",
       "text": [
        "x =  1 , y =  2\n",
        "x =  2 , y =  3\n",
        "x =  3 , y =  4\n"
       ]
      }
     ],
     "prompt_number": 64
    },
    {
     "cell_type": "code",
     "collapsed": false,
     "input": [
      "from pandas import DataFrame\n",
      "\n",
      "time_series = {}\n",
      "for code, d in zip(codes,data):\n",
      "    d.index = d.DATE\n",
      "    time_series[code] = d.VALUE\n",
      "    \n",
      "merged_data = DataFrame(time_series)\n",
      "\n",
      "# Unequal length series\n",
      "print(merged_data.head())\n",
      "print(merged_data.tail())"
     ],
     "language": "python",
     "metadata": {},
     "outputs": [
      {
       "output_type": "stream",
       "stream": "stdout",
       "text": [
        "             AAA   BAA  CPILFESL  GDPC1  GS1  GS10  INDPRO  UNRATE\n",
        "1919-01-01  5.35  7.12       NaN    NaN  NaN   NaN  4.8582     NaN\n",
        "1919-02-01  5.35  7.20       NaN    NaN  NaN   NaN  4.6435     NaN\n",
        "1919-03-01  5.39  7.15       NaN    NaN  NaN   NaN  4.5092     NaN\n",
        "1919-04-01  5.44  7.23       NaN    NaN  NaN   NaN  4.5898     NaN\n",
        "1919-05-01  5.39  7.09       NaN    NaN  NaN   NaN  4.6166     NaN\n",
        "             AAA   BAA  CPILFESL  GDPC1   GS1  GS10    INDPRO  UNRATE\n",
        "2015-02-01  3.61  4.51   240.247    NaN  0.22  1.98  105.8048     5.5\n",
        "2015-03-01  3.64  4.54   240.793    NaN  0.25  2.04  105.8154     5.5\n",
        "2015-04-01  3.52  4.48   241.409    NaN  0.23  1.94  105.2849     5.4\n",
        "2015-05-01  3.98  4.89   241.760    NaN  0.24  2.20  105.1018     5.5\n",
        "2015-06-01  4.19  5.13       NaN    NaN  0.28  2.36       NaN     5.3\n"
       ]
      }
     ],
     "prompt_number": 65
    },
    {
     "cell_type": "markdown",
     "metadata": {},
     "source": [
      "The next step is to construct the Term and Default premia series using basic math on the series. The resulting Series are given a name, which is required for the join operation. \n",
      "\n",
      "Finally, the non-required columns are dropped."
     ]
    },
    {
     "cell_type": "code",
     "collapsed": false,
     "input": [
      "# Method 1 - Generate a new variable\n",
      "term_premium = merged_data['GS10'] - merged_data['GS1']\n",
      "term_premium.name = 'Term'\n",
      "merged_data = merged_data.join(term_premium,how='outer')\n",
      "\n",
      "# Method 2 - generate a new variable\n",
      "merged_data['Default'] = merged_data['BAA'] - merged_data['AAA']\n",
      "\n",
      "merged_data = merged_data.drop(['AAA','BAA','GS10','GS1'],axis=1)\n",
      "print(merged_data.tail())"
     ],
     "language": "python",
     "metadata": {},
     "outputs": [
      {
       "output_type": "stream",
       "stream": "stdout",
       "text": [
        "            CPILFESL  GDPC1    INDPRO  UNRATE  Term  Default\n",
        "2015-02-01   240.247    NaN  105.8048     5.5  1.76     0.90\n",
        "2015-03-01   240.793    NaN  105.8154     5.5  1.79     0.90\n",
        "2015-04-01   241.409    NaN  105.2849     5.4  1.71     0.96\n",
        "2015-05-01   241.760    NaN  105.1018     5.5  1.96     0.91\n",
        "2015-06-01       NaN    NaN       NaN     5.3  2.08     0.94\n"
       ]
      }
     ],
     "prompt_number": 66
    },
    {
     "cell_type": "markdown",
     "metadata": {},
     "source": [
      "The next block forms a quarterly data set by dropping the rows with any null values."
     ]
    },
    {
     "cell_type": "code",
     "collapsed": false,
     "input": [
      "quarterly = merged_data.dropna()\n",
      "print(quarterly.tail())"
     ],
     "language": "python",
     "metadata": {},
     "outputs": [
      {
       "output_type": "stream",
       "stream": "stdout",
       "text": [
        "            CPILFESL    GDPC1    INDPRO  UNRATE  Term  Default\n",
        "2014-01-01   235.996  15831.7  101.3061     6.6  2.74     0.70\n",
        "2014-04-01   237.110  16010.4  103.1885     6.2  2.60     0.66\n",
        "2014-07-01   238.217  16205.6  104.4671     6.2  2.43     0.57\n",
        "2014-10-01   239.120  16294.7  105.1437     5.7  2.20     0.77\n",
        "2015-01-01   239.871  16287.7  105.8521     5.7  1.68     0.99\n"
       ]
      }
     ],
     "prompt_number": 67
    },
    {
     "cell_type": "markdown",
     "metadata": {},
     "source": [
      "Finally, it is necessary to transform some of the series to be growth rates since the data contains both $I (0)$ and $I (1)$ series. This is done using pct_change on a subset of the quarterly data."
     ]
    },
    {
     "cell_type": "code",
     "collapsed": false,
     "input": [
      "# Identify those I(1) series\n",
      "growth_rates_selector = ['GDPC1','INDPRO','CPILFESL']\n",
      "\n",
      "# Calculate first difference\n",
      "growth_rates = quarterly[growth_rates_selector].pct_change()\n",
      "\n",
      "# First drop original I(1) series, then add the new I(0) series\n",
      "final = quarterly.drop(growth_rates_selector, axis=1).join(growth_rates)"
     ],
     "language": "python",
     "metadata": {},
     "outputs": [],
     "prompt_number": 68
    },
    {
     "cell_type": "markdown",
     "metadata": {},
     "source": [
      "The last step is to rename some of the columns using rename with the keyword argument columns . \n",
      "\n",
      "The names are changed using a dictionary where the key is the old name and the value is the new name. \n",
      "\n",
      "The last two lines save the final version of the data to the Stata format and to an excel file."
     ]
    },
    {
     "cell_type": "code",
     "collapsed": false,
     "input": [
      "# Give variables more readable names for the final visual outputs\n",
      "new_names = {'GDPC1':'GDP_growth',\n",
      "             'INDPRO':'IP_growth',\n",
      "             'CPILFESL':'Inflation',\n",
      "             'UNRATE':'Unemp_rate'}\n",
      "\n",
      "final = final.rename(columns = new_names).dropna()\n",
      "\n",
      "# Save the DataFrame to file\n",
      "final.to_stata('Data/FRED_data.dta')\n",
      "final.to_excel('Data/FRED_data.xlsx')\n",
      "\n",
      "# The plots provide a simple method to begin exploring the data.\n",
      "ax = final[['GDP_growth','IP_growth','Unemp_rate']].plot(subplots=True)\n",
      "fig = ax[0].get_figure()\n",
      "fig.savefig('Data/FRED_data_line_plot.pdf')\n",
      "\n",
      "ax = scatter_matrix(final[['GDP_growth','IP_growth','Unemp_rate']], diagonal='kde')\n",
      "fig = ax[0,0].get_figure()\n",
      "fig.savefig('Data/FRED_data_scatter_matrix.pdf')"
     ],
     "language": "python",
     "metadata": {},
     "outputs": [
      {
       "metadata": {},
       "output_type": "display_data",
       "png": "[encoded data removed]",
       "text": [
        "<matplotlib.figure.Figure at 0x7f6bc6004fd0>"
       ]
      },
      {
       "metadata": {},
       "output_type": "display_data",
       "png": "[encoded data removed]",
       "text": [
        "<matplotlib.figure.Figure at 0x7f6bc595bbd0>"
       ]
      }
     ],
     "prompt_number": 69
    }
   ],
   "metadata": {}
  }
 ]
}