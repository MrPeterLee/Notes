{
 "metadata": {
  "name": "",
  "signature": "sha256:7b1e5eac70348377d586aa47ca1d24186e98363f8711dbeeab73bd98cab8ab37"
 },
 "nbformat": 3,
 "nbformat_minor": 0,
 "worksheets": []
}