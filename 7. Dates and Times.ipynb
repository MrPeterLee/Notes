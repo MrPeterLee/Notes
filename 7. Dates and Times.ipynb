{
 "metadata": {
  "name": "",
  "signature": "sha256:dfdeac380e08e4259af1feee250d08a0f68e7cd708c575206ed6d5aa8af2dfe8"
 },
 "nbformat": 3,
 "nbformat_minor": 0,
 "worksheets": [
  {
   "cells": [
    {
     "cell_type": "markdown",
     "metadata": {},
     "source": [
      "Dates and Times\n",
      "==\n",
      "Date and time manipulatoin is provided by a built-in Python module *datetime*. \n",
      "\n",
      "A typical way to use this module is to start with the following import command:\n",
      "\n",
      "import datetime as dt "
     ]
    },
    {
     "cell_type": "markdown",
     "metadata": {},
     "source": [
      "# 1. Creating Dates and Times\n",
      "\n",
      "Dates are created using date by providing integer values for year, month and day.\n",
      "\n",
      "Times are created using time using hours, minutes, seconds and microseconds."
     ]
    },
    {
     "cell_type": "code",
     "collapsed": false,
     "input": [
      "import datetime as dt\n",
      "yr, mo, dd = 2015, 7, 1\n",
      "print dt.date(yr, mo, dd)\n",
      "\n",
      "hr, mm, ss, ms = 12, 21, 12, 21\n",
      "print dt.time(hr, mm, ss, ms)"
     ],
     "language": "python",
     "metadata": {},
     "outputs": [
      {
       "output_type": "stream",
       "stream": "stdout",
       "text": [
        "2015-07-01\n",
        "12:21:12.000021\n"
       ]
      }
     ],
     "prompt_number": 3
    },
    {
     "cell_type": "markdown",
     "metadata": {},
     "source": [
      "Dates created using date do not allow times, and dates which require a time stamp can be created using *datetime*, which combine the inputs from date and time, in the same order."
     ]
    },
    {
     "cell_type": "code",
     "collapsed": false,
     "input": [
      "print dt.datetime(yr, mo, dd, hr, mm, ss, ms)"
     ],
     "language": "python",
     "metadata": {},
     "outputs": [
      {
       "output_type": "stream",
       "stream": "stdout",
       "text": [
        "2015-07-01 12:21:12.000021\n"
       ]
      }
     ],
     "prompt_number": 4
    },
    {
     "cell_type": "markdown",
     "metadata": {},
     "source": [
      "# 2. Dates Mathematics\n",
      "\n",
      "Date-times and dates (but not times, and only within the same type) can be subtracted to produce a *timedelta*, which consists of three values:\n",
      "- days, \n",
      "- seconds and\n",
      "- microseconds. \n",
      "\n",
      "Time deltas can also be added to dates and times compute different dates \u2013 although date types will ignore any information in the time delta hour or millisecond \ufb01elds."
     ]
    },
    {
     "cell_type": "code",
     "collapsed": false,
     "input": [
      "d1 = dt.datetime(yr, mo, dd, hr, mm, ss, ms)\n",
      "d2 = dt.datetime(yr + 1, mo, dd, hr, mm, ss, ms)\n",
      "print d2 - d1"
     ],
     "language": "python",
     "metadata": {},
     "outputs": [
      {
       "output_type": "stream",
       "stream": "stdout",
       "text": [
        "366 days, 0:00:00\n"
       ]
      }
     ],
     "prompt_number": 6
    },
    {
     "cell_type": "code",
     "collapsed": false,
     "input": [
      "print d2 + dt.timedelta(30, 0, 0)\n",
      "\n",
      "print dt.date(2015, 1, 1) + dt.timedelta(30, 12, 0)"
     ],
     "language": "python",
     "metadata": {},
     "outputs": [
      {
       "output_type": "stream",
       "stream": "stdout",
       "text": [
        "2016-07-31 12:21:12.000021\n",
        "2015-01-31\n"
       ]
      }
     ],
     "prompt_number": 8
    },
    {
     "cell_type": "markdown",
     "metadata": {},
     "source": [
      "If times stamps are important, date types can be promoted to datetime using combine and a time."
     ]
    },
    {
     "cell_type": "code",
     "collapsed": false,
     "input": [
      "d3 = dt.date(2015, 1, 1)\n",
      "print dt.datetime.combine(d3, dt.time(0))"
     ],
     "language": "python",
     "metadata": {},
     "outputs": [
      {
       "output_type": "stream",
       "stream": "stdout",
       "text": [
        "2015-01-01 00:00:00\n"
       ]
      }
     ],
     "prompt_number": 10
    },
    {
     "cell_type": "markdown",
     "metadata": {},
     "source": [
      "Values in dates, times and datetimes can be modified using replace through keyword arguments."
     ]
    },
    {
     "cell_type": "code",
     "collapsed": false,
     "input": [
      "d4 = dt.datetime(2015,1,1,12,21,12,21)\n",
      "d5 = d4.replace(month=11, day=10, hour=9, minute=8, second=7, microsecond=6)\n",
      "print d5"
     ],
     "language": "python",
     "metadata": {},
     "outputs": [
      {
       "output_type": "stream",
       "stream": "stdout",
       "text": [
        "2015-11-10 09:08:07.000006\n"
       ]
      }
     ],
     "prompt_number": 12
    },
    {
     "cell_type": "markdown",
     "metadata": {},
     "source": [
      "Version 1.7.0 of NumPy introduces a NumPy native datetime type known as datetime64 (to distinguish it from the usual datetime type). The NumPy datetime type is considered experimental and is not fully supported\n",
      "in the scientific python stack in 2011. This said, it is already widely used and should see complete support in the near future. \n",
      "\n",
      "Additionally, the native NumPy data type is generally better suited to data storage and analysis and extends the Python datetime with additional features such as business day functionality.\n",
      "\n",
      "NumPy contains both datetime (datetime64) and timedelta (timedelta64) objects. These differ from the standard Python datetime since they always store the datetime or timedelta using a 64-bit integer plus a date or time unit. \n",
      "\n",
      "The choice of the date/time unit affects both the resolution of the datetime as well as the permissible range. The unit directly determines the resolution - using a date unit of a day (\u2019D\u2019) limits to resolution to days. Using a date unit of a week (\u2019W\u2019) will allow a minimum of 1 week difference. Similarly, using a time unit of a second (\u2019s\u2019) will allow resolution up to the second (but not millisecond).\n",
      "\n",
      "NumPy datetimes can be initialized using either human readable strings or using numeric values. The string initialization is simple and datetimes can be initialized using year only, year and month, the complete date or the complete date including a time (and optional timezone). The default time resolution is nanoseconds ($ 10^{-9} $) and T is used to separate the time from the date."
     ]
    },
    {
     "cell_type": "code",
     "collapsed": false,
     "input": [
      "print datetime64('2013'), type(datetime64('2013'))\n",
      "\n",
      "print datetime64('2013-09')\n",
      "\n",
      "print datetime64('2013-09-01')\n",
      "\n",
      "print datetime64('2013-09-01T12:00') # date and time\n",
      "\n",
      "print datetime64('2013-09-01T12:00:01') # to seconds\n",
      "\n",
      "print datetime64('2013-09-01T12:00:01.123456789') # to nanoseconds"
     ],
     "language": "python",
     "metadata": {},
     "outputs": [
      {
       "output_type": "stream",
       "stream": "stdout",
       "text": [
        "2013 <type 'numpy.datetime64'>\n",
        "2013-09\n",
        "2013-09-01\n",
        "2013-09-01T12:00+1000\n",
        "2013-09-01T12:00:01+1000\n",
        "2013-09-01T12:00:01.123456789+1000\n"
       ]
      }
     ],
     "prompt_number": 19
    },
    {
     "cell_type": "markdown",
     "metadata": {},
     "source": [
      "Date or time units can be explicitly included sa the second input. The next example shows that rounding can occur if the date input is not exactly representable using the date unit chosen."
     ]
    },
    {
     "cell_type": "code",
     "collapsed": false,
     "input": [
      "print datetime64('2015-07-01T00', 'h')\n",
      "\n",
      "print datetime64('2015-07-01T00', 's')\n",
      "\n",
      "print datetime64('2015-07-01T00', 'ms')\n",
      "\n",
      "print datetime64('2015-07-01', 'W')"
     ],
     "language": "python",
     "metadata": {},
     "outputs": [
      {
       "output_type": "stream",
       "stream": "stdout",
       "text": [
        "2015-07-01T00:00+1000\n",
        "2015-07-01T00:00:00+1000\n",
        "2015-07-01T00:00:00.000+1000\n",
        "2015-06-25\n"
       ]
      }
     ],
     "prompt_number": 23
    },
    {
     "cell_type": "markdown",
     "metadata": {},
     "source": [
      "Numpy datetimes can also be initialied from arrays"
     ]
    },
    {
     "cell_type": "code",
     "collapsed": false,
     "input": [
      "dates = array(['2013-09-01', '2013-09-02'], dtype='datetime64')\n",
      "print dates[0]\n",
      "dates"
     ],
     "language": "python",
     "metadata": {},
     "outputs": [
      {
       "output_type": "stream",
       "stream": "stdout",
       "text": [
        "2013-09-01\n"
       ]
      },
      {
       "metadata": {},
       "output_type": "pyout",
       "prompt_number": 28,
       "text": [
        "array(['2013-09-01', '2013-09-02'], dtype='datetime64[D]')"
       ]
      }
     ],
     "prompt_number": 28
    },
    {
     "cell_type": "markdown",
     "metadata": {},
     "source": [
      "The NumPy datetime type also supports including timezone information, and when no timezone is provided the local timezone is used (currently Australian Sydney time on this server, which is GMT+1000). \n",
      "\n",
      "These two commands to show a time in US/Central (using 0600) and in GMT(using Z for Zulu). Note that the returned time is always displayed in the local time zone and so the time stamp is changed. \n",
      "\n",
      "**Warning: datetime64 that have times always include a timezone \u2013 this may be problematic in some situations.**"
     ]
    },
    {
     "cell_type": "code",
     "collapsed": false,
     "input": [
      "# US time converted to local Sydney time\n",
      "print datetime64('2015-07-01T12:00:00-0600') \n",
      "\n",
      "# Zulu time converted to local Sydney time\n",
      "print datetime64('2015-07-01T12:00:00Z') "
     ],
     "language": "python",
     "metadata": {},
     "outputs": [
      {
       "output_type": "stream",
       "stream": "stdout",
       "text": [
        "2015-07-02T04:00:00+1000\n",
        "2015-07-01T22:00:00+1000\n"
       ]
      }
     ],
     "prompt_number": 31
    },
    {
     "cell_type": "markdown",
     "metadata": {},
     "source": [
      "Dates which are initialized using one of the shorter forms are initialized at the earliest date (and time) in the period."
     ]
    },
    {
     "cell_type": "code",
     "collapsed": false,
     "input": [
      "print datetime64('2015') == datetime64('2015-01-01')\n",
      "\n",
      "print datetime64('2015-07') == datetime64('2015-07-01')"
     ],
     "language": "python",
     "metadata": {},
     "outputs": [
      {
       "output_type": "stream",
       "stream": "stdout",
       "text": [
        "True\n",
        "True\n"
       ]
      }
     ],
     "prompt_number": 35
    },
    {
     "cell_type": "markdown",
     "metadata": {},
     "source": [
      "However, dates which contain time information are not always equal to dates which have no time information.\n",
      "\n",
      "This occurs since time information forces a timezone onto the datetime while the pure date has no timezone information."
     ]
    },
    {
     "cell_type": "code",
     "collapsed": false,
     "input": [
      "print datetime64('2015-07-01') == datetime64('2015-07-01T00:00:00')\n",
      "\n",
      "print datetime64('2015-07-01') == datetime64('2015-07-01T00:00:00Z')"
     ],
     "language": "python",
     "metadata": {},
     "outputs": [
      {
       "output_type": "stream",
       "stream": "stdout",
       "text": [
        "False\n",
        "True\n"
       ]
      }
     ],
     "prompt_number": 40
    },
    {
     "cell_type": "markdown",
     "metadata": {},
     "source": [
      "A corresponding timedelta class, similarly named timedelta64, is created when dates are differenced.\n",
      "\n",
      "The second example shows why the previous equality test returned False \u2013 the dates differ by 1 hour due to the timezone difference."
     ]
    },
    {
     "cell_type": "code",
     "collapsed": false,
     "input": [
      "datetime64('2015-07-02') - datetime64('2015-07-01')"
     ],
     "language": "python",
     "metadata": {},
     "outputs": [
      {
       "metadata": {},
       "output_type": "pyout",
       "prompt_number": 41,
       "text": [
        "numpy.timedelta64(1,'D')"
       ]
      }
     ],
     "prompt_number": 41
    },
    {
     "cell_type": "code",
     "collapsed": false,
     "input": [
      "# 10 hours difference between GMT (default) and sydney time\n",
      "datetime64('2015-07-01') - datetime64('2015-07-01T00:00:00')"
     ],
     "language": "python",
     "metadata": {},
     "outputs": [
      {
       "metadata": {},
       "output_type": "pyout",
       "prompt_number": 44,
       "text": [
        "numpy.timedelta64(36000,'s')"
       ]
      }
     ],
     "prompt_number": 44
    },
    {
     "cell_type": "markdown",
     "metadata": {},
     "source": [
      "timedelta64 types contain two pieces of information, a number indicating the number of steps between the two dates and the size of the step."
     ]
    }
   ],
   "metadata": {}
  }
 ]
}