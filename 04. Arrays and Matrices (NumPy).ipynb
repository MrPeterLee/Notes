{
 "cells": [
  {
   "cell_type": "markdown",
   "metadata": {},
   "source": [
    "Important Python Libraries\n",
    "==\n",
    "\n",
    "Python, by default, only has access to a small number of built-in types and functions. The vast majority of functions are located in modules, and before a function can be accessed, the module which contains the\n",
    "function must be imported. \n",
    "\n",
    "For example, when using ipython --pylab (or any variants), a large number of modules are automatically imported, including NumPy and matplotlib. This is style of importing useful for learning and interactive use, but care is needed to make sure that the correct module is imported when\n",
    "designing more complex programs.\n",
    "\n",
    "- NumPy\n",
    "NumPy provides a set of array and matrix data types that are essential for statistics data analysis. \n",
    "- SciPy\n",
    "SciPy contains a large number of routines needed for analysis of data. The most important include a wide range of random number generator, linear algebra routines and optimizers. SciPy depnds on NumPy.\n",
    "- Matplotlib or Seaborn\n",
    "Matplotlib provides a plotting environmetn for 2D plots, with limited support for 3D plotting. Seaborn is a Python package that improves the default appearance of Matplotlib plots without any additional code.\n",
    "- Pandas\n",
    "Pandas provides high-performance data structures.\n"
   ]
  },
  {
   "cell_type": "markdown",
   "metadata": {},
   "source": [
    "# Magic functions in IPython\n",
    "\n",
    "Magic function make tasks such as navigating the local file systems (using %cd) or running other Python programs (using run program.py) simple. \n",
    "\n",
    "Entering %magic inside an IPython session will produce a detailed description of the available functions. Alternatively, %lsmagic produces a succint list of available magic commands. \n",
    "\n",
    "The most useful magic functions are:\n",
    "- cd: change director\n",
    "- edit *filename*: launch an editor to edit *filename*\n",
    "- ls: list the contents of a directory\n",
    "- run *filename*: run an Python program\n",
    "- timeit: time the execution of a piece of code or funtion"
   ]
  },
  {
   "cell_type": "markdown",
   "metadata": {},
   "source": [
    "# Arrays and Matrices\n",
    "\n",
    "NumPy provides two important data types - arrays and matrices. The difference between these two data types are:\n",
    "\n",
    "- Arrays can have 1, 2, 3 or more dimensions, and matrices always have 2 dimensions. This means that a 1 by n vector stored as an array has 1 dimension and n elements, while the same vector stored as a matrix has 2-dimensions where the sizes of the dimensions are 1 and n.\n",
    "- Standard mathematical operators on arrays operate element-by-element. This is not the case for matrices, where multiplicaiton (\\*) follows the rules of linear algebra. Using array, matrice mutiplicaiton is performed by numpy.dot(). \n",
    "- Arrays are more common than matrices, and all functions are thoroughly tested with arrays. With matrices, sometimes libraries would give you strange results.\n",
    "- Arrays can be quickly treated as a matrix using either *asmatrix* or *mat* without copying the underlying data.\n",
    "\n",
    "The best practice is to use arrays and to use the *asmatrix* view when writing linear algebra-heavy code. It is also important to test any custom function with both arrays and matrices to ensure that false assumptions about the behaviour of multiplication have not been made.\n"
   ]
  },
  {
   "cell_type": "markdown",
   "metadata": {},
   "source": [
    "## Arrays\n",
    "\n",
    "Arrays are the base data type in NumPy. In some ways arrays are very similar to lists - they both contain collections of elements.\n",
    "\n",
    "Arrays, unlike lists, are always rectangular, so that all rows have the same number of elements.\n",
    "\n"
   ]
  },
  {
   "cell_type": "code",
   "execution_count": 1,
   "metadata": {
    "ExecuteTime": {
     "end_time": "2016-03-18T02:06:17.067047",
     "start_time": "2016-03-18T02:06:16.875105"
    },
    "collapsed": false
   },
   "outputs": [
    {
     "name": "stdout",
     "output_type": "stream",
     "text": [
      "[ 0.  1.  2.  3.  4.] <class 'numpy.ndarray'>\n",
      "[[0 1 2 3 4]\n",
      " [5 6 7 8 9]]\n",
      "(2, 5)\n",
      "(2, 2, 2)\n"
     ]
    },
    {
     "data": {
      "text/plain": [
       "array([[[1, 2],\n",
       "        [3, 4]],\n",
       "\n",
       "       [[5, 6],\n",
       "        [7, 8]]])"
      ]
     },
     "execution_count": 1,
     "metadata": {},
     "output_type": "execute_result"
    }
   ],
   "source": [
    "import numpy as np\n",
    "\n",
    "x = [0.0, 1, 2, 3, 4]\n",
    "y = np.array(x)\n",
    "print(y, type(y))\n",
    "\n",
    "# Two (or higher) -dimentional arrays are initialized using nested lists\n",
    "y = np.array([[0, 1, 2, 3, 4], [5, 6, 7, 8, 9]])\n",
    "print(y)\n",
    "\n",
    "# Find out the array-size\n",
    "print(y.shape)\n",
    "\n",
    "y = np.array([[[1,2],[3,4]],[[5,6],[7,8]]])\n",
    "print(y.shape)\n",
    "y"
   ]
  },
  {
   "cell_type": "markdown",
   "metadata": {},
   "source": [
    "## 1.1 Array dtypes\n",
    "\n",
    "Homogeneous arrays can contain a variety of numeric data types. The most useful is ’float64’, which corresponds to the python built-in data type of float (and C/C++ double). By default, calls to array will preserve the type of the input, if possible. If an input contains all integers, it will have a dtype of ’int32’ (similar to the built in data type int ). If an input contains integers, floats, or a mix of the two, the array’s data type will be float64 . If the input contains a mix of integers, floats and complex types, the array will be initialized to hold complex data."
   ]
  },
  {
   "cell_type": "code",
   "execution_count": 11,
   "metadata": {
    "ExecuteTime": {
     "end_time": "2016-03-18T02:01:55.588085",
     "start_time": "2016-03-18T02:01:55.584535"
    },
    "collapsed": false
   },
   "outputs": [
    {
     "name": "stdout",
     "output_type": "stream",
     "text": [
      "int64\n"
     ]
    }
   ],
   "source": [
    "x = [0, 1, 2, 3, 4] # Integers\n",
    "y = np.array(x)\n",
    "print(y.dtype)"
   ]
  },
  {
   "cell_type": "code",
   "execution_count": 5,
   "metadata": {
    "ExecuteTime": {
     "end_time": "2016-03-18T02:07:57.082990",
     "start_time": "2016-03-18T02:07:57.072750"
    },
    "collapsed": false
   },
   "outputs": [
    {
     "name": "stdout",
     "output_type": "stream",
     "text": [
      "[ 0.+1.j  1.+0.j  2.+0.j  3.+0.j  4.+0.j]\n",
      "int64\n",
      "float64\n",
      "float64\n"
     ]
    }
   ],
   "source": [
    "x = [0.0, 1, 2, 3, 4] # 0.0 is a float\n",
    "y = np.array(x)\n",
    "y.dtype\n",
    "\n",
    "\n",
    "x = [0.0 + 1j, 1, 2, 3, 4] # (0.0 + 1j) is a complex\n",
    "y = np.array(x)\n",
    "print(y)\n",
    "\n",
    "\"\"\" \n",
    "NumPy attempts to find the smallest data type which can represent the data when constructing an array.\n",
    "It is possible to force NumPy to select a particular dtype by using the keyword argument dtype= datetype\n",
    "when initializing the array .\n",
    "\"\"\"\n",
    "\n",
    "x = [0, 1, 2, 3, 4] # Integers\n",
    "y = np.array(x)\n",
    "print(y.dtype)\n",
    "\n",
    "y = np.array(x, dtype=\"float64\") # String dtype\n",
    "print(y.dtype)\n",
    "\n",
    "y = np.array(x, dtype=np.float64) # NumPy type dtype\n",
    "print(y.dtype)"
   ]
  },
  {
   "cell_type": "markdown",
   "metadata": {},
   "source": [
    "## 2 Matrix\n",
    "\n",
    "Matrices are essentially a subset of arrays, and behave in a virtually identical manner. The two differences are:\n",
    "\n",
    "- Matrices always have 2 dimentions\n",
    "- Matrices follow the rules of linear algebra \\*\n",
    "\n",
    "There are two ways to transform an 1- and 2-dimentional array into a matrix:\n",
    "\n",
    "- Calling *matrix* on an array creates a copy of matrix\n",
    "- Calling *mat* or *asmatrix* creates a view of matrix (a faster method without copying any data)."
   ]
  },
  {
   "cell_type": "code",
   "execution_count": 8,
   "metadata": {
    "collapsed": false
   },
   "outputs": [
    {
     "name": "stdout",
     "output_type": "stream",
     "text": [
      "<type 'numpy.ndarray'>\n",
      "[  0.   1.   4.   9.  16.]\n",
      "<class 'numpy.matrixlib.defmatrix.matrix'>\n"
     ]
    },
    {
     "ename": "ValueError",
     "evalue": "matrices are not aligned",
     "output_type": "error",
     "traceback": [
      "\u001b[0;31m---------------------------------------------------------------------------\u001b[0m\n\u001b[0;31mValueError\u001b[0m                                Traceback (most recent call last)",
      "\u001b[0;32m<ipython-input-8-4d46f9257f6d>\u001b[0m in \u001b[0;36m<module>\u001b[0;34m()\u001b[0m\n\u001b[1;32m      8\u001b[0m \u001b[0;32mprint\u001b[0m \u001b[0mtype\u001b[0m\u001b[0;34m(\u001b[0m\u001b[0mz\u001b[0m\u001b[0;34m)\u001b[0m\u001b[0;34m\u001b[0m\u001b[0m\n\u001b[1;32m      9\u001b[0m \u001b[0;34m\u001b[0m\u001b[0m\n\u001b[0;32m---> 10\u001b[0;31m \u001b[0;32mprint\u001b[0m \u001b[0mz\u001b[0m \u001b[0;34m*\u001b[0m \u001b[0mz\u001b[0m \u001b[0;31m# error\u001b[0m\u001b[0;34m\u001b[0m\u001b[0m\n\u001b[0m",
      "\u001b[0;32m/usr/lib/python2.7/dist-packages/numpy/matrixlib/defmatrix.pyc\u001b[0m in \u001b[0;36m__mul__\u001b[0;34m(self, other)\u001b[0m\n\u001b[1;32m    339\u001b[0m         \u001b[0;32mif\u001b[0m \u001b[0misinstance\u001b[0m\u001b[0;34m(\u001b[0m\u001b[0mother\u001b[0m\u001b[0;34m,\u001b[0m \u001b[0;34m(\u001b[0m\u001b[0mN\u001b[0m\u001b[0;34m.\u001b[0m\u001b[0mndarray\u001b[0m\u001b[0;34m,\u001b[0m \u001b[0mlist\u001b[0m\u001b[0;34m,\u001b[0m \u001b[0mtuple\u001b[0m\u001b[0;34m)\u001b[0m\u001b[0;34m)\u001b[0m \u001b[0;34m:\u001b[0m\u001b[0;34m\u001b[0m\u001b[0m\n\u001b[1;32m    340\u001b[0m             \u001b[0;31m# This promotes 1-D vectors to row vectors\u001b[0m\u001b[0;34m\u001b[0m\u001b[0;34m\u001b[0m\u001b[0m\n\u001b[0;32m--> 341\u001b[0;31m             \u001b[0;32mreturn\u001b[0m \u001b[0mN\u001b[0m\u001b[0;34m.\u001b[0m\u001b[0mdot\u001b[0m\u001b[0;34m(\u001b[0m\u001b[0mself\u001b[0m\u001b[0;34m,\u001b[0m \u001b[0masmatrix\u001b[0m\u001b[0;34m(\u001b[0m\u001b[0mother\u001b[0m\u001b[0;34m)\u001b[0m\u001b[0;34m)\u001b[0m\u001b[0;34m\u001b[0m\u001b[0m\n\u001b[0m\u001b[1;32m    342\u001b[0m         \u001b[0;32mif\u001b[0m \u001b[0misscalar\u001b[0m\u001b[0;34m(\u001b[0m\u001b[0mother\u001b[0m\u001b[0;34m)\u001b[0m \u001b[0;32mor\u001b[0m \u001b[0;32mnot\u001b[0m \u001b[0mhasattr\u001b[0m\u001b[0;34m(\u001b[0m\u001b[0mother\u001b[0m\u001b[0;34m,\u001b[0m \u001b[0;34m'__rmul__'\u001b[0m\u001b[0;34m)\u001b[0m \u001b[0;34m:\u001b[0m\u001b[0;34m\u001b[0m\u001b[0m\n\u001b[1;32m    343\u001b[0m             \u001b[0;32mreturn\u001b[0m \u001b[0mN\u001b[0m\u001b[0;34m.\u001b[0m\u001b[0mdot\u001b[0m\u001b[0;34m(\u001b[0m\u001b[0mself\u001b[0m\u001b[0;34m,\u001b[0m \u001b[0mother\u001b[0m\u001b[0;34m)\u001b[0m\u001b[0;34m\u001b[0m\u001b[0m\n",
      "\u001b[0;31mValueError\u001b[0m: matrices are not aligned"
     ]
    }
   ],
   "source": [
    "x = [0.0, 1, 2, 3, 4] # Any float makes all float\n",
    "y = array(x)\n",
    "print type(y)\n",
    "\n",
    "print y*y # element-by-element\n",
    "\n",
    "z = asmatrix(x)\n",
    "print type(z)\n",
    "\n",
    "print z*z # error"
   ]
  },
  {
   "cell_type": "markdown",
   "metadata": {},
   "source": [
    "# 3. Vectors and Matrices\n",
    "\n",
    "## 3.1 Row vectors (1-dimensional arrays)\n",
    "\n",
    "The following examples show how to create a vector using 2-dimentional arrays and matrix.\n",
    "\n",
    "$$\n",
    "x =\n",
    "  \\begin{bmatrix}\n",
    "    1 & 2 & 3 & 4 & 5 \\\\\n",
    "  \\end{bmatrix}\n",
    "$$"
   ]
  },
  {
   "cell_type": "code",
   "execution_count": 11,
   "metadata": {
    "collapsed": false
   },
   "outputs": [
    {
     "name": "stdout",
     "output_type": "stream",
     "text": [
      "1\n",
      "[[ 1.  2.  3.  4.  5.]]\n",
      "2\n",
      "[[ 1.  2.  3.  4.  5.]] <class 'numpy.matrixlib.defmatrix.matrix'>\n",
      "2\n"
     ]
    }
   ],
   "source": [
    "x = array([1.0, 2, 3, 4, 5])\n",
    "print ndim(x) # the dimension of the vector x\n",
    "\n",
    "# if an array with 2-dimensions is required, \n",
    "# it is necessary to use a trivial ensted list.\n",
    "x = array([[1.0, 2, 3, 4, 5]])\n",
    "print x\n",
    "print ndim(x)\n",
    "\n",
    "# A matrix is always 2-dimentional and so a nested lsit is not required.\n",
    "x = matrix([1.0, 2, 3, 4, 5])\n",
    "print x, type(x)\n",
    "print ndim(x)"
   ]
  },
  {
   "cell_type": "markdown",
   "metadata": {},
   "source": [
    "Notice that the output matrix representation uses nested lists [[ ]] to emphasize the 2-dimentional structure of all matrices.\n",
    "\n",
    "## 3.2 Column vectors (2-dimensional arrays)\n",
    "\n",
    "The column vector is entered as a matrix or 2-dimensional arrays using a set of nested lists.\n",
    "\n",
    "$$\n",
    "x =\n",
    "  \\begin{bmatrix}\n",
    "    1 \\\\ 2 \\\\ 3 \\\\ 4 \\\\ 5 \\\\\n",
    "  \\end{bmatrix}\n",
    "$$"
   ]
  },
  {
   "cell_type": "code",
   "execution_count": 13,
   "metadata": {
    "collapsed": false
   },
   "outputs": [
    {
     "name": "stdout",
     "output_type": "stream",
     "text": [
      "[[ 1.]\n",
      " [ 2.]\n",
      " [ 3.]\n",
      " [ 4.]\n",
      " [ 5.]]\n",
      "[[ 1.]\n",
      " [ 2.]\n",
      " [ 3.]\n",
      " [ 4.]\n",
      " [ 5.]]\n",
      "[[1 2 3]\n",
      " [4 5 6]\n",
      " [7 8 9]]\n"
     ]
    }
   ],
   "source": [
    "x = array([[1.0],[2],[3],[4],[5]])\n",
    "print x\n",
    "\n",
    "x = matrix([[1.0], [2], [3], [4], [5]])\n",
    "print x\n",
    "\n",
    "x = array([\n",
    "[1, 2, 3],\n",
    "[4, 5, 6],\n",
    "[7, 8, 9]\n",
    "])\n",
    "print x"
   ]
  },
  {
   "cell_type": "markdown",
   "metadata": {},
   "source": [
    "## 3.3 Matrix (2-dimensional arrays)\n",
    "\n",
    "Matrices and 2-dimensional arrays are rows of columns, and so:\n",
    "\n",
    "$$\n",
    "x =\n",
    "  \\begin{bmatrix}\n",
    "    2 & 1 & 1 \\\\\n",
    "    1 & 3 & 2 \\\\\n",
    "    1 & 0 & 0\n",
    "  \\end{bmatrix}\n",
    "$$\n",
    "\n",
    "is input by enter the matrix one row at a time, each in a list, and then encapsulate the row lists in another list."
   ]
  },
  {
   "cell_type": "code",
   "execution_count": 19,
   "metadata": {
    "collapsed": false
   },
   "outputs": [
    {
     "name": "stdout",
     "output_type": "stream",
     "text": [
      "[[ 2.  1.  1.]\n",
      " [ 1.  3.  2.]\n",
      " [ 1.  0.  0.]]\n",
      "[[ 2.  1.  1.]\n",
      " [ 1.  3.  2.]\n",
      " [ 1.  0.  0.]]\n",
      "[[ 0.  0.]\n",
      " [ 0.  0.]] <type 'numpy.ndarray'>\n",
      "[[  6.91756912e-310   2.21148210e-316   6.91754718e-310]\n",
      " [  6.91754724e-310   6.91754723e-310   6.91754721e-310]\n",
      " [  0.00000000e+000   0.00000000e+000   3.95252517e-322]] <type 'numpy.ndarray'>\n",
      "[[ 1.  0.  0.  0.  0.]\n",
      " [ 0.  1.  0.  0.  0.]\n",
      " [ 0.  0.  1.  0.  0.]\n",
      " [ 0.  0.  0.  1.  0.]\n",
      " [ 0.  0.  0.  0.  1.]] <type 'numpy.ndarray'>\n"
     ]
    }
   ],
   "source": [
    "x = array([[2, 1, 1], [1, 3, 2], [1, 0, 0.0]])\n",
    "print x\n",
    "\n",
    "x = matrix([\n",
    "            [2, 1, 1], \n",
    "            [1, 3, 2], \n",
    "            [1, 0, 0.0]\n",
    "           ])\n",
    "print x\n",
    "\n",
    "y = zeros([2, 2])\n",
    "print y, type(y)\n",
    "\n",
    "z = empty([3, 3])\n",
    "print z, type(z)\n",
    "\n",
    "y = identity(5)\n",
    "print y, type(y)"
   ]
  },
  {
   "cell_type": "markdown",
   "metadata": {},
   "source": [
    "## 3.4 Concatenation\n",
    "\n",
    "Concatenation is the process by which one vector or matrix is appended to another.\n",
    "\n",
    "Arrays and matrices can be concatenated horizontally or vertically.\n"
   ]
  },
  {
   "cell_type": "code",
   "execution_count": 22,
   "metadata": {
    "collapsed": false
   },
   "outputs": [
    {
     "name": "stdout",
     "output_type": "stream",
     "text": [
      "[[ 1.  2.  5.  6.]\n",
      " [ 3.  4.  7.  8.]]\n",
      "[[ 1.  2.]\n",
      " [ 3.  4.]\n",
      " [ 5.  6.]\n",
      " [ 7.  8.]]\n",
      "[[ 1.  2.  5.  6.]\n",
      " [ 3.  4.  7.  8.]]\n"
     ]
    }
   ],
   "source": [
    "# Method 1\n",
    "  # Vertically (axis=0)\n",
    "\n",
    "x = array([[1.0, 2], \n",
    "           [3, 4]])\n",
    "\n",
    "y = array([[5.0, 6], \n",
    "           [7, 8]])\n",
    "\n",
    "z = concatenate([x, y], axis = 0) \n",
    "#print z\n",
    "\n",
    "  # Horizontally (axis=1)\n",
    "z = concatenate((x, y), axis = 1) \n",
    "print z\n",
    "\n",
    "\n",
    "# Method 2\n",
    "z = vstack((x, y))\n",
    "print z\n",
    "z = hstack((x, y))\n",
    "print z"
   ]
  },
  {
   "cell_type": "markdown",
   "metadata": {},
   "source": [
    "# 4. Accessing elements of an array\n",
    "\n",
    "Four methods are available for accessing elements contained within an array:\n",
    "- scalar selection\n",
    "- slicing\n",
    "- numerical indexing\n",
    "- logical (or Boolean) indexing"
   ]
  },
  {
   "cell_type": "markdown",
   "metadata": {},
   "source": [
    "## 4.1 Scalar selection\n",
    "\n",
    "Pure scalar selection is the simplest method to select elements from an array, and is implemented using [i] for 1-dimensional arrays, [i, j] for 2-dimensional arrays."
   ]
  },
  {
   "cell_type": "code",
   "execution_count": 2,
   "metadata": {
    "collapsed": false
   },
   "outputs": [
    {
     "name": "stdout",
     "output_type": "stream",
     "text": [
      "1.0\n",
      "3.0\n",
      "<type 'numpy.float64'>\n",
      "1.0 <type 'numpy.float64'>\n"
     ]
    }
   ],
   "source": [
    "x = array([1.0,2.0,3.0,4.0,5.0])\n",
    "print x[0]\n",
    "\n",
    "x = array([[1.0,2.0,3.0,4.0,5.0]])\n",
    "print x[0, 2]\n",
    "\n",
    "print type(x[0, 2])\n",
    "\n",
    "I = identity(4)\n",
    "print I[2, 2], type(I[2, 2])"
   ]
  },
  {
   "cell_type": "code",
   "execution_count": 45,
   "metadata": {
    "collapsed": false
   },
   "outputs": [
    {
     "name": "stdout",
     "output_type": "stream",
     "text": [
      "[[ 1.  2. -9.  4.  5.]]\n"
     ]
    }
   ],
   "source": [
    "# You can alway assign a value to an array\n",
    "x[0, 2] = -9\n",
    "\n",
    "print x"
   ]
  },
  {
   "cell_type": "markdown",
   "metadata": {},
   "source": [
    "## 4.2 Array slicing\n",
    "\n",
    "Arrays, like lists and tuples, can be sliced. Arrays slicing is virtually identical to lists slicing except that a simpler slicing syntax is available, since arrays are explicitly multidimensional and rectangular. \n",
    "\n",
    "Arrays are sliced using the syntax [:,:, . . . ,:] (where the number of dimensions of the arrays determines the size of the slice). Recall that the slice notation a : b : s will select every $s$th element where the indices $i$ satisfy $a ≤ i < b$ so that the starting value $a$ is always included in the list and the ending value $b$ is always excluded.\n",
    "\n",
    "Additionally, a number of shorthand notations are commonly encountered:\n",
    "- : and :: are the same as 0:n:1 where n is the length of the array (or list).\n",
    "- $a$: and $a$:$n$ are the same as a:n:1 where n is the length of the array (or list).\n",
    "- :$b$ is the same as 0:$b$:$1$ .\n",
    "- ::$s$ is the same as $0$:$n$:$s$ where $n$ is the length of the array (or list).\n"
   ]
  },
  {
   "cell_type": "code",
   "execution_count": 5,
   "metadata": {
    "collapsed": false
   },
   "outputs": [
    {
     "name": "stdout",
     "output_type": "stream",
     "text": [
      "[[ 1.  2.  3.]\n",
      " [ 4.  5.  6.]\n",
      " [ 7.  8.  9.]]\n",
      "[[ 4.  5.  6.]]\n",
      "[[ 2.  3.]\n",
      " [ 5.  6.]]\n",
      "[[ 5.  6.]\n",
      " [ 8.  9.]]\n"
     ]
    }
   ],
   "source": [
    "x = array([[1.0,2,3],\n",
    "          [4.0,5,6],\n",
    "          [7, 8, 9]])\n",
    "\n",
    "# Pull everything from matrix\n",
    "print x[:,:]\n",
    "\n",
    "# Pull the second row from matrix\n",
    "print x[1:2,:]\n",
    "\n",
    "# Pull the top-right 2X2 square matrix\n",
    "print x[0:2, 1:3]\n",
    "\n",
    "# Pull the bottom-right 2X2 square matrix\n",
    "print x[1:3, 1:3]\n"
   ]
  },
  {
   "cell_type": "markdown",
   "metadata": {},
   "source": [
    "In 2-dimensional arrays, the first dimension specifies the row or rows of the slice and the second dimension specifies the the column or columns. \n",
    "\n",
    "Note that the 2-dimensional slice syntax y[a:b,c:d] is the\n",
    "same as $y[a:b,:][:,c:d]$ or $y[a:b][:,c:d]$, although clearly the shorter form is preferred. In the case where only row slicing in needed $y[a:b]$, which is the equivalent to $y[a:b,:]$, is the shortest syntax."
   ]
  },
  {
   "cell_type": "code",
   "execution_count": 48,
   "metadata": {
    "collapsed": false
   },
   "outputs": [
    {
     "name": "stdout",
     "output_type": "stream",
     "text": [
      "[[ 0.  1.  2.  3.  4.]\n",
      " [ 5.  6.  7.  8.  9.]]\n"
     ]
    },
    {
     "data": {
      "text/plain": [
       "array([[ 3.,  4.],\n",
       "       [ 8.,  9.]])"
      ]
     },
     "execution_count": 48,
     "metadata": {},
     "output_type": "execute_result"
    }
   ],
   "source": [
    "y = array([[0.0, 1, 2, 3, 4],[5, 6, 7, 8, 9]])\n",
    "print y\n",
    "\n",
    "y[:1, :] # row 0, all columns\n",
    "y[:1] # Same as before\n",
    "\n",
    "y[:, :1] # all rows, column 0\n",
    "\n",
    "y[:1, 0:3] # row 0, column 1, 2, 3\n",
    "y[:1][:, 0:3] # same as before\n",
    "\n",
    "y[:, 3:] # all rows, column 4 to last\n"
   ]
  },
  {
   "cell_type": "markdown",
   "metadata": {},
   "source": [
    "### 4.2.1 Mixed selection using scalar and slice selections\n",
    "\n",
    "When arrays have more than 1-dimension, it is often useful to mix scalar and slice selectors to select an entire row, column or panel of a 3-dimensional array. This is similar to pure slicing with one important\n",
    "caveat – dimensions selected using scalar selectors are eliminated. \n",
    "\n",
    "For example, if x is a 2-dimensional array, then x[0,:] will select the first row. However, unlike the 2-dimensional array constructed using the\n",
    "slice x[:1,:] , x[0,:] will be a 1-dimensional array."
   ]
  },
  {
   "cell_type": "code",
   "execution_count": 9,
   "metadata": {
    "collapsed": false
   },
   "outputs": [
    {
     "name": "stdout",
     "output_type": "stream",
     "text": [
      " [[ 1.  2.]]\n",
      "(1, 2) 2\n",
      "[ 1.  2.]\n",
      "(2,) 1\n"
     ]
    }
   ],
   "source": [
    "x = array([[1.0, 2], [3, 4]])\n",
    "\n",
    "# Use slice syntax\n",
    "print x[:1, :] # row 1, select all columns, 2-dimensional\n",
    "print shape(x[:1, :]), ndim(x[:1, :])\n",
    "\n",
    "# Use mixed syntax\n",
    "print x[0, :] # same, but 1-dimensional\n",
    "\n",
    "print shape(x[0, :]), ndim(x[0, :])"
   ]
  },
  {
   "cell_type": "markdown",
   "metadata": {},
   "source": [
    "While these two selections appear similar, the first produces a 2-dimensional array (note the [[ ]] syntax) while the second is a 1-dimensional array. In most cases where a single row or column is required, using scalar selectors such as y[0,:] is the best practice. It is important to be aware of the dimension reduction since scalar selections from a 2-dimensional arrays will no longer have 2-dimensions.\n",
    "This type of dimension reduction may matter when evaluating linear algebra expression.\n",
    "\n",
    "The principle adopted by NumPy is that slicing should always preserve the dimension of the underlying array, while scalar indexing should always collapse the dimension(s). This is consistent with x[0,0]\n",
    "returning a scalar (or 0-dimensional array) since both selections are scalar. This is demonstrated in the next example which highlights the differences between pure slicing, mixed slicing and pure scalar selection. "
   ]
  },
  {
   "cell_type": "code",
   "execution_count": 57,
   "metadata": {
    "collapsed": false
   },
   "outputs": [
    {
     "name": "stdout",
     "output_type": "stream",
     "text": [
      "[[ 0.  1.  2.  3.  4.]\n",
      " [ 5.  6.  7.  8.  9.]]\n",
      "[[ 0.  1.  2.  3.  4.]] 2\n",
      "[ 0.  1.  2.  3.  4.] 1\n",
      "0.0 0\n",
      "[ 0.  5.] 1\n"
     ]
    }
   ],
   "source": [
    "x = array([[0.0, 1, 2, 3, 4],[5, 6, 7, 8, 9]])\n",
    "print x\n",
    "\n",
    "y2 = x[:1, :] \n",
    "print y2, ndim(y2)\n",
    "\n",
    "y1 = x[0, :]\n",
    "print y1, ndim(y1)\n",
    "\n",
    "z = x[0, 0] # top left element, dim reduction to scalar (0-d array)\n",
    "print z, ndim(z)\n",
    "\n",
    "c = x[:, 0] # All rows, 1 column, dim reduction to 1-d array\n",
    "print c, ndim(c)"
   ]
  },
  {
   "cell_type": "markdown",
   "metadata": {},
   "source": [
    "### 4.2.2 Assignment using slicing\n",
    "\n",
    "Slicing and scalar selection can be used to assign arrays that have the same dimension as the slice."
   ]
  },
  {
   "cell_type": "code",
   "execution_count": 14,
   "metadata": {
    "collapsed": false
   },
   "outputs": [
    {
     "name": "stdout",
     "output_type": "stream",
     "text": [
      "[[ 0.  0.  0.]\n",
      " [ 0.  0.  0.]\n",
      " [ 0.  0.  0.]]\n",
      "[[ 1.  2.  3.]\n",
      " [ 0.  0.  0.]\n",
      " [ 0.  0.  0.]]\n",
      "[[-99.   2. -99.]\n",
      " [  0.   0.   0.]\n",
      " [-99.   0. -99.]]\n",
      "[[-99.           2.         -99.        ]\n",
      " [  0.           3.14159265   0.        ]\n",
      " [-99.           0.         -99.        ]]\n"
     ]
    }
   ],
   "source": [
    "x = array([[0.0]*3]*3)  # Square 3X3 matrix of zeros\n",
    "print x\n",
    "\n",
    "x[0, :] = array([1.0, 2.0, 3.0])\n",
    "print x\n",
    "\n",
    "x[::2, ::2] = array([[-99.0, -99], [-99, -99]])\n",
    "print x\n",
    "\n",
    "x[1,1] = pi\n",
    "print x"
   ]
  },
  {
   "cell_type": "code",
   "execution_count": 16,
   "metadata": {
    "collapsed": false
   },
   "outputs": [
    {
     "name": "stdout",
     "output_type": "stream",
     "text": [
      "[[1 2 3]\n",
      " [1 2 3]\n",
      " [1 2 3]]\n"
     ]
    }
   ],
   "source": [
    "z = array([[1, 2, 3]]*3)\n",
    "print z"
   ]
  },
  {
   "cell_type": "markdown",
   "metadata": {},
   "source": [
    "NumPy attempts to automatic (silent) data type conversion if an element with one data type is inserted into an array with a different data type. \n",
    "\n",
    "For example, if an array has an integer data type, place a float into\n",
    "the array results in the float being truncated and stored as an integer. This is dangerous, and so in most cases, arrays should be initialized to contain floats unless a considered decision is taken to use a different\n",
    "data type."
   ]
  },
  {
   "cell_type": "code",
   "execution_count": 8,
   "metadata": {
    "collapsed": false
   },
   "outputs": [
    {
     "name": "stdout",
     "output_type": "stream",
     "text": [
      "int64\n",
      "[3 1 2 3 4]\n"
     ]
    }
   ],
   "source": [
    "x = [0, 1, 2, 3, 4] # Integers\n",
    "y = array(x)\n",
    "print y.dtype\n",
    "\n",
    "y[0] = pi\n",
    "print y"
   ]
  },
  {
   "cell_type": "markdown",
   "metadata": {},
   "source": [
    "## 4.3 Linear slicing using flat\n",
    "\n",
    "Data in matrices is stored in row-major order - elements are indexed by first counting across rows and then down columns.  For example, in the matrix below, the elements are:\n",
    "\n",
    "$$\n",
    "A =\n",
    "  \\begin{bmatrix}\n",
    "    1th & 2th & 3th \\\\\n",
    "    4th & 5th & 6th \\\\\n",
    "    7th & 8th & 9th\n",
    "  \\end{bmatrix}\n",
    "$$\n",
    "\n",
    "In addition to slicing using the [:,:, . . . ,:] syntax, k-dimensional arrays can be linear sliced. Linear slicing assigns an index to each element of the array, starting with the first (0), the second (1), and so on until the final element (n − 1). \n",
    "\n",
    "In 2-dimensions, linear slicing works by first counting across rows, and\n",
    "then down columns. To use linear slicing, the method or function flat must first be used."
   ]
  },
  {
   "cell_type": "code",
   "execution_count": 5,
   "metadata": {
    "collapsed": false
   },
   "outputs": [
    {
     "name": "stdout",
     "output_type": "stream",
     "text": [
      "[[  0.   1.   2.   3.   4.]\n",
      " [  5.   6.   7.   8.   9.]\n",
      " [ 10.  11.  12.  13.  14.]\n",
      " [ 15.  16.  17.  18.  19.]\n",
      " [ 20.  21.  22.  23.  24.]]\n",
      "[ 0.  1.  2.  3.  4.]\n",
      "0.0\n",
      "6.0\n",
      "[ 12.  13.  14.]\n",
      "[  0.   1.   2.   3.   4.   5.   6.   7.   8.   9.  10.  11.  12.  13.  14.\n",
      "  15.  16.  17.  18.  19.  20.  21.  22.  23.  24.]\n"
     ]
    }
   ],
   "source": [
    "# arange() is better than range() because it supports float\n",
    "y = reshape(arange(0.0, 25), (5, 5))\n",
    "print y\n",
    "\n",
    "print y[0]\n",
    "\n",
    "print y.flat[0] # scalar slice, flat is 1-dimensinoal\n",
    "print y.flat[6] \n",
    "print y.flat[12:15]\n",
    "print y.flat[:]"
   ]
  },
  {
   "cell_type": "markdown",
   "metadata": {},
   "source": [
    "## 4.4 Slicing and memoray management\n",
    "\n",
    "Unlike lists, slices of arrays do not copy the underlying data. \n",
    "\n",
    "Instead a slice of an array returns a view of the array, which shares the data in the sliced array. This is important since changes in slices will propagate to the underlying array and to any other slices which share the same element."
   ]
  },
  {
   "cell_type": "code",
   "execution_count": 1,
   "metadata": {
    "collapsed": false
   },
   "outputs": [
    {
     "name": "stdout",
     "output_type": "stream",
     "text": [
      "[[ 0.  1.]\n",
      " [ 2.  3.]]\n",
      "s1 [ 0.  1.]\n",
      "s2 [ 0.  2.]\n",
      "s1 [-3.14159265  1.        ] \n",
      "s2 [-3.14159265  2.        ] \n",
      "x [[-3.14159265  1.        ]\n",
      " [ 2.          3.        ]]\n"
     ]
    }
   ],
   "source": [
    "x = reshape(arange(4.0), (2, 2))\n",
    "print x\n",
    "\n",
    "s1 = x[0, :]\n",
    "s2 = x[:, 0]\n",
    "\n",
    "print \"s1\", s1\n",
    "print \"s2\", s2\n",
    "\n",
    "s1[0] = -pi\n",
    "\n",
    "print \"s1\", s1, \"\\n\", \"s2\", s2, \"\\n\", \"x\", x"
   ]
  },
  {
   "cell_type": "markdown",
   "metadata": {},
   "source": [
    "If changes should not propagate to parent and sibling arrays, it is necessary to call copy on the slice. \n",
    "\n",
    "Alternatively, they can also be copied by calling array on arrays, or matrix on matrices."
   ]
  },
  {
   "cell_type": "code",
   "execution_count": 18,
   "metadata": {
    "collapsed": false
   },
   "outputs": [
    {
     "name": "stdout",
     "output_type": "stream",
     "text": [
      "[[ 0.  1.]\n",
      " [ 2.  3.]]\n",
      "[-3.14159265  1.        ] [-3.14159265  2.        ] [-3.14159265  1.        ]\n",
      "[[ 0.  1.]\n",
      " [ 2.  3.]]\n"
     ]
    }
   ],
   "source": [
    "x = reshape(arange(4.0), (2, 2))\n",
    "print x\n",
    "\n",
    "s1 = copy(x[0, :]) # Using fucntion - copy\n",
    "s2 = x[:, 0].copy() # Using method - copy\n",
    "s3 = array(x[0, :]) # Using creating a new array\n",
    "\n",
    "s1[0] = -pi\n",
    "s2[0] = -pi\n",
    "s3[0] = -pi\n",
    "\n",
    "print s1, s2, s3\n",
    "print x"
   ]
  },
  {
   "cell_type": "markdown",
   "metadata": {},
   "source": [
    "There is one notable exception to this rule – when using pure scalar selection the (scalar) value returned is always a copy.\n",
    "\n"
   ]
  },
  {
   "cell_type": "code",
   "execution_count": 19,
   "metadata": {
    "collapsed": false
   },
   "outputs": [
    {
     "name": "stdout",
     "output_type": "stream",
     "text": [
      "-3.14\n",
      "[ 0.  1.  2.  3.  4.]\n",
      "[ 0.]\n",
      "-3.14\n",
      "[-2.79  1.    2.    3.    4.  ]\n"
     ]
    }
   ],
   "source": [
    "x = arange(5.0)\n",
    "y = x[0] # Pure scalar selection\n",
    "z = x[:1] # A pure slice\n",
    "y = -3.14\n",
    "print y # y Changes\n",
    "\n",
    "print x # No propagation\n",
    "\n",
    "# No changes to z either\n",
    "print z \n",
    "\n",
    "z[0] = -2.79\n",
    "print y # No propagation since y used pure scalar selection\n",
    "print x # z is a view of x, so changes propagate"
   ]
  },
  {
   "cell_type": "markdown",
   "metadata": {},
   "source": [
    "Finally, assignments from functions which change values will automatically create a copy of the underlying array."
   ]
  },
  {
   "cell_type": "code",
   "execution_count": 23,
   "metadata": {
    "collapsed": false
   },
   "outputs": [
    {
     "name": "stdout",
     "output_type": "stream",
     "text": [
      "28815472 28815472\n",
      "[[ 1.  2.]\n",
      " [ 3.  4.]]\n",
      "28815472 26474976\n",
      "[[ 0.  1.]\n",
      " [ 2.  3.]]\n"
     ]
    }
   ],
   "source": [
    "x = reshape(arange(4.0), (2, 2))\n",
    "y = x\n",
    "\n",
    "print id(x), id(y) # same memory locations\n",
    "\n",
    "y = x + 1\n",
    "print y\n",
    "\n",
    "print id(x), id(y) # Different locations\n",
    "print x"
   ]
  },
  {
   "cell_type": "markdown",
   "metadata": {},
   "source": [
    "Even trivial function such as y = x + 0.0 create a copy of x , and so the only scenario where explicit copying is required is when y is directly assigned using a slice of x, and changes to y should not propagate to x ."
   ]
  },
  {
   "cell_type": "markdown",
   "metadata": {},
   "source": [
    "Exercise\n",
    "==\n",
    "Q1. Input the following matices into Python as both arrays and matrices.\n",
    "\n",
    "$$\n",
    "u =\n",
    "  \\begin{bmatrix}\n",
    "    1 & 1 & 2 & 3 & 5 & 8\n",
    "  \\end{bmatrix}\n",
    "$$\n",
    "\n",
    "$$ v = u^T $$\n",
    "\n",
    "\n",
    "$$\n",
    "x = I_{2X2}\n",
    "$$\n",
    "\n",
    "\n",
    "$$\n",
    "y =\n",
    "  \\begin{bmatrix}\n",
    "    1 & 2 \\\\\n",
    "    3 & 4 \\\\\n",
    "  \\end{bmatrix}\n",
    "$$\n",
    "\n",
    "\n",
    "$$\n",
    "z =\n",
    "  \\begin{bmatrix}\n",
    "    1 & 2 & 1 & 2 \\\\\n",
    "    3 & 4 & 3 & 4 \\\\\n",
    "    1 & 2 & 1 & 2 \\\\\n",
    "  \\end{bmatrix}\n",
    "$$\n",
    "\n",
    "$$\n",
    "w =\n",
    "  \\begin{bmatrix}\n",
    "    x & x \\\\\n",
    "    y & y \\\\\n",
    "  \\end{bmatrix}\n",
    "$$\n"
   ]
  },
  {
   "cell_type": "code",
   "execution_count": 8,
   "metadata": {
    "collapsed": false
   },
   "outputs": [
    {
     "name": "stdout",
     "output_type": "stream",
     "text": [
      "u [[1 1 2 3 5 8]]\n",
      "v [[1]\n",
      " [1]\n",
      " [2]\n",
      " [3]\n",
      " [5]\n",
      " [8]]\n",
      "x [[ 1.  0.]\n",
      " [ 0.  1.]]\n",
      "y [[1 2]\n",
      " [3 4]]\n",
      "z [[1 2 1 2]\n",
      " [3 4 3 4]\n",
      " [1 2 1 2]]\n",
      "w [[ 1.  0.  1.  0.]\n",
      " [ 0.  1.  0.  1.]\n",
      " [ 1.  2.  1.  2.]\n",
      " [ 3.  4.  3.  4.]]\n"
     ]
    }
   ],
   "source": [
    "u = array([[1, 1, 2, 3, 5, 8]])\n",
    "v = transpose(u)\n",
    "\n",
    "x = identity(2)\n",
    "y = reshape(arange(1, 5), (2, 2))\n",
    "z = array([[1, 2, 1, 2],\n",
    "           [3, 4, 3, 4],\n",
    "           [1, 2, 1, 2]])\n",
    "w = vstack([hstack([x, x]), hstack([y, y])])\n",
    "\n",
    "print \"u\", u\n",
    "print \"v\", v\n",
    "print \"x\", x\n",
    "print \"y\", y\n",
    "print \"z\", z\n",
    "print \"w\", w"
   ]
  },
  {
   "cell_type": "markdown",
   "metadata": {},
   "source": [
    "Q2. What command would pull x out of w ?"
   ]
  },
  {
   "cell_type": "code",
   "execution_count": 11,
   "metadata": {
    "collapsed": false
   },
   "outputs": [
    {
     "name": "stdout",
     "output_type": "stream",
     "text": [
      "[[ 1.  0.]\n",
      " [ 0.  1.]]\n",
      "[[ 1.  0.]\n",
      " [ 0.  1.]]\n"
     ]
    }
   ],
   "source": [
    "print w[:2, :2]\n",
    "print x"
   ]
  },
  {
   "cell_type": "markdown",
   "metadata": {},
   "source": [
    "Q3. What command would pull $[x^T, y^T]^T$ out of $w$?"
   ]
  },
  {
   "cell_type": "code",
   "execution_count": 14,
   "metadata": {
    "collapsed": false
   },
   "outputs": [
    {
     "name": "stdout",
     "output_type": "stream",
     "text": [
      "[[ 1.  0.]\n",
      " [ 0.  1.]\n",
      " [ 1.  2.]\n",
      " [ 3.  4.]]\n",
      "[[ 1.  0.]\n",
      " [ 0.  1.]\n",
      " [ 1.  2.]\n",
      " [ 3.  4.]]\n"
     ]
    }
   ],
   "source": [
    "print w[:, :2]\n",
    "print transpose(hstack([transpose(x), transpose(y)]))"
   ]
  },
  {
   "cell_type": "markdown",
   "metadata": {},
   "source": [
    "Q4. What command would pull $y$ out of $z$?"
   ]
  },
  {
   "cell_type": "code",
   "execution_count": 15,
   "metadata": {
    "collapsed": false
   },
   "outputs": [
    {
     "name": "stdout",
     "output_type": "stream",
     "text": [
      "[[1 2]\n",
      " [3 4]]\n",
      "[[1 2]\n",
      " [3 4]]\n"
     ]
    }
   ],
   "source": [
    "print z[:2, :2]\n",
    "print y"
   ]
  },
  {
   "cell_type": "markdown",
   "metadata": {},
   "source": [
    "Q5. Write an OLS estimator.\n",
    "$$ \\beta = (X^{T}X)^{-1}X^TY $$"
   ]
  },
  {
   "cell_type": "code",
   "execution_count": 18,
   "metadata": {
    "collapsed": false
   },
   "outputs": [
    {
     "name": "stdout",
     "output_type": "stream",
     "text": [
      "[[ 0.80220748]\n",
      " [-0.04419834]\n",
      " [ 0.18866963]\n",
      " [-0.27413913]\n",
      " [-0.25524798]\n",
      " [-0.15792029]]\n"
     ]
    }
   ],
   "source": [
    "def ols_estimator(x, y):\n",
    "    term1 = inv( dot(transpose(x), x) )\n",
    "    term2 = dot(transpose(x), y)\n",
    "    beta = dot(term1, term2)\n",
    "    return beta\n",
    "\n",
    "# Generate x\n",
    "x = reshape(random.random(100), (20, 5))\n",
    "unos = ones((20,1))\n",
    "x = hstack([unos, x])\n",
    "\n",
    "# Generate y\n",
    "y = reshape(random.random(20), (20, 1))\n",
    "\n",
    "print ols_estimator(x, y)"
   ]
  }
 ],
 "metadata": {
  "hide_input": false,
  "kernelspec": {
   "display_name": "Python 3",
   "language": "python",
   "name": "python3"
  },
  "language_info": {
   "codemirror_mode": {
    "name": "ipython",
    "version": 3
   },
   "file_extension": ".py",
   "mimetype": "text/x-python",
   "name": "python",
   "nbconvert_exporter": "python",
   "pygments_lexer": "ipython3",
   "version": "3.4.4"
  },
  "toc": {
   "toc_cell": false,
   "toc_number_sections": true,
   "toc_threshold": 6,
   "toc_window_display": false
  }
 },
 "nbformat": 4,
 "nbformat_minor": 0
}
