{
 "cells": [
  {
   "cell_type": "markdown",
   "metadata": {},
   "source": [
    "## Hierarchical Indexing (Multi-index)\n",
    "\n",
    "Hierarachical indexing opens the door to some quite sophisticated data analysis, especially for working with higher dimensional data. \n",
    "\n",
    "In essence, it enables you to store and manipulate data with an arbitrary number of dimensions in lower dimensional data structures like Series (1d) and DataFrame (2d).\n",
    "\n",
    "The *MultiIndex* object is the hierarchical analogue of the standard *Index* object which typically stores the axis labels in pandas objects. You can think of *MultiIndex* as an array of tuples where each tuple is unique."
   ]
  },
  {
   "cell_type": "code",
   "execution_count": 1,
   "metadata": {
    "collapsed": false
   },
   "outputs": [
    {
     "name": "stdout",
     "output_type": "stream",
     "text": [
      "[['bar', 'bar', 'cat', 'cat', 'dog', 'dog', 'ant', 'ant'], ['one', 'two', 'one', 'two', 'one', 'two', 'one', 'two']]\n"
     ]
    },
    {
     "data": {
      "text/plain": [
       "[('bar', 'one'),\n",
       " ('bar', 'two'),\n",
       " ('cat', 'one'),\n",
       " ('cat', 'two'),\n",
       " ('dog', 'one'),\n",
       " ('dog', 'two'),\n",
       " ('ant', 'one'),\n",
       " ('ant', 'two')]"
      ]
     },
     "execution_count": 1,
     "metadata": {},
     "output_type": "execute_result"
    }
   ],
   "source": [
    "import pandas as pd\n",
    "import numpy as np\n",
    "\n",
    "arrays = [['bar', 'bar', 'cat', 'cat', 'dog', 'dog', 'ant', 'ant'],\n",
    "          ['one', 'two', 'one', 'two', 'one', 'two', 'one', 'two']]\n",
    "print(arrays)\n",
    "tuples = list(zip(*arrays))\n",
    "tuples"
   ]
  },
  {
   "cell_type": "code",
   "execution_count": 2,
   "metadata": {
    "collapsed": false
   },
   "outputs": [
    {
     "data": {
      "text/plain": [
       "MultiIndex(levels=[['ant', 'bar', 'cat', 'dog'], ['one', 'two']],\n",
       "           labels=[[1, 1, 2, 2, 3, 3, 0, 0], [0, 1, 0, 1, 0, 1, 0, 1]],\n",
       "           names=['first', 'second'])"
      ]
     },
     "execution_count": 2,
     "metadata": {},
     "output_type": "execute_result"
    }
   ],
   "source": [
    "# Create MultiIndex from tuples\n",
    "index = pd.MultiIndex.from_tuples(tuples, names=['first', 'second'])\n",
    "index"
   ]
  },
  {
   "cell_type": "code",
   "execution_count": 3,
   "metadata": {
    "collapsed": false
   },
   "outputs": [
    {
     "data": {
      "text/plain": [
       "first  second\n",
       "bar    one      -0.725250\n",
       "       two      -0.282291\n",
       "cat    one      -0.219755\n",
       "       two      -1.588924\n",
       "dog    one       0.108462\n",
       "       two      -0.730629\n",
       "ant    one      -0.406205\n",
       "       two       0.214514\n",
       "dtype: float64"
      ]
     },
     "execution_count": 3,
     "metadata": {},
     "output_type": "execute_result"
    }
   ],
   "source": [
    "s = pd.Series(np.random.randn(8), index=index)\n",
    "s"
   ]
  },
  {
   "cell_type": "code",
   "execution_count": 4,
   "metadata": {
    "collapsed": false
   },
   "outputs": [
    {
     "data": {
      "text/plain": [
       "first  second\n",
       "bar    one      -1.533847\n",
       "       two       1.753168\n",
       "cat    one      -0.703716\n",
       "       two       0.650929\n",
       "dog    one       0.344623\n",
       "       two      -1.948729\n",
       "ant    one      -0.799954\n",
       "       two       1.326959\n",
       "dtype: float64"
      ]
     },
     "execution_count": 4,
     "metadata": {},
     "output_type": "execute_result"
    }
   ],
   "source": [
    "# Create MultiIndex from every pairing of the elements\n",
    "arrays2 = [['bar', 'cat', 'dog', 'ant'],\n",
    "           ['one', 'two']]\n",
    "s2 = pd.Series(np.random.randn(8), \n",
    "               index=pd.MultiIndex.from_product(arrays2, names=['first', 'second']))\n",
    "s2"
   ]
  },
  {
   "cell_type": "code",
   "execution_count": 5,
   "metadata": {
    "collapsed": false
   },
   "outputs": [
    {
     "name": "stdout",
     "output_type": "stream",
     "text": [
      "bar  one    0.708273\n",
      "     two    0.310426\n",
      "cat  one   -0.295035\n",
      "     two    1.012179\n",
      "dog  one    1.066491\n",
      "     two   -1.093649\n",
      "ant  one   -0.083057\n",
      "     two    0.707237\n",
      "dtype: float64\n"
     ]
    },
    {
     "data": {
      "text/html": [
       "<div>\n",
       "<table border=\"1\" class=\"dataframe\">\n",
       "  <thead>\n",
       "    <tr style=\"text-align: right;\">\n",
       "      <th></th>\n",
       "      <th></th>\n",
       "      <th>0</th>\n",
       "      <th>1</th>\n",
       "      <th>2</th>\n",
       "      <th>3</th>\n",
       "    </tr>\n",
       "  </thead>\n",
       "  <tbody>\n",
       "    <tr>\n",
       "      <th rowspan=\"2\" valign=\"top\">bar</th>\n",
       "      <th>one</th>\n",
       "      <td>-0.909474</td>\n",
       "      <td>1.499622</td>\n",
       "      <td>0.821909</td>\n",
       "      <td>-1.122663</td>\n",
       "    </tr>\n",
       "    <tr>\n",
       "      <th>two</th>\n",
       "      <td>-0.387693</td>\n",
       "      <td>2.249439</td>\n",
       "      <td>0.658162</td>\n",
       "      <td>0.419776</td>\n",
       "    </tr>\n",
       "    <tr>\n",
       "      <th rowspan=\"2\" valign=\"top\">cat</th>\n",
       "      <th>one</th>\n",
       "      <td>-0.129603</td>\n",
       "      <td>0.242902</td>\n",
       "      <td>0.738085</td>\n",
       "      <td>-0.252586</td>\n",
       "    </tr>\n",
       "    <tr>\n",
       "      <th>two</th>\n",
       "      <td>-1.432529</td>\n",
       "      <td>1.773576</td>\n",
       "      <td>0.352101</td>\n",
       "      <td>-0.464754</td>\n",
       "    </tr>\n",
       "    <tr>\n",
       "      <th rowspan=\"2\" valign=\"top\">dog</th>\n",
       "      <th>one</th>\n",
       "      <td>0.025586</td>\n",
       "      <td>-1.951273</td>\n",
       "      <td>-0.973766</td>\n",
       "      <td>0.044732</td>\n",
       "    </tr>\n",
       "    <tr>\n",
       "      <th>two</th>\n",
       "      <td>0.696683</td>\n",
       "      <td>-1.193574</td>\n",
       "      <td>1.560547</td>\n",
       "      <td>-0.654714</td>\n",
       "    </tr>\n",
       "    <tr>\n",
       "      <th rowspan=\"2\" valign=\"top\">ant</th>\n",
       "      <th>one</th>\n",
       "      <td>0.892502</td>\n",
       "      <td>-0.940173</td>\n",
       "      <td>0.291252</td>\n",
       "      <td>1.636593</td>\n",
       "    </tr>\n",
       "    <tr>\n",
       "      <th>two</th>\n",
       "      <td>0.705944</td>\n",
       "      <td>0.430051</td>\n",
       "      <td>0.880048</td>\n",
       "      <td>0.246392</td>\n",
       "    </tr>\n",
       "  </tbody>\n",
       "</table>\n",
       "</div>"
      ],
      "text/plain": [
       "                0         1         2         3\n",
       "bar one -0.909474  1.499622  0.821909 -1.122663\n",
       "    two -0.387693  2.249439  0.658162  0.419776\n",
       "cat one -0.129603  0.242902  0.738085 -0.252586\n",
       "    two -1.432529  1.773576  0.352101 -0.464754\n",
       "dog one  0.025586 -1.951273 -0.973766  0.044732\n",
       "    two  0.696683 -1.193574  1.560547 -0.654714\n",
       "ant one  0.892502 -0.940173  0.291252  1.636593\n",
       "    two  0.705944  0.430051  0.880048  0.246392"
      ]
     },
     "execution_count": 5,
     "metadata": {},
     "output_type": "execute_result"
    }
   ],
   "source": [
    "# Create MultiIndex from a list of Arrays automatically\n",
    "arrays3 = [np.array(['bar', 'bar', 'cat', 'cat', 'dog', 'dog', 'ant', 'ant']),\n",
    "          np.array(['one', 'two', 'one', 'two', 'one', 'two', 'one', 'two'])]\n",
    "s3 = pd.Series(np.random.randn(8), index = arrays3)\n",
    "print(s3)\n",
    "\n",
    "df3 = pd.DataFrame(np.random.randn(8, 4), index=arrays3)\n",
    "df3"
   ]
  },
  {
   "cell_type": "code",
   "execution_count": 6,
   "metadata": {
    "collapsed": false
   },
   "outputs": [
    {
     "name": "stdout",
     "output_type": "stream",
     "text": [
      "['first', 'second']\n",
      "['first', 'second']\n",
      "[None, None]\n",
      "[None, None]\n"
     ]
    }
   ],
   "source": [
    "# To retrieve the names of the two-level index\n",
    "print(s.index.names)\n",
    "print(s2.index.names)\n",
    "print(s3.index.names)\n",
    "print(df3.index.names)"
   ]
  },
  {
   "cell_type": "markdown",
   "metadata": {},
   "source": [
    "The reason that the *MultiIndex* matters is that it can allow you to do grouping, selection, and reshaping operations as we will describe below and in subsequent areas of the documentation. \n",
    "\n",
    "As you will see in later sections, you can find yourself working with hierarchically-indexed data, without creating a *MultiIndex* explicitly yourself. However, when loading data from a file, you may wich to generate your own *MultiIndex* when preparing the dataset."
   ]
  },
  {
   "cell_type": "code",
   "execution_count": 7,
   "metadata": {
    "collapsed": false
   },
   "outputs": [
    {
     "name": "stdout",
     "output_type": "stream",
     "text": [
      "                0         1         2         3\n",
      "bar one -0.909474  1.499622  0.821909 -1.122663\n",
      "bar two -0.387693  2.249439  0.658162  0.419776\n",
      "cat one -0.129603  0.242902  0.738085 -0.252586\n",
      "cat two -1.432529  1.773576  0.352101 -0.464754\n",
      "dog one  0.025586 -1.951273 -0.973766  0.044732\n",
      "dog two  0.696683 -1.193574  1.560547 -0.654714\n",
      "ant one  0.892502 -0.940173  0.291252  1.636593\n",
      "ant two  0.705944  0.430051  0.880048  0.246392\n",
      "                0         1         2         3\n",
      "bar one -0.909474  1.499622  0.821909 -1.122663\n",
      "    two -0.387693  2.249439  0.658162  0.419776\n",
      "cat one -0.129603  0.242902  0.738085 -0.252586\n",
      "    two -1.432529  1.773576  0.352101 -0.464754\n",
      "dog one  0.025586 -1.951273 -0.973766  0.044732\n",
      "    two  0.696683 -1.193574  1.560547 -0.654714\n",
      "ant one  0.892502 -0.940173  0.291252  1.636593\n",
      "    two  0.705944  0.430051  0.880048  0.246392\n"
     ]
    }
   ],
   "source": [
    "# Note that the display of the index can be altered.\n",
    "pd.set_option('display.multi_sparse', False)\n",
    "print(df3)\n",
    "pd.set_option('display.multi_sparse', True)\n",
    "print(df3)"
   ]
  },
  {
   "cell_type": "markdown",
   "metadata": {},
   "source": [
    "#### Reconstrucing the level levels\n",
    "The method *get_level_values* will return a vector of the labels for each location at a particular level."
   ]
  },
  {
   "cell_type": "code",
   "execution_count": 8,
   "metadata": {
    "collapsed": false
   },
   "outputs": [
    {
     "data": {
      "text/plain": [
       "Index(['bar', 'bar', 'cat', 'cat', 'dog', 'dog', 'ant', 'ant'], dtype='object')"
      ]
     },
     "execution_count": 8,
     "metadata": {},
     "output_type": "execute_result"
    }
   ],
   "source": [
    "df3.index.get_level_values(0)"
   ]
  },
  {
   "cell_type": "code",
   "execution_count": 9,
   "metadata": {
    "collapsed": false
   },
   "outputs": [
    {
     "data": {
      "text/plain": [
       "Index(['one', 'two', 'one', 'two', 'one', 'two', 'one', 'two'], dtype='object', name='second')"
      ]
     },
     "execution_count": 9,
     "metadata": {},
     "output_type": "execute_result"
    }
   ],
   "source": [
    "s2.index.get_level_values('second')"
   ]
  },
  {
   "cell_type": "markdown",
   "metadata": {},
   "source": [
    "## Basic Indexing using MultiIndex\n",
    "\n",
    "One of the important features of hierarchical indexing is that you can select data by a 'partial' label identifying a subgroup in the data.\n",
    "\n",
    "Partial selection \"drops\" levels of the hierarchical index in the result in a completely analogous way to selecting a column in a regular DataFrame.\n"
   ]
  },
  {
   "cell_type": "code",
   "execution_count": 10,
   "metadata": {
    "collapsed": false
   },
   "outputs": [
    {
     "name": "stdout",
     "output_type": "stream",
     "text": [
      "                0         1         2         3\n",
      "bar one -0.909474  1.499622  0.821909 -1.122663\n",
      "    two -0.387693  2.249439  0.658162  0.419776\n",
      "cat one -0.129603  0.242902  0.738085 -0.252586\n",
      "    two -1.432529  1.773576  0.352101 -0.464754\n",
      "dog one  0.025586 -1.951273 -0.973766  0.044732\n",
      "    two  0.696683 -1.193574  1.560547 -0.654714\n",
      "ant one  0.892502 -0.940173  0.291252  1.636593\n",
      "    two  0.705944  0.430051  0.880048  0.246392\n",
      "            0         3\n",
      "one -0.909474 -1.122663\n",
      "two -0.387693  0.419776\n",
      "\n",
      "\n",
      "0   -0.387693\n",
      "3    0.419776\n",
      "Name: two, dtype: float64\n"
     ]
    }
   ],
   "source": [
    "print(df3)\n",
    "print(df3.ix['bar', [0, 3]])\n",
    "print(\"\\n\")\n",
    "print(df3.ix['bar', [0, 3]].ix['two'])"
   ]
  },
  {
   "cell_type": "code",
   "execution_count": 11,
   "metadata": {
    "collapsed": false
   },
   "outputs": [
    {
     "name": "stdout",
     "output_type": "stream",
     "text": [
      "0   -0.387693\n",
      "1    2.249439\n",
      "2    0.658162\n",
      "3    0.419776\n",
      "Name: (bar, two), dtype: float64\n"
     ]
    }
   ],
   "source": [
    "print(df3.loc['bar', 'two'])"
   ]
  },
  {
   "cell_type": "code",
   "execution_count": 12,
   "metadata": {
    "collapsed": false
   },
   "outputs": [
    {
     "name": "stdout",
     "output_type": "stream",
     "text": [
      "first  second\n",
      "bar    one      -0.725250\n",
      "       two      -0.282291\n",
      "cat    one      -0.219755\n",
      "       two      -1.588924\n",
      "dog    one       0.108462\n",
      "       two      -0.730629\n",
      "ant    one      -0.406205\n",
      "       two       0.214514\n",
      "dtype: float64\n",
      "\n",
      "\n",
      "first  second\n",
      "bar    one      -0.725250\n",
      "       two      -0.282291\n",
      "cat    one      -0.219755\n",
      "       two      -1.588924\n",
      "dog    one       0.108462\n",
      "       two      -0.730629\n",
      "dtype: float64\n",
      "\n",
      "\n",
      "first  second\n",
      "ant    one            NaN\n",
      "       two            NaN\n",
      "bar    one      -1.450499\n",
      "       two      -0.564582\n",
      "cat    one      -0.439510\n",
      "       two      -3.177847\n",
      "dog    one       0.216923\n",
      "       two      -1.461258\n",
      "dtype: float64\n"
     ]
    }
   ],
   "source": [
    "# Calculation and slicing are the same\n",
    "print(s)\n",
    "print('\\n')\n",
    "print(s[:-2])\n",
    "print('\\n')\n",
    "print(s + s[:-2])"
   ]
  },
  {
   "cell_type": "code",
   "execution_count": 13,
   "metadata": {
    "collapsed": false
   },
   "outputs": [
    {
     "data": {
      "text/html": [
       "<div>\n",
       "<table border=\"1\" class=\"dataframe\">\n",
       "  <thead>\n",
       "    <tr>\n",
       "      <th></th>\n",
       "      <th colspan=\"2\" halign=\"left\">bar</th>\n",
       "      <th colspan=\"2\" halign=\"left\">cat</th>\n",
       "      <th colspan=\"2\" halign=\"left\">dog</th>\n",
       "      <th colspan=\"2\" halign=\"left\">ant</th>\n",
       "    </tr>\n",
       "    <tr>\n",
       "      <th></th>\n",
       "      <th>one</th>\n",
       "      <th>two</th>\n",
       "      <th>one</th>\n",
       "      <th>two</th>\n",
       "      <th>one</th>\n",
       "      <th>two</th>\n",
       "      <th>one</th>\n",
       "      <th>two</th>\n",
       "    </tr>\n",
       "  </thead>\n",
       "  <tbody>\n",
       "    <tr>\n",
       "      <th>0</th>\n",
       "      <td>-0.909474</td>\n",
       "      <td>-0.387693</td>\n",
       "      <td>-0.129603</td>\n",
       "      <td>-1.432529</td>\n",
       "      <td>0.025586</td>\n",
       "      <td>0.696683</td>\n",
       "      <td>0.892502</td>\n",
       "      <td>0.705944</td>\n",
       "    </tr>\n",
       "    <tr>\n",
       "      <th>1</th>\n",
       "      <td>1.499622</td>\n",
       "      <td>2.249439</td>\n",
       "      <td>0.242902</td>\n",
       "      <td>1.773576</td>\n",
       "      <td>-1.951273</td>\n",
       "      <td>-1.193574</td>\n",
       "      <td>-0.940173</td>\n",
       "      <td>0.430051</td>\n",
       "    </tr>\n",
       "    <tr>\n",
       "      <th>2</th>\n",
       "      <td>0.821909</td>\n",
       "      <td>0.658162</td>\n",
       "      <td>0.738085</td>\n",
       "      <td>0.352101</td>\n",
       "      <td>-0.973766</td>\n",
       "      <td>1.560547</td>\n",
       "      <td>0.291252</td>\n",
       "      <td>0.880048</td>\n",
       "    </tr>\n",
       "    <tr>\n",
       "      <th>3</th>\n",
       "      <td>-1.122663</td>\n",
       "      <td>0.419776</td>\n",
       "      <td>-0.252586</td>\n",
       "      <td>-0.464754</td>\n",
       "      <td>0.044732</td>\n",
       "      <td>-0.654714</td>\n",
       "      <td>1.636593</td>\n",
       "      <td>0.246392</td>\n",
       "    </tr>\n",
       "  </tbody>\n",
       "</table>\n",
       "</div>"
      ],
      "text/plain": [
       "        bar                 cat                 dog                 ant  \\\n",
       "        one       two       one       two       one       two       one   \n",
       "0 -0.909474 -0.387693 -0.129603 -1.432529  0.025586  0.696683  0.892502   \n",
       "1  1.499622  2.249439  0.242902  1.773576 -1.951273 -1.193574 -0.940173   \n",
       "2  0.821909  0.658162  0.738085  0.352101 -0.973766  1.560547  0.291252   \n",
       "3 -1.122663  0.419776 -0.252586 -0.464754  0.044732 -0.654714  1.636593   \n",
       "\n",
       "             \n",
       "        two  \n",
       "0  0.705944  \n",
       "1  0.430051  \n",
       "2  0.880048  \n",
       "3  0.246392  "
      ]
     },
     "execution_count": 13,
     "metadata": {},
     "output_type": "execute_result"
    }
   ],
   "source": [
    "# Transpose works as you expected\n",
    "df3.T"
   ]
  },
  {
   "cell_type": "markdown",
   "metadata": {},
   "source": [
    "#### Cross-section\n",
    "\n",
    "The *xs* method of DataFrame additionally takes a level argument to make selecting data at a particular level of a MultiIndex easier."
   ]
  },
  {
   "cell_type": "code",
   "execution_count": 14,
   "metadata": {
    "collapsed": false
   },
   "outputs": [
    {
     "name": "stdout",
     "output_type": "stream",
     "text": [
      "                0         1         2         3\n",
      "bar one -0.909474  1.499622  0.821909 -1.122663\n",
      "    two -0.387693  2.249439  0.658162  0.419776\n",
      "cat one -0.129603  0.242902  0.738085 -0.252586\n",
      "    two -1.432529  1.773576  0.352101 -0.464754\n",
      "dog one  0.025586 -1.951273 -0.973766  0.044732\n",
      "    two  0.696683 -1.193574  1.560547 -0.654714\n",
      "ant one  0.892502 -0.940173  0.291252  1.636593\n",
      "    two  0.705944  0.430051  0.880048  0.246392\n"
     ]
    },
    {
     "data": {
      "text/html": [
       "<div>\n",
       "<table border=\"1\" class=\"dataframe\">\n",
       "  <thead>\n",
       "    <tr style=\"text-align: right;\">\n",
       "      <th></th>\n",
       "      <th>0</th>\n",
       "      <th>1</th>\n",
       "      <th>2</th>\n",
       "      <th>3</th>\n",
       "    </tr>\n",
       "  </thead>\n",
       "  <tbody>\n",
       "    <tr>\n",
       "      <th>bar</th>\n",
       "      <td>-0.387693</td>\n",
       "      <td>2.249439</td>\n",
       "      <td>0.658162</td>\n",
       "      <td>0.419776</td>\n",
       "    </tr>\n",
       "    <tr>\n",
       "      <th>cat</th>\n",
       "      <td>-1.432529</td>\n",
       "      <td>1.773576</td>\n",
       "      <td>0.352101</td>\n",
       "      <td>-0.464754</td>\n",
       "    </tr>\n",
       "    <tr>\n",
       "      <th>dog</th>\n",
       "      <td>0.696683</td>\n",
       "      <td>-1.193574</td>\n",
       "      <td>1.560547</td>\n",
       "      <td>-0.654714</td>\n",
       "    </tr>\n",
       "    <tr>\n",
       "      <th>ant</th>\n",
       "      <td>0.705944</td>\n",
       "      <td>0.430051</td>\n",
       "      <td>0.880048</td>\n",
       "      <td>0.246392</td>\n",
       "    </tr>\n",
       "  </tbody>\n",
       "</table>\n",
       "</div>"
      ],
      "text/plain": [
       "            0         1         2         3\n",
       "bar -0.387693  2.249439  0.658162  0.419776\n",
       "cat -1.432529  1.773576  0.352101 -0.464754\n",
       "dog  0.696683 -1.193574  1.560547 -0.654714\n",
       "ant  0.705944  0.430051  0.880048  0.246392"
      ]
     },
     "execution_count": 14,
     "metadata": {},
     "output_type": "execute_result"
    }
   ],
   "source": [
    "print(df3)\n",
    "df3.xs('two', level=1)"
   ]
  },
  {
   "cell_type": "code",
   "execution_count": 15,
   "metadata": {
    "collapsed": false
   },
   "outputs": [
    {
     "data": {
      "text/html": [
       "<div>\n",
       "<table border=\"1\" class=\"dataframe\">\n",
       "  <thead>\n",
       "    <tr style=\"text-align: right;\">\n",
       "      <th></th>\n",
       "      <th>bar</th>\n",
       "      <th>cat</th>\n",
       "      <th>dog</th>\n",
       "      <th>ant</th>\n",
       "    </tr>\n",
       "  </thead>\n",
       "  <tbody>\n",
       "    <tr>\n",
       "      <th>0</th>\n",
       "      <td>-0.387693</td>\n",
       "      <td>-1.432529</td>\n",
       "      <td>0.696683</td>\n",
       "      <td>0.705944</td>\n",
       "    </tr>\n",
       "    <tr>\n",
       "      <th>1</th>\n",
       "      <td>2.249439</td>\n",
       "      <td>1.773576</td>\n",
       "      <td>-1.193574</td>\n",
       "      <td>0.430051</td>\n",
       "    </tr>\n",
       "    <tr>\n",
       "      <th>2</th>\n",
       "      <td>0.658162</td>\n",
       "      <td>0.352101</td>\n",
       "      <td>1.560547</td>\n",
       "      <td>0.880048</td>\n",
       "    </tr>\n",
       "    <tr>\n",
       "      <th>3</th>\n",
       "      <td>0.419776</td>\n",
       "      <td>-0.464754</td>\n",
       "      <td>-0.654714</td>\n",
       "      <td>0.246392</td>\n",
       "    </tr>\n",
       "  </tbody>\n",
       "</table>\n",
       "</div>"
      ],
      "text/plain": [
       "        bar       cat       dog       ant\n",
       "0 -0.387693 -1.432529  0.696683  0.705944\n",
       "1  2.249439  1.773576 -1.193574  0.430051\n",
       "2  0.658162  0.352101  1.560547  0.880048\n",
       "3  0.419776 -0.464754 -0.654714  0.246392"
      ]
     },
     "execution_count": 15,
     "metadata": {},
     "output_type": "execute_result"
    }
   ],
   "source": [
    "# To select columns with xs(), you need to provide the axis argument.\n",
    "df_T = df3.T\n",
    "df_T.xs('two', level=1, axis=1)"
   ]
  },
  {
   "cell_type": "code",
   "execution_count": 16,
   "metadata": {
    "collapsed": false
   },
   "outputs": [
    {
     "data": {
      "text/html": [
       "<div>\n",
       "<table border=\"1\" class=\"dataframe\">\n",
       "  <thead>\n",
       "    <tr>\n",
       "      <th></th>\n",
       "      <th>bar</th>\n",
       "    </tr>\n",
       "    <tr>\n",
       "      <th></th>\n",
       "      <th>two</th>\n",
       "    </tr>\n",
       "  </thead>\n",
       "  <tbody>\n",
       "    <tr>\n",
       "      <th>0</th>\n",
       "      <td>-0.387693</td>\n",
       "    </tr>\n",
       "    <tr>\n",
       "      <th>1</th>\n",
       "      <td>2.249439</td>\n",
       "    </tr>\n",
       "    <tr>\n",
       "      <th>2</th>\n",
       "      <td>0.658162</td>\n",
       "    </tr>\n",
       "    <tr>\n",
       "      <th>3</th>\n",
       "      <td>0.419776</td>\n",
       "    </tr>\n",
       "  </tbody>\n",
       "</table>\n",
       "</div>"
      ],
      "text/plain": [
       "        bar\n",
       "        two\n",
       "0 -0.387693\n",
       "1  2.249439\n",
       "2  0.658162\n",
       "3  0.419776"
      ]
     },
     "execution_count": 16,
     "metadata": {},
     "output_type": "execute_result"
    }
   ],
   "source": [
    "# No one stops you from selecting using multiple keys\n",
    "df_T.xs(('two', 'bar'), level=(1, 0), axis=1)"
   ]
  },
  {
   "cell_type": "markdown",
   "metadata": {},
   "source": [
    "#### Reindexing and Alignment\n",
    "\n",
    "The parameter *level* is useful to broadcast values across a level."
   ]
  },
  {
   "cell_type": "code",
   "execution_count": 17,
   "metadata": {
    "collapsed": false
   },
   "outputs": [
    {
     "data": {
      "text/html": [
       "<div>\n",
       "<table border=\"1\" class=\"dataframe\">\n",
       "  <thead>\n",
       "    <tr style=\"text-align: right;\">\n",
       "      <th></th>\n",
       "      <th></th>\n",
       "      <th>0</th>\n",
       "      <th>1</th>\n",
       "    </tr>\n",
       "  </thead>\n",
       "  <tbody>\n",
       "    <tr>\n",
       "      <th rowspan=\"2\" valign=\"top\">one</th>\n",
       "      <th>x</th>\n",
       "      <td>-0.757636</td>\n",
       "      <td>-1.535119</td>\n",
       "    </tr>\n",
       "    <tr>\n",
       "      <th>y</th>\n",
       "      <td>1.348964</td>\n",
       "      <td>-1.808988</td>\n",
       "    </tr>\n",
       "    <tr>\n",
       "      <th rowspan=\"2\" valign=\"top\">zero</th>\n",
       "      <th>x</th>\n",
       "      <td>-2.162444</td>\n",
       "      <td>-0.215149</td>\n",
       "    </tr>\n",
       "    <tr>\n",
       "      <th>y</th>\n",
       "      <td>0.498657</td>\n",
       "      <td>-1.024355</td>\n",
       "    </tr>\n",
       "  </tbody>\n",
       "</table>\n",
       "</div>"
      ],
      "text/plain": [
       "               0         1\n",
       "one  x -0.757636 -1.535119\n",
       "     y  1.348964 -1.808988\n",
       "zero x -2.162444 -0.215149\n",
       "     y  0.498657 -1.024355"
      ]
     },
     "execution_count": 17,
     "metadata": {},
     "output_type": "execute_result"
    }
   ],
   "source": [
    "midx = pd.MultiIndex.from_product([['one', 'zero'], \n",
    "                                   ['x', 'y']], \n",
    "                                  )\n",
    "df = pd.DataFrame(np.random.randn(4,2), index=midx)\n",
    "df"
   ]
  },
  {
   "cell_type": "code",
   "execution_count": 18,
   "metadata": {
    "collapsed": false
   },
   "outputs": [
    {
     "data": {
      "text/html": [
       "<div>\n",
       "<table border=\"1\" class=\"dataframe\">\n",
       "  <thead>\n",
       "    <tr style=\"text-align: right;\">\n",
       "      <th></th>\n",
       "      <th>0</th>\n",
       "      <th>1</th>\n",
       "    </tr>\n",
       "  </thead>\n",
       "  <tbody>\n",
       "    <tr>\n",
       "      <th>one</th>\n",
       "      <td>0.295664</td>\n",
       "      <td>-1.672054</td>\n",
       "    </tr>\n",
       "    <tr>\n",
       "      <th>zero</th>\n",
       "      <td>-0.831894</td>\n",
       "      <td>-0.619752</td>\n",
       "    </tr>\n",
       "  </tbody>\n",
       "</table>\n",
       "</div>"
      ],
      "text/plain": [
       "             0         1\n",
       "one   0.295664 -1.672054\n",
       "zero -0.831894 -0.619752"
      ]
     },
     "execution_count": 18,
     "metadata": {},
     "output_type": "execute_result"
    }
   ],
   "source": [
    "df2 = df.mean(level = 0)\n",
    "df2"
   ]
  },
  {
   "cell_type": "code",
   "execution_count": 19,
   "metadata": {
    "collapsed": false
   },
   "outputs": [
    {
     "data": {
      "text/html": [
       "<div>\n",
       "<table border=\"1\" class=\"dataframe\">\n",
       "  <thead>\n",
       "    <tr style=\"text-align: right;\">\n",
       "      <th></th>\n",
       "      <th></th>\n",
       "      <th>0</th>\n",
       "      <th>1</th>\n",
       "    </tr>\n",
       "  </thead>\n",
       "  <tbody>\n",
       "    <tr>\n",
       "      <th rowspan=\"2\" valign=\"top\">one</th>\n",
       "      <th>x</th>\n",
       "      <td>0.295664</td>\n",
       "      <td>-1.672054</td>\n",
       "    </tr>\n",
       "    <tr>\n",
       "      <th>y</th>\n",
       "      <td>0.295664</td>\n",
       "      <td>-1.672054</td>\n",
       "    </tr>\n",
       "    <tr>\n",
       "      <th rowspan=\"2\" valign=\"top\">zero</th>\n",
       "      <th>x</th>\n",
       "      <td>-0.831894</td>\n",
       "      <td>-0.619752</td>\n",
       "    </tr>\n",
       "    <tr>\n",
       "      <th>y</th>\n",
       "      <td>-0.831894</td>\n",
       "      <td>-0.619752</td>\n",
       "    </tr>\n",
       "  </tbody>\n",
       "</table>\n",
       "</div>"
      ],
      "text/plain": [
       "               0         1\n",
       "one  x  0.295664 -1.672054\n",
       "     y  0.295664 -1.672054\n",
       "zero x -0.831894 -0.619752\n",
       "     y -0.831894 -0.619752"
      ]
     },
     "execution_count": 19,
     "metadata": {},
     "output_type": "execute_result"
    }
   ],
   "source": [
    "# Reindexing\n",
    "df2.reindex(df.index, level=0)"
   ]
  },
  {
   "cell_type": "code",
   "execution_count": 20,
   "metadata": {
    "collapsed": false
   },
   "outputs": [
    {
     "data": {
      "text/html": [
       "<div>\n",
       "<table border=\"1\" class=\"dataframe\">\n",
       "  <thead>\n",
       "    <tr style=\"text-align: right;\">\n",
       "      <th></th>\n",
       "      <th></th>\n",
       "      <th>0</th>\n",
       "      <th>1</th>\n",
       "    </tr>\n",
       "  </thead>\n",
       "  <tbody>\n",
       "    <tr>\n",
       "      <th rowspan=\"2\" valign=\"top\">one</th>\n",
       "      <th>x</th>\n",
       "      <td>0.295664</td>\n",
       "      <td>-1.672054</td>\n",
       "    </tr>\n",
       "    <tr>\n",
       "      <th>y</th>\n",
       "      <td>0.295664</td>\n",
       "      <td>-1.672054</td>\n",
       "    </tr>\n",
       "    <tr>\n",
       "      <th rowspan=\"2\" valign=\"top\">zero</th>\n",
       "      <th>x</th>\n",
       "      <td>-0.831894</td>\n",
       "      <td>-0.619752</td>\n",
       "    </tr>\n",
       "    <tr>\n",
       "      <th>y</th>\n",
       "      <td>-0.831894</td>\n",
       "      <td>-0.619752</td>\n",
       "    </tr>\n",
       "  </tbody>\n",
       "</table>\n",
       "</div>"
      ],
      "text/plain": [
       "               0         1\n",
       "one  x  0.295664 -1.672054\n",
       "     y  0.295664 -1.672054\n",
       "zero x -0.831894 -0.619752\n",
       "     y -0.831894 -0.619752"
      ]
     },
     "execution_count": 20,
     "metadata": {},
     "output_type": "execute_result"
    }
   ],
   "source": [
    "# Aligning\n",
    "df_aligned, df2_aligned = df.align(df2, level=0)\n",
    "df_aligned\n",
    "df2_aligned"
   ]
  },
  {
   "cell_type": "markdown",
   "metadata": {},
   "source": [
    "#### Swapping levels with swaplevel()\n",
    "\n",
    "The swaplevel() function can switch the order of two levels."
   ]
  },
  {
   "cell_type": "code",
   "execution_count": 21,
   "metadata": {
    "collapsed": false
   },
   "outputs": [
    {
     "data": {
      "text/html": [
       "<div>\n",
       "<table border=\"1\" class=\"dataframe\">\n",
       "  <thead>\n",
       "    <tr style=\"text-align: right;\">\n",
       "      <th></th>\n",
       "      <th></th>\n",
       "      <th>0</th>\n",
       "      <th>1</th>\n",
       "    </tr>\n",
       "  </thead>\n",
       "  <tbody>\n",
       "    <tr>\n",
       "      <th>x</th>\n",
       "      <th>one</th>\n",
       "      <td>-0.757636</td>\n",
       "      <td>-1.535119</td>\n",
       "    </tr>\n",
       "    <tr>\n",
       "      <th>y</th>\n",
       "      <th>one</th>\n",
       "      <td>1.348964</td>\n",
       "      <td>-1.808988</td>\n",
       "    </tr>\n",
       "    <tr>\n",
       "      <th>x</th>\n",
       "      <th>zero</th>\n",
       "      <td>-2.162444</td>\n",
       "      <td>-0.215149</td>\n",
       "    </tr>\n",
       "    <tr>\n",
       "      <th>y</th>\n",
       "      <th>zero</th>\n",
       "      <td>0.498657</td>\n",
       "      <td>-1.024355</td>\n",
       "    </tr>\n",
       "  </tbody>\n",
       "</table>\n",
       "</div>"
      ],
      "text/plain": [
       "               0         1\n",
       "x one  -0.757636 -1.535119\n",
       "y one   1.348964 -1.808988\n",
       "x zero -2.162444 -0.215149\n",
       "y zero  0.498657 -1.024355"
      ]
     },
     "execution_count": 21,
     "metadata": {},
     "output_type": "execute_result"
    }
   ],
   "source": [
    "df.swaplevel(0, 1, axis=0)"
   ]
  },
  {
   "cell_type": "markdown",
   "metadata": {},
   "source": [
    "#### Sorting the index\n"
   ]
  },
  {
   "cell_type": "code",
   "execution_count": 22,
   "metadata": {
    "collapsed": false
   },
   "outputs": [
    {
     "name": "stdout",
     "output_type": "stream",
     "text": [
      "[('bar', 'one'), ('bar', 'two'), ('cat', 'one'), ('cat', 'two'), ('dog', 'one'), ('dog', 'two'), ('ant', 'one'), ('ant', 'two')]\n",
      "[('cat', 'two'), ('dog', 'one'), ('ant', 'one'), ('bar', 'one'), ('cat', 'one'), ('dog', 'two'), ('ant', 'two'), ('bar', 'two')]\n"
     ]
    }
   ],
   "source": [
    "import random\n",
    "print(tuples)\n",
    "random.shuffle(tuples)\n",
    "print(tuples)"
   ]
  },
  {
   "cell_type": "code",
   "execution_count": 23,
   "metadata": {
    "collapsed": false
   },
   "outputs": [
    {
     "data": {
      "text/plain": [
       "cat  two   -0.655848\n",
       "dog  one   -0.379822\n",
       "ant  one   -0.156211\n",
       "bar  one    0.403121\n",
       "cat  one   -0.493898\n",
       "dog  two   -0.662357\n",
       "ant  two   -0.246847\n",
       "bar  two   -0.128355\n",
       "dtype: float64"
      ]
     },
     "execution_count": 23,
     "metadata": {},
     "output_type": "execute_result"
    }
   ],
   "source": [
    "s = pd.Series(np.random.randn(8), index=pd.MultiIndex.from_tuples(tuples))\n",
    "s"
   ]
  },
  {
   "cell_type": "code",
   "execution_count": 24,
   "metadata": {
    "collapsed": false
   },
   "outputs": [
    {
     "data": {
      "text/plain": [
       "ant  one   -0.156211\n",
       "     two   -0.246847\n",
       "bar  one    0.403121\n",
       "     two   -0.128355\n",
       "cat  one   -0.493898\n",
       "     two   -0.655848\n",
       "dog  one   -0.379822\n",
       "     two   -0.662357\n",
       "dtype: float64"
      ]
     },
     "execution_count": 24,
     "metadata": {},
     "output_type": "execute_result"
    }
   ],
   "source": [
    "s.sort_index()"
   ]
  },
  {
   "cell_type": "code",
   "execution_count": 25,
   "metadata": {
    "collapsed": false
   },
   "outputs": [
    {
     "data": {
      "text/plain": [
       "L1   L2 \n",
       "ant  one   -0.156211\n",
       "     two   -0.246847\n",
       "bar  one    0.403121\n",
       "     two   -0.128355\n",
       "cat  one   -0.493898\n",
       "     two   -0.655848\n",
       "dog  one   -0.379822\n",
       "     two   -0.662357\n",
       "dtype: float64"
      ]
     },
     "execution_count": 25,
     "metadata": {},
     "output_type": "execute_result"
    }
   ],
   "source": [
    "s.index.set_names(['L1', 'L2'], inplace=True)\n",
    "s.sort_index()"
   ]
  },
  {
   "cell_type": "markdown",
   "metadata": {},
   "source": [
    "Note that sort_index() is essential if you would like to use slicing syntax to select partial data from the DataFrame, in addition to the benefit of neat display."
   ]
  },
  {
   "cell_type": "markdown",
   "metadata": {},
   "source": [
    "## Categorical Index\n",
    "\n",
    "A new index object, *CategoricalIndex*, is useful for supporting indexing with duplicates. This is a container that allows efficient indexing and storage of an index with a large number of duplciated elements."
   ]
  },
  {
   "cell_type": "code",
   "execution_count": 26,
   "metadata": {
    "collapsed": false
   },
   "outputs": [
    {
     "name": "stdout",
     "output_type": "stream",
     "text": [
      "   A  B\n",
      "0  0  a\n",
      "1  1  a\n",
      "2  2  b\n",
      "3  3  b\n",
      "4  4  c\n",
      "5  5  a\n",
      "A     int64\n",
      "B    object\n",
      "dtype: object\n",
      "A       int64\n",
      "B    category\n",
      "dtype: object\n"
     ]
    },
    {
     "data": {
      "text/html": [
       "<div>\n",
       "<table border=\"1\" class=\"dataframe\">\n",
       "  <thead>\n",
       "    <tr style=\"text-align: right;\">\n",
       "      <th></th>\n",
       "      <th>A</th>\n",
       "      <th>B</th>\n",
       "    </tr>\n",
       "  </thead>\n",
       "  <tbody>\n",
       "    <tr>\n",
       "      <th>0</th>\n",
       "      <td>0</td>\n",
       "      <td>a</td>\n",
       "    </tr>\n",
       "    <tr>\n",
       "      <th>1</th>\n",
       "      <td>1</td>\n",
       "      <td>a</td>\n",
       "    </tr>\n",
       "    <tr>\n",
       "      <th>2</th>\n",
       "      <td>2</td>\n",
       "      <td>b</td>\n",
       "    </tr>\n",
       "    <tr>\n",
       "      <th>3</th>\n",
       "      <td>3</td>\n",
       "      <td>b</td>\n",
       "    </tr>\n",
       "    <tr>\n",
       "      <th>4</th>\n",
       "      <td>4</td>\n",
       "      <td>c</td>\n",
       "    </tr>\n",
       "    <tr>\n",
       "      <th>5</th>\n",
       "      <td>5</td>\n",
       "      <td>a</td>\n",
       "    </tr>\n",
       "  </tbody>\n",
       "</table>\n",
       "</div>"
      ],
      "text/plain": [
       "   A  B\n",
       "0  0  a\n",
       "1  1  a\n",
       "2  2  b\n",
       "3  3  b\n",
       "4  4  c\n",
       "5  5  a"
      ]
     },
     "execution_count": 26,
     "metadata": {},
     "output_type": "execute_result"
    }
   ],
   "source": [
    "df = pd.DataFrame({'A': np.arange(6),\n",
    "                   'B': list('aabbca')})\n",
    "print(df)\n",
    "print(df.dtypes)\n",
    "df['B'] = df['B'].astype('category', categories=list('cab'))\n",
    "print(df.dtypes)\n",
    "df"
   ]
  },
  {
   "cell_type": "code",
   "execution_count": 27,
   "metadata": {
    "collapsed": false
   },
   "outputs": [
    {
     "data": {
      "text/plain": [
       "CategoricalIndex(['a', 'a', 'b', 'b', 'c', 'a'], categories=['c', 'a', 'b'], ordered=False, name='B', dtype='category')"
      ]
     },
     "execution_count": 27,
     "metadata": {},
     "output_type": "execute_result"
    }
   ],
   "source": [
    "# Setting the index will create a CategoricalIndex\n",
    "df2 = df.set_index('B')\n",
    "df2.index"
   ]
  },
  {
   "cell_type": "code",
   "execution_count": 28,
   "metadata": {
    "collapsed": false
   },
   "outputs": [
    {
     "data": {
      "text/html": [
       "<div>\n",
       "<table border=\"1\" class=\"dataframe\">\n",
       "  <thead>\n",
       "    <tr style=\"text-align: right;\">\n",
       "      <th></th>\n",
       "      <th>A</th>\n",
       "    </tr>\n",
       "    <tr>\n",
       "      <th>B</th>\n",
       "      <th></th>\n",
       "    </tr>\n",
       "  </thead>\n",
       "  <tbody>\n",
       "    <tr>\n",
       "      <th>c</th>\n",
       "      <td>4</td>\n",
       "    </tr>\n",
       "    <tr>\n",
       "      <th>a</th>\n",
       "      <td>0</td>\n",
       "    </tr>\n",
       "    <tr>\n",
       "      <th>a</th>\n",
       "      <td>1</td>\n",
       "    </tr>\n",
       "    <tr>\n",
       "      <th>a</th>\n",
       "      <td>5</td>\n",
       "    </tr>\n",
       "    <tr>\n",
       "      <th>b</th>\n",
       "      <td>2</td>\n",
       "    </tr>\n",
       "    <tr>\n",
       "      <th>b</th>\n",
       "      <td>3</td>\n",
       "    </tr>\n",
       "  </tbody>\n",
       "</table>\n",
       "</div>"
      ],
      "text/plain": [
       "   A\n",
       "B   \n",
       "c  4\n",
       "a  0\n",
       "a  1\n",
       "a  5\n",
       "b  2\n",
       "b  3"
      ]
     },
     "execution_count": 28,
     "metadata": {},
     "output_type": "execute_result"
    }
   ],
   "source": [
    "df2.sort_index()"
   ]
  },
  {
   "cell_type": "code",
   "execution_count": 29,
   "metadata": {
    "collapsed": false
   },
   "outputs": [
    {
     "data": {
      "text/html": [
       "<div>\n",
       "<table border=\"1\" class=\"dataframe\">\n",
       "  <thead>\n",
       "    <tr style=\"text-align: right;\">\n",
       "      <th></th>\n",
       "      <th>A</th>\n",
       "    </tr>\n",
       "    <tr>\n",
       "      <th>B</th>\n",
       "      <th></th>\n",
       "    </tr>\n",
       "  </thead>\n",
       "  <tbody>\n",
       "    <tr>\n",
       "      <th>c</th>\n",
       "      <td>4</td>\n",
       "    </tr>\n",
       "    <tr>\n",
       "      <th>a</th>\n",
       "      <td>6</td>\n",
       "    </tr>\n",
       "    <tr>\n",
       "      <th>b</th>\n",
       "      <td>5</td>\n",
       "    </tr>\n",
       "  </tbody>\n",
       "</table>\n",
       "</div>"
      ],
      "text/plain": [
       "   A\n",
       "B   \n",
       "c  4\n",
       "a  6\n",
       "b  5"
      ]
     },
     "execution_count": 29,
     "metadata": {},
     "output_type": "execute_result"
    }
   ],
   "source": [
    "# Groupby operations on the index will preserve the index nature as well\n",
    "\n",
    "df2.groupby(level=0).sum()"
   ]
  },
  {
   "cell_type": "markdown",
   "metadata": {},
   "source": [
    "## MultiIndex Summary"
   ]
  },
  {
   "cell_type": "code",
   "execution_count": 30,
   "metadata": {
    "collapsed": false
   },
   "outputs": [
    {
     "data": {
      "text/html": [
       "<div>\n",
       "<table border=\"1\" class=\"dataframe\">\n",
       "  <thead>\n",
       "    <tr style=\"text-align: right;\">\n",
       "      <th></th>\n",
       "      <th>One_X</th>\n",
       "      <th>One_Y</th>\n",
       "      <th>Two_X</th>\n",
       "      <th>Two_Y</th>\n",
       "      <th>row</th>\n",
       "    </tr>\n",
       "  </thead>\n",
       "  <tbody>\n",
       "    <tr>\n",
       "      <th>0</th>\n",
       "      <td>1.1</td>\n",
       "      <td>1.2</td>\n",
       "      <td>1.11</td>\n",
       "      <td>1.22</td>\n",
       "      <td>0</td>\n",
       "    </tr>\n",
       "    <tr>\n",
       "      <th>1</th>\n",
       "      <td>1.1</td>\n",
       "      <td>1.2</td>\n",
       "      <td>1.11</td>\n",
       "      <td>1.22</td>\n",
       "      <td>1</td>\n",
       "    </tr>\n",
       "    <tr>\n",
       "      <th>2</th>\n",
       "      <td>1.1</td>\n",
       "      <td>1.2</td>\n",
       "      <td>1.11</td>\n",
       "      <td>1.22</td>\n",
       "      <td>2</td>\n",
       "    </tr>\n",
       "  </tbody>\n",
       "</table>\n",
       "</div>"
      ],
      "text/plain": [
       "   One_X  One_Y  Two_X  Two_Y  row\n",
       "0    1.1    1.2   1.11   1.22    0\n",
       "1    1.1    1.2   1.11   1.22    1\n",
       "2    1.1    1.2   1.11   1.22    2"
      ]
     },
     "execution_count": 30,
     "metadata": {},
     "output_type": "execute_result"
    }
   ],
   "source": [
    "df = pd.DataFrame({\"row\" : [0, 1, 2],\n",
    "                   'One_X': [1.1, 1.1, 1.1],\n",
    "                   'One_Y': [1.2, 1.2, 1.2],\n",
    "                   'Two_X': [1.11, 1.11, 1.11],\n",
    "                   'Two_Y': [1.22, 1.22, 1.22]}); df"
   ]
  },
  {
   "cell_type": "code",
   "execution_count": 31,
   "metadata": {
    "collapsed": false
   },
   "outputs": [
    {
     "data": {
      "text/html": [
       "<div>\n",
       "<table border=\"1\" class=\"dataframe\">\n",
       "  <thead>\n",
       "    <tr style=\"text-align: right;\">\n",
       "      <th></th>\n",
       "      <th>One_X</th>\n",
       "      <th>One_Y</th>\n",
       "      <th>Two_X</th>\n",
       "      <th>Two_Y</th>\n",
       "    </tr>\n",
       "    <tr>\n",
       "      <th>row</th>\n",
       "      <th></th>\n",
       "      <th></th>\n",
       "      <th></th>\n",
       "      <th></th>\n",
       "    </tr>\n",
       "  </thead>\n",
       "  <tbody>\n",
       "    <tr>\n",
       "      <th>0</th>\n",
       "      <td>1.1</td>\n",
       "      <td>1.2</td>\n",
       "      <td>1.11</td>\n",
       "      <td>1.22</td>\n",
       "    </tr>\n",
       "    <tr>\n",
       "      <th>1</th>\n",
       "      <td>1.1</td>\n",
       "      <td>1.2</td>\n",
       "      <td>1.11</td>\n",
       "      <td>1.22</td>\n",
       "    </tr>\n",
       "    <tr>\n",
       "      <th>2</th>\n",
       "      <td>1.1</td>\n",
       "      <td>1.2</td>\n",
       "      <td>1.11</td>\n",
       "      <td>1.22</td>\n",
       "    </tr>\n",
       "  </tbody>\n",
       "</table>\n",
       "</div>"
      ],
      "text/plain": [
       "     One_X  One_Y  Two_X  Two_Y\n",
       "row                            \n",
       "0      1.1    1.2   1.11   1.22\n",
       "1      1.1    1.2   1.11   1.22\n",
       "2      1.1    1.2   1.11   1.22"
      ]
     },
     "execution_count": 31,
     "metadata": {},
     "output_type": "execute_result"
    }
   ],
   "source": [
    "# As labelled index\n",
    "df = df.set_index('row'); df"
   ]
  },
  {
   "cell_type": "code",
   "execution_count": 32,
   "metadata": {
    "collapsed": false
   },
   "outputs": [
    {
     "data": {
      "text/html": [
       "<div>\n",
       "<table border=\"1\" class=\"dataframe\">\n",
       "  <thead>\n",
       "    <tr>\n",
       "      <th></th>\n",
       "      <th colspan=\"2\" halign=\"left\">One</th>\n",
       "      <th colspan=\"2\" halign=\"left\">Two</th>\n",
       "    </tr>\n",
       "    <tr>\n",
       "      <th></th>\n",
       "      <th>X</th>\n",
       "      <th>Y</th>\n",
       "      <th>X</th>\n",
       "      <th>Y</th>\n",
       "    </tr>\n",
       "    <tr>\n",
       "      <th>row</th>\n",
       "      <th></th>\n",
       "      <th></th>\n",
       "      <th></th>\n",
       "      <th></th>\n",
       "    </tr>\n",
       "  </thead>\n",
       "  <tbody>\n",
       "    <tr>\n",
       "      <th>0</th>\n",
       "      <td>1.1</td>\n",
       "      <td>1.2</td>\n",
       "      <td>1.11</td>\n",
       "      <td>1.22</td>\n",
       "    </tr>\n",
       "    <tr>\n",
       "      <th>1</th>\n",
       "      <td>1.1</td>\n",
       "      <td>1.2</td>\n",
       "      <td>1.11</td>\n",
       "      <td>1.22</td>\n",
       "    </tr>\n",
       "    <tr>\n",
       "      <th>2</th>\n",
       "      <td>1.1</td>\n",
       "      <td>1.2</td>\n",
       "      <td>1.11</td>\n",
       "      <td>1.22</td>\n",
       "    </tr>\n",
       "  </tbody>\n",
       "</table>\n",
       "</div>"
      ],
      "text/plain": [
       "     One        Two      \n",
       "       X    Y     X     Y\n",
       "row                      \n",
       "0    1.1  1.2  1.11  1.22\n",
       "1    1.1  1.2  1.11  1.22\n",
       "2    1.1  1.2  1.11  1.22"
      ]
     },
     "execution_count": 32,
     "metadata": {},
     "output_type": "execute_result"
    }
   ],
   "source": [
    "# With hierarchiacl columns\n",
    "df.columns = pd.MultiIndex.from_tuples(\n",
    "             [tuple(c.split('_')) for c in df.columns])\n",
    "df"
   ]
  },
  {
   "cell_type": "code",
   "execution_count": 33,
   "metadata": {
    "collapsed": false
   },
   "outputs": [
    {
     "name": "stdout",
     "output_type": "stream",
     "text": [
      "            X     Y\n",
      "row                \n",
      "0   One  1.10  1.20\n",
      "    Two  1.11  1.22\n",
      "1   One  1.10  1.20\n",
      "    Two  1.11  1.22\n",
      "2   One  1.10  1.20\n",
      "    Two  1.11  1.22\n"
     ]
    },
    {
     "data": {
      "text/html": [
       "<div>\n",
       "<table border=\"1\" class=\"dataframe\">\n",
       "  <thead>\n",
       "    <tr style=\"text-align: right;\">\n",
       "      <th></th>\n",
       "      <th>level_1</th>\n",
       "      <th>X</th>\n",
       "      <th>Y</th>\n",
       "    </tr>\n",
       "    <tr>\n",
       "      <th>row</th>\n",
       "      <th></th>\n",
       "      <th></th>\n",
       "      <th></th>\n",
       "    </tr>\n",
       "  </thead>\n",
       "  <tbody>\n",
       "    <tr>\n",
       "      <th>0</th>\n",
       "      <td>One</td>\n",
       "      <td>1.10</td>\n",
       "      <td>1.20</td>\n",
       "    </tr>\n",
       "    <tr>\n",
       "      <th>0</th>\n",
       "      <td>Two</td>\n",
       "      <td>1.11</td>\n",
       "      <td>1.22</td>\n",
       "    </tr>\n",
       "    <tr>\n",
       "      <th>1</th>\n",
       "      <td>One</td>\n",
       "      <td>1.10</td>\n",
       "      <td>1.20</td>\n",
       "    </tr>\n",
       "    <tr>\n",
       "      <th>1</th>\n",
       "      <td>Two</td>\n",
       "      <td>1.11</td>\n",
       "      <td>1.22</td>\n",
       "    </tr>\n",
       "    <tr>\n",
       "      <th>2</th>\n",
       "      <td>One</td>\n",
       "      <td>1.10</td>\n",
       "      <td>1.20</td>\n",
       "    </tr>\n",
       "    <tr>\n",
       "      <th>2</th>\n",
       "      <td>Two</td>\n",
       "      <td>1.11</td>\n",
       "      <td>1.22</td>\n",
       "    </tr>\n",
       "  </tbody>\n",
       "</table>\n",
       "</div>"
      ],
      "text/plain": [
       "    level_1     X     Y\n",
       "row                    \n",
       "0       One  1.10  1.20\n",
       "0       Two  1.11  1.22\n",
       "1       One  1.10  1.20\n",
       "1       Two  1.11  1.22\n",
       "2       One  1.10  1.20\n",
       "2       Two  1.11  1.22"
      ]
     },
     "execution_count": 33,
     "metadata": {},
     "output_type": "execute_result"
    }
   ],
   "source": [
    "# Now stack and Reset\n",
    "print(df.stack(0))\n",
    "df = df.stack(0).reset_index(1)\n",
    "df"
   ]
  },
  {
   "cell_type": "code",
   "execution_count": 34,
   "metadata": {
    "collapsed": false
   },
   "outputs": [
    {
     "data": {
      "text/html": [
       "<div>\n",
       "<table border=\"1\" class=\"dataframe\">\n",
       "  <thead>\n",
       "    <tr style=\"text-align: right;\">\n",
       "      <th></th>\n",
       "      <th>Sample</th>\n",
       "      <th>All_X</th>\n",
       "      <th>All_Y</th>\n",
       "    </tr>\n",
       "    <tr>\n",
       "      <th>row</th>\n",
       "      <th></th>\n",
       "      <th></th>\n",
       "      <th></th>\n",
       "    </tr>\n",
       "  </thead>\n",
       "  <tbody>\n",
       "    <tr>\n",
       "      <th>0</th>\n",
       "      <td>One</td>\n",
       "      <td>1.10</td>\n",
       "      <td>1.20</td>\n",
       "    </tr>\n",
       "    <tr>\n",
       "      <th>0</th>\n",
       "      <td>Two</td>\n",
       "      <td>1.11</td>\n",
       "      <td>1.22</td>\n",
       "    </tr>\n",
       "    <tr>\n",
       "      <th>1</th>\n",
       "      <td>One</td>\n",
       "      <td>1.10</td>\n",
       "      <td>1.20</td>\n",
       "    </tr>\n",
       "    <tr>\n",
       "      <th>1</th>\n",
       "      <td>Two</td>\n",
       "      <td>1.11</td>\n",
       "      <td>1.22</td>\n",
       "    </tr>\n",
       "    <tr>\n",
       "      <th>2</th>\n",
       "      <td>One</td>\n",
       "      <td>1.10</td>\n",
       "      <td>1.20</td>\n",
       "    </tr>\n",
       "    <tr>\n",
       "      <th>2</th>\n",
       "      <td>Two</td>\n",
       "      <td>1.11</td>\n",
       "      <td>1.22</td>\n",
       "    </tr>\n",
       "  </tbody>\n",
       "</table>\n",
       "</div>"
      ],
      "text/plain": [
       "    Sample  All_X  All_Y\n",
       "row                     \n",
       "0      One   1.10   1.20\n",
       "0      Two   1.11   1.22\n",
       "1      One   1.10   1.20\n",
       "1      Two   1.11   1.22\n",
       "2      One   1.10   1.20\n",
       "2      Two   1.11   1.22"
      ]
     },
     "execution_count": 34,
     "metadata": {},
     "output_type": "execute_result"
    }
   ],
   "source": [
    "# Rename the variables\n",
    "df.columns = ['Sample', 'All_X', 'All_Y']; df"
   ]
  },
  {
   "cell_type": "code",
   "execution_count": 35,
   "metadata": {
    "collapsed": false
   },
   "outputs": [
    {
     "data": {
      "text/plain": [
       "['Sample', 'All_X', 'All_Y']"
      ]
     },
     "execution_count": 35,
     "metadata": {},
     "output_type": "execute_result"
    }
   ],
   "source": [
    "list(df.columns)"
   ]
  }
 ],
 "metadata": {
  "kernelspec": {
   "display_name": "Python 3",
   "language": "python",
   "name": "python3"
  },
  "language_info": {
   "codemirror_mode": {
    "name": "ipython",
    "version": 3
   },
   "file_extension": ".py",
   "mimetype": "text/x-python",
   "name": "python",
   "nbconvert_exporter": "python",
   "pygments_lexer": "ipython3",
   "version": "3.4.3"
  }
 },
 "nbformat": 4,
 "nbformat_minor": 0
}
