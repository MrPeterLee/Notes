{
 "metadata": {
  "name": "",
  "signature": "sha256:4e50d1c0db3a1b8045ce7c034f73dba3b43daeace56616e274aba1a346c9396d"
 },
 "nbformat": 3,
 "nbformat_minor": 0,
 "worksheets": [
  {
   "cells": [
    {
     "cell_type": "markdown",
     "metadata": {},
     "source": [
      "Topic: Python Background\n",
      "==\n",
      "\n",
      "Python is both a general purpose programming language and a statistics programming language. \n",
      "\n",
      "Its general purpose capability is equivalent to Java/C-Shapr, high-level programming with simple syntax, but lack of comparable efficiency as that of C++ (that is, Python/Java/C# programs would run a little bit slower than that of C/C++). Nowadays computation is cheap and this efficiency loss does not really matter for stats analysis. \n",
      "\n",
      "Its statistics capability is mostly ported from Matlab and R. In terms of equivalence, most Matlab toolboxes have its python bothers (exclude Simulink). In terms of data limitation, it is equivalent to the most expensive version of Stata MP, that the amount of data is only limited by the size of computer memory.\n",
      "\n",
      "What makes Python a top-notch is that it is completely free and it is an open-source GNU software. It means that all source code, including those making up the statistics libraries, are freely available to anyone, and the entire python community actively port new functions to python from commercial software. \n",
      "\n",
      "The Python syntax has not changed much since 1990s, and hence while mastering Python, it is expected that you can continue to utilize your learning in the next few decades without switching to a different language. \n",
      "\n",
      "Nowadays big financial corporations embrace Python to architect their infrastructure. JP Morgan\u2019s Athena platform, a cross-market risk management and trading system, uses Python for flexibility in combination with C++ and Java.\n",
      "\n",
      "# 1.\tGetting Python on Your Own Computer\n",
      "For statistical analysis, the programming should be done via the IPython-Notebook. For general purpose programming, you may choose an IDE (alia, a text editor, such as Spyder) to develop your programs. \n",
      "\n",
      "Note that IPython is an interactive shell for Python, which is 10 times more suitable for statistical analysis. The IPython official documentation is available at http://ipython.org.\n",
      "\n",
      "To get the IPython-notebook running on windows, visit the following website to download the free copy of Anaconda: http://continuum.io/downloads.\n",
      "\n",
      "Anaconda includes nearly 200 Python packages for data analysis. Each package serves for a distinct function of analysis. Having a copy of Anaconda is similar to having a copy of Matlab plus as many toolboxes as possible.  \n",
      "\n",
      "# 2.\tLaunch IPython-Notebook from Anaconda\n",
      "- Click Launcher from the start menu. \n",
      "- Click \u201cLuanch\u201d to activate ipython notebook.\n",
      "If there are updates available, you can click \u201cUpdate\u201d to patch new updates. \n",
      "\n",
      "# 3.\tLaunch IPython Notebook on this Server\n",
      "I have created a great server for you to code so that you can work on python code projects anywhere from a web browser.\n",
      "\n",
      "To log in the server, type in the following URL into any browser (i.e., Firefox):\n",
      "\n",
      "https://intechcapital.com:9999\n",
      "\n",
      "And log in with the password: Opendoor\n",
      "\n",
      "Please note it is https instead of http for encrypted communication. Firefox will prompt you with security risk because the certificate is self-signed. Trust this site by adding the site to an exception and proceed. \n",
      "\n",
      "The server has 32-Gb Ram and Server Grade i-7 Quad Core 4.0 Ghz CPU, running 24/7.\n",
      "\n",
      "The next course will introduce the interface of IPython-notebook."
     ]
    }
   ],
   "metadata": {}
  }
 ]
}