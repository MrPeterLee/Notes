{
 "cells": [
  {
   "cell_type": "markdown",
   "metadata": {},
   "source": [
    "Different Formatting in Markdown Cells\n",
    "==\n",
    "\n",
    "This is an example of *italic* text\n",
    "This is an example of **bold** text\n",
    "\n",
    "This is an example of list items:\n",
    "- Item 1\n",
    "- Item 2\n",
    "- Item 3\n",
    "\n",
    "---\n",
    "\n",
    "#heading 1\n",
    "##heading 2\n",
    "###heading 3\n",
    "####heading 4\n",
    "#####heading 5"
   ]
  },
  {
   "cell_type": "markdown",
   "metadata": {},
   "source": [
    "Displaying Graphs\n",
    "==\n",
    "The *matplotlib* module provides a MATLAB-like plotting framework in Python. With the matplotlib.pyplot function, charts can be plotted and rendered as graphic images for display in a web browser.\n"
   ]
  },
  {
   "cell_type": "code",
   "execution_count": 29,
   "metadata": {
    "ExecuteTime": {
     "end_time": "2016-03-18T01:10:22.909063",
     "start_time": "2016-03-18T01:10:22.890414"
    },
    "collapsed": false
   },
   "outputs": [
    {
     "data": {
      "text/plain": [
       "<matplotlib.legend.Legend at 0x110bbca90>"
      ]
     },
     "execution_count": 29,
     "metadata": {},
     "output_type": "execute_result"
    }
   ],
   "source": [
    "import numpy as np\n",
    "import math\n",
    "import matplotlib.pyplot as plt\n",
    "\n",
    "x = np.linspace(0, 2*math.pi)\n",
    "\n",
    "plt.plot(x, np.sin(x), label=r\"$\\sin(x)$\")\n",
    "plt.plot(x, np.cos(x), \"ro\", label=r\"$\\cos(x)$\")\n",
    "plt.title(r\"Two plots in a graph\")\n",
    "plt.legend()"
   ]
  },
  {
   "cell_type": "markdown",
   "metadata": {},
   "source": [
    "Display Latex Equations in Markdown\n",
    "==\n",
    "The IPython Notebook uses MathJax to render Latex surrounded with $$ or $ inside Markdown.\n",
    "\n",
    "To display a standard normal cumulative distribution function:\n",
    "\n",
    "$$ F(x) = \\frac{1}{\\sqrt{2\\pi}}\\int_{-\\infty}^{x} e^{- \\frac{z^2}{2}}\\, dz $$"
   ]
  },
  {
   "cell_type": "markdown",
   "metadata": {},
   "source": [
    "Display Latex Equations in Python Codes\n",
    "==\n",
    "Another way of displaying the same equation is using the Math function of the IPython display module."
   ]
  },
  {
   "cell_type": "code",
   "execution_count": 30,
   "metadata": {
    "ExecuteTime": {
     "end_time": "2016-03-18T01:10:22.942428",
     "start_time": "2016-03-18T01:10:22.938950"
    },
    "collapsed": false
   },
   "outputs": [
    {
     "data": {
      "text/latex": [
       "$$F(x) = \\frac{1}{\\sqrt{2\\pi}}\\int_{-\\infty}^{x} e^{- \\frac{z^2}{2}}\\, dz$$"
      ],
      "text/plain": [
       "<IPython.core.display.Math object>"
      ]
     },
     "execution_count": 30,
     "metadata": {},
     "output_type": "execute_result"
    }
   ],
   "source": [
    "import IPython.display\n",
    "IPython.display.Math(r\"F(x) = \\frac{1}{\\sqrt{2\\pi}}\\int_{-\\infty}^{x} e^{- \\frac{z^2}{2}}\\, dz\")"
   ]
  },
  {
   "cell_type": "markdown",
   "metadata": {},
   "source": [
    "Display Images\n",
    "==\n",
    "To work with images, such as JPEG and PNG, use the Image class of the IPython display module."
   ]
  },
  {
   "cell_type": "code",
   "execution_count": 31,
   "metadata": {
    "ExecuteTime": {
     "end_time": "2016-03-18T01:10:22.967794",
     "start_time": "2016-03-18T01:10:22.963457"
    },
    "collapsed": false
   },
   "outputs": [
    {
     "data": {
      "text/html": [
       "<img src=\"http://python.org/images/python-logo.gif\"/>"
      ],
      "text/plain": [
       "<IPython.core.display.Image object>"
      ]
     },
     "execution_count": 31,
     "metadata": {},
     "output_type": "execute_result"
    }
   ],
   "source": [
    "from IPython.display import Image\n",
    "Image(url=\"http://python.org/images/python-logo.gif\")"
   ]
  },
  {
   "cell_type": "markdown",
   "metadata": {},
   "source": [
    "Insert Youtube Videos\n",
    "==\n",
    "The lib.display module of the IPython package contains a YouTubeVideo function."
   ]
  },
  {
   "cell_type": "code",
   "execution_count": 32,
   "metadata": {
    "ExecuteTime": {
     "end_time": "2016-03-18T01:10:23.116619",
     "start_time": "2016-03-18T01:10:23.010773"
    },
    "collapsed": false
   },
   "outputs": [
    {
     "data": {
      "image/jpeg": "[encoded data removed]",
      "text/html": [
       "\n",
       "        <iframe\n",
       "            width=\"400\"\n",
       "            height=\"300\"\n",
       "            src=\"https://www.youtube.com/embed/tKTZoB2Vjuk\"\n",
       "            frameborder=\"0\"\n",
       "            allowfullscreen\n",
       "        ></iframe>\n",
       "        "
      ],
      "text/plain": [
       "<IPython.lib.display.YouTubeVideo at 0x110bba630>"
      ]
     },
     "execution_count": 32,
     "metadata": {},
     "output_type": "execute_result"
    }
   ],
   "source": [
    "from IPython.lib.display import YouTubeVideo\n",
    "YouTubeVideo(\"tKTZoB2Vjuk\")"
   ]
  },
  {
   "cell_type": "markdown",
   "metadata": {},
   "source": [
    "Working with HTML\n",
    "==\n",
    "Notebook allows HTML representations to be displayed. One common use of HTML is the ability to display data with tables. The following code outputs a table with two columns and three rows, including a header row:"
   ]
  },
  {
   "cell_type": "code",
   "execution_count": 33,
   "metadata": {
    "ExecuteTime": {
     "end_time": "2016-03-18T01:10:23.122710",
     "start_time": "2016-03-18T01:10:23.117938"
    },
    "collapsed": false
   },
   "outputs": [
    {
     "data": {
      "text/html": [
       "\n",
       "<table>\n",
       "<tr>\n",
       "<th>Header 1</th>\n",
       "<th>Header 2</th>\n",
       "</tr>\n",
       "<tr>\n",
       "<td>row 1, cell 1</td>\n",
       "<td>row 1, cell 2</td>\n",
       "</tr>\n",
       "<tr>\n",
       "<td>row 2, cell 1</td>\n",
       "<td>row 2, cell 2</td>\n",
       "</tr>\n",
       "</table>\n"
      ],
      "text/plain": [
       "<IPython.core.display.HTML object>"
      ]
     },
     "execution_count": 33,
     "metadata": {},
     "output_type": "execute_result"
    }
   ],
   "source": [
    "from IPython.display import HTML\n",
    "table = \"\"\"\n",
    "<table>\n",
    "<tr>\n",
    "<th>Header 1</th>\n",
    "<th>Header 2</th>\n",
    "</tr>\n",
    "<tr>\n",
    "<td>row 1, cell 1</td>\n",
    "<td>row 1, cell 2</td>\n",
    "</tr>\n",
    "<tr>\n",
    "<td>row 2, cell 1</td>\n",
    "<td>row 2, cell 2</td>\n",
    "</tr>\n",
    "</table>\n",
    "\"\"\"\n",
    "HTML(table)"
   ]
  },
  {
   "cell_type": "markdown",
   "metadata": {},
   "source": [
    "Transform Pandas DataFrame Object into an HTML table\n",
    "==\n",
    "In a notebook, pandas allow DataFrame objects to be represented as HTML tables."
   ]
  },
  {
   "cell_type": "code",
   "execution_count": 34,
   "metadata": {
    "ExecuteTime": {
     "end_time": "2016-03-18T01:10:23.216977",
     "start_time": "2016-03-18T01:10:23.124387"
    },
    "collapsed": false
   },
   "outputs": [
    {
     "data": {
      "text/html": [
       "<div>\n",
       "<table border=\"1\" class=\"dataframe\">\n",
       "  <thead>\n",
       "    <tr style=\"text-align: right;\">\n",
       "      <th></th>\n",
       "      <th>Open</th>\n",
       "      <th>High</th>\n",
       "      <th>Low</th>\n",
       "      <th>Close</th>\n",
       "      <th>Volume</th>\n",
       "      <th>Adj Close</th>\n",
       "    </tr>\n",
       "    <tr>\n",
       "      <th>Date</th>\n",
       "      <th></th>\n",
       "      <th></th>\n",
       "      <th></th>\n",
       "      <th></th>\n",
       "      <th></th>\n",
       "      <th></th>\n",
       "    </tr>\n",
       "  </thead>\n",
       "  <tbody>\n",
       "    <tr>\n",
       "      <th>2015-06-15</th>\n",
       "      <td>27.75</td>\n",
       "      <td>27.95</td>\n",
       "      <td>27.660</td>\n",
       "      <td>27.92</td>\n",
       "      <td>5712400</td>\n",
       "      <td>26.04949</td>\n",
       "    </tr>\n",
       "    <tr>\n",
       "      <th>2015-06-16</th>\n",
       "      <td>27.69</td>\n",
       "      <td>28.01</td>\n",
       "      <td>27.550</td>\n",
       "      <td>27.75</td>\n",
       "      <td>5122800</td>\n",
       "      <td>25.89088</td>\n",
       "    </tr>\n",
       "    <tr>\n",
       "      <th>2015-06-17</th>\n",
       "      <td>27.75</td>\n",
       "      <td>28.25</td>\n",
       "      <td>27.640</td>\n",
       "      <td>28.17</td>\n",
       "      <td>7700100</td>\n",
       "      <td>26.28274</td>\n",
       "    </tr>\n",
       "    <tr>\n",
       "      <th>2015-06-18</th>\n",
       "      <td>28.21</td>\n",
       "      <td>28.21</td>\n",
       "      <td>27.820</td>\n",
       "      <td>27.97</td>\n",
       "      <td>10697700</td>\n",
       "      <td>26.09614</td>\n",
       "    </tr>\n",
       "    <tr>\n",
       "      <th>2015-06-19</th>\n",
       "      <td>28.28</td>\n",
       "      <td>28.47</td>\n",
       "      <td>28.220</td>\n",
       "      <td>28.41</td>\n",
       "      <td>7096300</td>\n",
       "      <td>26.50666</td>\n",
       "    </tr>\n",
       "    <tr>\n",
       "      <th>2015-06-22</th>\n",
       "      <td>28.24</td>\n",
       "      <td>28.32</td>\n",
       "      <td>27.985</td>\n",
       "      <td>28.32</td>\n",
       "      <td>3947800</td>\n",
       "      <td>26.42269</td>\n",
       "    </tr>\n",
       "    <tr>\n",
       "      <th>2015-06-23</th>\n",
       "      <td>28.64</td>\n",
       "      <td>28.70</td>\n",
       "      <td>28.430</td>\n",
       "      <td>28.61</td>\n",
       "      <td>7440600</td>\n",
       "      <td>26.69326</td>\n",
       "    </tr>\n",
       "  </tbody>\n",
       "</table>\n",
       "</div>"
      ],
      "text/plain": [
       "             Open   High     Low  Close    Volume  Adj Close\n",
       "Date                                                        \n",
       "2015-06-15  27.75  27.95  27.660  27.92   5712400   26.04949\n",
       "2015-06-16  27.69  28.01  27.550  27.75   5122800   25.89088\n",
       "2015-06-17  27.75  28.25  27.640  28.17   7700100   26.28274\n",
       "2015-06-18  28.21  28.21  27.820  27.97  10697700   26.09614\n",
       "2015-06-19  28.28  28.47  28.220  28.41   7096300   26.50666\n",
       "2015-06-22  28.24  28.32  27.985  28.32   3947800   26.42269\n",
       "2015-06-23  28.64  28.70  28.430  28.61   7440600   26.69326"
      ]
     },
     "execution_count": 34,
     "metadata": {},
     "output_type": "execute_result"
    }
   ],
   "source": [
    "# Retrieve the stock market data from Yahoo! Finance and store them in a pandas DataFrame object with the \n",
    "# help of the pandas.DataReader function. \n",
    "\n",
    "import pandas_datareader.data as web\n",
    "import datetime\n",
    "\n",
    "start = datetime.datetime(2015, 6, 15)\n",
    "end = datetime.datetime(2015, 6, 23)\n",
    "\n",
    "# df is DataFrame object from Pandas, used to store data in Python\n",
    "df = web.DataReader(\"BHP.AX\", \"yahoo\", start, end)\n",
    "df[:]"
   ]
  },
  {
   "cell_type": "markdown",
   "metadata": {},
   "source": [
    "#Different Data Types"
   ]
  },
  {
   "cell_type": "markdown",
   "metadata": {},
   "source": [
    "## 2) Tuples\n",
    "\n",
    "Tuples are just like lists, but you can't change their values. Again, each value is numbered starting from zero, for easy reference. "
   ]
  },
  {
   "cell_type": "code",
   "execution_count": 35,
   "metadata": {
    "ExecuteTime": {
     "end_time": "2016-03-18T01:10:23.221404",
     "start_time": "2016-03-18T01:10:23.218479"
    },
    "collapsed": false
   },
   "outputs": [
    {
     "name": "stdout",
     "output_type": "stream",
     "text": [
      "('January', 'February', 'March', 'April', 'May')\n"
     ]
    }
   ],
   "source": [
    "months = ('January','February','March','April','May')\n",
    "print(months)"
   ]
  },
  {
   "cell_type": "markdown",
   "metadata": {},
   "source": [
    "Note we use parentheses rather than square brackets."
   ]
  },
  {
   "cell_type": "code",
   "execution_count": 36,
   "metadata": {
    "ExecuteTime": {
     "end_time": "2016-03-18T01:10:23.226489",
     "start_time": "2016-03-18T01:10:23.223270"
    },
    "collapsed": false
   },
   "outputs": [
    {
     "name": "stdout",
     "output_type": "stream",
     "text": [
      "1\n",
      "February\n"
     ]
    }
   ],
   "source": [
    "# Tuple has indices \n",
    "# Similar to Lists\n",
    "print(months.index('February'))\n",
    "print(months[1])"
   ]
  },
  {
   "cell_type": "code",
   "execution_count": 37,
   "metadata": {
    "ExecuteTime": {
     "end_time": "2016-03-18T01:10:23.233353",
     "start_time": "2016-03-18T01:10:23.228350"
    },
    "collapsed": false
   },
   "outputs": [
    {
     "name": "stdout",
     "output_type": "stream",
     "text": [
      "[(1, 'red'), (2, 'yellow'), (3, 'green')]\n"
     ]
    }
   ],
   "source": [
    "# Sometime tuples are used to associate some values in pairs. \n",
    "# In this example we made a list with pairs. Each pair is tuple (so cannot be changed). \n",
    "\n",
    "stop=1\n",
    "attention=2\n",
    "go=3\n",
    "pairs = [(stop, 'red'), (attention, 'yellow'), (go, 'green')]\n",
    "print(pairs)"
   ]
  },
  {
   "cell_type": "markdown",
   "metadata": {},
   "source": [
    "\n",
    "The above example shows the usefulness of Tuples: Tuples can be used to capture a snap shot of variables, which are likely to be changed later (i.e. inside a running function).\n",
    "\n",
    "Here we associated integer values with strings. How we can work with such compound object? As usual, one can loop over each item (pair) and print it: "
   ]
  },
  {
   "cell_type": "code",
   "execution_count": 38,
   "metadata": {
    "ExecuteTime": {
     "end_time": "2016-03-18T01:10:23.239556",
     "start_time": "2016-03-18T01:10:23.235077"
    },
    "collapsed": false
   },
   "outputs": [
    {
     "name": "stdout",
     "output_type": "stream",
     "text": [
      "(1, 'red')\n",
      "1 red\n",
      "(2, 'yellow')\n",
      "2 yellow\n",
      "(3, 'green')\n",
      "3 green\n"
     ]
    }
   ],
   "source": [
    "stop=1\n",
    "attention=2\n",
    "go=3\n",
    "pairs = [(stop, 'red'), (attention, 'yellow'), (go, 'green')]\n",
    "for j in pairs:\n",
    "     print(j)         # we print pairs\n",
    "     print(j[0],j[1]) # print each value in the pair"
   ]
  },
  {
   "cell_type": "markdown",
   "metadata": {},
   "source": [
    "## Dictionaries\n",
    "\n",
    "Dictionaries are opposite to Lists. In lists, the index are numbers starting from zero while you can extract an item by inputting its index. In dictionaries, the index does not have to be a number (i.e., a string).\n",
    "\n",
    "In a dictionary, we have an 'index' of words, and for each of them a definition. In Python, the word is called a 'key', and the definition a 'value'. The values in a dictionary are not numbered, unlike the lists. \n",
    "\n",
    "Let us make a small dictionary: "
   ]
  },
  {
   "cell_type": "code",
   "execution_count": 39,
   "metadata": {
    "ExecuteTime": {
     "end_time": "2016-03-18T01:10:23.245068",
     "start_time": "2016-03-18T01:10:23.240789"
    },
    "collapsed": false
   },
   "outputs": [
    {
     "name": "stdout",
     "output_type": "stream",
     "text": [
      "{'hello': 'hola', 'one': 'uno', 'two': 'dos', 'yes': 'si'}\n"
     ]
    }
   ],
   "source": [
    "data = {}\n",
    "data['hello'] = 'hola'\n",
    "data['yes'] = 'si'\n",
    "data['one'] = 'uno'\n",
    "data['two'] = 'dos'\n",
    "print(data)"
   ]
  },
  {
   "cell_type": "markdown",
   "metadata": {},
   "source": [
    "What do you see? \n",
    "\n",
    "To retrieve a value corresponding to a given key, just use the key: "
   ]
  },
  {
   "cell_type": "code",
   "execution_count": 40,
   "metadata": {
    "ExecuteTime": {
     "end_time": "2016-03-18T01:10:23.249215",
     "start_time": "2016-03-18T01:10:23.246863"
    },
    "collapsed": false
   },
   "outputs": [
    {
     "name": "stdout",
     "output_type": "stream",
     "text": [
      "hola\n"
     ]
    }
   ],
   "source": [
    "print(data['hello'])"
   ]
  },
  {
   "cell_type": "markdown",
   "metadata": {},
   "source": [
    "One can also create a dictionary by explicitly writing them out in full"
   ]
  },
  {
   "cell_type": "code",
   "execution_count": 41,
   "metadata": {
    "ExecuteTime": {
     "end_time": "2016-03-18T01:10:23.253535",
     "start_time": "2016-03-18T01:10:23.250620"
    },
    "collapsed": false
   },
   "outputs": [
    {
     "name": "stdout",
     "output_type": "stream",
     "text": [
      "{'hello': 'hola', 'one': 'uno'}\n"
     ]
    }
   ],
   "source": [
    "data = {'hello':'hola', 'one':'uno'}\n",
    "print(data)"
   ]
  },
  {
   "cell_type": "markdown",
   "metadata": {},
   "source": [
    "Let us now make a loop over keys of a dictionary:\n"
   ]
  },
  {
   "cell_type": "code",
   "execution_count": 42,
   "metadata": {
    "ExecuteTime": {
     "end_time": "2016-03-18T01:10:23.258936",
     "start_time": "2016-03-18T01:10:23.255042"
    },
    "collapsed": false
   },
   "outputs": [
    {
     "name": "stdout",
     "output_type": "stream",
     "text": [
      "hello -> hola\n",
      "one -> uno\n",
      "two -> dos\n",
      "yes -> si\n"
     ]
    }
   ],
   "source": [
    "data = {}\n",
    "data['hello'] = 'hola'\n",
    "data['yes'] = 'si'\n",
    "data['one'] = 'uno'\n",
    "data['two'] = 'dos'\n",
    "for key, value in data.items():\n",
    "    print(\"{0} -> {1}\".format(key, value))"
   ]
  },
  {
   "cell_type": "markdown",
   "metadata": {},
   "source": [
    "## Sets\n",
    "\n",
    "A set is an unordered collection of objects that cannot have duplicate members. \n",
    "They are similar to lists, except that \n",
    "* they are unordered (like dictionaries). \n",
    "* they do not allow duplicate entries. "
   ]
  },
  {
   "cell_type": "code",
   "execution_count": 43,
   "metadata": {
    "ExecuteTime": {
     "end_time": "2016-03-18T01:10:23.263436",
     "start_time": "2016-03-18T01:10:23.260509"
    },
    "collapsed": false
   },
   "outputs": [
    {
     "name": "stdout",
     "output_type": "stream",
     "text": [
      "{1, 2, 3}\n"
     ]
    }
   ],
   "source": [
    "a_set = set([1, 2, 3, 3, 3, 3])\n",
    "print(a_set)"
   ]
  },
  {
   "cell_type": "code",
   "execution_count": 44,
   "metadata": {
    "ExecuteTime": {
     "end_time": "2016-03-18T01:10:23.268556",
     "start_time": "2016-03-18T01:10:23.264649"
    },
    "collapsed": false
   },
   "outputs": [
    {
     "name": "stdout",
     "output_type": "stream",
     "text": [
      "[1, 2, 3, 4, 5]\n"
     ]
    }
   ],
   "source": [
    "# A quick way to remove duplicates in a list\n",
    "l = [1, 1, 2, 2, 3, 3, 4, 4, 5, 5]\n",
    "a_set = set(l)\n",
    "l = list(a_set)\n",
    "print(l)"
   ]
  }
 ],
 "metadata": {
  "hide_input": false,
  "kernelspec": {
   "display_name": "Python 3",
   "language": "python",
   "name": "python3"
  },
  "language_info": {
   "codemirror_mode": {
    "name": "ipython",
    "version": 3
   },
   "file_extension": ".py",
   "mimetype": "text/x-python",
   "name": "python",
   "nbconvert_exporter": "python",
   "pygments_lexer": "ipython3",
   "version": "3.5.1"
  },
  "toc": {
   "toc_cell": false,
   "toc_number_sections": true,
   "toc_threshold": 6,
   "toc_window_display": false
  }
 },
 "nbformat": 4,
 "nbformat_minor": 0
}
