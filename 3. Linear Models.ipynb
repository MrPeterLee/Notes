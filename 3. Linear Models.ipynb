{
 "metadata": {
  "name": "",
  "signature": "sha256:3dee96d3fb9b02292e2c4fe8ce6263d9c5eec2d4c21af72ca84a00083f320719"
 },
 "nbformat": 3,
 "nbformat_minor": 0,
 "worksheets": [
  {
   "cells": [
    {
     "cell_type": "markdown",
     "metadata": {},
     "source": [
      "Linear Models\n",
      "==\n",
      "Linear models are widely used to help price securities and perform optimal portfolio allocation, among other useful things. \n",
      "\n",
      "One of the significance of linearity in financial modelling is its assurance that a problem terminates at a global optimal solution.\n",
      "\n",
      "Modules such as the **SciPy** and **NumPy** packages contain a variety of linear regression functions for data scientists to work with.\n",
      "\n",
      "In traditional portfolio management, the allocation of assets fllows a linear pattern, and investors have individual styles of investing. We can state the problem of portfolio allocation into a system of linear equations, containning either equalities or inequalities. These linear systems can then be represented in a matrix form as $Ax=B$, where $A$ is the known coefficients, $B$ is the observed result, and $x$ is the vector of values to find out. More often, $x$ contains the optimal security weights to maximize the agent's utility. Using matrix algebra, we can efficiently solve for $x$ using either direct or indirect methods."
     ]
    },
    {
     "cell_type": "markdown",
     "metadata": {},
     "source": [
      "# 1. Multivariate OLS\n",
      "\n",
      "Many Python packages such as **SciPy** come with several variants of regression functions. In particular, the **statsmodels** package is a complement to **SciPy** with descriptive statistics and estimation of statistical models. The official page for **statsmodels** is http://statsmodels.sourceforge.net/\n"
     ]
    },
    {
     "cell_type": "markdown",
     "metadata": {},
     "source": [
      "## Example - Perform OLS and view its summary\n",
      "\n",
      "Let's assume that you have implemented an APT model with seven factors that return the values of $Y$. Consider the following set of data collected over 9 time periods, from $t1$ to $t9$. $X1$ to $X7$ are exogenous variables observed at each period. The regression problem is therefore defined as:\n",
      "$$ Y = \\beta_1X_{1}+\\beta_2X_{2}+\\beta_3X_{3}+\\beta_4X_{4}+\\beta_5X_{5}+\\beta_6X_{6}+\\beta_7X_{7}+\\varepsilon $$"
     ]
    },
    {
     "cell_type": "code",
     "collapsed": false,
     "input": [
      "import numpy as np\n",
      "import statsmodels.api as sm\n",
      "\n",
      "# Generate some sample data\n",
      "num_periods = 9\n",
      "all_values = np.array([np.random.random(8) for i in range(num_periods)])\n",
      "\n",
      "# Filter the data\n",
      "y_values = all_values[:,0] # First column values as Y\n",
      "x_values = all_values[:, 1:] # All other values as X\n",
      "\n",
      "\n",
      "x_values = sm.add_constant(x_values, prepend=True) # Include the intercept\n",
      "\n",
      "# Fit OLS to the data\n",
      "model = sm.OLS(y_values, x_values) # you can change model parameters after initializaing the model\n",
      "results = model.fit()  # estimate the model\n",
      "print results.summary() # show model results\n",
      "\n",
      "# Use the params functions to display the coefficient vector\n",
      "print results.params"
     ],
     "language": "python",
     "metadata": {},
     "outputs": [
      {
       "output_type": "stream",
       "stream": "stdout",
       "text": [
        "                            OLS Regression Results                            \n",
        "==============================================================================\n",
        "Dep. Variable:                      y   R-squared:                       0.970\n",
        "Model:                            OLS   Adj. R-squared:                  0.761\n",
        "Method:                 Least Squares   F-statistic:                     4.633\n",
        "Date:                Wed, 24 Jun 2015   Prob (F-statistic):              0.344\n",
        "Time:                        12:26:37   Log-Likelihood:                 12.880\n",
        "No. Observations:                   9   AIC:                            -9.759\n",
        "Df Residuals:                       1   BIC:                            -8.181\n",
        "Df Model:                           7                                         \n",
        "==============================================================================\n",
        "                 coef    std err          t      P>|t|      [95.0% Conf. Int.]\n",
        "------------------------------------------------------------------------------\n",
        "const          4.0168      0.795      5.055      0.124        -6.080    14.113\n",
        "x1            -0.6555      0.278     -2.357      0.255        -4.189     2.879\n",
        "x2            -1.7829      0.494     -3.606      0.172        -8.066     4.500\n",
        "x3            -0.3933      0.204     -1.924      0.305        -2.991     2.204\n",
        "x4            -0.5457      0.285     -1.916      0.306        -4.164     3.073\n",
        "x5            -0.5128      0.478     -1.074      0.477        -6.581     5.556\n",
        "x6            -1.6681      0.729     -2.289      0.262       -10.927     7.590\n",
        "x7            -1.1018      0.444     -2.479      0.244        -6.748     4.544\n",
        "==============================================================================\n",
        "Omnibus:                        3.987   Durbin-Watson:                   2.820\n",
        "Prob(Omnibus):                  0.136   Jarque-Bera (JB):                1.494\n",
        "Skew:                           0.996   Prob(JB):                        0.474\n",
        "Kurtosis:                       3.128   Cond. No.                         30.8\n",
        "==============================================================================\n",
        "[ 4.01675601 -0.65548048 -1.78293686 -0.3933294  -0.5457337  -0.51283881\n",
        " -1.66810368 -1.10176185]\n"
       ]
      }
     ],
     "prompt_number": 4
    },
    {
     "cell_type": "markdown",
     "metadata": {},
     "source": [
      "# 2. Linear Optimization\n",
      "\n",
      "Linear optimization focuses on minimizing or maximizing the value of the objective function. The examples are maximizing returns and minimizing volatility. These objectives are usually governed by certain regulations, such as no short-selling rule, limits on the number of securities to be invested, and so on.\n",
      "\n",
      "A number of packages provide optimization methods. The following example makes use of **PuLP**, an open source linear programming modeller."
     ]
    },
    {
     "cell_type": "markdown",
     "metadata": {},
     "source": [
      "## Example - Linear optimization problem\n",
      "Suppose that we are interested in investing in two securities, $x$ and $y$. We would like to find out the actual number of units to invest for every 3 units of security $x$ and 2 units of security $y$, such that the total number of units invested is maximized, where possible. However, there are certain constraints on our investment strategy:\n",
      "- For every 2 units of security $x$ invested and 1 unit of security $y$ invested, the total volume must not exceed 100.\n",
      "- For every unit of security $x$ and $y$ invested, the total volume must not exceed 80.\n",
      "- The total volume allowed to invest in security $x$ must not exceed 40.\n",
      "- Short selling is not allowed for both the securities.\n",
      "\n",
      "The maximization problem can be mathematically represented as follows:\n",
      "$$ \\max: f(x,y) = 3x+2y $$\n",
      "Subject to:\n",
      "$$ 2x+y<=100 $$\n",
      "$$ x+y<=80 $$\n",
      "$$ x<=40 $$\n",
      "$$ x>=0, y>=0 $$"
     ]
    },
    {
     "cell_type": "code",
     "collapsed": false,
     "input": [
      "import pulp\n",
      "\n",
      "# Define input variables\n",
      "x = pulp.LpVariable(\"x\", lowBound=0)\n",
      "y = pulp.LpVariable(\"y\", lowBound=0)\n",
      "\n",
      "# Formulate the Linear Problem\n",
      "problem = pulp.LpProblem(\"Example - Linear Optimization\", pulp.LpMaximize)\n",
      "problem += 3*x + 2*y, \"The objective function\"\n",
      "problem += 2*x + y <= 100, \"1st constraint\"\n",
      "problem += x + y <= 80, \"2nd constraint\"\n",
      "problem += x <= 40, \"3nd constraint\"\n",
      "\n",
      "# Solve the problem (linear optimziation)\n",
      "problem.solve()\n",
      "\n",
      "#print problem.variables\n",
      "\n",
      "# Show optimization results\n",
      "results = problem.variables()\n",
      "print \"Maximization Results:\"\n",
      "for x in results:\n",
      "    print x.name, \"=\", x.varValue\n",
      "\n",
      "print \"Objective function's value:\", problem.objective.value()"
     ],
     "language": "python",
     "metadata": {},
     "outputs": [
      {
       "output_type": "stream",
       "stream": "stdout",
       "text": [
        "Maximization Results:\n",
        "x = 20.0\n",
        "y = 60.0\n",
        "Objective function's value: 180.0\n"
       ]
      }
     ],
     "prompt_number": 25
    },
    {
     "cell_type": "markdown",
     "metadata": {},
     "source": [
      "# Integer Programming\n",
      "\n",
      "Linear integer programming problem restricts all variables as integers. It is frequently used in operational research to model real-world working problems. "
     ]
    },
    {
     "cell_type": "markdown",
     "metadata": {},
     "source": [
      "## Example of an integer programming model with binary conditions\n",
      "\n",
      "Suppose we must go for 150 contracts in a particular over-the-counter exotic security from three dealers. \n",
      "- Dealer $X$ quoted \\$500 per contract plus handling fees of \\$4,000, regardless of the number of contracts sold. \n",
      "- Dealer $Y$ charges \\$350 per contract plus a transaction fee of \\$2,000.\n",
      "- Dealer $Z$ charges \\$450 per contract plus a fee of \\$6,000.\n",
      "Dearler $X$ will sell at most 100 contracts, dealer $Y$ at most 90, and dealer $Z$ at most 70. \n",
      "The minimum transaction volume from any dealer is 30 contracts.\n",
      "How should we minimize the cost of purchasing 150 contracts?\n"
     ]
    },
    {
     "cell_type": "code",
     "collapsed": false,
     "input": [
      "import pulp\n",
      "\n",
      "dealers = [\"X\", \"Y\", \"Z\"] # This is the key to use dictionaries\n",
      "\n",
      "variable_costs = {\"X\":500,\n",
      "                  \"Y\":350,\n",
      "                  \"Z\":450}\n",
      "\n",
      "fixed_costs = {\"X\":4000,\n",
      "               \"Y\":2000,\n",
      "               \"Z\":6000}\n",
      "\n",
      "# Define Input Variables\n",
      "quantities = pulp.LpVariable.dicts(\"quantity\", \n",
      "                                   dealers, \n",
      "                                   lowBound=0, \n",
      "                                   cat=pulp.LpInteger)\n",
      "    # quantities are PULP varaibles of intergers\n",
      "\n",
      "is_orders = pulp.LpVariable.dicts(\"orders\",\n",
      "                                  dealers,\n",
      "                                  cat=pulp.LpBinary)\n",
      "    # is_orders are PULP varaibles of binary indicators\n",
      "\n"
     ],
     "language": "python",
     "metadata": {},
     "outputs": [],
     "prompt_number": 4
    },
    {
     "cell_type": "markdown",
     "metadata": {},
     "source": [
      "**Incorrect solution**\n",
      "\n",
      "The minimization problem can be mathematically represented as follows:\n",
      "$$ \\min: costs = \\sum_{i=x}^{z} IsOrder_i(variable cost_i \\cdot quantity_i + fixed costs_i) $$\n",
      "Subject to:\n",
      "$$ 30<=quantity_x<=100 $$\n",
      "$$ 30<=quantity_y<=90 $$\n",
      "$$ 30<=quantity_z<=70 $$\n",
      "$$ \\sum_{i=x}^{z} quantity_i = 150 $$"
     ]
    },
    {
     "cell_type": "code",
     "collapsed": false,
     "input": [
      "# Initialize the model with constraints\n",
      "model = pulp.LpProblem(\"A Cost Minimization Problem\", pulp.LpMinimize)\n",
      "model += sum([(variable_costs[i]*quantities[i] + \n",
      "              fixed_costs[i])*is_orders[i] for i in dealers]), \"Objective function\"\n",
      "model += 30 <= quantities[\"X\"] <= 100, \"Boundary of total volume of X\"\n",
      "model += 30 <= quantities[\"Y\"] <= 90, \"Boundary of total volume of Y\"\n",
      "model += 30 <= quantities[\"Z\"] <= 70, \"Boundary of total volume of Z\"\n",
      "model += sum([quantities[i] for i in dealers]) == 150, \"Total contracts required\"\n",
      "\n",
      "model.solve()\n"
     ],
     "language": "python",
     "metadata": {},
     "outputs": [
      {
       "ename": "TypeError",
       "evalue": "Non-constant expressions cannot be multiplied",
       "output_type": "pyerr",
       "traceback": [
        "\u001b[0;31m---------------------------------------------------------------------------\u001b[0m\n\u001b[0;31mTypeError\u001b[0m                                 Traceback (most recent call last)",
        "\u001b[0;32m<ipython-input-33-b8c57a37ee2c>\u001b[0m in \u001b[0;36m<module>\u001b[0;34m()\u001b[0m\n\u001b[1;32m      2\u001b[0m \u001b[0mmodel\u001b[0m \u001b[0;34m=\u001b[0m \u001b[0mpulp\u001b[0m\u001b[0;34m.\u001b[0m\u001b[0mLpProblem\u001b[0m\u001b[0;34m(\u001b[0m\u001b[0;34m\"A Cost Minimization Problem\"\u001b[0m\u001b[0;34m,\u001b[0m \u001b[0mpulp\u001b[0m\u001b[0;34m.\u001b[0m\u001b[0mLpMinimize\u001b[0m\u001b[0;34m)\u001b[0m\u001b[0;34m\u001b[0m\u001b[0m\n\u001b[1;32m      3\u001b[0m model += sum([(variable_costs[i]*quantities[i] + \n\u001b[0;32m----> 4\u001b[0;31m               fixed_costs[i])*is_orders[i] for i in dealers]), \"Objective function\"\n\u001b[0m\u001b[1;32m      5\u001b[0m \u001b[0mmodel\u001b[0m \u001b[0;34m+=\u001b[0m \u001b[0;36m30\u001b[0m \u001b[0;34m<=\u001b[0m \u001b[0mquantities\u001b[0m\u001b[0;34m[\u001b[0m\u001b[0;34m\"X\"\u001b[0m\u001b[0;34m]\u001b[0m \u001b[0;34m<=\u001b[0m \u001b[0;36m100\u001b[0m\u001b[0;34m,\u001b[0m \u001b[0;34m\"Boundary of total volume of X\"\u001b[0m\u001b[0;34m\u001b[0m\u001b[0m\n\u001b[1;32m      6\u001b[0m \u001b[0mmodel\u001b[0m \u001b[0;34m+=\u001b[0m \u001b[0;36m30\u001b[0m \u001b[0;34m<=\u001b[0m \u001b[0mquantities\u001b[0m\u001b[0;34m[\u001b[0m\u001b[0;34m\"Y\"\u001b[0m\u001b[0;34m]\u001b[0m \u001b[0;34m<=\u001b[0m \u001b[0;36m90\u001b[0m\u001b[0;34m,\u001b[0m \u001b[0;34m\"Boundary of total volume of Y\"\u001b[0m\u001b[0;34m\u001b[0m\u001b[0m\n",
        "\u001b[0;32m/usr/local/lib/python2.7/dist-packages/pulp/pulp.pyc\u001b[0m in \u001b[0;36m__mul__\u001b[0;34m(self, other)\u001b[0m\n\u001b[1;32m    784\u001b[0m                         \u001b[0me\u001b[0m\u001b[0;34m[\u001b[0m\u001b[0mv\u001b[0m\u001b[0;34m]\u001b[0m \u001b[0;34m=\u001b[0m \u001b[0mc\u001b[0m \u001b[0;34m*\u001b[0m \u001b[0mx\u001b[0m\u001b[0;34m\u001b[0m\u001b[0m\n\u001b[1;32m    785\u001b[0m         \u001b[0;32melif\u001b[0m \u001b[0misinstance\u001b[0m\u001b[0;34m(\u001b[0m\u001b[0mother\u001b[0m\u001b[0;34m,\u001b[0m\u001b[0mLpVariable\u001b[0m\u001b[0;34m)\u001b[0m\u001b[0;34m:\u001b[0m\u001b[0;34m\u001b[0m\u001b[0m\n\u001b[0;32m--> 786\u001b[0;31m             \u001b[0;32mreturn\u001b[0m \u001b[0mself\u001b[0m \u001b[0;34m*\u001b[0m \u001b[0mLpAffineExpression\u001b[0m\u001b[0;34m(\u001b[0m\u001b[0mother\u001b[0m\u001b[0;34m)\u001b[0m\u001b[0;34m\u001b[0m\u001b[0m\n\u001b[0m\u001b[1;32m    787\u001b[0m         \u001b[0;32melse\u001b[0m\u001b[0;34m:\u001b[0m\u001b[0;34m\u001b[0m\u001b[0m\n\u001b[1;32m    788\u001b[0m             \u001b[0;32mif\u001b[0m \u001b[0mother\u001b[0m \u001b[0;34m!=\u001b[0m \u001b[0;36m0\u001b[0m\u001b[0;34m:\u001b[0m\u001b[0;34m\u001b[0m\u001b[0m\n",
        "\u001b[0;32m/usr/local/lib/python2.7/dist-packages/pulp/pulp.pyc\u001b[0m in \u001b[0;36m__mul__\u001b[0;34m(self, other)\u001b[0m\n\u001b[1;32m    772\u001b[0m             \u001b[0;32mif\u001b[0m \u001b[0mlen\u001b[0m\u001b[0;34m(\u001b[0m\u001b[0mother\u001b[0m\u001b[0;34m)\u001b[0m\u001b[0;34m:\u001b[0m\u001b[0;34m\u001b[0m\u001b[0m\n\u001b[1;32m    773\u001b[0m                 \u001b[0;32mif\u001b[0m \u001b[0mlen\u001b[0m\u001b[0;34m(\u001b[0m\u001b[0mself\u001b[0m\u001b[0;34m)\u001b[0m\u001b[0;34m:\u001b[0m\u001b[0;34m\u001b[0m\u001b[0m\n\u001b[0;32m--> 774\u001b[0;31m                     \u001b[0;32mraise\u001b[0m \u001b[0mTypeError\u001b[0m\u001b[0;34m(\u001b[0m\u001b[0;34m\"Non-constant expressions cannot be multiplied\"\u001b[0m\u001b[0;34m)\u001b[0m\u001b[0;34m\u001b[0m\u001b[0m\n\u001b[0m\u001b[1;32m    775\u001b[0m                 \u001b[0;32melse\u001b[0m\u001b[0;34m:\u001b[0m\u001b[0;34m\u001b[0m\u001b[0m\n\u001b[1;32m    776\u001b[0m                     \u001b[0mc\u001b[0m \u001b[0;34m=\u001b[0m \u001b[0mself\u001b[0m\u001b[0;34m.\u001b[0m\u001b[0mconstant\u001b[0m\u001b[0;34m\u001b[0m\u001b[0m\n",
        "\u001b[0;31mTypeError\u001b[0m: Non-constant expressions cannot be multiplied"
       ]
      }
     ],
     "prompt_number": 33
    },
    {
     "cell_type": "markdown",
     "metadata": {},
     "source": [
      "**Correct solution**\n",
      "\n",
      "The minimization problem can be mathematically represented as follows:\n",
      "$$ \\min: costs = \\sum_{i=x}^{z} [(variable cost_i \\cdot quantity_i + IsOrder_i \\cdot fixed costs_i)] $$\n",
      "Subject to:\n",
      "$$ IsOrder_x \\cdot 30<=quantity_x<=IsOrder_x \\cdot 100 $$\n",
      "$$ IsOrder_y \\cdot 30<=quantity_y<=IsOrder_y \\cdot 90 $$\n",
      "$$ IsOrder_z \\cdot 30<=quantity_z<=IsOrder_z \\cdot 70 $$\n",
      "$$ \\sum_{i=x}^{i=z} quantity_i = 150 $$"
     ]
    },
    {
     "cell_type": "code",
     "collapsed": false,
     "input": [
      "# Initialize the model with constraints\n",
      "model = pulp.LpProblem(\"A cost minimization problem\", pulp.LpMinimize)\n",
      "model += sum(variable_costs[i]*quantities[i] + is_orders[i]*fixed_costs[i] for i in dealers), \\\n",
      "        \"Objective function\"\n",
      "model += is_orders[\"X\"]*30 <= quantities[\"X\"] <= is_orders[\"X\"]*100, \"Boundary of dealer X\"\n",
      "model += is_orders[\"Y\"]*30 <= quantities[\"Y\"] <= is_orders[\"Y\"]*90, \"Boundary of dealer Y\"\n",
      "model += is_orders[\"Z\"]*30 <= quantities[\"Z\"] <= is_orders[\"Z\"]*70, \"Boundary of dealer Z\"\n",
      "model += sum([quantities[i] for i in dealers])==150, \"Total contracts required\"\n",
      "\n",
      "model.solve()\n",
      "\n",
      "print \"Minimization Results:\"\n",
      "for variable in model.variables():\n",
      "    print variable.name, \"=\", variable.varValue\n",
      "    \n",
      "print \"Total costs =\", model.objective.value()"
     ],
     "language": "python",
     "metadata": {},
     "outputs": [
      {
       "output_type": "stream",
       "stream": "stdout",
       "text": [
        "Minimization Results:\n",
        "orders_X = 0.0\n",
        "orders_Y = 1.0\n",
        "orders_Z = 1.0\n",
        "quantity_X = 0.0\n",
        "quantity_Y = 90.0\n",
        "quantity_Z = 60.0\n",
        "Total costs = 66500.0\n"
       ]
      }
     ],
     "prompt_number": 27
    },
    {
     "cell_type": "markdown",
     "metadata": {},
     "source": [
      "# Solve a System of Linear Equations using Matrices\n"
     ]
    },
    {
     "cell_type": "markdown",
     "metadata": {},
     "source": [
      "## Example\n",
      "\n",
      "Solve the following three equations:\n",
      "$$ 2a + b + c = 4 $$\n",
      "$$ a + 3b + 2c = 5 $$\n",
      "$$ a = 6 $$\n",
      "\n",
      "With all of the coefficients visible, the equations are as follows:\n",
      "$$ 2a + 1b + 1c = 4 $$\n",
      "$$ 1a + 3b + 2c = 5 $$\n",
      "$$ 1a + 0b + 0c = 6 $$\n",
      "\n",
      "$$\n",
      "A =\n",
      "  \\begin{bmatrix}\n",
      "    2 & 1 & 1 \\\\\n",
      "    1 & 3 & 2 \\\\\n",
      "    1 & 0 & 0\n",
      "  \\end{bmatrix}\n",
      "$$\n",
      "\n",
      "$$\n",
      "X =\n",
      "  \\begin{bmatrix}\n",
      "    a \\\\ b \\\\ c\n",
      "  \\end{bmatrix}\n",
      "$$\n",
      "\n",
      "$$\n",
      "Y =\n",
      "  \\begin{bmatrix}\n",
      "    4 \\\\ 5 \\\\ 6\n",
      "  \\end{bmatrix}  \n",
      "$$\n",
      "\n",
      "The linear equations can now be stated as follows:\n",
      "$$ AX=Y $$\n",
      "\n",
      "And the solutions can be found:\n",
      "$$X = A^{-1}Y$$\n",
      "\n",
      "Using the *NumPy* arrays, the $X$ matrix can be easily solved using linear algebra."
     ]
    },
    {
     "cell_type": "code",
     "collapsed": false,
     "input": [
      "import numpy as np\n",
      "\n",
      "A = np.array([[1, 2, 1], \n",
      "              [1, 3, 2],\n",
      "              [1, 0, 0]])\n",
      "\n",
      "Y = np.array([4, 5, 6])\n",
      "\n",
      "print np.linalg.solve(A, Y)\n"
     ],
     "language": "python",
     "metadata": {},
     "outputs": [
      {
       "output_type": "stream",
       "stream": "stdout",
       "text": [
        "[ 6. -3.  4.]\n"
       ]
      }
     ],
     "prompt_number": 1
    },
    {
     "cell_type": "code",
     "collapsed": false,
     "input": [],
     "language": "python",
     "metadata": {},
     "outputs": []
    }
   ],
   "metadata": {}
  }
 ]
}