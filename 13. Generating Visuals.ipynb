{
 "cells": [
  {
   "cell_type": "markdown",
   "metadata": {},
   "source": [
    "# Generating Visuals\n",
    "\n",
    "We mainly makes use of two Python libraries to generate visuals, namely, the matplotlib and seaborn.\n",
    "\n",
    "Seaborn is a library built on top of matplotlib, providing a number of beautiful themes and palettes, and tweaks to smoother the user experience of matplotlib.\n",
    "\n",
    "Because the matplotlib is used in the backend, the graphics can be highly customised using matplotlib and rendered to generate publication-quality figures. As such, seaborn should be thought of as a complement to matplotlib, not a replacement for it."
   ]
  }
 ],
 "metadata": {
  "hide_input": false,
  "kernelspec": {
   "display_name": "Python 3",
   "language": "python",
   "name": "python3"
  },
  "language_info": {
   "codemirror_mode": {
    "name": "ipython",
    "version": 3
   },
   "file_extension": ".py",
   "mimetype": "text/x-python",
   "name": "python",
   "nbconvert_exporter": "python",
   "pygments_lexer": "ipython3",
   "version": "3.5.1"
  },
  "toc": {
   "toc_cell": false,
   "toc_number_sections": true,
   "toc_threshold": 6,
   "toc_window_display": false
  }
 },
 "nbformat": 4,
 "nbformat_minor": 0
}
