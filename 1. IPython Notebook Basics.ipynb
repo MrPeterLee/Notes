{
 "metadata": {
  "name": "",
  "signature": "sha256:da4a849f3b99376a1361f2419382cb29a35a852663dd92606fe68aec7c9d08b7"
 },
 "nbformat": 3,
 "nbformat_minor": 0,
 "worksheets": [
  {
   "cells": [
    {
     "cell_type": "markdown",
     "metadata": {},
     "source": [
      "Different Formatting in Markdown Cells\n",
      "==\n",
      "\n",
      "This is an example of *italic* text\n",
      "This is an example of **bold** text\n",
      "\n",
      "This is an example of list items:\n",
      "- Item 1\n",
      "- Item 2\n",
      "- Item 3\n",
      "\n",
      "---\n",
      "\n",
      "#heading 1\n",
      "##heading 2\n",
      "###heading 3\n",
      "####heading 4\n",
      "#####heading 5"
     ]
    },
    {
     "cell_type": "markdown",
     "metadata": {},
     "source": [
      "Displaying Graphs\n",
      "==\n",
      "The *matplotlib* module provides a MATLAB-like plotting framework in Python. With the matplotlib.pyplot function, charts can be plotted and rendered as graphic images for display in a web browser.\n"
     ]
    },
    {
     "cell_type": "code",
     "collapsed": false,
     "input": [
      "import numpy as np\n",
      "import math\n",
      "import matplotlib.pyplot as plt\n",
      "\n",
      "x = np.linspace(0, 2*math.pi)\n",
      "\n",
      "plt.plot(x, np.sin(x), label=r\"$\\sin(x)$\")\n",
      "plt.plot(x, np.cos(x), \"ro\", label=r\"$\\cos(x)$\")\n",
      "plt.title(r\"Two plots in a graph\")\n",
      "plt.legend()"
     ],
     "language": "python",
     "metadata": {},
     "outputs": [
      {
       "metadata": {},
       "output_type": "pyout",
       "prompt_number": 15,
       "text": [
        "<matplotlib.legend.Legend at 0x7f8c2c6bbcd0>"
       ]
      },
      {
       "metadata": {},
       "output_type": "display_data",
       "png": "[encoded data removed]",
       "text": [
        "<matplotlib.figure.Figure at 0x7f8c2c7fb790>"
       ]
      }
     ],
     "prompt_number": 15
    },
    {
     "cell_type": "markdown",
     "metadata": {},
     "source": [
      "Display Latex Equations in Markdown\n",
      "==\n",
      "The IPython Notebook uses MathJax to render Latex surrounded with $$ or $ inside Markdown.\n",
      "\n",
      "To display a standard normal cumulative distribution function:\n",
      "\n",
      "$$ F(x) = \\frac{1}{\\sqrt{2\\pi}}\\int_{-\\infty}^{x} e^{- \\frac{z^2}{2}}\\, dz $$"
     ]
    },
    {
     "cell_type": "markdown",
     "metadata": {},
     "source": [
      "Display Latex Equations in Python Codes\n",
      "==\n",
      "Another way of displaying the same equation is using the Math function of the IPython display module."
     ]
    },
    {
     "cell_type": "code",
     "collapsed": false,
     "input": [
      "import IPython.display\n",
      "IPython.display.Math(r\"F(x) = \\frac{1}{\\sqrt{2\\pi}}\\int_{-\\infty}^{x} e^{- \\frac{z^2}{2}}\\, dz\")"
     ],
     "language": "python",
     "metadata": {},
     "outputs": [
      {
       "latex": [
        "$$F(x) = \\frac{1}{\\sqrt{2\\pi}}\\int_{-\\infty}^{x} e^{- \\frac{z^2}{2}}\\, dz$$"
       ],
       "metadata": {},
       "output_type": "pyout",
       "prompt_number": 16,
       "text": [
        "<IPython.core.display.Math at 0x7f8c2c8eb890>"
       ]
      }
     ],
     "prompt_number": 16
    },
    {
     "cell_type": "markdown",
     "metadata": {},
     "source": [
      "Display Images\n",
      "==\n",
      "To work with images, such as JPEG and PNG, use the Image class of the IPython display module."
     ]
    },
    {
     "cell_type": "code",
     "collapsed": false,
     "input": [
      "from IPython.display import Image\n",
      "Image(url=\"http://python.org/images/python-logo.gif\")"
     ],
     "language": "python",
     "metadata": {},
     "outputs": [
      {
       "html": [
        "<img src=\"http://python.org/images/python-logo.gif\"/>"
       ],
       "metadata": {},
       "output_type": "pyout",
       "prompt_number": 5,
       "text": [
        "<IPython.core.display.Image at 0x7f0d980e9250>"
       ]
      }
     ],
     "prompt_number": 5
    },
    {
     "cell_type": "markdown",
     "metadata": {},
     "source": [
      "Insert Youtube Videos\n",
      "==\n",
      "The lib.display module of the IPython package contains a YouTubeVideo function."
     ]
    },
    {
     "cell_type": "code",
     "collapsed": false,
     "input": [
      "from IPython.lib.display import YouTubeVideo\n",
      "YouTubeVideo(\"tKTZoB2Vjuk\")"
     ],
     "language": "python",
     "metadata": {},
     "outputs": [
      {
       "html": [
        "\n",
        "        <iframe\n",
        "            width=\"400\"\n",
        "            height=300\"\n",
        "            src=\"https://www.youtube.com/embed/tKTZoB2Vjuk\"\n",
        "            frameborder=\"0\"\n",
        "            allowfullscreen\n",
        "        ></iframe>\n",
        "        "
       ],
       "metadata": {},
       "output_type": "pyout",
       "prompt_number": 6,
       "text": [
        "<IPython.lib.display.YouTubeVideo at 0x7f0d98146f10>"
       ]
      }
     ],
     "prompt_number": 6
    },
    {
     "cell_type": "markdown",
     "metadata": {},
     "source": [
      "Working with HTML\n",
      "==\n",
      "Notebook allows HTML representations to be displayed. One common use of HTML is the ability to display data with tables. The following code outputs a table with two columns and three rows, including a header row:"
     ]
    },
    {
     "cell_type": "code",
     "collapsed": false,
     "input": [
      "from IPython.display import HTML\n",
      "table = \"\"\"\n",
      "<table>\n",
      "<tr>\n",
      "<th>Header 1</th>\n",
      "<th>Header 2</th>\n",
      "</tr>\n",
      "<tr>\n",
      "<td>row 1, cell 1</td>\n",
      "<td>row 1, cell 2</td>\n",
      "</tr>\n",
      "<tr>\n",
      "<td>row 2, cell 1</td>\n",
      "<td>row 2, cell 2</td>\n",
      "</tr>\n",
      "</table>\n",
      "\"\"\"\n",
      "HTML(table)"
     ],
     "language": "python",
     "metadata": {},
     "outputs": [
      {
       "html": [
        "\n",
        "<table>\n",
        "<tr>\n",
        "<th>Header 1</th>\n",
        "<th>Header 2</th>\n",
        "</tr>\n",
        "<tr>\n",
        "<td>row 1, cell 1</td>\n",
        "<td>row 1, cell 2</td>\n",
        "</tr>\n",
        "<tr>\n",
        "<td>row 2, cell 1</td>\n",
        "<td>row 2, cell 2</td>\n",
        "</tr>\n",
        "</table>\n"
       ],
       "metadata": {},
       "output_type": "pyout",
       "prompt_number": 23,
       "text": [
        "<IPython.core.display.HTML at 0x7f8c2c6c80d0>"
       ]
      }
     ],
     "prompt_number": 23
    },
    {
     "cell_type": "markdown",
     "metadata": {},
     "source": [
      "Transform Pandas DataFrame Object into an HTML table\n",
      "==\n",
      "In a notebook, pandas allow DataFrame objects to be represented as HTML tables."
     ]
    },
    {
     "cell_type": "code",
     "collapsed": false,
     "input": [
      "# Retrieve the stock market data from Yahoo! Finance and store them in a pandas DataFrame object with the \n",
      "# help of the pandas.DataReader function. \n",
      "\n",
      "import pandas_datareader.data as web\n",
      "import datetime\n",
      "\n",
      "start = datetime.datetime(2015, 6, 15)\n",
      "end = datetime.datetime(2015, 6, 23)\n",
      "\n",
      "# df is DataFrame object from Pandas, used to store data in Python\n",
      "df = web.DataReader(\"BHP.AX\", \"yahoo\", start, end)\n",
      "df[:]"
     ],
     "language": "python",
     "metadata": {},
     "outputs": [
      {
       "html": [
        "<div style=\"max-height:1000px;max-width:1500px;overflow:auto;\">\n",
        "<table border=\"1\" class=\"dataframe\">\n",
        "  <thead>\n",
        "    <tr style=\"text-align: right;\">\n",
        "      <th></th>\n",
        "      <th>Open</th>\n",
        "      <th>High</th>\n",
        "      <th>Low</th>\n",
        "      <th>Close</th>\n",
        "      <th>Volume</th>\n",
        "      <th>Adj Close</th>\n",
        "    </tr>\n",
        "    <tr>\n",
        "      <th>Date</th>\n",
        "      <th></th>\n",
        "      <th></th>\n",
        "      <th></th>\n",
        "      <th></th>\n",
        "      <th></th>\n",
        "      <th></th>\n",
        "    </tr>\n",
        "  </thead>\n",
        "  <tbody>\n",
        "    <tr>\n",
        "      <th>2015-06-15</th>\n",
        "      <td> 27.75</td>\n",
        "      <td> 27.95</td>\n",
        "      <td> 27.660</td>\n",
        "      <td> 27.92</td>\n",
        "      <td>  5712400</td>\n",
        "      <td> 27.92</td>\n",
        "    </tr>\n",
        "    <tr>\n",
        "      <th>2015-06-16</th>\n",
        "      <td> 27.69</td>\n",
        "      <td> 28.01</td>\n",
        "      <td> 27.550</td>\n",
        "      <td> 27.75</td>\n",
        "      <td>  5122800</td>\n",
        "      <td> 27.75</td>\n",
        "    </tr>\n",
        "    <tr>\n",
        "      <th>2015-06-17</th>\n",
        "      <td> 27.75</td>\n",
        "      <td> 28.25</td>\n",
        "      <td> 27.640</td>\n",
        "      <td> 28.17</td>\n",
        "      <td>  7700100</td>\n",
        "      <td> 28.17</td>\n",
        "    </tr>\n",
        "    <tr>\n",
        "      <th>2015-06-18</th>\n",
        "      <td> 28.21</td>\n",
        "      <td> 28.21</td>\n",
        "      <td> 27.820</td>\n",
        "      <td> 27.97</td>\n",
        "      <td> 10697700</td>\n",
        "      <td> 27.97</td>\n",
        "    </tr>\n",
        "    <tr>\n",
        "      <th>2015-06-19</th>\n",
        "      <td> 28.28</td>\n",
        "      <td> 28.47</td>\n",
        "      <td> 28.220</td>\n",
        "      <td> 28.41</td>\n",
        "      <td>  7096300</td>\n",
        "      <td> 28.41</td>\n",
        "    </tr>\n",
        "    <tr>\n",
        "      <th>2015-06-22</th>\n",
        "      <td> 28.24</td>\n",
        "      <td> 28.32</td>\n",
        "      <td> 27.985</td>\n",
        "      <td> 28.32</td>\n",
        "      <td>  3947800</td>\n",
        "      <td> 28.32</td>\n",
        "    </tr>\n",
        "    <tr>\n",
        "      <th>2015-06-23</th>\n",
        "      <td> 28.64</td>\n",
        "      <td> 28.70</td>\n",
        "      <td> 28.430</td>\n",
        "      <td> 28.61</td>\n",
        "      <td>  7440600</td>\n",
        "      <td> 28.61</td>\n",
        "    </tr>\n",
        "  </tbody>\n",
        "</table>\n",
        "</div>"
       ],
       "metadata": {},
       "output_type": "pyout",
       "prompt_number": 1,
       "text": [
        "             Open   High     Low  Close    Volume  Adj Close\n",
        "Date                                                        \n",
        "2015-06-15  27.75  27.95  27.660  27.92   5712400      27.92\n",
        "2015-06-16  27.69  28.01  27.550  27.75   5122800      27.75\n",
        "2015-06-17  27.75  28.25  27.640  28.17   7700100      28.17\n",
        "2015-06-18  28.21  28.21  27.820  27.97  10697700      27.97\n",
        "2015-06-19  28.28  28.47  28.220  28.41   7096300      28.41\n",
        "2015-06-22  28.24  28.32  27.985  28.32   3947800      28.32\n",
        "2015-06-23  28.64  28.70  28.430  28.61   7440600      28.61"
       ]
      }
     ],
     "prompt_number": 1
    },
    {
     "cell_type": "markdown",
     "metadata": {},
     "source": [
      "#Different Data Types"
     ]
    },
    {
     "cell_type": "markdown",
     "metadata": {},
     "source": [
      "## 2) Tuples\n",
      "\n",
      "Tuples are just like lists, but you can't change their values. Again, each value is numbered starting from zero, for easy reference. "
     ]
    },
    {
     "cell_type": "code",
     "collapsed": false,
     "input": [
      "months = ('January','February','March','April','May')\n",
      "print months"
     ],
     "language": "python",
     "metadata": {},
     "outputs": [
      {
       "output_type": "stream",
       "stream": "stdout",
       "text": [
        "(u'January', u'February', u'March', u'April', u'May')\n"
       ]
      }
     ],
     "prompt_number": 3
    },
    {
     "cell_type": "markdown",
     "metadata": {},
     "source": [
      "Note we use parentheses rather than square brackets."
     ]
    },
    {
     "cell_type": "code",
     "collapsed": false,
     "input": [
      "# Tuple has indices \n",
      "# Similar to Lists\n",
      "print months.index('February')\n",
      "print months[1]"
     ],
     "language": "python",
     "metadata": {},
     "outputs": [
      {
       "output_type": "stream",
       "stream": "stdout",
       "text": [
        "1\n",
        "February\n"
       ]
      }
     ],
     "prompt_number": 4
    },
    {
     "cell_type": "code",
     "collapsed": false,
     "input": [
      "# Sometime tuples are used to associate some values in pairs. \n",
      "# In this example we made a list with pairs. Each pair is tuple (so cannot be changed). \n",
      "\n",
      "stop=1\n",
      "attention=2\n",
      "go=3\n",
      "pairs = [(stop, 'red'), (attention, 'yellow'), (go, 'green')]\n",
      "print pairs"
     ],
     "language": "python",
     "metadata": {},
     "outputs": [
      {
       "output_type": "stream",
       "stream": "stdout",
       "text": [
        "[(1, u'red'), (2, u'yellow'), (3, u'green')]\n"
       ]
      }
     ],
     "prompt_number": 5
    },
    {
     "cell_type": "markdown",
     "metadata": {},
     "source": [
      "\n",
      "The above example shows the usefulness of Tuples: Tuples can be used to capture a snap shot of variables, which are likely to be changed later (i.e. inside a running function).\n",
      "\n",
      "Here we associated integer values with strings. How we can work with such compound object? As usual, one can loop over each item (pair) and print it: "
     ]
    },
    {
     "cell_type": "code",
     "collapsed": false,
     "input": [
      "stop=1\n",
      "attention=2\n",
      "go=3\n",
      "pairs = [(stop, 'red'), (attention, 'yellow'), (go, 'green')]\n",
      "for j in pairs:\n",
      "     print j         # we print pairs\n",
      "     print j[0],j[1] # print each value in the pair"
     ],
     "language": "python",
     "metadata": {},
     "outputs": [
      {
       "output_type": "stream",
       "stream": "stdout",
       "text": [
        "(1, u'red')\n",
        "1 red\n",
        "(2, u'yellow')\n",
        "2 yellow\n",
        "(3, u'green')\n",
        "3 green\n"
       ]
      }
     ],
     "prompt_number": 6
    },
    {
     "cell_type": "markdown",
     "metadata": {},
     "source": [
      "## Dictionaries\n",
      "\n",
      "Dictionaries are opposite to Lists. In lists, the index are numbers starting from zero while you can extract an item by inputting its index. In dictionaries, the index does not have to be a number (i.e., a string).\n",
      "\n",
      "In a dictionary, we have an 'index' of words, and for each of them a definition. In Python, the word is called a 'key', and the definition a 'value'. The values in a dictionary are not numbered, unlike the lists. \n",
      "\n",
      "Let us make a small dictionary: "
     ]
    },
    {
     "cell_type": "code",
     "collapsed": false,
     "input": [
      "data = {}\n",
      "data['hello'] = 'hola'\n",
      "data['yes'] = 'si'\n",
      "data['one'] = 'uno'\n",
      "data['two'] = 'dos'\n",
      "print data"
     ],
     "language": "python",
     "metadata": {},
     "outputs": [
      {
       "output_type": "stream",
       "stream": "stdout",
       "text": [
        "{u'yes': u'si', u'hello': u'hola', u'two': u'dos', u'one': u'uno'}\n"
       ]
      }
     ],
     "prompt_number": 7
    },
    {
     "cell_type": "markdown",
     "metadata": {},
     "source": [
      "What do you see? \n",
      "\n",
      "To retrieve a value corresponding to a given key, just use the key: "
     ]
    },
    {
     "cell_type": "code",
     "collapsed": false,
     "input": [
      "print data['hello']"
     ],
     "language": "python",
     "metadata": {},
     "outputs": [
      {
       "output_type": "stream",
       "stream": "stdout",
       "text": [
        "hola\n"
       ]
      }
     ],
     "prompt_number": 9
    },
    {
     "cell_type": "markdown",
     "metadata": {},
     "source": [
      "One can also create a dictionary by explicitly writing them out in full"
     ]
    },
    {
     "cell_type": "code",
     "collapsed": false,
     "input": [
      "data = {'hello':'hola', 'one':'uno'}\n",
      "print data"
     ],
     "language": "python",
     "metadata": {},
     "outputs": [
      {
       "output_type": "stream",
       "stream": "stdout",
       "text": [
        "{u'hello': u'hola', u'one': u'uno'}\n"
       ]
      }
     ],
     "prompt_number": 10
    },
    {
     "cell_type": "markdown",
     "metadata": {},
     "source": [
      "Let us now make a loop over keys of a dictionary:\n"
     ]
    },
    {
     "cell_type": "code",
     "collapsed": false,
     "input": [
      "data = {}\n",
      "data['hello'] = 'hola'\n",
      "data['yes'] = 'si'\n",
      "data['one'] = 'uno'\n",
      "data['two'] = 'dos'\n",
      "for key, value in data.iteritems():\n",
      "    print \"{0} -> {1}\".format(key, value)"
     ],
     "language": "python",
     "metadata": {},
     "outputs": [
      {
       "output_type": "stream",
       "stream": "stdout",
       "text": [
        "yes -> si\n",
        "hello -> hola\n",
        "two -> dos\n",
        "one -> uno\n"
       ]
      }
     ],
     "prompt_number": 11
    },
    {
     "cell_type": "markdown",
     "metadata": {},
     "source": [
      "##Sets\n",
      "\n",
      "A set is an unordered collection of objects that cannot have duplicate members. \n",
      "They are similar to lists, except that \n",
      "* they are unordered (like dictionaries). \n",
      "* they do not allow duplicate entries. "
     ]
    },
    {
     "cell_type": "code",
     "collapsed": false,
     "input": [
      "a_set = set([1, 2, 3, 3, 3, 3])\n",
      "print a_set"
     ],
     "language": "python",
     "metadata": {},
     "outputs": [
      {
       "output_type": "stream",
       "stream": "stdout",
       "text": [
        "set([1, 2, 3])\n"
       ]
      }
     ],
     "prompt_number": 12
    },
    {
     "cell_type": "code",
     "collapsed": false,
     "input": [
      "# A quick way to remove duplicates in a list\n",
      "l = [1, 1, 2, 2, 3, 3, 4, 4, 5, 5]\n",
      "a_set = set(l)\n",
      "l = list(a_set)\n",
      "print l"
     ],
     "language": "python",
     "metadata": {},
     "outputs": [
      {
       "output_type": "stream",
       "stream": "stdout",
       "text": [
        "[1, 2, 3, 4, 5]\n"
       ]
      }
     ],
     "prompt_number": 13
    }
   ],
   "metadata": {}
  }
 ]
}