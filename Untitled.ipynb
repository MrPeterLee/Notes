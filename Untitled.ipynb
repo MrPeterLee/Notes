{
 "cells": [
  {
   "cell_type": "code",
   "execution_count": 1,
   "metadata": {
    "collapsed": true
   },
   "outputs": [],
   "source": [
    "import pandas as pd\n",
    "import numpy as np\n",
    "from pandas import Series, DataFrame, Panel"
   ]
  },
  {
   "cell_type": "code",
   "execution_count": 2,
   "metadata": {
    "collapsed": false
   },
   "outputs": [
    {
     "data": {
      "text/html": [
       "<div>\n",
       "<table border=\"1\" class=\"dataframe\">\n",
       "  <thead>\n",
       "    <tr style=\"text-align: right;\">\n",
       "      <th></th>\n",
       "      <th>cat</th>\n",
       "      <th>dog</th>\n",
       "      <th>mouse</th>\n",
       "      <th>monkey</th>\n",
       "      <th>date</th>\n",
       "    </tr>\n",
       "    <tr>\n",
       "      <th>date</th>\n",
       "      <th></th>\n",
       "      <th></th>\n",
       "      <th></th>\n",
       "      <th></th>\n",
       "      <th></th>\n",
       "    </tr>\n",
       "  </thead>\n",
       "  <tbody>\n",
       "    <tr>\n",
       "      <th>2015-11-16</th>\n",
       "      <td>0.166084</td>\n",
       "      <td>-0.084043</td>\n",
       "      <td>-0.611719</td>\n",
       "      <td>1.197090</td>\n",
       "      <td>2015-11-16</td>\n",
       "    </tr>\n",
       "    <tr>\n",
       "      <th>2015-11-17</th>\n",
       "      <td>-1.108023</td>\n",
       "      <td>2.880966</td>\n",
       "      <td>-0.155005</td>\n",
       "      <td>0.529755</td>\n",
       "      <td>2015-11-17</td>\n",
       "    </tr>\n",
       "    <tr>\n",
       "      <th>2015-11-18</th>\n",
       "      <td>0.688402</td>\n",
       "      <td>0.931094</td>\n",
       "      <td>0.802088</td>\n",
       "      <td>-0.452529</td>\n",
       "      <td>2015-11-18</td>\n",
       "    </tr>\n",
       "    <tr>\n",
       "      <th>2015-11-19</th>\n",
       "      <td>0.456971</td>\n",
       "      <td>-0.567192</td>\n",
       "      <td>0.149383</td>\n",
       "      <td>0.045660</td>\n",
       "      <td>2015-11-19</td>\n",
       "    </tr>\n",
       "    <tr>\n",
       "      <th>2015-11-20</th>\n",
       "      <td>-0.612474</td>\n",
       "      <td>0.181632</td>\n",
       "      <td>0.317199</td>\n",
       "      <td>0.740760</td>\n",
       "      <td>2015-11-20</td>\n",
       "    </tr>\n",
       "  </tbody>\n",
       "</table>\n",
       "</div>"
      ],
      "text/plain": [
       "                 cat       dog     mouse    monkey       date\n",
       "date                                                         \n",
       "2015-11-16  0.166084 -0.084043 -0.611719  1.197090 2015-11-16\n",
       "2015-11-17 -1.108023  2.880966 -0.155005  0.529755 2015-11-17\n",
       "2015-11-18  0.688402  0.931094  0.802088 -0.452529 2015-11-18\n",
       "2015-11-19  0.456971 -0.567192  0.149383  0.045660 2015-11-19\n",
       "2015-11-20 -0.612474  0.181632  0.317199  0.740760 2015-11-20"
      ]
     },
     "execution_count": 2,
     "metadata": {},
     "output_type": "execute_result"
    }
   ],
   "source": [
    "# Generate a 1000 X 4 DF, timeseries\n",
    "\n",
    "df = DataFrame(np.random.randn(4000).reshape(1000,4))\n",
    "df['date'] = pd.date_range('2015-11-16', periods=1000)\n",
    "df = df.set_index('date', drop=False)\n",
    "df.columns = ['cat', 'dog', 'mouse', 'monkey', 'date']\n",
    "df.head()"
   ]
  },
  {
   "cell_type": "code",
   "execution_count": 3,
   "metadata": {
    "collapsed": false
   },
   "outputs": [
    {
     "data": {
      "text/html": [
       "<div>\n",
       "<table border=\"1\" class=\"dataframe\">\n",
       "  <thead>\n",
       "    <tr style=\"text-align: right;\">\n",
       "      <th></th>\n",
       "      <th>cat</th>\n",
       "      <th>dog</th>\n",
       "      <th>mouse</th>\n",
       "      <th>monkey</th>\n",
       "      <th>date</th>\n",
       "      <th>month</th>\n",
       "    </tr>\n",
       "    <tr>\n",
       "      <th>date</th>\n",
       "      <th></th>\n",
       "      <th></th>\n",
       "      <th></th>\n",
       "      <th></th>\n",
       "      <th></th>\n",
       "      <th></th>\n",
       "    </tr>\n",
       "  </thead>\n",
       "  <tbody>\n",
       "    <tr>\n",
       "      <th>2015-11-16</th>\n",
       "      <td>0.166084</td>\n",
       "      <td>-0.084043</td>\n",
       "      <td>-0.611719</td>\n",
       "      <td>1.197090</td>\n",
       "      <td>2015-11-16</td>\n",
       "      <td>11</td>\n",
       "    </tr>\n",
       "    <tr>\n",
       "      <th>2015-11-17</th>\n",
       "      <td>-1.108023</td>\n",
       "      <td>2.880966</td>\n",
       "      <td>-0.155005</td>\n",
       "      <td>0.529755</td>\n",
       "      <td>2015-11-17</td>\n",
       "      <td>11</td>\n",
       "    </tr>\n",
       "    <tr>\n",
       "      <th>2015-11-18</th>\n",
       "      <td>0.688402</td>\n",
       "      <td>0.931094</td>\n",
       "      <td>0.802088</td>\n",
       "      <td>-0.452529</td>\n",
       "      <td>2015-11-18</td>\n",
       "      <td>11</td>\n",
       "    </tr>\n",
       "    <tr>\n",
       "      <th>2015-11-19</th>\n",
       "      <td>0.456971</td>\n",
       "      <td>-0.567192</td>\n",
       "      <td>0.149383</td>\n",
       "      <td>0.045660</td>\n",
       "      <td>2015-11-19</td>\n",
       "      <td>11</td>\n",
       "    </tr>\n",
       "    <tr>\n",
       "      <th>2015-11-20</th>\n",
       "      <td>-0.612474</td>\n",
       "      <td>0.181632</td>\n",
       "      <td>0.317199</td>\n",
       "      <td>0.740760</td>\n",
       "      <td>2015-11-20</td>\n",
       "      <td>11</td>\n",
       "    </tr>\n",
       "  </tbody>\n",
       "</table>\n",
       "</div>"
      ],
      "text/plain": [
       "                 cat       dog     mouse    monkey       date  month\n",
       "date                                                                \n",
       "2015-11-16  0.166084 -0.084043 -0.611719  1.197090 2015-11-16     11\n",
       "2015-11-17 -1.108023  2.880966 -0.155005  0.529755 2015-11-17     11\n",
       "2015-11-18  0.688402  0.931094  0.802088 -0.452529 2015-11-18     11\n",
       "2015-11-19  0.456971 -0.567192  0.149383  0.045660 2015-11-19     11\n",
       "2015-11-20 -0.612474  0.181632  0.317199  0.740760 2015-11-20     11"
      ]
     },
     "execution_count": 3,
     "metadata": {},
     "output_type": "execute_result"
    }
   ],
   "source": [
    "# Generate a monthly dummy\n",
    "df['month'] = df.index.month\n",
    "df.head()"
   ]
  },
  {
   "cell_type": "code",
   "execution_count": 4,
   "metadata": {
    "collapsed": false
   },
   "outputs": [
    {
     "data": {
      "text/html": [
       "<div>\n",
       "<table border=\"1\" class=\"dataframe\">\n",
       "  <thead>\n",
       "    <tr style=\"text-align: right;\">\n",
       "      <th></th>\n",
       "      <th>cat</th>\n",
       "      <th>dog</th>\n",
       "      <th>mouse</th>\n",
       "      <th>monkey</th>\n",
       "      <th>date</th>\n",
       "      <th>month</th>\n",
       "      <th>week</th>\n",
       "    </tr>\n",
       "    <tr>\n",
       "      <th>date</th>\n",
       "      <th></th>\n",
       "      <th></th>\n",
       "      <th></th>\n",
       "      <th></th>\n",
       "      <th></th>\n",
       "      <th></th>\n",
       "      <th></th>\n",
       "    </tr>\n",
       "  </thead>\n",
       "  <tbody>\n",
       "    <tr>\n",
       "      <th>2015-11-16</th>\n",
       "      <td>0.166084</td>\n",
       "      <td>-0.084043</td>\n",
       "      <td>-0.611719</td>\n",
       "      <td>1.197090</td>\n",
       "      <td>2015-11-16</td>\n",
       "      <td>11</td>\n",
       "      <td>47</td>\n",
       "    </tr>\n",
       "    <tr>\n",
       "      <th>2015-11-17</th>\n",
       "      <td>-1.108023</td>\n",
       "      <td>2.880966</td>\n",
       "      <td>-0.155005</td>\n",
       "      <td>0.529755</td>\n",
       "      <td>2015-11-17</td>\n",
       "      <td>11</td>\n",
       "      <td>47</td>\n",
       "    </tr>\n",
       "    <tr>\n",
       "      <th>2015-11-18</th>\n",
       "      <td>0.688402</td>\n",
       "      <td>0.931094</td>\n",
       "      <td>0.802088</td>\n",
       "      <td>-0.452529</td>\n",
       "      <td>2015-11-18</td>\n",
       "      <td>11</td>\n",
       "      <td>47</td>\n",
       "    </tr>\n",
       "    <tr>\n",
       "      <th>2015-11-19</th>\n",
       "      <td>0.456971</td>\n",
       "      <td>-0.567192</td>\n",
       "      <td>0.149383</td>\n",
       "      <td>0.045660</td>\n",
       "      <td>2015-11-19</td>\n",
       "      <td>11</td>\n",
       "      <td>47</td>\n",
       "    </tr>\n",
       "    <tr>\n",
       "      <th>2015-11-20</th>\n",
       "      <td>-0.612474</td>\n",
       "      <td>0.181632</td>\n",
       "      <td>0.317199</td>\n",
       "      <td>0.740760</td>\n",
       "      <td>2015-11-20</td>\n",
       "      <td>11</td>\n",
       "      <td>47</td>\n",
       "    </tr>\n",
       "  </tbody>\n",
       "</table>\n",
       "</div>"
      ],
      "text/plain": [
       "                 cat       dog     mouse    monkey       date  month  week\n",
       "date                                                                      \n",
       "2015-11-16  0.166084 -0.084043 -0.611719  1.197090 2015-11-16     11    47\n",
       "2015-11-17 -1.108023  2.880966 -0.155005  0.529755 2015-11-17     11    47\n",
       "2015-11-18  0.688402  0.931094  0.802088 -0.452529 2015-11-18     11    47\n",
       "2015-11-19  0.456971 -0.567192  0.149383  0.045660 2015-11-19     11    47\n",
       "2015-11-20 -0.612474  0.181632  0.317199  0.740760 2015-11-20     11    47"
      ]
     },
     "execution_count": 4,
     "metadata": {},
     "output_type": "execute_result"
    }
   ],
   "source": [
    "# Generate a weekly dummy\n",
    "df['week'] = df.index.weekofyear\n",
    "df.head()"
   ]
  },
  {
   "cell_type": "code",
   "execution_count": 5,
   "metadata": {
    "collapsed": false
   },
   "outputs": [
    {
     "data": {
      "text/html": [
       "<div>\n",
       "<table border=\"1\" class=\"dataframe\">\n",
       "  <thead>\n",
       "    <tr style=\"text-align: right;\">\n",
       "      <th></th>\n",
       "      <th>cat</th>\n",
       "      <th>mouse</th>\n",
       "      <th>monkey</th>\n",
       "    </tr>\n",
       "    <tr>\n",
       "      <th>date</th>\n",
       "      <th></th>\n",
       "      <th></th>\n",
       "      <th></th>\n",
       "    </tr>\n",
       "  </thead>\n",
       "  <tbody>\n",
       "    <tr>\n",
       "      <th>2016-01-01</th>\n",
       "      <td>-1.514619</td>\n",
       "      <td>1.381135</td>\n",
       "      <td>0.842143</td>\n",
       "    </tr>\n",
       "    <tr>\n",
       "      <th>2016-01-02</th>\n",
       "      <td>0.319170</td>\n",
       "      <td>-0.891351</td>\n",
       "      <td>-0.662135</td>\n",
       "    </tr>\n",
       "    <tr>\n",
       "      <th>2016-01-03</th>\n",
       "      <td>1.002837</td>\n",
       "      <td>-0.449528</td>\n",
       "      <td>-0.610700</td>\n",
       "    </tr>\n",
       "    <tr>\n",
       "      <th>2016-01-04</th>\n",
       "      <td>0.865057</td>\n",
       "      <td>-1.605731</td>\n",
       "      <td>1.056893</td>\n",
       "    </tr>\n",
       "    <tr>\n",
       "      <th>2016-01-05</th>\n",
       "      <td>0.359417</td>\n",
       "      <td>-0.555057</td>\n",
       "      <td>-0.107539</td>\n",
       "    </tr>\n",
       "  </tbody>\n",
       "</table>\n",
       "</div>"
      ],
      "text/plain": [
       "                 cat     mouse    monkey\n",
       "date                                    \n",
       "2016-01-01 -1.514619  1.381135  0.842143\n",
       "2016-01-02  0.319170 -0.891351 -0.662135\n",
       "2016-01-03  1.002837 -0.449528 -0.610700\n",
       "2016-01-04  0.865057 -1.605731  1.056893\n",
       "2016-01-05  0.359417 -0.555057 -0.107539"
      ]
     },
     "execution_count": 5,
     "metadata": {},
     "output_type": "execute_result"
    }
   ],
   "source": [
    "# Select data after 2016-1-1\n",
    "df.ix['2016-1-1':, ['cat', 'mouse', 'monkey']].head()"
   ]
  },
  {
   "cell_type": "code",
   "execution_count": 6,
   "metadata": {
    "collapsed": false
   },
   "outputs": [
    {
     "data": {
      "text/html": [
       "<div>\n",
       "<table border=\"1\" class=\"dataframe\">\n",
       "  <thead>\n",
       "    <tr style=\"text-align: right;\">\n",
       "      <th></th>\n",
       "      <th>cat</th>\n",
       "      <th>dog</th>\n",
       "      <th>mouse</th>\n",
       "      <th>monkey</th>\n",
       "      <th>date</th>\n",
       "      <th>month</th>\n",
       "      <th>week</th>\n",
       "    </tr>\n",
       "    <tr>\n",
       "      <th>date</th>\n",
       "      <th></th>\n",
       "      <th></th>\n",
       "      <th></th>\n",
       "      <th></th>\n",
       "      <th></th>\n",
       "      <th></th>\n",
       "      <th></th>\n",
       "    </tr>\n",
       "  </thead>\n",
       "  <tbody>\n",
       "    <tr>\n",
       "      <th>2016-02-01</th>\n",
       "      <td>0.485802</td>\n",
       "      <td>-1.095687</td>\n",
       "      <td>0.574057</td>\n",
       "      <td>1.042364</td>\n",
       "      <td>2016-02-01</td>\n",
       "      <td>2</td>\n",
       "      <td>5</td>\n",
       "    </tr>\n",
       "    <tr>\n",
       "      <th>2016-02-02</th>\n",
       "      <td>1.091786</td>\n",
       "      <td>-1.988204</td>\n",
       "      <td>0.870308</td>\n",
       "      <td>-0.289434</td>\n",
       "      <td>2016-02-02</td>\n",
       "      <td>2</td>\n",
       "      <td>5</td>\n",
       "    </tr>\n",
       "    <tr>\n",
       "      <th>2016-02-03</th>\n",
       "      <td>0.497758</td>\n",
       "      <td>-1.334704</td>\n",
       "      <td>-0.150570</td>\n",
       "      <td>0.063113</td>\n",
       "      <td>2016-02-03</td>\n",
       "      <td>2</td>\n",
       "      <td>5</td>\n",
       "    </tr>\n",
       "    <tr>\n",
       "      <th>2016-02-04</th>\n",
       "      <td>-2.148437</td>\n",
       "      <td>1.767162</td>\n",
       "      <td>0.587174</td>\n",
       "      <td>0.521950</td>\n",
       "      <td>2016-02-04</td>\n",
       "      <td>2</td>\n",
       "      <td>5</td>\n",
       "    </tr>\n",
       "    <tr>\n",
       "      <th>2016-02-05</th>\n",
       "      <td>-0.326406</td>\n",
       "      <td>1.220111</td>\n",
       "      <td>0.423510</td>\n",
       "      <td>-0.281705</td>\n",
       "      <td>2016-02-05</td>\n",
       "      <td>2</td>\n",
       "      <td>5</td>\n",
       "    </tr>\n",
       "  </tbody>\n",
       "</table>\n",
       "</div>"
      ],
      "text/plain": [
       "                 cat       dog     mouse    monkey       date  month  week\n",
       "date                                                                      \n",
       "2016-02-01  0.485802 -1.095687  0.574057  1.042364 2016-02-01      2     5\n",
       "2016-02-02  1.091786 -1.988204  0.870308 -0.289434 2016-02-02      2     5\n",
       "2016-02-03  0.497758 -1.334704 -0.150570  0.063113 2016-02-03      2     5\n",
       "2016-02-04 -2.148437  1.767162  0.587174  0.521950 2016-02-04      2     5\n",
       "2016-02-05 -0.326406  1.220111  0.423510 -0.281705 2016-02-05      2     5"
      ]
     },
     "execution_count": 6,
     "metadata": {},
     "output_type": "execute_result"
    }
   ],
   "source": [
    "# Select data in 2016-Feb\n",
    "# Method 1\n",
    "df[(df.index.year==2016) & (df.index.month==2)].head()"
   ]
  },
  {
   "cell_type": "code",
   "execution_count": 7,
   "metadata": {
    "collapsed": false
   },
   "outputs": [
    {
     "data": {
      "text/html": [
       "<div>\n",
       "<table border=\"1\" class=\"dataframe\">\n",
       "  <thead>\n",
       "    <tr style=\"text-align: right;\">\n",
       "      <th></th>\n",
       "      <th>cat</th>\n",
       "      <th>dog</th>\n",
       "      <th>mouse</th>\n",
       "      <th>monkey</th>\n",
       "      <th>date</th>\n",
       "      <th>month</th>\n",
       "      <th>week</th>\n",
       "    </tr>\n",
       "    <tr>\n",
       "      <th>date</th>\n",
       "      <th></th>\n",
       "      <th></th>\n",
       "      <th></th>\n",
       "      <th></th>\n",
       "      <th></th>\n",
       "      <th></th>\n",
       "      <th></th>\n",
       "    </tr>\n",
       "  </thead>\n",
       "  <tbody>\n",
       "    <tr>\n",
       "      <th>2016-02-01</th>\n",
       "      <td>0.485802</td>\n",
       "      <td>-1.095687</td>\n",
       "      <td>0.574057</td>\n",
       "      <td>1.042364</td>\n",
       "      <td>2016-02-01</td>\n",
       "      <td>2</td>\n",
       "      <td>5</td>\n",
       "    </tr>\n",
       "    <tr>\n",
       "      <th>2016-02-02</th>\n",
       "      <td>1.091786</td>\n",
       "      <td>-1.988204</td>\n",
       "      <td>0.870308</td>\n",
       "      <td>-0.289434</td>\n",
       "      <td>2016-02-02</td>\n",
       "      <td>2</td>\n",
       "      <td>5</td>\n",
       "    </tr>\n",
       "    <tr>\n",
       "      <th>2016-02-03</th>\n",
       "      <td>0.497758</td>\n",
       "      <td>-1.334704</td>\n",
       "      <td>-0.150570</td>\n",
       "      <td>0.063113</td>\n",
       "      <td>2016-02-03</td>\n",
       "      <td>2</td>\n",
       "      <td>5</td>\n",
       "    </tr>\n",
       "    <tr>\n",
       "      <th>2016-02-04</th>\n",
       "      <td>-2.148437</td>\n",
       "      <td>1.767162</td>\n",
       "      <td>0.587174</td>\n",
       "      <td>0.521950</td>\n",
       "      <td>2016-02-04</td>\n",
       "      <td>2</td>\n",
       "      <td>5</td>\n",
       "    </tr>\n",
       "    <tr>\n",
       "      <th>2016-02-05</th>\n",
       "      <td>-0.326406</td>\n",
       "      <td>1.220111</td>\n",
       "      <td>0.423510</td>\n",
       "      <td>-0.281705</td>\n",
       "      <td>2016-02-05</td>\n",
       "      <td>2</td>\n",
       "      <td>5</td>\n",
       "    </tr>\n",
       "  </tbody>\n",
       "</table>\n",
       "</div>"
      ],
      "text/plain": [
       "                 cat       dog     mouse    monkey       date  month  week\n",
       "date                                                                      \n",
       "2016-02-01  0.485802 -1.095687  0.574057  1.042364 2016-02-01      2     5\n",
       "2016-02-02  1.091786 -1.988204  0.870308 -0.289434 2016-02-02      2     5\n",
       "2016-02-03  0.497758 -1.334704 -0.150570  0.063113 2016-02-03      2     5\n",
       "2016-02-04 -2.148437  1.767162  0.587174  0.521950 2016-02-04      2     5\n",
       "2016-02-05 -0.326406  1.220111  0.423510 -0.281705 2016-02-05      2     5"
      ]
     },
     "execution_count": 7,
     "metadata": {},
     "output_type": "execute_result"
    }
   ],
   "source": [
    "# Method 2\n",
    "df.ix['2016-2'].head()"
   ]
  },
  {
   "cell_type": "code",
   "execution_count": 8,
   "metadata": {
    "collapsed": false
   },
   "outputs": [
    {
     "data": {
      "text/html": [
       "<div>\n",
       "<table border=\"1\" class=\"dataframe\">\n",
       "  <thead>\n",
       "    <tr style=\"text-align: right;\">\n",
       "      <th></th>\n",
       "      <th>cat</th>\n",
       "      <th>dog</th>\n",
       "      <th>mouse</th>\n",
       "      <th>monkey</th>\n",
       "      <th>date</th>\n",
       "      <th>month</th>\n",
       "      <th>week</th>\n",
       "    </tr>\n",
       "    <tr>\n",
       "      <th>date</th>\n",
       "      <th></th>\n",
       "      <th></th>\n",
       "      <th></th>\n",
       "      <th></th>\n",
       "      <th></th>\n",
       "      <th></th>\n",
       "      <th></th>\n",
       "    </tr>\n",
       "  </thead>\n",
       "  <tbody>\n",
       "    <tr>\n",
       "      <th>2017-10-06</th>\n",
       "      <td>1.325818</td>\n",
       "      <td>1.352200</td>\n",
       "      <td>-0.622675</td>\n",
       "      <td>0.008161</td>\n",
       "      <td>2017-10-06</td>\n",
       "      <td>10</td>\n",
       "      <td>40</td>\n",
       "    </tr>\n",
       "    <tr>\n",
       "      <th>2017-12-03</th>\n",
       "      <td>0.194104</td>\n",
       "      <td>0.560567</td>\n",
       "      <td>-0.578058</td>\n",
       "      <td>0.958883</td>\n",
       "      <td>2017-12-03</td>\n",
       "      <td>12</td>\n",
       "      <td>48</td>\n",
       "    </tr>\n",
       "    <tr>\n",
       "      <th>2016-11-12</th>\n",
       "      <td>-0.394765</td>\n",
       "      <td>-0.403905</td>\n",
       "      <td>-0.564623</td>\n",
       "      <td>-0.131608</td>\n",
       "      <td>2016-11-12</td>\n",
       "      <td>11</td>\n",
       "      <td>45</td>\n",
       "    </tr>\n",
       "    <tr>\n",
       "      <th>2018-01-15</th>\n",
       "      <td>-1.297144</td>\n",
       "      <td>0.089388</td>\n",
       "      <td>1.597492</td>\n",
       "      <td>-1.497621</td>\n",
       "      <td>2018-01-15</td>\n",
       "      <td>1</td>\n",
       "      <td>3</td>\n",
       "    </tr>\n",
       "    <tr>\n",
       "      <th>2018-07-11</th>\n",
       "      <td>-1.048839</td>\n",
       "      <td>-1.761961</td>\n",
       "      <td>0.608068</td>\n",
       "      <td>0.165740</td>\n",
       "      <td>2018-07-11</td>\n",
       "      <td>7</td>\n",
       "      <td>28</td>\n",
       "    </tr>\n",
       "  </tbody>\n",
       "</table>\n",
       "</div>"
      ],
      "text/plain": [
       "                 cat       dog     mouse    monkey       date  month  week\n",
       "date                                                                      \n",
       "2017-10-06  1.325818  1.352200 -0.622675  0.008161 2017-10-06     10    40\n",
       "2017-12-03  0.194104  0.560567 -0.578058  0.958883 2017-12-03     12    48\n",
       "2016-11-12 -0.394765 -0.403905 -0.564623 -0.131608 2016-11-12     11    45\n",
       "2018-01-15 -1.297144  0.089388  1.597492 -1.497621 2018-01-15      1     3\n",
       "2018-07-11 -1.048839 -1.761961  0.608068  0.165740 2018-07-11      7    28"
      ]
     },
     "execution_count": 8,
     "metadata": {},
     "output_type": "execute_result"
    }
   ],
   "source": [
    "df2 = df.take(np.random.permutation( len(df) ))\n",
    "df2.sort_index()\n",
    "df2.head()"
   ]
  },
  {
   "cell_type": "code",
   "execution_count": 9,
   "metadata": {
    "collapsed": false
   },
   "outputs": [
    {
     "data": {
      "text/plain": [
       "Timestamp('2015-12-24 05:00:00')"
      ]
     },
     "execution_count": 9,
     "metadata": {},
     "output_type": "execute_result"
    }
   ],
   "source": [
    "start_date = '2015-11-16'\n",
    "# Method 1\n",
    "from pandas import datetime\n",
    "from datetime import timedelta\n",
    "ts = pd.Timestamp(start_date)\n",
    "ts = ts + timedelta(weeks=5, days=3, hours=5)\n",
    "ts"
   ]
  },
  {
   "cell_type": "code",
   "execution_count": 10,
   "metadata": {
    "collapsed": false
   },
   "outputs": [
    {
     "data": {
      "text/html": [
       "<div>\n",
       "<table border=\"1\" class=\"dataframe\">\n",
       "  <thead>\n",
       "    <tr style=\"text-align: right;\">\n",
       "      <th></th>\n",
       "      <th>cat</th>\n",
       "      <th>dog</th>\n",
       "      <th>mouse</th>\n",
       "      <th>monkey</th>\n",
       "      <th>date</th>\n",
       "      <th>month</th>\n",
       "      <th>week</th>\n",
       "      <th>T+3wks</th>\n",
       "    </tr>\n",
       "    <tr>\n",
       "      <th>date</th>\n",
       "      <th></th>\n",
       "      <th></th>\n",
       "      <th></th>\n",
       "      <th></th>\n",
       "      <th></th>\n",
       "      <th></th>\n",
       "      <th></th>\n",
       "      <th></th>\n",
       "    </tr>\n",
       "  </thead>\n",
       "  <tbody>\n",
       "    <tr>\n",
       "      <th>2015-11-16</th>\n",
       "      <td>0.166084</td>\n",
       "      <td>-0.084043</td>\n",
       "      <td>-0.611719</td>\n",
       "      <td>1.197090</td>\n",
       "      <td>2015-11-16</td>\n",
       "      <td>11</td>\n",
       "      <td>47</td>\n",
       "      <td>2015-12-07</td>\n",
       "    </tr>\n",
       "    <tr>\n",
       "      <th>2015-11-17</th>\n",
       "      <td>-1.108023</td>\n",
       "      <td>2.880966</td>\n",
       "      <td>-0.155005</td>\n",
       "      <td>0.529755</td>\n",
       "      <td>2015-11-17</td>\n",
       "      <td>11</td>\n",
       "      <td>47</td>\n",
       "      <td>2015-12-08</td>\n",
       "    </tr>\n",
       "    <tr>\n",
       "      <th>2015-11-18</th>\n",
       "      <td>0.688402</td>\n",
       "      <td>0.931094</td>\n",
       "      <td>0.802088</td>\n",
       "      <td>-0.452529</td>\n",
       "      <td>2015-11-18</td>\n",
       "      <td>11</td>\n",
       "      <td>47</td>\n",
       "      <td>2015-12-09</td>\n",
       "    </tr>\n",
       "    <tr>\n",
       "      <th>2015-11-19</th>\n",
       "      <td>0.456971</td>\n",
       "      <td>-0.567192</td>\n",
       "      <td>0.149383</td>\n",
       "      <td>0.045660</td>\n",
       "      <td>2015-11-19</td>\n",
       "      <td>11</td>\n",
       "      <td>47</td>\n",
       "      <td>2015-12-10</td>\n",
       "    </tr>\n",
       "    <tr>\n",
       "      <th>2015-11-20</th>\n",
       "      <td>-0.612474</td>\n",
       "      <td>0.181632</td>\n",
       "      <td>0.317199</td>\n",
       "      <td>0.740760</td>\n",
       "      <td>2015-11-20</td>\n",
       "      <td>11</td>\n",
       "      <td>47</td>\n",
       "      <td>2015-12-11</td>\n",
       "    </tr>\n",
       "  </tbody>\n",
       "</table>\n",
       "</div>"
      ],
      "text/plain": [
       "                 cat       dog     mouse    monkey       date  month  week  \\\n",
       "date                                                                         \n",
       "2015-11-16  0.166084 -0.084043 -0.611719  1.197090 2015-11-16     11    47   \n",
       "2015-11-17 -1.108023  2.880966 -0.155005  0.529755 2015-11-17     11    47   \n",
       "2015-11-18  0.688402  0.931094  0.802088 -0.452529 2015-11-18     11    47   \n",
       "2015-11-19  0.456971 -0.567192  0.149383  0.045660 2015-11-19     11    47   \n",
       "2015-11-20 -0.612474  0.181632  0.317199  0.740760 2015-11-20     11    47   \n",
       "\n",
       "               T+3wks  \n",
       "date                   \n",
       "2015-11-16 2015-12-07  \n",
       "2015-11-17 2015-12-08  \n",
       "2015-11-18 2015-12-09  \n",
       "2015-11-19 2015-12-10  \n",
       "2015-11-20 2015-12-11  "
      ]
     },
     "execution_count": 10,
     "metadata": {},
     "output_type": "execute_result"
    }
   ],
   "source": [
    "df['T+3wks'] = df.index + timedelta(weeks=3)\n",
    "df.head()"
   ]
  },
  {
   "cell_type": "code",
   "execution_count": 11,
   "metadata": {
    "collapsed": false
   },
   "outputs": [
    {
     "data": {
      "text/plain": [
       "Timestamp('2015-11-26 00:00:00')"
      ]
     },
     "execution_count": 11,
     "metadata": {},
     "output_type": "execute_result"
    }
   ],
   "source": [
    "# Method 2\n",
    "ts = pd.Timestamp(start_date)\n",
    "ts + pd.offsets.Day(10)"
   ]
  },
  {
   "cell_type": "code",
   "execution_count": 96,
   "metadata": {
    "collapsed": false
   },
   "outputs": [
    {
     "data": {
      "text/html": [
       "<div>\n",
       "<table border=\"1\" class=\"dataframe\">\n",
       "  <thead>\n",
       "    <tr style=\"text-align: right;\">\n",
       "      <th></th>\n",
       "      <th>x</th>\n",
       "    </tr>\n",
       "  </thead>\n",
       "  <tbody>\n",
       "    <tr>\n",
       "      <th>2015-11-13 12:54:22.334057</th>\n",
       "      <td>0.384233</td>\n",
       "    </tr>\n",
       "    <tr>\n",
       "      <th>2015-11-13 12:55:22.334057</th>\n",
       "      <td>0.071087</td>\n",
       "    </tr>\n",
       "    <tr>\n",
       "      <th>2015-11-13 12:56:22.334057</th>\n",
       "      <td>0.931960</td>\n",
       "    </tr>\n",
       "    <tr>\n",
       "      <th>2015-11-13 12:57:22.334057</th>\n",
       "      <td>0.714790</td>\n",
       "    </tr>\n",
       "    <tr>\n",
       "      <th>2015-11-13 12:58:22.334057</th>\n",
       "      <td>0.306365</td>\n",
       "    </tr>\n",
       "  </tbody>\n",
       "</table>\n",
       "</div>"
      ],
      "text/plain": [
       "                                   x\n",
       "2015-11-13 12:54:22.334057  0.384233\n",
       "2015-11-13 12:55:22.334057  0.071087\n",
       "2015-11-13 12:56:22.334057  0.931960\n",
       "2015-11-13 12:57:22.334057  0.714790\n",
       "2015-11-13 12:58:22.334057  0.306365"
      ]
     },
     "execution_count": 96,
     "metadata": {},
     "output_type": "execute_result"
    }
   ],
   "source": [
    "rng = pd.date_range(datetime.now(), periods=100000, freq='t')\n",
    "df = DataFrame(np.random.random(100000), index=rng, columns=['x'])\n",
    "df.head()"
   ]
  },
  {
   "cell_type": "code",
   "execution_count": 13,
   "metadata": {
    "collapsed": false
   },
   "outputs": [
    {
     "data": {
      "text/html": [
       "<div>\n",
       "<table border=\"1\" class=\"dataframe\">\n",
       "  <thead>\n",
       "    <tr style=\"text-align: right;\">\n",
       "      <th></th>\n",
       "      <th>x</th>\n",
       "    </tr>\n",
       "  </thead>\n",
       "  <tbody>\n",
       "    <tr>\n",
       "      <th>2015-11-13 12:17:10.345384</th>\n",
       "      <td>0.859551</td>\n",
       "    </tr>\n",
       "    <tr>\n",
       "      <th>2015-11-13 12:47:10.345384</th>\n",
       "      <td>0.966599</td>\n",
       "    </tr>\n",
       "    <tr>\n",
       "      <th>2015-11-13 13:17:10.345384</th>\n",
       "      <td>0.592508</td>\n",
       "    </tr>\n",
       "    <tr>\n",
       "      <th>2015-11-13 13:47:10.345384</th>\n",
       "      <td>0.100040</td>\n",
       "    </tr>\n",
       "    <tr>\n",
       "      <th>2015-11-13 14:17:10.345384</th>\n",
       "      <td>0.624024</td>\n",
       "    </tr>\n",
       "  </tbody>\n",
       "</table>\n",
       "</div>"
      ],
      "text/plain": [
       "                                   x\n",
       "2015-11-13 12:17:10.345384  0.859551\n",
       "2015-11-13 12:47:10.345384  0.966599\n",
       "2015-11-13 13:17:10.345384  0.592508\n",
       "2015-11-13 13:47:10.345384  0.100040\n",
       "2015-11-13 14:17:10.345384  0.624024"
      ]
     },
     "execution_count": 13,
     "metadata": {},
     "output_type": "execute_result"
    }
   ],
   "source": [
    "# Downsampling - Drop all other observations\n",
    "# Method 1\n",
    "new = pd.date_range(df.index[0], df.index[-1], freq='30t')\n",
    "df.ix[new].head()"
   ]
  },
  {
   "cell_type": "code",
   "execution_count": 14,
   "metadata": {
    "collapsed": false
   },
   "outputs": [
    {
     "data": {
      "text/html": [
       "<div>\n",
       "<table border=\"1\" class=\"dataframe\">\n",
       "  <thead>\n",
       "    <tr style=\"text-align: right;\">\n",
       "      <th></th>\n",
       "      <th>x</th>\n",
       "    </tr>\n",
       "  </thead>\n",
       "  <tbody>\n",
       "    <tr>\n",
       "      <th>2015-11-13 12:00:00</th>\n",
       "      <td>0.947439</td>\n",
       "    </tr>\n",
       "    <tr>\n",
       "      <th>2015-11-13 12:30:00</th>\n",
       "      <td>0.989094</td>\n",
       "    </tr>\n",
       "    <tr>\n",
       "      <th>2015-11-13 13:00:00</th>\n",
       "      <td>0.951517</td>\n",
       "    </tr>\n",
       "    <tr>\n",
       "      <th>2015-11-13 13:30:00</th>\n",
       "      <td>0.999584</td>\n",
       "    </tr>\n",
       "    <tr>\n",
       "      <th>2015-11-13 14:00:00</th>\n",
       "      <td>0.990841</td>\n",
       "    </tr>\n",
       "  </tbody>\n",
       "</table>\n",
       "</div>"
      ],
      "text/plain": [
       "                            x\n",
       "2015-11-13 12:00:00  0.947439\n",
       "2015-11-13 12:30:00  0.989094\n",
       "2015-11-13 13:00:00  0.951517\n",
       "2015-11-13 13:30:00  0.999584\n",
       "2015-11-13 14:00:00  0.990841"
      ]
     },
     "execution_count": 14,
     "metadata": {},
     "output_type": "execute_result"
    }
   ],
   "source": [
    "# Method 2 - Use mean in each bin\n",
    "df_30t = df.resample('30t', how='max')\n",
    "df_30t.head()"
   ]
  },
  {
   "cell_type": "code",
   "execution_count": 15,
   "metadata": {
    "collapsed": false
   },
   "outputs": [
    {
     "name": "stdout",
     "output_type": "stream",
     "text": [
      "1000 loops, best of 3: 1.75 ms per loop\n"
     ]
    }
   ],
   "source": [
    "%timeit df.resample('30t', how='mean')"
   ]
  },
  {
   "cell_type": "code",
   "execution_count": 16,
   "metadata": {
    "collapsed": false
   },
   "outputs": [
    {
     "name": "stdout",
     "output_type": "stream",
     "text": [
      "10 loops, best of 3: 79.1 ms per loop\n"
     ]
    }
   ],
   "source": [
    "%timeit df.resample('30t', how=lambda y: y.mean())"
   ]
  },
  {
   "cell_type": "code",
   "execution_count": 18,
   "metadata": {
    "collapsed": false
   },
   "outputs": [
    {
     "name": "stdout",
     "output_type": "stream",
     "text": [
      "10 loops, best of 3: 85.2 ms per loop\n"
     ]
    }
   ],
   "source": [
    "def my_mean(col):\n",
    "    return np.mean(col)\n",
    "\n",
    "%timeit df.resample('30t', how=my_mean)"
   ]
  },
  {
   "cell_type": "code",
   "execution_count": 44,
   "metadata": {
    "collapsed": false
   },
   "outputs": [
    {
     "data": {
      "text/html": [
       "<div>\n",
       "<table border=\"1\" class=\"dataframe\">\n",
       "  <thead>\n",
       "    <tr style=\"text-align: right;\">\n",
       "      <th></th>\n",
       "      <th>x</th>\n",
       "    </tr>\n",
       "  </thead>\n",
       "  <tbody>\n",
       "    <tr>\n",
       "      <th>2015-11-13 12:00:00</th>\n",
       "      <td>0.906622</td>\n",
       "    </tr>\n",
       "    <tr>\n",
       "      <th>2015-11-13 12:30:00</th>\n",
       "      <td>0.966599</td>\n",
       "    </tr>\n",
       "    <tr>\n",
       "      <th>2015-11-13 13:00:00</th>\n",
       "      <td>0.932881</td>\n",
       "    </tr>\n",
       "    <tr>\n",
       "      <th>2015-11-13 13:30:00</th>\n",
       "      <td>0.921774</td>\n",
       "    </tr>\n",
       "    <tr>\n",
       "      <th>2015-11-13 14:00:00</th>\n",
       "      <td>0.989603</td>\n",
       "    </tr>\n",
       "  </tbody>\n",
       "</table>\n",
       "</div>"
      ],
      "text/plain": [
       "                            x\n",
       "2015-11-13 12:00:00  0.906622\n",
       "2015-11-13 12:30:00  0.966599\n",
       "2015-11-13 13:00:00  0.932881\n",
       "2015-11-13 13:30:00  0.921774\n",
       "2015-11-13 14:00:00  0.989603"
      ]
     },
     "execution_count": 44,
     "metadata": {},
     "output_type": "execute_result"
    }
   ],
   "source": [
    "df = df[:1000]\n",
    "\n",
    "def second_max(x):\n",
    "    y = x[x!=np.max(x)]\n",
    "    return np.max(y)\n",
    "\n",
    "df.resample('30t', how=second_max).head()"
   ]
  },
  {
   "cell_type": "code",
   "execution_count": 61,
   "metadata": {
    "collapsed": false
   },
   "outputs": [
    {
     "data": {
      "text/html": [
       "<div>\n",
       "<table border=\"1\" class=\"dataframe\">\n",
       "  <thead>\n",
       "    <tr style=\"text-align: right;\">\n",
       "      <th></th>\n",
       "      <th>x</th>\n",
       "    </tr>\n",
       "  </thead>\n",
       "  <tbody>\n",
       "    <tr>\n",
       "      <th>2015-11-13 12:00:00</th>\n",
       "      <td>0.947439</td>\n",
       "    </tr>\n",
       "    <tr>\n",
       "      <th>2015-11-13 12:30:00</th>\n",
       "      <td>0.989094</td>\n",
       "    </tr>\n",
       "    <tr>\n",
       "      <th>2015-11-13 13:00:00</th>\n",
       "      <td>0.951517</td>\n",
       "    </tr>\n",
       "    <tr>\n",
       "      <th>2015-11-13 13:30:00</th>\n",
       "      <td>0.999584</td>\n",
       "    </tr>\n",
       "    <tr>\n",
       "      <th>2015-11-13 14:00:00</th>\n",
       "      <td>0.990841</td>\n",
       "    </tr>\n",
       "  </tbody>\n",
       "</table>\n",
       "</div>"
      ],
      "text/plain": [
       "                            x\n",
       "2015-11-13 12:00:00  0.947439\n",
       "2015-11-13 12:30:00  0.989094\n",
       "2015-11-13 13:00:00  0.951517\n",
       "2015-11-13 13:30:00  0.999584\n",
       "2015-11-13 14:00:00  0.990841"
      ]
     },
     "execution_count": 61,
     "metadata": {},
     "output_type": "execute_result"
    }
   ],
   "source": [
    "df_30t.head()"
   ]
  },
  {
   "cell_type": "code",
   "execution_count": 81,
   "metadata": {
    "collapsed": false
   },
   "outputs": [
    {
     "data": {
      "text/html": [
       "<div>\n",
       "<table border=\"1\" class=\"dataframe\">\n",
       "  <thead>\n",
       "    <tr style=\"text-align: right;\">\n",
       "      <th></th>\n",
       "      <th>x</th>\n",
       "    </tr>\n",
       "  </thead>\n",
       "  <tbody>\n",
       "    <tr>\n",
       "      <th>2015-11-13 12:00:00</th>\n",
       "      <td>0.947439</td>\n",
       "    </tr>\n",
       "    <tr>\n",
       "      <th>2015-11-13 12:05:00</th>\n",
       "      <td>0.947439</td>\n",
       "    </tr>\n",
       "    <tr>\n",
       "      <th>2015-11-13 12:10:00</th>\n",
       "      <td>0.947439</td>\n",
       "    </tr>\n",
       "    <tr>\n",
       "      <th>2015-11-13 12:15:00</th>\n",
       "      <td>0.947439</td>\n",
       "    </tr>\n",
       "    <tr>\n",
       "      <th>2015-11-13 12:20:00</th>\n",
       "      <td>0.947439</td>\n",
       "    </tr>\n",
       "    <tr>\n",
       "      <th>2015-11-13 12:25:00</th>\n",
       "      <td>0.947439</td>\n",
       "    </tr>\n",
       "    <tr>\n",
       "      <th>2015-11-13 12:30:00</th>\n",
       "      <td>0.989094</td>\n",
       "    </tr>\n",
       "    <tr>\n",
       "      <th>2015-11-13 12:35:00</th>\n",
       "      <td>0.989094</td>\n",
       "    </tr>\n",
       "    <tr>\n",
       "      <th>2015-11-13 12:40:00</th>\n",
       "      <td>0.989094</td>\n",
       "    </tr>\n",
       "    <tr>\n",
       "      <th>2015-11-13 12:45:00</th>\n",
       "      <td>0.989094</td>\n",
       "    </tr>\n",
       "  </tbody>\n",
       "</table>\n",
       "</div>"
      ],
      "text/plain": [
       "                            x\n",
       "2015-11-13 12:00:00  0.947439\n",
       "2015-11-13 12:05:00  0.947439\n",
       "2015-11-13 12:10:00  0.947439\n",
       "2015-11-13 12:15:00  0.947439\n",
       "2015-11-13 12:20:00  0.947439\n",
       "2015-11-13 12:25:00  0.947439\n",
       "2015-11-13 12:30:00  0.989094\n",
       "2015-11-13 12:35:00  0.989094\n",
       "2015-11-13 12:40:00  0.989094\n",
       "2015-11-13 12:45:00  0.989094"
      ]
     },
     "execution_count": 81,
     "metadata": {},
     "output_type": "execute_result"
    }
   ],
   "source": [
    "def half_value(col):\n",
    "    return np.sum(col.dropna())/2\n",
    "\n",
    "df_5t = df_30t.resample('5t')\n",
    "df_5t_nona = df_5t.fillna(method='ffill')\n",
    "df_5t_nona.head(10)"
   ]
  },
  {
   "cell_type": "code",
   "execution_count": 87,
   "metadata": {
    "collapsed": false
   },
   "outputs": [
    {
     "data": {
      "text/html": [
       "<div>\n",
       "<table border=\"1\" class=\"dataframe\">\n",
       "  <thead>\n",
       "    <tr>\n",
       "      <th></th>\n",
       "      <th colspan=\"4\" halign=\"left\">price</th>\n",
       "    </tr>\n",
       "    <tr>\n",
       "      <th></th>\n",
       "      <th>open</th>\n",
       "      <th>high</th>\n",
       "      <th>low</th>\n",
       "      <th>close</th>\n",
       "    </tr>\n",
       "  </thead>\n",
       "  <tbody>\n",
       "    <tr>\n",
       "      <th>2015-11-13</th>\n",
       "      <td>0.859551</td>\n",
       "      <td>0.999688</td>\n",
       "      <td>0.001010</td>\n",
       "      <td>0.600345</td>\n",
       "    </tr>\n",
       "    <tr>\n",
       "      <th>2015-11-14</th>\n",
       "      <td>0.614184</td>\n",
       "      <td>0.997901</td>\n",
       "      <td>0.000796</td>\n",
       "      <td>0.571586</td>\n",
       "    </tr>\n",
       "  </tbody>\n",
       "</table>\n",
       "</div>"
      ],
      "text/plain": [
       "               price                              \n",
       "                open      high       low     close\n",
       "2015-11-13  0.859551  0.999688  0.001010  0.600345\n",
       "2015-11-14  0.614184  0.997901  0.000796  0.571586"
      ]
     },
     "execution_count": 87,
     "metadata": {},
     "output_type": "execute_result"
    }
   ],
   "source": [
    "df.columns = ['price']\n",
    "# Convert high freq data to daily series\n",
    "# Show open, High, Low, Close like in newspaper\n",
    "df_daily = df.resample('D', how='ohlc')\n",
    "df_daily.head()"
   ]
  },
  {
   "cell_type": "code",
   "execution_count": 98,
   "metadata": {
    "collapsed": false
   },
   "outputs": [
    {
     "data": {
      "text/html": [
       "<div>\n",
       "<table border=\"1\" class=\"dataframe\">\n",
       "  <thead>\n",
       "    <tr>\n",
       "      <th></th>\n",
       "      <th colspan=\"4\" halign=\"left\">x</th>\n",
       "    </tr>\n",
       "    <tr>\n",
       "      <th></th>\n",
       "      <th>first</th>\n",
       "      <th>max</th>\n",
       "      <th>min</th>\n",
       "      <th>last</th>\n",
       "    </tr>\n",
       "  </thead>\n",
       "  <tbody>\n",
       "    <tr>\n",
       "      <th>2015-11-13</th>\n",
       "      <td>0.384233</td>\n",
       "      <td>0.999195</td>\n",
       "      <td>0.000656</td>\n",
       "      <td>0.793599</td>\n",
       "    </tr>\n",
       "    <tr>\n",
       "      <th>2015-11-14</th>\n",
       "      <td>0.888988</td>\n",
       "      <td>0.999396</td>\n",
       "      <td>0.000446</td>\n",
       "      <td>0.097506</td>\n",
       "    </tr>\n",
       "    <tr>\n",
       "      <th>2015-11-15</th>\n",
       "      <td>0.340334</td>\n",
       "      <td>0.999756</td>\n",
       "      <td>0.000021</td>\n",
       "      <td>0.438847</td>\n",
       "    </tr>\n",
       "    <tr>\n",
       "      <th>2015-11-16</th>\n",
       "      <td>0.097431</td>\n",
       "      <td>0.999815</td>\n",
       "      <td>0.001031</td>\n",
       "      <td>0.481603</td>\n",
       "    </tr>\n",
       "    <tr>\n",
       "      <th>2015-11-17</th>\n",
       "      <td>0.555575</td>\n",
       "      <td>0.999473</td>\n",
       "      <td>0.000538</td>\n",
       "      <td>0.942652</td>\n",
       "    </tr>\n",
       "  </tbody>\n",
       "</table>\n",
       "</div>"
      ],
      "text/plain": [
       "                   x                              \n",
       "               first       max       min      last\n",
       "2015-11-13  0.384233  0.999195  0.000656  0.793599\n",
       "2015-11-14  0.888988  0.999396  0.000446  0.097506\n",
       "2015-11-15  0.340334  0.999756  0.000021  0.438847\n",
       "2015-11-16  0.097431  0.999815  0.001031  0.481603\n",
       "2015-11-17  0.555575  0.999473  0.000538  0.942652"
      ]
     },
     "execution_count": 98,
     "metadata": {},
     "output_type": "execute_result"
    }
   ],
   "source": [
    "df_daily = df.resample('D', how=['first', 'max', 'min', 'last'])\n",
    "df_daily.head()"
   ]
  },
  {
   "cell_type": "code",
   "execution_count": 100,
   "metadata": {
    "collapsed": false
   },
   "outputs": [
    {
     "data": {
      "text/html": [
       "<div>\n",
       "<table border=\"1\" class=\"dataframe\">\n",
       "  <thead>\n",
       "    <tr>\n",
       "      <th></th>\n",
       "      <th colspan=\"4\" halign=\"left\">x</th>\n",
       "    </tr>\n",
       "    <tr>\n",
       "      <th></th>\n",
       "      <th>first</th>\n",
       "      <th>max</th>\n",
       "      <th>min</th>\n",
       "      <th>last</th>\n",
       "    </tr>\n",
       "  </thead>\n",
       "  <tbody>\n",
       "    <tr>\n",
       "      <th>2015-11-13 00:00:00</th>\n",
       "      <td>0.384233</td>\n",
       "      <td>0.999195</td>\n",
       "      <td>0.000656</td>\n",
       "      <td>0.793599</td>\n",
       "    </tr>\n",
       "    <tr>\n",
       "      <th>2015-11-13 12:00:00</th>\n",
       "      <td>NaN</td>\n",
       "      <td>NaN</td>\n",
       "      <td>NaN</td>\n",
       "      <td>NaN</td>\n",
       "    </tr>\n",
       "    <tr>\n",
       "      <th>2015-11-14 00:00:00</th>\n",
       "      <td>0.888988</td>\n",
       "      <td>0.999396</td>\n",
       "      <td>0.000446</td>\n",
       "      <td>0.097506</td>\n",
       "    </tr>\n",
       "    <tr>\n",
       "      <th>2015-11-14 12:00:00</th>\n",
       "      <td>NaN</td>\n",
       "      <td>NaN</td>\n",
       "      <td>NaN</td>\n",
       "      <td>NaN</td>\n",
       "    </tr>\n",
       "    <tr>\n",
       "      <th>2015-11-15 00:00:00</th>\n",
       "      <td>0.340334</td>\n",
       "      <td>0.999756</td>\n",
       "      <td>0.000021</td>\n",
       "      <td>0.438847</td>\n",
       "    </tr>\n",
       "    <tr>\n",
       "      <th>2015-11-15 12:00:00</th>\n",
       "      <td>NaN</td>\n",
       "      <td>NaN</td>\n",
       "      <td>NaN</td>\n",
       "      <td>NaN</td>\n",
       "    </tr>\n",
       "    <tr>\n",
       "      <th>2015-11-16 00:00:00</th>\n",
       "      <td>0.097431</td>\n",
       "      <td>0.999815</td>\n",
       "      <td>0.001031</td>\n",
       "      <td>0.481603</td>\n",
       "    </tr>\n",
       "    <tr>\n",
       "      <th>2015-11-16 12:00:00</th>\n",
       "      <td>NaN</td>\n",
       "      <td>NaN</td>\n",
       "      <td>NaN</td>\n",
       "      <td>NaN</td>\n",
       "    </tr>\n",
       "    <tr>\n",
       "      <th>2015-11-17 00:00:00</th>\n",
       "      <td>0.555575</td>\n",
       "      <td>0.999473</td>\n",
       "      <td>0.000538</td>\n",
       "      <td>0.942652</td>\n",
       "    </tr>\n",
       "    <tr>\n",
       "      <th>2015-11-17 12:00:00</th>\n",
       "      <td>NaN</td>\n",
       "      <td>NaN</td>\n",
       "      <td>NaN</td>\n",
       "      <td>NaN</td>\n",
       "    </tr>\n",
       "  </tbody>\n",
       "</table>\n",
       "</div>"
      ],
      "text/plain": [
       "                            x                              \n",
       "                        first       max       min      last\n",
       "2015-11-13 00:00:00  0.384233  0.999195  0.000656  0.793599\n",
       "2015-11-13 12:00:00       NaN       NaN       NaN       NaN\n",
       "2015-11-14 00:00:00  0.888988  0.999396  0.000446  0.097506\n",
       "2015-11-14 12:00:00       NaN       NaN       NaN       NaN\n",
       "2015-11-15 00:00:00  0.340334  0.999756  0.000021  0.438847\n",
       "2015-11-15 12:00:00       NaN       NaN       NaN       NaN\n",
       "2015-11-16 00:00:00  0.097431  0.999815  0.001031  0.481603\n",
       "2015-11-16 12:00:00       NaN       NaN       NaN       NaN\n",
       "2015-11-17 00:00:00  0.555575  0.999473  0.000538  0.942652\n",
       "2015-11-17 12:00:00       NaN       NaN       NaN       NaN"
      ]
     },
     "execution_count": 100,
     "metadata": {},
     "output_type": "execute_result"
    }
   ],
   "source": [
    "df_half_day = df_daily.resample('720t')\n",
    "df_half_day.head(10)"
   ]
  },
  {
   "cell_type": "code",
   "execution_count": 111,
   "metadata": {
    "collapsed": false
   },
   "outputs": [
    {
     "data": {
      "text/html": [
       "<div>\n",
       "<table border=\"1\" class=\"dataframe\">\n",
       "  <thead>\n",
       "    <tr style=\"text-align: right;\">\n",
       "      <th></th>\n",
       "      <th>open</th>\n",
       "      <th>high</th>\n",
       "      <th>low</th>\n",
       "      <th>close</th>\n",
       "    </tr>\n",
       "  </thead>\n",
       "  <tbody>\n",
       "    <tr>\n",
       "      <th>2015-11-13 00:00:00</th>\n",
       "      <td>0.384233</td>\n",
       "      <td>0.999195</td>\n",
       "      <td>0.000656</td>\n",
       "      <td>0.793599</td>\n",
       "    </tr>\n",
       "    <tr>\n",
       "      <th>2015-11-13 12:00:00</th>\n",
       "      <td>NaN</td>\n",
       "      <td>NaN</td>\n",
       "      <td>NaN</td>\n",
       "      <td>0.445553</td>\n",
       "    </tr>\n",
       "    <tr>\n",
       "      <th>2015-11-14 00:00:00</th>\n",
       "      <td>0.888988</td>\n",
       "      <td>0.999396</td>\n",
       "      <td>0.000446</td>\n",
       "      <td>0.097506</td>\n",
       "    </tr>\n",
       "    <tr>\n",
       "      <th>2015-11-14 12:00:00</th>\n",
       "      <td>NaN</td>\n",
       "      <td>NaN</td>\n",
       "      <td>NaN</td>\n",
       "      <td>0.268176</td>\n",
       "    </tr>\n",
       "    <tr>\n",
       "      <th>2015-11-15 00:00:00</th>\n",
       "      <td>0.340334</td>\n",
       "      <td>0.999756</td>\n",
       "      <td>0.000021</td>\n",
       "      <td>0.438847</td>\n",
       "    </tr>\n",
       "  </tbody>\n",
       "</table>\n",
       "</div>"
      ],
      "text/plain": [
       "                         open      high       low     close\n",
       "2015-11-13 00:00:00  0.384233  0.999195  0.000656  0.793599\n",
       "2015-11-13 12:00:00       NaN       NaN       NaN  0.445553\n",
       "2015-11-14 00:00:00  0.888988  0.999396  0.000446  0.097506\n",
       "2015-11-14 12:00:00       NaN       NaN       NaN  0.268176\n",
       "2015-11-15 00:00:00  0.340334  0.999756  0.000021  0.438847"
      ]
     },
     "execution_count": 111,
     "metadata": {},
     "output_type": "execute_result"
    }
   ],
   "source": [
    "df_2 = df_half_day.x\n",
    "df_2.columns = ['open', 'high', 'low', 'close']\n",
    "df_2.close = df_2.close.interpolate()\n",
    "df_2.head()"
   ]
  },
  {
   "cell_type": "code",
   "execution_count": 115,
   "metadata": {
    "collapsed": false
   },
   "outputs": [
    {
     "data": {
      "text/html": [
       "<div>\n",
       "<table border=\"1\" class=\"dataframe\">\n",
       "  <thead>\n",
       "    <tr>\n",
       "      <th></th>\n",
       "      <th colspan=\"4\" halign=\"left\">x</th>\n",
       "    </tr>\n",
       "    <tr>\n",
       "      <th></th>\n",
       "      <th>first</th>\n",
       "      <th>max</th>\n",
       "      <th>min</th>\n",
       "      <th>last</th>\n",
       "    </tr>\n",
       "  </thead>\n",
       "  <tbody>\n",
       "    <tr>\n",
       "      <th>2015-11-13 00:00:00</th>\n",
       "      <td>0.384233</td>\n",
       "      <td>0.999195</td>\n",
       "      <td>0.000656</td>\n",
       "      <td>0.793599</td>\n",
       "    </tr>\n",
       "    <tr>\n",
       "      <th>2015-11-13 12:00:00</th>\n",
       "      <td>NaN</td>\n",
       "      <td>NaN</td>\n",
       "      <td>NaN</td>\n",
       "      <td>0.445553</td>\n",
       "    </tr>\n",
       "    <tr>\n",
       "      <th>2015-11-14 00:00:00</th>\n",
       "      <td>0.888988</td>\n",
       "      <td>0.999396</td>\n",
       "      <td>0.000446</td>\n",
       "      <td>0.097506</td>\n",
       "    </tr>\n",
       "    <tr>\n",
       "      <th>2015-11-14 12:00:00</th>\n",
       "      <td>NaN</td>\n",
       "      <td>NaN</td>\n",
       "      <td>NaN</td>\n",
       "      <td>0.268176</td>\n",
       "    </tr>\n",
       "    <tr>\n",
       "      <th>2015-11-15 00:00:00</th>\n",
       "      <td>0.340334</td>\n",
       "      <td>0.999756</td>\n",
       "      <td>0.000021</td>\n",
       "      <td>0.438847</td>\n",
       "    </tr>\n",
       "  </tbody>\n",
       "</table>\n",
       "</div>"
      ],
      "text/plain": [
       "                            x                              \n",
       "                        first       max       min      last\n",
       "2015-11-13 00:00:00  0.384233  0.999195  0.000656  0.793599\n",
       "2015-11-13 12:00:00       NaN       NaN       NaN  0.445553\n",
       "2015-11-14 00:00:00  0.888988  0.999396  0.000446  0.097506\n",
       "2015-11-14 12:00:00       NaN       NaN       NaN  0.268176\n",
       "2015-11-15 00:00:00  0.340334  0.999756  0.000021  0.438847"
      ]
     },
     "execution_count": 115,
     "metadata": {},
     "output_type": "execute_result"
    }
   ],
   "source": [
    "df_half_day.x['last'] = df_half_day.x['last'].interpolate().head()\n",
    "df_half_day.head()\n"
   ]
  },
  {
   "cell_type": "code",
   "execution_count": 121,
   "metadata": {
    "collapsed": false
   },
   "outputs": [
    {
     "data": {
      "text/plain": [
       "<matplotlib.axes._subplots.AxesSubplot at 0x10cac9c50>"
      ]
     },
     "execution_count": 121,
     "metadata": {},
     "output_type": "execute_result"
    },
    {
     "data": {
      "image/png": "[encoded data removed]",
      "text/plain": [
       "<matplotlib.figure.Figure at 0x10c2d5198>"
      ]
     },
     "metadata": {},
     "output_type": "display_data"
    }
   ],
   "source": [
    "%matplotlib inline\n",
    "df_daily.x['last'].plot()"
   ]
  }
 ],
 "metadata": {
  "kernelspec": {
   "display_name": "Python 3",
   "language": "python",
   "name": "python3"
  },
  "language_info": {
   "codemirror_mode": {
    "name": "ipython",
    "version": 3
   },
   "file_extension": ".py",
   "mimetype": "text/x-python",
   "name": "python",
   "nbconvert_exporter": "python",
   "pygments_lexer": "ipython3",
   "version": "3.4.3"
  }
 },
 "nbformat": 4,
 "nbformat_minor": 0
}
