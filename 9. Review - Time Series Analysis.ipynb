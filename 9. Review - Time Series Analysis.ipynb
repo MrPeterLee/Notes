{
 "cells": [
  {
   "cell_type": "code",
   "execution_count": 1,
   "metadata": {
    "collapsed": false
   },
   "outputs": [],
   "source": [
    "import pandas as pd\n",
    "import numpy as np\n",
    "from pandas import Series, DataFrame, Panel, datetime\n",
    "from datetime import timedelta\n",
    "import matplotlib.pyplot as plt\n",
    "%matplotlib inline"
   ]
  },
  {
   "cell_type": "code",
   "execution_count": 2,
   "metadata": {
    "collapsed": false
   },
   "outputs": [
    {
     "data": {
      "text/plain": [
       "'0.16.2'"
      ]
     },
     "execution_count": 2,
     "metadata": {},
     "output_type": "execute_result"
    }
   ],
   "source": [
    "# Check the pandas version\n",
    "pd.__version__"
   ]
  },
  {
   "cell_type": "code",
   "execution_count": 3,
   "metadata": {
    "collapsed": false
   },
   "outputs": [
    {
     "data": {
      "text/plain": [
       "[<matplotlib.lines.Line2D at 0x106f9cd68>]"
      ]
     },
     "execution_count": 3,
     "metadata": {},
     "output_type": "execute_result"
    },
    {
     "data": {
      "image/png": "[encoded data removed]",
      "text/plain": [
       "<matplotlib.figure.Figure at 0x106f279e8>"
      ]
     },
     "metadata": {},
     "output_type": "display_data"
    }
   ],
   "source": [
    "# To generate a random walk (Unit root)\n",
    "data_random_walk = np.random.randn(1000).cumsum()\n",
    "plt.plot(data_random_walk)"
   ]
  },
  {
   "cell_type": "code",
   "execution_count": 4,
   "metadata": {
    "collapsed": false
   },
   "outputs": [
    {
     "data": {
      "text/plain": [
       "DatetimeIndex(['2015-11-06', '2015-11-07', '2015-11-08', '2015-11-09',\n",
       "               '2015-11-10', '2015-11-11'],\n",
       "              dtype='datetime64[ns]', freq='D', tz=None)"
      ]
     },
     "execution_count": 4,
     "metadata": {},
     "output_type": "execute_result"
    }
   ],
   "source": [
    "# To generate some dates (daily data)\n",
    "dates = pd.date_range('2015-11-06', '2015-11-11')\n",
    "series_temperature = Series([30, 28, 25, 20, 24, 25], index=dates)\n",
    "series_temperature.index"
   ]
  },
  {
   "cell_type": "markdown",
   "metadata": {},
   "source": [
    "Note that the time series's index is a datetime index. \n",
    "Now let's create temperature series for multiple cities using DataFrame."
   ]
  },
  {
   "cell_type": "code",
   "execution_count": 5,
   "metadata": {
    "collapsed": false
   },
   "outputs": [
    {
     "data": {
      "text/html": [
       "<div>\n",
       "<table border=\"1\" class=\"dataframe\">\n",
       "  <thead>\n",
       "    <tr style=\"text-align: right;\">\n",
       "      <th></th>\n",
       "      <th>Melbourne</th>\n",
       "      <th>Sydney</th>\n",
       "    </tr>\n",
       "  </thead>\n",
       "  <tbody>\n",
       "    <tr>\n",
       "      <th>2015-11-06</th>\n",
       "      <td>18</td>\n",
       "      <td>30</td>\n",
       "    </tr>\n",
       "    <tr>\n",
       "      <th>2015-11-07</th>\n",
       "      <td>17</td>\n",
       "      <td>28</td>\n",
       "    </tr>\n",
       "    <tr>\n",
       "      <th>2015-11-08</th>\n",
       "      <td>17</td>\n",
       "      <td>25</td>\n",
       "    </tr>\n",
       "    <tr>\n",
       "      <th>2015-11-09</th>\n",
       "      <td>18</td>\n",
       "      <td>20</td>\n",
       "    </tr>\n",
       "    <tr>\n",
       "      <th>2015-11-10</th>\n",
       "      <td>19</td>\n",
       "      <td>24</td>\n",
       "    </tr>\n",
       "    <tr>\n",
       "      <th>2015-11-11</th>\n",
       "      <td>20</td>\n",
       "      <td>25</td>\n",
       "    </tr>\n",
       "  </tbody>\n",
       "</table>\n",
       "</div>"
      ],
      "text/plain": [
       "            Melbourne  Sydney\n",
       "2015-11-06         18      30\n",
       "2015-11-07         17      28\n",
       "2015-11-08         17      25\n",
       "2015-11-09         18      20\n",
       "2015-11-10         19      24\n",
       "2015-11-11         20      25"
      ]
     },
     "execution_count": 5,
     "metadata": {},
     "output_type": "execute_result"
    }
   ],
   "source": [
    "series2_temperature = Series([18, 17, 17, 18, 19, 20], index=dates)\n",
    "data_temperature = DataFrame({'Sydney': series_temperature, \n",
    "                              'Melbourne': series2_temperature})\n",
    "data_temperature"
   ]
  },
  {
   "cell_type": "markdown",
   "metadata": {},
   "source": [
    "Note that the *data_temperature* object is a time series data, where its index is a DataTime index.\n",
    "It has two properties: \n",
    "- .index\n",
    "- .columns"
   ]
  },
  {
   "cell_type": "code",
   "execution_count": 6,
   "metadata": {
    "collapsed": false
   },
   "outputs": [
    {
     "data": {
      "text/plain": [
       "DatetimeIndex(['2015-11-06', '2015-11-07', '2015-11-08', '2015-11-09',\n",
       "               '2015-11-10', '2015-11-11'],\n",
       "              dtype='datetime64[ns]', freq='D', tz=None)"
      ]
     },
     "execution_count": 6,
     "metadata": {},
     "output_type": "execute_result"
    }
   ],
   "source": [
    "data_temperature.index"
   ]
  },
  {
   "cell_type": "code",
   "execution_count": 7,
   "metadata": {
    "collapsed": false
   },
   "outputs": [
    {
     "data": {
      "text/plain": [
       "Index(['Melbourne', 'Sydney'], dtype='object')"
      ]
     },
     "execution_count": 7,
     "metadata": {},
     "output_type": "execute_result"
    }
   ],
   "source": [
    "data_temperature.columns"
   ]
  },
  {
   "cell_type": "markdown",
   "metadata": {},
   "source": [
    "You can think of DataFrame as a dictionary object of Series. \n",
    "It is very easy to manipulate series inside a DataFrame."
   ]
  },
  {
   "cell_type": "code",
   "execution_count": 8,
   "metadata": {
    "collapsed": false
   },
   "outputs": [
    {
     "data": {
      "text/html": [
       "<div>\n",
       "<table border=\"1\" class=\"dataframe\">\n",
       "  <thead>\n",
       "    <tr style=\"text-align: right;\">\n",
       "      <th></th>\n",
       "      <th>Melbourne</th>\n",
       "      <th>Sydney</th>\n",
       "      <th>diff</th>\n",
       "    </tr>\n",
       "  </thead>\n",
       "  <tbody>\n",
       "    <tr>\n",
       "      <th>2015-11-06</th>\n",
       "      <td>18</td>\n",
       "      <td>30</td>\n",
       "      <td>12</td>\n",
       "    </tr>\n",
       "    <tr>\n",
       "      <th>2015-11-07</th>\n",
       "      <td>17</td>\n",
       "      <td>28</td>\n",
       "      <td>11</td>\n",
       "    </tr>\n",
       "    <tr>\n",
       "      <th>2015-11-08</th>\n",
       "      <td>17</td>\n",
       "      <td>25</td>\n",
       "      <td>8</td>\n",
       "    </tr>\n",
       "    <tr>\n",
       "      <th>2015-11-09</th>\n",
       "      <td>18</td>\n",
       "      <td>20</td>\n",
       "      <td>2</td>\n",
       "    </tr>\n",
       "    <tr>\n",
       "      <th>2015-11-10</th>\n",
       "      <td>19</td>\n",
       "      <td>24</td>\n",
       "      <td>5</td>\n",
       "    </tr>\n",
       "    <tr>\n",
       "      <th>2015-11-11</th>\n",
       "      <td>20</td>\n",
       "      <td>25</td>\n",
       "      <td>5</td>\n",
       "    </tr>\n",
       "  </tbody>\n",
       "</table>\n",
       "</div>"
      ],
      "text/plain": [
       "            Melbourne  Sydney  diff\n",
       "2015-11-06         18      30    12\n",
       "2015-11-07         17      28    11\n",
       "2015-11-08         17      25     8\n",
       "2015-11-09         18      20     2\n",
       "2015-11-10         19      24     5\n",
       "2015-11-11         20      25     5"
      ]
     },
     "execution_count": 8,
     "metadata": {},
     "output_type": "execute_result"
    }
   ],
   "source": [
    "data_temperature['diff'] = data_temperature.Sydney - data_temperature.Melbourne\n",
    "data_temperature"
   ]
  },
  {
   "cell_type": "markdown",
   "metadata": {},
   "source": [
    "A impoortant property is .ix[], which is very useful to select a subset of the DataFrame."
   ]
  },
  {
   "cell_type": "code",
   "execution_count": 9,
   "metadata": {
    "collapsed": false
   },
   "outputs": [
    {
     "data": {
      "text/plain": [
       "Melbourne    17\n",
       "Sydney       25\n",
       "diff          8\n",
       "Name: 2015-11-08 00:00:00, dtype: int64"
      ]
     },
     "execution_count": 9,
     "metadata": {},
     "output_type": "execute_result"
    }
   ],
   "source": [
    "# To select a specific row\n",
    "data_temperature.ix[2]"
   ]
  },
  {
   "cell_type": "code",
   "execution_count": 10,
   "metadata": {
    "collapsed": false
   },
   "outputs": [
    {
     "data": {
      "text/plain": [
       "Melbourne    17\n",
       "Sydney       25\n",
       "diff          8\n",
       "Name: 2015-11-08 00:00:00, dtype: int64"
      ]
     },
     "execution_count": 10,
     "metadata": {},
     "output_type": "execute_result"
    }
   ],
   "source": [
    "# To select a specific timestamp\n",
    "idx = data_temperature.index[2]\n",
    "data_temperature.ix[idx]"
   ]
  },
  {
   "cell_type": "code",
   "execution_count": 11,
   "metadata": {
    "collapsed": false
   },
   "outputs": [
    {
     "data": {
      "text/plain": [
       "25"
      ]
     },
     "execution_count": 11,
     "metadata": {},
     "output_type": "execute_result"
    }
   ],
   "source": [
    "# To select specific rows and columns\n",
    "data_temperature.ix[idx, 'Sydney']"
   ]
  },
  {
   "cell_type": "code",
   "execution_count": 12,
   "metadata": {
    "collapsed": false
   },
   "outputs": [
    {
     "data": {
      "text/html": [
       "<div>\n",
       "<table border=\"1\" class=\"dataframe\">\n",
       "  <thead>\n",
       "    <tr style=\"text-align: right;\">\n",
       "      <th></th>\n",
       "      <th>Melbourne</th>\n",
       "      <th>Sydney</th>\n",
       "    </tr>\n",
       "  </thead>\n",
       "  <tbody>\n",
       "    <tr>\n",
       "      <th>2015-11-08</th>\n",
       "      <td>17</td>\n",
       "      <td>25</td>\n",
       "    </tr>\n",
       "    <tr>\n",
       "      <th>2015-11-09</th>\n",
       "      <td>18</td>\n",
       "      <td>20</td>\n",
       "    </tr>\n",
       "    <tr>\n",
       "      <th>2015-11-10</th>\n",
       "      <td>19</td>\n",
       "      <td>24</td>\n",
       "    </tr>\n",
       "    <tr>\n",
       "      <th>2015-11-11</th>\n",
       "      <td>20</td>\n",
       "      <td>25</td>\n",
       "    </tr>\n",
       "  </tbody>\n",
       "</table>\n",
       "</div>"
      ],
      "text/plain": [
       "            Melbourne  Sydney\n",
       "2015-11-08         17      25\n",
       "2015-11-09         18      20\n",
       "2015-11-10         19      24\n",
       "2015-11-11         20      25"
      ]
     },
     "execution_count": 12,
     "metadata": {},
     "output_type": "execute_result"
    }
   ],
   "source": [
    "# No one stops you from slicing\n",
    "data_temperature.ix[idx:, ['Melbourne', 'Sydney']]"
   ]
  },
  {
   "cell_type": "markdown",
   "metadata": {},
   "source": [
    "The example above is how to select the DataFrame from a timestamp onwards."
   ]
  },
  {
   "cell_type": "markdown",
   "metadata": {},
   "source": [
    "The sums, means are straight forward."
   ]
  },
  {
   "cell_type": "code",
   "execution_count": 13,
   "metadata": {
    "collapsed": false
   },
   "outputs": [
    {
     "data": {
      "text/plain": [
       "Melbourne    18.166667\n",
       "Sydney       25.333333\n",
       "diff          7.166667\n",
       "dtype: float64"
      ]
     },
     "execution_count": 13,
     "metadata": {},
     "output_type": "execute_result"
    }
   ],
   "source": [
    "# To calculate the column mean\n",
    "data_temperature.mean()"
   ]
  },
  {
   "cell_type": "code",
   "execution_count": 14,
   "metadata": {
    "collapsed": false
   },
   "outputs": [
    {
     "data": {
      "text/plain": [
       "2015-11-06    20.000000\n",
       "2015-11-07    18.666667\n",
       "2015-11-08    16.666667\n",
       "2015-11-09    13.333333\n",
       "2015-11-10    16.000000\n",
       "2015-11-11    16.666667\n",
       "Freq: D, dtype: float64"
      ]
     },
     "execution_count": 14,
     "metadata": {},
     "output_type": "execute_result"
    }
   ],
   "source": [
    "# To calculate the row mean\n",
    "data_temperature.mean(1)"
   ]
  },
  {
   "cell_type": "code",
   "execution_count": 15,
   "metadata": {
    "collapsed": false
   },
   "outputs": [
    {
     "data": {
      "text/html": [
       "<div>\n",
       "<table border=\"1\" class=\"dataframe\">\n",
       "  <thead>\n",
       "    <tr style=\"text-align: right;\">\n",
       "      <th></th>\n",
       "      <th>Melbourne</th>\n",
       "      <th>Sydney</th>\n",
       "      <th>diff</th>\n",
       "    </tr>\n",
       "  </thead>\n",
       "  <tbody>\n",
       "    <tr>\n",
       "      <th>2015-11-06</th>\n",
       "      <td>-0.166667</td>\n",
       "      <td>4.666667</td>\n",
       "      <td>4.833333</td>\n",
       "    </tr>\n",
       "    <tr>\n",
       "      <th>2015-11-07</th>\n",
       "      <td>-1.166667</td>\n",
       "      <td>2.666667</td>\n",
       "      <td>3.833333</td>\n",
       "    </tr>\n",
       "    <tr>\n",
       "      <th>2015-11-08</th>\n",
       "      <td>-1.166667</td>\n",
       "      <td>-0.333333</td>\n",
       "      <td>0.833333</td>\n",
       "    </tr>\n",
       "    <tr>\n",
       "      <th>2015-11-09</th>\n",
       "      <td>-0.166667</td>\n",
       "      <td>-5.333333</td>\n",
       "      <td>-5.166667</td>\n",
       "    </tr>\n",
       "    <tr>\n",
       "      <th>2015-11-10</th>\n",
       "      <td>0.833333</td>\n",
       "      <td>-1.333333</td>\n",
       "      <td>-2.166667</td>\n",
       "    </tr>\n",
       "    <tr>\n",
       "      <th>2015-11-11</th>\n",
       "      <td>1.833333</td>\n",
       "      <td>-0.333333</td>\n",
       "      <td>-2.166667</td>\n",
       "    </tr>\n",
       "  </tbody>\n",
       "</table>\n",
       "</div>"
      ],
      "text/plain": [
       "            Melbourne    Sydney      diff\n",
       "2015-11-06  -0.166667  4.666667  4.833333\n",
       "2015-11-07  -1.166667  2.666667  3.833333\n",
       "2015-11-08  -1.166667 -0.333333  0.833333\n",
       "2015-11-09  -0.166667 -5.333333 -5.166667\n",
       "2015-11-10   0.833333 -1.333333 -2.166667\n",
       "2015-11-11   1.833333 -0.333333 -2.166667"
      ]
     },
     "execution_count": 15,
     "metadata": {},
     "output_type": "execute_result"
    }
   ],
   "source": [
    "# To calculate the mean deviation\n",
    "data_temperature - data_temperature.mean()"
   ]
  },
  {
   "cell_type": "code",
   "execution_count": 16,
   "metadata": {
    "collapsed": false
   },
   "outputs": [
    {
     "data": {
      "text/html": [
       "<div>\n",
       "<table border=\"1\" class=\"dataframe\">\n",
       "  <thead>\n",
       "    <tr style=\"text-align: right;\">\n",
       "      <th></th>\n",
       "      <th>Melbourne</th>\n",
       "      <th>Sydney</th>\n",
       "      <th>diff</th>\n",
       "    </tr>\n",
       "  </thead>\n",
       "  <tbody>\n",
       "    <tr>\n",
       "      <th>2015-11-06</th>\n",
       "      <td>18</td>\n",
       "      <td>30</td>\n",
       "      <td>12</td>\n",
       "    </tr>\n",
       "    <tr>\n",
       "      <th>2015-11-07</th>\n",
       "      <td>17</td>\n",
       "      <td>28</td>\n",
       "      <td>11</td>\n",
       "    </tr>\n",
       "  </tbody>\n",
       "</table>\n",
       "</div>"
      ],
      "text/plain": [
       "            Melbourne  Sydney  diff\n",
       "2015-11-06         18      30    12\n",
       "2015-11-07         17      28    11"
      ]
     },
     "execution_count": 16,
     "metadata": {},
     "output_type": "execute_result"
    }
   ],
   "source": [
    "# Selecting DataFrame using Boolean conditions\n",
    "data_temperature[data_temperature.Sydney>25]"
   ]
  },
  {
   "cell_type": "markdown",
   "metadata": {},
   "source": [
    "## Reading and saving files."
   ]
  },
  {
   "cell_type": "code",
   "execution_count": 17,
   "metadata": {
    "collapsed": false
   },
   "outputs": [
    {
     "name": "stdout",
     "output_type": "stream",
     "text": [
      "DATE,VALUE\r",
      "\r\n",
      "1854-12-01,1\r",
      "\r\n",
      "1855-01-01,0\r",
      "\r\n",
      "1855-02-01,0\r",
      "\r\n",
      "1855-03-01,0\r",
      "\r\n",
      "1855-04-01,0\r",
      "\r\n",
      "1855-05-01,0\r",
      "\r\n",
      "1855-06-01,0\r",
      "\r\n",
      "1855-07-01,0\r",
      "\r\n",
      "1855-08-01,0\r",
      "\r\n"
     ]
    }
   ],
   "source": [
    "# Check what is inside the .csv file\n",
    "!head Data/USREC.csv"
   ]
  },
  {
   "cell_type": "code",
   "execution_count": 18,
   "metadata": {
    "collapsed": false
   },
   "outputs": [
    {
     "name": "stdout",
     "output_type": "stream",
     "text": [
      "1854-12-01 <class 'str'>\n"
     ]
    },
    {
     "data": {
      "text/html": [
       "<div>\n",
       "<table border=\"1\" class=\"dataframe\">\n",
       "  <thead>\n",
       "    <tr style=\"text-align: right;\">\n",
       "      <th></th>\n",
       "      <th>DATE</th>\n",
       "      <th>VALUE</th>\n",
       "    </tr>\n",
       "  </thead>\n",
       "  <tbody>\n",
       "    <tr>\n",
       "      <th>0</th>\n",
       "      <td>1854-12-01</td>\n",
       "      <td>1</td>\n",
       "    </tr>\n",
       "    <tr>\n",
       "      <th>1</th>\n",
       "      <td>1855-01-01</td>\n",
       "      <td>0</td>\n",
       "    </tr>\n",
       "    <tr>\n",
       "      <th>2</th>\n",
       "      <td>1855-02-01</td>\n",
       "      <td>0</td>\n",
       "    </tr>\n",
       "    <tr>\n",
       "      <th>3</th>\n",
       "      <td>1855-03-01</td>\n",
       "      <td>0</td>\n",
       "    </tr>\n",
       "    <tr>\n",
       "      <th>4</th>\n",
       "      <td>1855-04-01</td>\n",
       "      <td>0</td>\n",
       "    </tr>\n",
       "  </tbody>\n",
       "</table>\n",
       "</div>"
      ],
      "text/plain": [
       "         DATE  VALUE\n",
       "0  1854-12-01      1\n",
       "1  1855-01-01      0\n",
       "2  1855-02-01      0\n",
       "3  1855-03-01      0\n",
       "4  1855-04-01      0"
      ]
     },
     "execution_count": 18,
     "metadata": {},
     "output_type": "execute_result"
    }
   ],
   "source": [
    "df = pd.read_csv('Data/USREC.csv')\n",
    "print(df.DATE[0], type(df.DATE[0]))\n",
    "df.head()\n",
    "# Note that the DATE column is read as Strings"
   ]
  },
  {
   "cell_type": "code",
   "execution_count": 19,
   "metadata": {
    "collapsed": false
   },
   "outputs": [
    {
     "name": "stdout",
     "output_type": "stream",
     "text": [
      "1854-12-01 00:00:00 <class 'pandas.tslib.Timestamp'>\n"
     ]
    }
   ],
   "source": [
    "# You can choose how the date series can be converted.\n",
    "df2 = pd.read_csv('Data/USREC.csv', parse_dates=[0])  # You need to specify the column number where the dates are\n",
    "print(df2.DATE[0], type(df2.DATE[0]))"
   ]
  },
  {
   "cell_type": "code",
   "execution_count": 20,
   "metadata": {
    "collapsed": false
   },
   "outputs": [
    {
     "data": {
      "text/html": [
       "<div>\n",
       "<table border=\"1\" class=\"dataframe\">\n",
       "  <thead>\n",
       "    <tr style=\"text-align: right;\">\n",
       "      <th></th>\n",
       "      <th>VALUE</th>\n",
       "    </tr>\n",
       "    <tr>\n",
       "      <th>DATE</th>\n",
       "      <th></th>\n",
       "    </tr>\n",
       "  </thead>\n",
       "  <tbody>\n",
       "    <tr>\n",
       "      <th>1854-12-01</th>\n",
       "      <td>1</td>\n",
       "    </tr>\n",
       "    <tr>\n",
       "      <th>1855-01-01</th>\n",
       "      <td>0</td>\n",
       "    </tr>\n",
       "    <tr>\n",
       "      <th>1855-02-01</th>\n",
       "      <td>0</td>\n",
       "    </tr>\n",
       "    <tr>\n",
       "      <th>1855-03-01</th>\n",
       "      <td>0</td>\n",
       "    </tr>\n",
       "    <tr>\n",
       "      <th>1855-04-01</th>\n",
       "      <td>0</td>\n",
       "    </tr>\n",
       "  </tbody>\n",
       "</table>\n",
       "</div>"
      ],
      "text/plain": [
       "            VALUE\n",
       "DATE             \n",
       "1854-12-01      1\n",
       "1855-01-01      0\n",
       "1855-02-01      0\n",
       "1855-03-01      0\n",
       "1855-04-01      0"
      ]
     },
     "execution_count": 20,
     "metadata": {},
     "output_type": "execute_result"
    }
   ],
   "source": [
    "# In addition, you can convert the Date column as the DataFrame index\n",
    "df2 = pd.read_csv('Data/USREC.csv', parse_dates=[0], index_col=[0])\n",
    "df2.head()"
   ]
  },
  {
   "cell_type": "code",
   "execution_count": 21,
   "metadata": {
    "collapsed": false
   },
   "outputs": [
    {
     "data": {
      "text/html": [
       "<div>\n",
       "<table border=\"1\" class=\"dataframe\">\n",
       "  <thead>\n",
       "    <tr style=\"text-align: right;\">\n",
       "      <th></th>\n",
       "      <th>VALUE</th>\n",
       "    </tr>\n",
       "    <tr>\n",
       "      <th>DATE</th>\n",
       "      <th></th>\n",
       "    </tr>\n",
       "  </thead>\n",
       "  <tbody>\n",
       "    <tr>\n",
       "      <th>1854-12-01</th>\n",
       "      <td>1</td>\n",
       "    </tr>\n",
       "    <tr>\n",
       "      <th>1855-01-01</th>\n",
       "      <td>0</td>\n",
       "    </tr>\n",
       "    <tr>\n",
       "      <th>1855-02-01</th>\n",
       "      <td>0</td>\n",
       "    </tr>\n",
       "    <tr>\n",
       "      <th>1855-03-01</th>\n",
       "      <td>0</td>\n",
       "    </tr>\n",
       "    <tr>\n",
       "      <th>1855-04-01</th>\n",
       "      <td>0</td>\n",
       "    </tr>\n",
       "  </tbody>\n",
       "</table>\n",
       "</div>"
      ],
      "text/plain": [
       "            VALUE\n",
       "DATE             \n",
       "1854-12-01      1\n",
       "1855-01-01      0\n",
       "1855-02-01      0\n",
       "1855-03-01      0\n",
       "1855-04-01      0"
      ]
     },
     "execution_count": 21,
     "metadata": {},
     "output_type": "execute_result"
    }
   ],
   "source": [
    "# I can do this in two steps\n",
    "df2 = pd.read_csv('Data/USREC.csv', parse_dates=[0])  \n",
    "df2 = df2.set_index('DATE')\n",
    "df2.head()"
   ]
  },
  {
   "cell_type": "code",
   "execution_count": 22,
   "metadata": {
    "collapsed": false
   },
   "outputs": [
    {
     "data": {
      "text/html": [
       "<div>\n",
       "<table border=\"1\" class=\"dataframe\">\n",
       "  <thead>\n",
       "    <tr style=\"text-align: right;\">\n",
       "      <th></th>\n",
       "      <th>DATE</th>\n",
       "      <th>VALUE</th>\n",
       "    </tr>\n",
       "    <tr>\n",
       "      <th>DATE</th>\n",
       "      <th></th>\n",
       "      <th></th>\n",
       "    </tr>\n",
       "  </thead>\n",
       "  <tbody>\n",
       "    <tr>\n",
       "      <th>1854-12-01</th>\n",
       "      <td>1854-12-01</td>\n",
       "      <td>1</td>\n",
       "    </tr>\n",
       "    <tr>\n",
       "      <th>1855-01-01</th>\n",
       "      <td>1855-01-01</td>\n",
       "      <td>0</td>\n",
       "    </tr>\n",
       "    <tr>\n",
       "      <th>1855-02-01</th>\n",
       "      <td>1855-02-01</td>\n",
       "      <td>0</td>\n",
       "    </tr>\n",
       "    <tr>\n",
       "      <th>1855-03-01</th>\n",
       "      <td>1855-03-01</td>\n",
       "      <td>0</td>\n",
       "    </tr>\n",
       "    <tr>\n",
       "      <th>1855-04-01</th>\n",
       "      <td>1855-04-01</td>\n",
       "      <td>0</td>\n",
       "    </tr>\n",
       "  </tbody>\n",
       "</table>\n",
       "</div>"
      ],
      "text/plain": [
       "                 DATE  VALUE\n",
       "DATE                        \n",
       "1854-12-01 1854-12-01      1\n",
       "1855-01-01 1855-01-01      0\n",
       "1855-02-01 1855-02-01      0\n",
       "1855-03-01 1855-03-01      0\n",
       "1855-04-01 1855-04-01      0"
      ]
     },
     "execution_count": 22,
     "metadata": {},
     "output_type": "execute_result"
    }
   ],
   "source": [
    "# Sometimes that I want to keep the date series accessible, while converting a DataFrame to timeseries\n",
    "df2 = pd.read_csv('Data/USREC.csv', parse_dates=[0])\n",
    "df2 = df2.set_index('DATE', drop=False)\n",
    "df2.head()"
   ]
  },
  {
   "cell_type": "markdown",
   "metadata": {},
   "source": [
    "What is the name of the index? It is the first word in the second row."
   ]
  },
  {
   "cell_type": "code",
   "execution_count": 23,
   "metadata": {
    "collapsed": false
   },
   "outputs": [
    {
     "data": {
      "text/plain": [
       "'DATE'"
      ]
     },
     "execution_count": 23,
     "metadata": {},
     "output_type": "execute_result"
    }
   ],
   "source": [
    "df2.index.name"
   ]
  },
  {
   "cell_type": "markdown",
   "metadata": {},
   "source": [
    "#### To merge dates with time\n",
    "\n",
    "Very common that you run into datasets that date and time are recorded separately. This is how we manage them."
   ]
  },
  {
   "cell_type": "code",
   "execution_count": 24,
   "metadata": {
    "collapsed": false
   },
   "outputs": [
    {
     "name": "stdout",
     "output_type": "stream",
     "text": [
      "date,var1,var2,var3,var4,time\r",
      "\r\n",
      "1/11/2015,0.226648732,7.81390404,3.176064928,0.234100244,3:23 AM\r",
      "\r\n",
      "2/11/2015,0.423099291,9.068256776,6.638827671,-1.789860087,6:27 AM\r",
      "\r\n",
      "3/11/2015,0.63508527,7.157226683,6.997226099,0.220827204,6:21 AM\r",
      "\r\n",
      "4/11/2015,0.671168072,8.40639468,6.919865928,-0.594978583,6:25 AM\r",
      "\r\n",
      "5/11/2015,0.879369947,7.423257339,4.530367543,-0.09672727,4:22 AM\r",
      "\r\n",
      "6/11/2015,0.087277743,7.245812547,5.30361233,-1.410549921,5:21 AM\r",
      "\r\n",
      "7/11/2015,0.715927451,0.166373501,4.244921559,0.371664459,4:00 AM\r",
      "\r\n",
      "8/11/2015,0.898887897,0.573930709,5.469409536,0.736567832,5:01 AM\r",
      "\r\n",
      "9/11/2015,0.490485247,4.965242178,6.650919131,0.49386601,6:14 AM\r",
      "\r\n",
      "10/11/2015,0.696422064,5.882380628,4.525309191,-1.933414704,4:17 AM\r",
      "\r\n",
      "11/11/2015,0.812420448,6.90023063,3.158246155,0.492217049,3:20 AM\r",
      "\r\n",
      "12/11/2015,0.607283108,4.830082735,4.210999263,-0.455618712,4:14 AM\r",
      "\r\n",
      "13/11/2015,0.912542413,5.569531377,4.015038726,-0.822843795,4:16 AM\r",
      "\r\n",
      "14/11/2015,0.27387882,9.696472915,4.907189719,-1.583153048,4:29 AM\r",
      "\r\n",
      "15/11/2015,0.92388097,5.987223097,5.744985645,-1.893843673,5:17 AM\r",
      "\r\n",
      "16/11/2015,0.08403527,5.454011183,4.123091841,0.018121747,4:16 AM\r",
      "\r\n",
      "17/11/2015,0.644269918,5.681034581,3.516551585,-1.515034051,3:17 AM\r",
      "\r\n",
      "18/11/2015,0.368810825,0.025298979,3.939305601,-0.393585983,3:00 AM\r",
      "\r\n",
      "19/11/2015,0.630787716,7.185788359,5.642261291,0.905578774,5:21 AM\r",
      "\r\n"
     ]
    }
   ],
   "source": [
    "!cat Data/sample2.csv"
   ]
  },
  {
   "cell_type": "code",
   "execution_count": 25,
   "metadata": {
    "collapsed": false
   },
   "outputs": [
    {
     "data": {
      "text/html": [
       "<div>\n",
       "<table border=\"1\" class=\"dataframe\">\n",
       "  <thead>\n",
       "    <tr style=\"text-align: right;\">\n",
       "      <th></th>\n",
       "      <th>date_time</th>\n",
       "      <th>var1</th>\n",
       "      <th>var2</th>\n",
       "      <th>var3</th>\n",
       "      <th>var4</th>\n",
       "    </tr>\n",
       "  </thead>\n",
       "  <tbody>\n",
       "    <tr>\n",
       "      <th>0</th>\n",
       "      <td>2015-01-11 03:23:00</td>\n",
       "      <td>0.226649</td>\n",
       "      <td>7.813904</td>\n",
       "      <td>3.176065</td>\n",
       "      <td>0.234100</td>\n",
       "    </tr>\n",
       "    <tr>\n",
       "      <th>1</th>\n",
       "      <td>2015-02-11 06:27:00</td>\n",
       "      <td>0.423099</td>\n",
       "      <td>9.068257</td>\n",
       "      <td>6.638828</td>\n",
       "      <td>-1.789860</td>\n",
       "    </tr>\n",
       "    <tr>\n",
       "      <th>2</th>\n",
       "      <td>2015-03-11 06:21:00</td>\n",
       "      <td>0.635085</td>\n",
       "      <td>7.157227</td>\n",
       "      <td>6.997226</td>\n",
       "      <td>0.220827</td>\n",
       "    </tr>\n",
       "    <tr>\n",
       "      <th>3</th>\n",
       "      <td>2015-04-11 06:25:00</td>\n",
       "      <td>0.671168</td>\n",
       "      <td>8.406395</td>\n",
       "      <td>6.919866</td>\n",
       "      <td>-0.594979</td>\n",
       "    </tr>\n",
       "    <tr>\n",
       "      <th>4</th>\n",
       "      <td>2015-05-11 04:22:00</td>\n",
       "      <td>0.879370</td>\n",
       "      <td>7.423257</td>\n",
       "      <td>4.530368</td>\n",
       "      <td>-0.096727</td>\n",
       "    </tr>\n",
       "  </tbody>\n",
       "</table>\n",
       "</div>"
      ],
      "text/plain": [
       "            date_time      var1      var2      var3      var4\n",
       "0 2015-01-11 03:23:00  0.226649  7.813904  3.176065  0.234100\n",
       "1 2015-02-11 06:27:00  0.423099  9.068257  6.638828 -1.789860\n",
       "2 2015-03-11 06:21:00  0.635085  7.157227  6.997226  0.220827\n",
       "3 2015-04-11 06:25:00  0.671168  8.406395  6.919866 -0.594979\n",
       "4 2015-05-11 04:22:00  0.879370  7.423257  4.530368 -0.096727"
      ]
     },
     "execution_count": 25,
     "metadata": {},
     "output_type": "execute_result"
    }
   ],
   "source": [
    "df4 = pd.read_csv('Data/sample2.csv', parse_dates=[['date', 'time']])\n",
    "# This is how you can combine the date and time variables together\n",
    "df4.head()"
   ]
  },
  {
   "cell_type": "code",
   "execution_count": 26,
   "metadata": {
    "collapsed": false
   },
   "outputs": [
    {
     "data": {
      "text/html": [
       "<div>\n",
       "<table border=\"1\" class=\"dataframe\">\n",
       "  <thead>\n",
       "    <tr style=\"text-align: right;\">\n",
       "      <th></th>\n",
       "      <th>var1</th>\n",
       "      <th>var2</th>\n",
       "      <th>var3</th>\n",
       "      <th>var4</th>\n",
       "    </tr>\n",
       "    <tr>\n",
       "      <th>date_time</th>\n",
       "      <th></th>\n",
       "      <th></th>\n",
       "      <th></th>\n",
       "      <th></th>\n",
       "    </tr>\n",
       "  </thead>\n",
       "  <tbody>\n",
       "    <tr>\n",
       "      <th>2015-01-11 03:23:00</th>\n",
       "      <td>0.226649</td>\n",
       "      <td>7.813904</td>\n",
       "      <td>3.176065</td>\n",
       "      <td>0.234100</td>\n",
       "    </tr>\n",
       "    <tr>\n",
       "      <th>2015-02-11 06:27:00</th>\n",
       "      <td>0.423099</td>\n",
       "      <td>9.068257</td>\n",
       "      <td>6.638828</td>\n",
       "      <td>-1.789860</td>\n",
       "    </tr>\n",
       "    <tr>\n",
       "      <th>2015-03-11 06:21:00</th>\n",
       "      <td>0.635085</td>\n",
       "      <td>7.157227</td>\n",
       "      <td>6.997226</td>\n",
       "      <td>0.220827</td>\n",
       "    </tr>\n",
       "    <tr>\n",
       "      <th>2015-04-11 06:25:00</th>\n",
       "      <td>0.671168</td>\n",
       "      <td>8.406395</td>\n",
       "      <td>6.919866</td>\n",
       "      <td>-0.594979</td>\n",
       "    </tr>\n",
       "    <tr>\n",
       "      <th>2015-05-11 04:22:00</th>\n",
       "      <td>0.879370</td>\n",
       "      <td>7.423257</td>\n",
       "      <td>4.530368</td>\n",
       "      <td>-0.096727</td>\n",
       "    </tr>\n",
       "  </tbody>\n",
       "</table>\n",
       "</div>"
      ],
      "text/plain": [
       "                         var1      var2      var3      var4\n",
       "date_time                                                  \n",
       "2015-01-11 03:23:00  0.226649  7.813904  3.176065  0.234100\n",
       "2015-02-11 06:27:00  0.423099  9.068257  6.638828 -1.789860\n",
       "2015-03-11 06:21:00  0.635085  7.157227  6.997226  0.220827\n",
       "2015-04-11 06:25:00  0.671168  8.406395  6.919866 -0.594979\n",
       "2015-05-11 04:22:00  0.879370  7.423257  4.530368 -0.096727"
      ]
     },
     "execution_count": 26,
     "metadata": {},
     "output_type": "execute_result"
    }
   ],
   "source": [
    "# Once again, you can set_index the DataFrame\n",
    "df4 = df4.set_index('date_time')\n",
    "df4.head()"
   ]
  },
  {
   "cell_type": "markdown",
   "metadata": {},
   "source": [
    "#### NumPy datetime64\n",
    "\n",
    "It is a more advanced object that specifically dealt with time in nanoseconds level.\n",
    "\n",
    " - 8 byte dtype in NumPy, many datetime unites\n",
    " - datetime64[ns]: nanosecond units\n",
    " - Represents ~600 year timespan, from 1700-2300\n",
    " - Nanoseconds important in some applications"
   ]
  },
  {
   "cell_type": "markdown",
   "metadata": {},
   "source": [
    "#### DatetimeIndex: a collection of pandas.TimeStamp()\n",
    " - Axis index for pandas objects\n",
    " - Arrays of datetime64[ns] values under the hood\n",
    "\n",
    "#### pandas.TimeStamp\n",
    "\n",
    "It is a subset of datetime.datetime()"
   ]
  },
  {
   "cell_type": "code",
   "execution_count": 27,
   "metadata": {
    "collapsed": false
   },
   "outputs": [
    {
     "data": {
      "text/plain": [
       "[pandas.tslib.Timestamp,\n",
       " pandas.tslib._Timestamp,\n",
       " datetime.datetime,\n",
       " datetime.date,\n",
       " object]"
      ]
     },
     "execution_count": 27,
     "metadata": {},
     "output_type": "execute_result"
    }
   ],
   "source": [
    "pd.Timestamp.mro() # Timestamp is a sub-class of datetime.datetime"
   ]
  },
  {
   "cell_type": "code",
   "execution_count": 28,
   "metadata": {
    "collapsed": false
   },
   "outputs": [
    {
     "name": "stdout",
     "output_type": "stream",
     "text": [
      "2015\n",
      "11\n",
      "11\n",
      "10 5 12\n"
     ]
    },
    {
     "data": {
      "text/plain": [
       "'20151111'"
      ]
     },
     "execution_count": 28,
     "metadata": {},
     "output_type": "execute_result"
    }
   ],
   "source": [
    "stamp = pd.Timestamp('2015-11-11 10:05:12')\n",
    "print(stamp.year)\n",
    "print(stamp.month)\n",
    "print(stamp.day)\n",
    "print(stamp.hour, stamp.minute, stamp.second)\n",
    "stamp.strftime('%Y%m%d') # You can output any formats"
   ]
  },
  {
   "cell_type": "code",
   "execution_count": 29,
   "metadata": {
    "collapsed": false
   },
   "outputs": [
    {
     "data": {
      "text/plain": [
       "1447236312000000000"
      ]
     },
     "execution_count": 29,
     "metadata": {},
     "output_type": "execute_result"
    }
   ],
   "source": [
    "# In essence, the time stamp is recorded in nanosecond level.\n",
    "stamp.value"
   ]
  },
  {
   "cell_type": "code",
   "execution_count": 30,
   "metadata": {
    "collapsed": false
   },
   "outputs": [
    {
     "data": {
      "text/plain": [
       "Timestamp('2015-01-17 10:12:13')"
      ]
     },
     "execution_count": 30,
     "metadata": {},
     "output_type": "execute_result"
    }
   ],
   "source": [
    "# We can generate a pd.Timestamp from datetime.datetime() as well.\n",
    "pd.Timestamp(pd.to_datetime('17/1/2015 10:12:13'))"
   ]
  },
  {
   "cell_type": "code",
   "execution_count": 31,
   "metadata": {
    "collapsed": false
   },
   "outputs": [
    {
     "data": {
      "text/plain": [
       "DatetimeIndex(['2015-11-01', '2015-11-05', '2015-11-10'], dtype='datetime64[ns]', freq=None, tz=None)"
      ]
     },
     "execution_count": 31,
     "metadata": {},
     "output_type": "execute_result"
    }
   ],
   "source": [
    "# There are a number of ways that you can parse strings to DatetimeIndex\n",
    "dates = ['2015-11-01', '2015-11-05', '2015-11-10']\n",
    "pd.DatetimeIndex(dates)"
   ]
  },
  {
   "cell_type": "code",
   "execution_count": 32,
   "metadata": {
    "collapsed": false
   },
   "outputs": [
    {
     "name": "stdout",
     "output_type": "stream",
     "text": [
      "<class 'pandas.tslib.Timestamp'>\n"
     ]
    }
   ],
   "source": [
    "# DatetimeIndex is just a collection of pd.Timestamp\n",
    "print(type(pd.DatetimeIndex(dates)[0]))"
   ]
  },
  {
   "cell_type": "markdown",
   "metadata": {},
   "source": [
    "## Construct a timeseries"
   ]
  },
  {
   "cell_type": "code",
   "execution_count": 33,
   "metadata": {
    "collapsed": false
   },
   "outputs": [
    {
     "data": {
      "text/plain": [
       "Timestamp('2015-11-01 00:00:00')"
      ]
     },
     "execution_count": 33,
     "metadata": {},
     "output_type": "execute_result"
    }
   ],
   "source": [
    "ts = DataFrame(np.arange(3), index=pd.to_datetime(dates))\n",
    "ts.index[0]\n",
    "# Use pd.DatetimeIndex"
   ]
  },
  {
   "cell_type": "code",
   "execution_count": 34,
   "metadata": {
    "collapsed": false
   },
   "outputs": [
    {
     "data": {
      "text/plain": [
       "True"
      ]
     },
     "execution_count": 34,
     "metadata": {},
     "output_type": "execute_result"
    }
   ],
   "source": [
    "isinstance(ts.index[0], pd.datetime)"
   ]
  },
  {
   "cell_type": "markdown",
   "metadata": {},
   "source": [
    "## Indexing"
   ]
  },
  {
   "cell_type": "code",
   "execution_count": 35,
   "metadata": {
    "collapsed": false
   },
   "outputs": [
    {
     "data": {
      "text/plain": [
       "DatetimeIndex(['2015-11-11', '2015-11-12', '2015-11-13', '2015-11-14',\n",
       "               '2015-11-15', '2015-11-16', '2015-11-17', '2015-11-18',\n",
       "               '2015-11-19', '2015-11-20', \n",
       "               ...\n",
       "               '2018-07-28', '2018-07-29', '2018-07-30', '2018-07-31',\n",
       "               '2018-08-01', '2018-08-02', '2018-08-03', '2018-08-04',\n",
       "               '2018-08-05', '2018-08-06'],\n",
       "              dtype='datetime64[ns]', length=1000, freq='D', tz=None)"
      ]
     },
     "execution_count": 35,
     "metadata": {},
     "output_type": "execute_result"
    }
   ],
   "source": [
    "rng = pd.date_range('2015-11-11', periods=1000) # Generate a fixed-frequency timestamp as datetimeIndex\n",
    "rng"
   ]
  },
  {
   "cell_type": "code",
   "execution_count": 36,
   "metadata": {
    "collapsed": false
   },
   "outputs": [
    {
     "data": {
      "text/plain": [
       "2015-11-11    0\n",
       "2015-11-12    1\n",
       "2015-11-13    2\n",
       "2015-11-14    3\n",
       "2015-11-15    4\n",
       "2015-11-16    5\n",
       "2015-11-17    6\n",
       "2015-11-18    7\n",
       "2015-11-19    8\n",
       "2015-11-20    9\n",
       "Freq: D, dtype: int64"
      ]
     },
     "execution_count": 36,
     "metadata": {},
     "output_type": "execute_result"
    }
   ],
   "source": [
    "ts = Series(np.arange(1000), index=rng)\n",
    "ts.head(10)"
   ]
  },
  {
   "cell_type": "code",
   "execution_count": 37,
   "metadata": {
    "collapsed": false
   },
   "outputs": [
    {
     "data": {
      "text/plain": [
       "31"
      ]
     },
     "execution_count": 37,
     "metadata": {},
     "output_type": "execute_result"
    }
   ],
   "source": [
    "# To select a specific row using date and time information\n",
    "ts[datetime(2015, 12, 12)]"
   ]
  },
  {
   "cell_type": "code",
   "execution_count": 38,
   "metadata": {
    "collapsed": false
   },
   "outputs": [
    {
     "data": {
      "text/plain": [
       "31"
      ]
     },
     "execution_count": 38,
     "metadata": {},
     "output_type": "execute_result"
    }
   ],
   "source": [
    "# Or just select that row\n",
    "ts[31]"
   ]
  },
  {
   "cell_type": "code",
   "execution_count": 39,
   "metadata": {
    "collapsed": false
   },
   "outputs": [
    {
     "data": {
      "text/plain": [
       "31"
      ]
     },
     "execution_count": 39,
     "metadata": {},
     "output_type": "execute_result"
    }
   ],
   "source": [
    "# Or select that row by passing its timestamp\n",
    "ts[ts.index[31]]"
   ]
  },
  {
   "cell_type": "code",
   "execution_count": 40,
   "metadata": {
    "collapsed": false
   },
   "outputs": [
    {
     "data": {
      "text/plain": [
       "31"
      ]
     },
     "execution_count": 40,
     "metadata": {},
     "output_type": "execute_result"
    }
   ],
   "source": [
    "# Or passing in the string of dates\n",
    "ts['2015-12-12']"
   ]
  },
  {
   "cell_type": "code",
   "execution_count": 41,
   "metadata": {
    "collapsed": false
   },
   "outputs": [
    {
     "data": {
      "text/plain": [
       "2015-11-11     0\n",
       "2015-11-12     1\n",
       "2015-11-13     2\n",
       "2015-11-14     3\n",
       "2015-11-15     4\n",
       "2015-11-16     5\n",
       "2015-11-17     6\n",
       "2015-11-18     7\n",
       "2015-11-19     8\n",
       "2015-11-20     9\n",
       "2015-11-21    10\n",
       "2015-11-22    11\n",
       "2015-11-23    12\n",
       "2015-11-24    13\n",
       "2015-11-25    14\n",
       "2015-11-26    15\n",
       "2015-11-27    16\n",
       "2015-11-28    17\n",
       "2015-11-29    18\n",
       "2015-11-30    19\n",
       "2015-12-01    20\n",
       "2015-12-02    21\n",
       "2015-12-03    22\n",
       "2015-12-04    23\n",
       "2015-12-05    24\n",
       "2015-12-06    25\n",
       "2015-12-07    26\n",
       "2015-12-08    27\n",
       "2015-12-09    28\n",
       "2015-12-10    29\n",
       "2015-12-11    30\n",
       "2015-12-12    31\n",
       "Freq: D, dtype: int64"
      ]
     },
     "execution_count": 41,
     "metadata": {},
     "output_type": "execute_result"
    }
   ],
   "source": [
    "# Select dates up to 2015-12-12\n",
    "ts[:'2015-12-12']\n",
    "# Note that end-points are inclusive"
   ]
  },
  {
   "cell_type": "code",
   "execution_count": 42,
   "metadata": {
    "collapsed": false
   },
   "outputs": [
    {
     "data": {
      "text/plain": [
       "2015-12-02    21\n",
       "2015-12-03    22\n",
       "2015-12-04    23\n",
       "2015-12-05    24\n",
       "2015-12-06    25\n",
       "2015-12-07    26\n",
       "2015-12-08    27\n",
       "Freq: D, dtype: int64"
      ]
     },
     "execution_count": 42,
     "metadata": {},
     "output_type": "execute_result"
    }
   ],
   "source": [
    "# You can even specify a specific time in your search\n",
    "ts['2015-12-01 07:00': '2015-12-8 12:00']"
   ]
  },
  {
   "cell_type": "markdown",
   "metadata": {},
   "source": [
    "#### Quickly select monthly/yearly data from daily data"
   ]
  },
  {
   "cell_type": "code",
   "execution_count": 43,
   "metadata": {
    "collapsed": false
   },
   "outputs": [
    {
     "data": {
      "text/plain": [
       "2015-12-01    20\n",
       "2015-12-02    21\n",
       "2015-12-03    22\n",
       "2015-12-04    23\n",
       "2015-12-05    24\n",
       "2015-12-06    25\n",
       "2015-12-07    26\n",
       "2015-12-08    27\n",
       "2015-12-09    28\n",
       "2015-12-10    29\n",
       "2015-12-11    30\n",
       "2015-12-12    31\n",
       "2015-12-13    32\n",
       "2015-12-14    33\n",
       "2015-12-15    34\n",
       "2015-12-16    35\n",
       "2015-12-17    36\n",
       "2015-12-18    37\n",
       "2015-12-19    38\n",
       "2015-12-20    39\n",
       "2015-12-21    40\n",
       "2015-12-22    41\n",
       "2015-12-23    42\n",
       "2015-12-24    43\n",
       "2015-12-25    44\n",
       "2015-12-26    45\n",
       "2015-12-27    46\n",
       "2015-12-28    47\n",
       "2015-12-29    48\n",
       "2015-12-30    49\n",
       "2015-12-31    50\n",
       "Freq: D, dtype: int64"
      ]
     },
     "execution_count": 43,
     "metadata": {},
     "output_type": "execute_result"
    }
   ],
   "source": [
    "# selecting a whole month\n",
    "ts['2015-12']"
   ]
  },
  {
   "cell_type": "markdown",
   "metadata": {},
   "source": [
    "#### How to get a sorted timeseries"
   ]
  },
  {
   "cell_type": "code",
   "execution_count": 44,
   "metadata": {
    "collapsed": false
   },
   "outputs": [
    {
     "data": {
      "text/plain": [
       "2015-11-11    0\n",
       "2015-11-12    1\n",
       "2015-11-13    2\n",
       "2015-11-14    3\n",
       "2015-11-15    4\n",
       "dtype: int64"
      ]
     },
     "execution_count": 44,
     "metadata": {},
     "output_type": "execute_result"
    }
   ],
   "source": [
    "ts2 = ts.take(np.random.permutation(len(ts)))\n",
    "ts2 = ts2.sort_index()\n",
    "ts2.head()"
   ]
  },
  {
   "cell_type": "code",
   "execution_count": 45,
   "metadata": {
    "collapsed": false
   },
   "outputs": [
    {
     "data": {
      "text/html": [
       "<div>\n",
       "<table border=\"1\" class=\"dataframe\">\n",
       "  <thead>\n",
       "    <tr style=\"text-align: right;\">\n",
       "      <th></th>\n",
       "      <th>Sydney</th>\n",
       "      <th>Melbourne</th>\n",
       "      <th>Brisbane</th>\n",
       "      <th>Manly</th>\n",
       "    </tr>\n",
       "  </thead>\n",
       "  <tbody>\n",
       "    <tr>\n",
       "      <th>2015-11-11</th>\n",
       "      <td>0</td>\n",
       "      <td>1</td>\n",
       "      <td>2</td>\n",
       "      <td>3</td>\n",
       "    </tr>\n",
       "    <tr>\n",
       "      <th>2015-11-12</th>\n",
       "      <td>4</td>\n",
       "      <td>5</td>\n",
       "      <td>6</td>\n",
       "      <td>7</td>\n",
       "    </tr>\n",
       "    <tr>\n",
       "      <th>2015-11-13</th>\n",
       "      <td>8</td>\n",
       "      <td>9</td>\n",
       "      <td>10</td>\n",
       "      <td>11</td>\n",
       "    </tr>\n",
       "    <tr>\n",
       "      <th>2015-11-14</th>\n",
       "      <td>12</td>\n",
       "      <td>13</td>\n",
       "      <td>14</td>\n",
       "      <td>15</td>\n",
       "    </tr>\n",
       "    <tr>\n",
       "      <th>2015-11-15</th>\n",
       "      <td>16</td>\n",
       "      <td>17</td>\n",
       "      <td>18</td>\n",
       "      <td>19</td>\n",
       "    </tr>\n",
       "  </tbody>\n",
       "</table>\n",
       "</div>"
      ],
      "text/plain": [
       "            Sydney  Melbourne  Brisbane  Manly\n",
       "2015-11-11       0          1         2      3\n",
       "2015-11-12       4          5         6      7\n",
       "2015-11-13       8          9        10     11\n",
       "2015-11-14      12         13        14     15\n",
       "2015-11-15      16         17        18     19"
      ]
     },
     "execution_count": 45,
     "metadata": {},
     "output_type": "execute_result"
    }
   ],
   "source": [
    "df = DataFrame(np.arange(4000).reshape((1000, 4)),\n",
    "         index=rng, columns=['Sydney', 'Melbourne', \"Brisbane\", 'Manly'])\n",
    "df.head()"
   ]
  },
  {
   "cell_type": "code",
   "execution_count": 46,
   "metadata": {
    "collapsed": false
   },
   "outputs": [
    {
     "data": {
      "text/html": [
       "<div>\n",
       "<table border=\"1\" class=\"dataframe\">\n",
       "  <thead>\n",
       "    <tr style=\"text-align: right;\">\n",
       "      <th></th>\n",
       "      <th>Sydney</th>\n",
       "      <th>Melbourne</th>\n",
       "      <th>Brisbane</th>\n",
       "      <th>Manly</th>\n",
       "    </tr>\n",
       "  </thead>\n",
       "  <tbody>\n",
       "    <tr>\n",
       "      <th>2015-12-01</th>\n",
       "      <td>80</td>\n",
       "      <td>81</td>\n",
       "      <td>82</td>\n",
       "      <td>83</td>\n",
       "    </tr>\n",
       "    <tr>\n",
       "      <th>2015-12-02</th>\n",
       "      <td>84</td>\n",
       "      <td>85</td>\n",
       "      <td>86</td>\n",
       "      <td>87</td>\n",
       "    </tr>\n",
       "    <tr>\n",
       "      <th>2015-12-03</th>\n",
       "      <td>88</td>\n",
       "      <td>89</td>\n",
       "      <td>90</td>\n",
       "      <td>91</td>\n",
       "    </tr>\n",
       "    <tr>\n",
       "      <th>2015-12-04</th>\n",
       "      <td>92</td>\n",
       "      <td>93</td>\n",
       "      <td>94</td>\n",
       "      <td>95</td>\n",
       "    </tr>\n",
       "    <tr>\n",
       "      <th>2015-12-05</th>\n",
       "      <td>96</td>\n",
       "      <td>97</td>\n",
       "      <td>98</td>\n",
       "      <td>99</td>\n",
       "    </tr>\n",
       "    <tr>\n",
       "      <th>2015-12-06</th>\n",
       "      <td>100</td>\n",
       "      <td>101</td>\n",
       "      <td>102</td>\n",
       "      <td>103</td>\n",
       "    </tr>\n",
       "    <tr>\n",
       "      <th>2015-12-07</th>\n",
       "      <td>104</td>\n",
       "      <td>105</td>\n",
       "      <td>106</td>\n",
       "      <td>107</td>\n",
       "    </tr>\n",
       "    <tr>\n",
       "      <th>2015-12-08</th>\n",
       "      <td>108</td>\n",
       "      <td>109</td>\n",
       "      <td>110</td>\n",
       "      <td>111</td>\n",
       "    </tr>\n",
       "    <tr>\n",
       "      <th>2015-12-09</th>\n",
       "      <td>112</td>\n",
       "      <td>113</td>\n",
       "      <td>114</td>\n",
       "      <td>115</td>\n",
       "    </tr>\n",
       "    <tr>\n",
       "      <th>2015-12-10</th>\n",
       "      <td>116</td>\n",
       "      <td>117</td>\n",
       "      <td>118</td>\n",
       "      <td>119</td>\n",
       "    </tr>\n",
       "    <tr>\n",
       "      <th>2015-12-11</th>\n",
       "      <td>120</td>\n",
       "      <td>121</td>\n",
       "      <td>122</td>\n",
       "      <td>123</td>\n",
       "    </tr>\n",
       "    <tr>\n",
       "      <th>2015-12-12</th>\n",
       "      <td>124</td>\n",
       "      <td>125</td>\n",
       "      <td>126</td>\n",
       "      <td>127</td>\n",
       "    </tr>\n",
       "    <tr>\n",
       "      <th>2015-12-13</th>\n",
       "      <td>128</td>\n",
       "      <td>129</td>\n",
       "      <td>130</td>\n",
       "      <td>131</td>\n",
       "    </tr>\n",
       "    <tr>\n",
       "      <th>2015-12-14</th>\n",
       "      <td>132</td>\n",
       "      <td>133</td>\n",
       "      <td>134</td>\n",
       "      <td>135</td>\n",
       "    </tr>\n",
       "    <tr>\n",
       "      <th>2015-12-15</th>\n",
       "      <td>136</td>\n",
       "      <td>137</td>\n",
       "      <td>138</td>\n",
       "      <td>139</td>\n",
       "    </tr>\n",
       "    <tr>\n",
       "      <th>2015-12-16</th>\n",
       "      <td>140</td>\n",
       "      <td>141</td>\n",
       "      <td>142</td>\n",
       "      <td>143</td>\n",
       "    </tr>\n",
       "    <tr>\n",
       "      <th>2015-12-17</th>\n",
       "      <td>144</td>\n",
       "      <td>145</td>\n",
       "      <td>146</td>\n",
       "      <td>147</td>\n",
       "    </tr>\n",
       "    <tr>\n",
       "      <th>2015-12-18</th>\n",
       "      <td>148</td>\n",
       "      <td>149</td>\n",
       "      <td>150</td>\n",
       "      <td>151</td>\n",
       "    </tr>\n",
       "    <tr>\n",
       "      <th>2015-12-19</th>\n",
       "      <td>152</td>\n",
       "      <td>153</td>\n",
       "      <td>154</td>\n",
       "      <td>155</td>\n",
       "    </tr>\n",
       "    <tr>\n",
       "      <th>2015-12-20</th>\n",
       "      <td>156</td>\n",
       "      <td>157</td>\n",
       "      <td>158</td>\n",
       "      <td>159</td>\n",
       "    </tr>\n",
       "    <tr>\n",
       "      <th>2015-12-21</th>\n",
       "      <td>160</td>\n",
       "      <td>161</td>\n",
       "      <td>162</td>\n",
       "      <td>163</td>\n",
       "    </tr>\n",
       "    <tr>\n",
       "      <th>2015-12-22</th>\n",
       "      <td>164</td>\n",
       "      <td>165</td>\n",
       "      <td>166</td>\n",
       "      <td>167</td>\n",
       "    </tr>\n",
       "    <tr>\n",
       "      <th>2015-12-23</th>\n",
       "      <td>168</td>\n",
       "      <td>169</td>\n",
       "      <td>170</td>\n",
       "      <td>171</td>\n",
       "    </tr>\n",
       "    <tr>\n",
       "      <th>2015-12-24</th>\n",
       "      <td>172</td>\n",
       "      <td>173</td>\n",
       "      <td>174</td>\n",
       "      <td>175</td>\n",
       "    </tr>\n",
       "    <tr>\n",
       "      <th>2015-12-25</th>\n",
       "      <td>176</td>\n",
       "      <td>177</td>\n",
       "      <td>178</td>\n",
       "      <td>179</td>\n",
       "    </tr>\n",
       "    <tr>\n",
       "      <th>2015-12-26</th>\n",
       "      <td>180</td>\n",
       "      <td>181</td>\n",
       "      <td>182</td>\n",
       "      <td>183</td>\n",
       "    </tr>\n",
       "    <tr>\n",
       "      <th>2015-12-27</th>\n",
       "      <td>184</td>\n",
       "      <td>185</td>\n",
       "      <td>186</td>\n",
       "      <td>187</td>\n",
       "    </tr>\n",
       "    <tr>\n",
       "      <th>2015-12-28</th>\n",
       "      <td>188</td>\n",
       "      <td>189</td>\n",
       "      <td>190</td>\n",
       "      <td>191</td>\n",
       "    </tr>\n",
       "    <tr>\n",
       "      <th>2015-12-29</th>\n",
       "      <td>192</td>\n",
       "      <td>193</td>\n",
       "      <td>194</td>\n",
       "      <td>195</td>\n",
       "    </tr>\n",
       "    <tr>\n",
       "      <th>2015-12-30</th>\n",
       "      <td>196</td>\n",
       "      <td>197</td>\n",
       "      <td>198</td>\n",
       "      <td>199</td>\n",
       "    </tr>\n",
       "    <tr>\n",
       "      <th>2015-12-31</th>\n",
       "      <td>200</td>\n",
       "      <td>201</td>\n",
       "      <td>202</td>\n",
       "      <td>203</td>\n",
       "    </tr>\n",
       "  </tbody>\n",
       "</table>\n",
       "</div>"
      ],
      "text/plain": [
       "            Sydney  Melbourne  Brisbane  Manly\n",
       "2015-12-01      80         81        82     83\n",
       "2015-12-02      84         85        86     87\n",
       "2015-12-03      88         89        90     91\n",
       "2015-12-04      92         93        94     95\n",
       "2015-12-05      96         97        98     99\n",
       "2015-12-06     100        101       102    103\n",
       "2015-12-07     104        105       106    107\n",
       "2015-12-08     108        109       110    111\n",
       "2015-12-09     112        113       114    115\n",
       "2015-12-10     116        117       118    119\n",
       "2015-12-11     120        121       122    123\n",
       "2015-12-12     124        125       126    127\n",
       "2015-12-13     128        129       130    131\n",
       "2015-12-14     132        133       134    135\n",
       "2015-12-15     136        137       138    139\n",
       "2015-12-16     140        141       142    143\n",
       "2015-12-17     144        145       146    147\n",
       "2015-12-18     148        149       150    151\n",
       "2015-12-19     152        153       154    155\n",
       "2015-12-20     156        157       158    159\n",
       "2015-12-21     160        161       162    163\n",
       "2015-12-22     164        165       166    167\n",
       "2015-12-23     168        169       170    171\n",
       "2015-12-24     172        173       174    175\n",
       "2015-12-25     176        177       178    179\n",
       "2015-12-26     180        181       182    183\n",
       "2015-12-27     184        185       186    187\n",
       "2015-12-28     188        189       190    191\n",
       "2015-12-29     192        193       194    195\n",
       "2015-12-30     196        197       198    199\n",
       "2015-12-31     200        201       202    203"
      ]
     },
     "execution_count": 46,
     "metadata": {},
     "output_type": "execute_result"
    }
   ],
   "source": [
    "# Again, you can quickly choose a month using .ix[] method\n",
    "df.ix['2015-12']"
   ]
  },
  {
   "cell_type": "markdown",
   "metadata": {},
   "source": [
    "## Incorporating calculations in the timestamp"
   ]
  },
  {
   "cell_type": "code",
   "execution_count": 47,
   "metadata": {
    "collapsed": false
   },
   "outputs": [
    {
     "data": {
      "text/html": [
       "<div>\n",
       "<table border=\"1\" class=\"dataframe\">\n",
       "  <thead>\n",
       "    <tr style=\"text-align: right;\">\n",
       "      <th></th>\n",
       "      <th>Sydney</th>\n",
       "      <th>Melbourne</th>\n",
       "      <th>Brisbane</th>\n",
       "      <th>Manly</th>\n",
       "    </tr>\n",
       "  </thead>\n",
       "  <tbody>\n",
       "    <tr>\n",
       "      <th>2015-11-11</th>\n",
       "      <td>0</td>\n",
       "      <td>1</td>\n",
       "      <td>2</td>\n",
       "      <td>3</td>\n",
       "    </tr>\n",
       "    <tr>\n",
       "      <th>2015-11-12</th>\n",
       "      <td>4</td>\n",
       "      <td>5</td>\n",
       "      <td>6</td>\n",
       "      <td>7</td>\n",
       "    </tr>\n",
       "    <tr>\n",
       "      <th>2015-11-13</th>\n",
       "      <td>8</td>\n",
       "      <td>9</td>\n",
       "      <td>10</td>\n",
       "      <td>11</td>\n",
       "    </tr>\n",
       "    <tr>\n",
       "      <th>2015-11-14</th>\n",
       "      <td>12</td>\n",
       "      <td>13</td>\n",
       "      <td>14</td>\n",
       "      <td>15</td>\n",
       "    </tr>\n",
       "    <tr>\n",
       "      <th>2015-11-15</th>\n",
       "      <td>16</td>\n",
       "      <td>17</td>\n",
       "      <td>18</td>\n",
       "      <td>19</td>\n",
       "    </tr>\n",
       "    <tr>\n",
       "      <th>2015-11-16</th>\n",
       "      <td>20</td>\n",
       "      <td>21</td>\n",
       "      <td>22</td>\n",
       "      <td>23</td>\n",
       "    </tr>\n",
       "  </tbody>\n",
       "</table>\n",
       "</div>"
      ],
      "text/plain": [
       "            Sydney  Melbourne  Brisbane  Manly\n",
       "2015-11-11       0          1         2      3\n",
       "2015-11-12       4          5         6      7\n",
       "2015-11-13       8          9        10     11\n",
       "2015-11-14      12         13        14     15\n",
       "2015-11-15      16         17        18     19\n",
       "2015-11-16      20         21        22     23"
      ]
     },
     "execution_count": 47,
     "metadata": {},
     "output_type": "execute_result"
    }
   ],
   "source": [
    "start = datetime(2015, 11, 5)\n",
    "df[start:start + timedelta(11)] # We are looking for up to the date 2015-11-16"
   ]
  },
  {
   "cell_type": "code",
   "execution_count": 73,
   "metadata": {
    "collapsed": false
   },
   "outputs": [
    {
     "data": {
      "text/html": [
       "<div>\n",
       "<table border=\"1\" class=\"dataframe\">\n",
       "  <thead>\n",
       "    <tr style=\"text-align: right;\">\n",
       "      <th></th>\n",
       "      <th>Sydney</th>\n",
       "      <th>Melbourne</th>\n",
       "      <th>Brisbane</th>\n",
       "      <th>Manly</th>\n",
       "    </tr>\n",
       "  </thead>\n",
       "  <tbody>\n",
       "    <tr>\n",
       "      <th>2015-11-11</th>\n",
       "      <td>0</td>\n",
       "      <td>1</td>\n",
       "      <td>2</td>\n",
       "      <td>3</td>\n",
       "    </tr>\n",
       "    <tr>\n",
       "      <th>2015-11-12</th>\n",
       "      <td>4</td>\n",
       "      <td>5</td>\n",
       "      <td>6</td>\n",
       "      <td>7</td>\n",
       "    </tr>\n",
       "    <tr>\n",
       "      <th>2015-11-13</th>\n",
       "      <td>8</td>\n",
       "      <td>9</td>\n",
       "      <td>10</td>\n",
       "      <td>11</td>\n",
       "    </tr>\n",
       "    <tr>\n",
       "      <th>2015-11-14</th>\n",
       "      <td>12</td>\n",
       "      <td>13</td>\n",
       "      <td>14</td>\n",
       "      <td>15</td>\n",
       "    </tr>\n",
       "    <tr>\n",
       "      <th>2015-11-15</th>\n",
       "      <td>16</td>\n",
       "      <td>17</td>\n",
       "      <td>18</td>\n",
       "      <td>19</td>\n",
       "    </tr>\n",
       "    <tr>\n",
       "      <th>2015-11-16</th>\n",
       "      <td>20</td>\n",
       "      <td>21</td>\n",
       "      <td>22</td>\n",
       "      <td>23</td>\n",
       "    </tr>\n",
       "  </tbody>\n",
       "</table>\n",
       "</div>"
      ],
      "text/plain": [
       "            Sydney  Melbourne  Brisbane  Manly\n",
       "2015-11-11       0          1         2      3\n",
       "2015-11-12       4          5         6      7\n",
       "2015-11-13       8          9        10     11\n",
       "2015-11-14      12         13        14     15\n",
       "2015-11-15      16         17        18     19\n",
       "2015-11-16      20         21        22     23"
      ]
     },
     "execution_count": 73,
     "metadata": {},
     "output_type": "execute_result"
    }
   ],
   "source": [
    "# Without using datetime.timedelta(), you can use pandas.offsets.Day()\n",
    "df[start:start + pd.offsets.Day(11)]"
   ]
  },
  {
   "cell_type": "markdown",
   "metadata": {},
   "source": [
    "#### To quickly generate a dummy variable"
   ]
  },
  {
   "cell_type": "code",
   "execution_count": 76,
   "metadata": {
    "collapsed": false
   },
   "outputs": [],
   "source": [
    "# To generate a monthly dummy\n",
    "df['d_month'] = df.index.month"
   ]
  },
  {
   "cell_type": "code",
   "execution_count": 77,
   "metadata": {
    "collapsed": true
   },
   "outputs": [],
   "source": [
    "# To generate a weekly dummy\n",
    "df['d_week'] = df.index.weekofyear"
   ]
  },
  {
   "cell_type": "code",
   "execution_count": 83,
   "metadata": {
    "collapsed": true
   },
   "outputs": [],
   "source": [
    "# TO generate a dummy that indicates business days\n",
    "df['d_business'] = df.index.weekday<5"
   ]
  },
  {
   "cell_type": "code",
   "execution_count": 84,
   "metadata": {
    "collapsed": false
   },
   "outputs": [
    {
     "data": {
      "text/html": [
       "<div>\n",
       "<table border=\"1\" class=\"dataframe\">\n",
       "  <thead>\n",
       "    <tr style=\"text-align: right;\">\n",
       "      <th></th>\n",
       "      <th>Sydney</th>\n",
       "      <th>Melbourne</th>\n",
       "      <th>Brisbane</th>\n",
       "      <th>Manly</th>\n",
       "      <th>d_month</th>\n",
       "      <th>d_week</th>\n",
       "      <th>d_business</th>\n",
       "    </tr>\n",
       "  </thead>\n",
       "  <tbody>\n",
       "    <tr>\n",
       "      <th>2015-11-11</th>\n",
       "      <td>0</td>\n",
       "      <td>1</td>\n",
       "      <td>2</td>\n",
       "      <td>3</td>\n",
       "      <td>11</td>\n",
       "      <td>46</td>\n",
       "      <td>True</td>\n",
       "    </tr>\n",
       "    <tr>\n",
       "      <th>2015-11-12</th>\n",
       "      <td>4</td>\n",
       "      <td>5</td>\n",
       "      <td>6</td>\n",
       "      <td>7</td>\n",
       "      <td>11</td>\n",
       "      <td>46</td>\n",
       "      <td>True</td>\n",
       "    </tr>\n",
       "    <tr>\n",
       "      <th>2015-11-13</th>\n",
       "      <td>8</td>\n",
       "      <td>9</td>\n",
       "      <td>10</td>\n",
       "      <td>11</td>\n",
       "      <td>11</td>\n",
       "      <td>46</td>\n",
       "      <td>True</td>\n",
       "    </tr>\n",
       "    <tr>\n",
       "      <th>2015-11-14</th>\n",
       "      <td>12</td>\n",
       "      <td>13</td>\n",
       "      <td>14</td>\n",
       "      <td>15</td>\n",
       "      <td>11</td>\n",
       "      <td>46</td>\n",
       "      <td>False</td>\n",
       "    </tr>\n",
       "    <tr>\n",
       "      <th>2015-11-15</th>\n",
       "      <td>16</td>\n",
       "      <td>17</td>\n",
       "      <td>18</td>\n",
       "      <td>19</td>\n",
       "      <td>11</td>\n",
       "      <td>46</td>\n",
       "      <td>False</td>\n",
       "    </tr>\n",
       "    <tr>\n",
       "      <th>2015-11-16</th>\n",
       "      <td>20</td>\n",
       "      <td>21</td>\n",
       "      <td>22</td>\n",
       "      <td>23</td>\n",
       "      <td>11</td>\n",
       "      <td>47</td>\n",
       "      <td>True</td>\n",
       "    </tr>\n",
       "    <tr>\n",
       "      <th>2015-11-17</th>\n",
       "      <td>24</td>\n",
       "      <td>25</td>\n",
       "      <td>26</td>\n",
       "      <td>27</td>\n",
       "      <td>11</td>\n",
       "      <td>47</td>\n",
       "      <td>True</td>\n",
       "    </tr>\n",
       "    <tr>\n",
       "      <th>2015-11-18</th>\n",
       "      <td>28</td>\n",
       "      <td>29</td>\n",
       "      <td>30</td>\n",
       "      <td>31</td>\n",
       "      <td>11</td>\n",
       "      <td>47</td>\n",
       "      <td>True</td>\n",
       "    </tr>\n",
       "    <tr>\n",
       "      <th>2015-11-19</th>\n",
       "      <td>32</td>\n",
       "      <td>33</td>\n",
       "      <td>34</td>\n",
       "      <td>35</td>\n",
       "      <td>11</td>\n",
       "      <td>47</td>\n",
       "      <td>True</td>\n",
       "    </tr>\n",
       "    <tr>\n",
       "      <th>2015-11-20</th>\n",
       "      <td>36</td>\n",
       "      <td>37</td>\n",
       "      <td>38</td>\n",
       "      <td>39</td>\n",
       "      <td>11</td>\n",
       "      <td>47</td>\n",
       "      <td>True</td>\n",
       "    </tr>\n",
       "  </tbody>\n",
       "</table>\n",
       "</div>"
      ],
      "text/plain": [
       "            Sydney  Melbourne  Brisbane  Manly  d_month  d_week d_business\n",
       "2015-11-11       0          1         2      3       11      46       True\n",
       "2015-11-12       4          5         6      7       11      46       True\n",
       "2015-11-13       8          9        10     11       11      46       True\n",
       "2015-11-14      12         13        14     15       11      46      False\n",
       "2015-11-15      16         17        18     19       11      46      False\n",
       "2015-11-16      20         21        22     23       11      47       True\n",
       "2015-11-17      24         25        26     27       11      47       True\n",
       "2015-11-18      28         29        30     31       11      47       True\n",
       "2015-11-19      32         33        34     35       11      47       True\n",
       "2015-11-20      36         37        38     39       11      47       True"
      ]
     },
     "execution_count": 84,
     "metadata": {},
     "output_type": "execute_result"
    }
   ],
   "source": [
    "df.head(10)"
   ]
  },
  {
   "cell_type": "code",
   "execution_count": null,
   "metadata": {
    "collapsed": true
   },
   "outputs": [],
   "source": []
  },
  {
   "cell_type": "markdown",
   "metadata": {},
   "source": [
    "## A closer look at pd.date_range()"
   ]
  },
  {
   "cell_type": "code",
   "execution_count": 49,
   "metadata": {
    "collapsed": false
   },
   "outputs": [
    {
     "data": {
      "text/plain": [
       "DatetimeIndex(['2015-11-11', '2015-11-12', '2015-11-13', '2015-11-14',\n",
       "               '2015-11-15'],\n",
       "              dtype='datetime64[ns]', freq='D', tz=None)"
      ]
     },
     "execution_count": 49,
     "metadata": {},
     "output_type": "execute_result"
    }
   ],
   "source": [
    "# The default behaviour of pd.date_range() is to generate calendar days\n",
    "pd.date_range('2015-11-11', periods=5)"
   ]
  },
  {
   "cell_type": "code",
   "execution_count": 50,
   "metadata": {
    "collapsed": false
   },
   "outputs": [
    {
     "data": {
      "text/plain": [
       "DatetimeIndex(['2015-11-30', '2015-12-31', '2016-01-31', '2016-02-29',\n",
       "               '2016-03-31'],\n",
       "              dtype='datetime64[ns]', freq='M', tz=None)"
      ]
     },
     "execution_count": 50,
     "metadata": {},
     "output_type": "execute_result"
    }
   ],
   "source": [
    "# You can generate frequencies at Month End\n",
    "pd.date_range('2015-11-11', periods=5, freq='M')"
   ]
  },
  {
   "cell_type": "code",
   "execution_count": 51,
   "metadata": {
    "collapsed": false
   },
   "outputs": [
    {
     "data": {
      "text/plain": [
       "DatetimeIndex(['2015-11-11', '2015-11-12', '2015-11-13', '2015-11-16',\n",
       "               '2015-11-17'],\n",
       "              dtype='datetime64[ns]', freq='B', tz=None)"
      ]
     },
     "execution_count": 51,
     "metadata": {},
     "output_type": "execute_result"
    }
   ],
   "source": [
    "# You can generate frequencies with business days\n",
    "pd.date_range('2015-11-11', periods=5, freq='B')"
   ]
  },
  {
   "cell_type": "code",
   "execution_count": 52,
   "metadata": {
    "collapsed": false
   },
   "outputs": [
    {
     "data": {
      "text/plain": [
       "DatetimeIndex(['2015-12-01', '2016-01-01', '2016-02-01', '2016-03-01',\n",
       "               '2016-04-01'],\n",
       "              dtype='datetime64[ns]', freq='BMS', tz=None)"
      ]
     },
     "execution_count": 52,
     "metadata": {},
     "output_type": "execute_result"
    }
   ],
   "source": [
    "# Or Business first week day of the month\n",
    "pd.date_range('2015-11-11', periods=5, freq='BMS')"
   ]
  },
  {
   "cell_type": "code",
   "execution_count": 53,
   "metadata": {
    "collapsed": false
   },
   "outputs": [
    {
     "data": {
      "text/plain": [
       "DatetimeIndex(['2015-11-14', '2015-11-21', '2015-11-28', '2015-12-05',\n",
       "               '2015-12-12'],\n",
       "              dtype='datetime64[ns]', freq='W-SAT', tz=None)"
      ]
     },
     "execution_count": 53,
     "metadata": {},
     "output_type": "execute_result"
    }
   ],
   "source": [
    "# How about finding all weekly days on Saturdays\n",
    "pd.date_range('2015-11-11', periods=5, freq='W-SAT')"
   ]
  },
  {
   "cell_type": "code",
   "execution_count": 54,
   "metadata": {
    "collapsed": false
   },
   "outputs": [
    {
     "data": {
      "text/plain": [
       "DatetimeIndex(['2016-02-29', '2017-02-28', '2018-02-28', '2019-02-28',\n",
       "               '2020-02-28', '2021-02-26', '2022-02-28', '2023-02-28',\n",
       "               '2024-02-29', '2025-02-28'],\n",
       "              dtype='datetime64[ns]', freq='BA-FEB', tz=None)"
      ]
     },
     "execution_count": 54,
     "metadata": {},
     "output_type": "execute_result"
    }
   ],
   "source": [
    "# Annual days following the last day of Feburary (business day only)\n",
    "pd.date_range('2015-11-11', periods=10, freq='BA-FEB')"
   ]
  },
  {
   "cell_type": "code",
   "execution_count": 55,
   "metadata": {
    "collapsed": false
   },
   "outputs": [
    {
     "data": {
      "text/plain": [
       "DatetimeIndex(['2015-11-20', '2015-12-18', '2016-01-15', '2016-02-19',\n",
       "               '2016-03-18'],\n",
       "              dtype='datetime64[ns]', freq='WOM-3FRI', tz=None)"
      ]
     },
     "execution_count": 55,
     "metadata": {},
     "output_type": "execute_result"
    }
   ],
   "source": [
    "# Finding the 3rd Friday of each month\n",
    "pd.date_range('2015-11', periods=5, freq='WOM-3FRI') # WOM stands for week of month"
   ]
  },
  {
   "cell_type": "markdown",
   "metadata": {},
   "source": [
    "#### Resampling\n",
    "\n",
    "There are basically four different ways of re-sampling:\n",
    " - High freq to low: downsampling\n",
    " - Low freq to high: upsampling\n",
    " - Premade or user-specified aggregation functions\n",
    " - Flexible binning"
   ]
  },
  {
   "cell_type": "code",
   "execution_count": null,
   "metadata": {
    "collapsed": true
   },
   "outputs": [],
   "source": []
  },
  {
   "cell_type": "code",
   "execution_count": 56,
   "metadata": {
    "collapsed": false
   },
   "outputs": [
    {
     "data": {
      "text/plain": [
       "DatetimeIndex(['2015-11-12 21:05:31.705500', '2015-11-12 21:06:31.705500',\n",
       "               '2015-11-12 21:07:31.705500', '2015-11-12 21:08:31.705500',\n",
       "               '2015-11-12 21:09:31.705500', '2015-11-12 21:10:31.705500',\n",
       "               '2015-11-12 21:11:31.705500', '2015-11-12 21:12:31.705500',\n",
       "               '2015-11-12 21:13:31.705500', '2015-11-12 21:14:31.705500', \n",
       "               ...\n",
       "               '2016-01-21 07:35:31.705500', '2016-01-21 07:36:31.705500',\n",
       "               '2016-01-21 07:37:31.705500', '2016-01-21 07:38:31.705500',\n",
       "               '2016-01-21 07:39:31.705500', '2016-01-21 07:40:31.705500',\n",
       "               '2016-01-21 07:41:31.705500', '2016-01-21 07:42:31.705500',\n",
       "               '2016-01-21 07:43:31.705500', '2016-01-21 07:44:31.705500'],\n",
       "              dtype='datetime64[ns]', length=100000, freq='T', tz=None)"
      ]
     },
     "execution_count": 56,
     "metadata": {},
     "output_type": "execute_result"
    }
   ],
   "source": [
    "rng = pd.date_range(datetime.now(), periods=100000, freq='t') # High frequency at minute level\n",
    "rng"
   ]
  },
  {
   "cell_type": "code",
   "execution_count": 59,
   "metadata": {
    "collapsed": false
   },
   "outputs": [
    {
     "data": {
      "text/plain": [
       "2015-11-12 21:05:31.705500    1.067260\n",
       "2015-11-12 21:06:31.705500    1.223490\n",
       "2015-11-12 21:07:31.705500   -0.179767\n",
       "2015-11-12 21:08:31.705500   -0.480508\n",
       "2015-11-12 21:09:31.705500   -0.041945\n",
       "Freq: T, dtype: float64"
      ]
     },
     "execution_count": 59,
     "metadata": {},
     "output_type": "execute_result"
    }
   ],
   "source": [
    "ts = Series(np.random.randn(100000), index=rng)\n",
    "ts.head()"
   ]
  },
  {
   "cell_type": "code",
   "execution_count": 61,
   "metadata": {
    "collapsed": false
   },
   "outputs": [
    {
     "data": {
      "text/plain": [
       "2015-11-12 21:05:31.705500    1.067260\n",
       "2015-11-12 21:06:31.705500    1.223490\n",
       "2015-11-12 21:07:31.705500   -0.179767\n",
       "2015-11-12 21:08:31.705500   -0.480508\n",
       "2015-11-12 21:09:31.705500   -0.041945\n",
       "2015-11-12 21:10:31.705500   -0.018889\n",
       "2015-11-12 21:11:31.705500    0.071993\n",
       "2015-11-12 21:12:31.705500    0.047051\n",
       "2015-11-12 21:13:31.705500    1.562663\n",
       "2015-11-12 21:14:31.705500    0.268413\n",
       "2015-11-12 21:15:31.705500    1.026341\n",
       "2015-11-12 21:16:31.705500    0.135826\n",
       "2015-11-12 21:17:31.705500   -1.125681\n",
       "2015-11-12 21:18:31.705500    0.241117\n",
       "2015-11-12 21:19:31.705500    1.044961\n",
       "Freq: T, dtype: float64"
      ]
     },
     "execution_count": 61,
     "metadata": {},
     "output_type": "execute_result"
    }
   ],
   "source": [
    "# To select the first 15 elements of the series\n",
    "ts[ts.index[:15]]"
   ]
  },
  {
   "cell_type": "markdown",
   "metadata": {},
   "source": [
    "To select data every 30 minutes. This is how we do."
   ]
  },
  {
   "cell_type": "code",
   "execution_count": 62,
   "metadata": {
    "collapsed": false
   },
   "outputs": [
    {
     "data": {
      "text/plain": [
       "DatetimeIndex(['2015-11-12 21:05:31.705500', '2015-11-12 21:35:31.705500',\n",
       "               '2015-11-12 22:05:31.705500', '2015-11-12 22:35:31.705500',\n",
       "               '2015-11-12 23:05:31.705500', '2015-11-12 23:35:31.705500',\n",
       "               '2015-11-13 00:05:31.705500', '2015-11-13 00:35:31.705500',\n",
       "               '2015-11-13 01:05:31.705500', '2015-11-13 01:35:31.705500', \n",
       "               ...\n",
       "               '2016-01-21 03:05:31.705500', '2016-01-21 03:35:31.705500',\n",
       "               '2016-01-21 04:05:31.705500', '2016-01-21 04:35:31.705500',\n",
       "               '2016-01-21 05:05:31.705500', '2016-01-21 05:35:31.705500',\n",
       "               '2016-01-21 06:05:31.705500', '2016-01-21 06:35:31.705500',\n",
       "               '2016-01-21 07:05:31.705500', '2016-01-21 07:35:31.705500'],\n",
       "              dtype='datetime64[ns]', length=3334, freq='30T', tz=None)"
      ]
     },
     "execution_count": 62,
     "metadata": {},
     "output_type": "execute_result"
    }
   ],
   "source": [
    "pd.date_range(ts.index[0], ts.index[-1], freq='30t')"
   ]
  },
  {
   "cell_type": "code",
   "execution_count": 65,
   "metadata": {
    "collapsed": false
   },
   "outputs": [
    {
     "data": {
      "text/plain": [
       "2015-11-12 21:00:00    25\n",
       "2015-11-12 21:30:00    30\n",
       "2015-11-12 22:00:00    30\n",
       "2015-11-12 22:30:00    30\n",
       "2015-11-12 23:00:00    30\n",
       "Freq: 30T, dtype: int64"
      ]
     },
     "execution_count": 65,
     "metadata": {},
     "output_type": "execute_result"
    }
   ],
   "source": [
    "# Downsampling \n",
    "# from minute level to 30-minute level\n",
    "ts.resample('30t', how='count').head()  # Count the number of observations that fall within each interval"
   ]
  },
  {
   "cell_type": "code",
   "execution_count": 66,
   "metadata": {
    "collapsed": false
   },
   "outputs": [
    {
     "data": {
      "text/plain": [
       "2015-11-12 21:00:00    0.221373\n",
       "2015-11-12 21:30:00   -0.152909\n",
       "2015-11-12 22:00:00    0.177257\n",
       "2015-11-12 22:30:00    0.138076\n",
       "2015-11-12 23:00:00   -0.211707\n",
       "Freq: 30T, dtype: float64"
      ]
     },
     "execution_count": 66,
     "metadata": {},
     "output_type": "execute_result"
    }
   ],
   "source": [
    "ts.resample('30t', how='mean').head()   # use mean to resample"
   ]
  },
  {
   "cell_type": "code",
   "execution_count": 67,
   "metadata": {
    "collapsed": false
   },
   "outputs": [
    {
     "data": {
      "text/plain": [
       "2015-11-12 21:00:00    0.221373\n",
       "2015-11-12 21:30:00   -0.152909\n",
       "2015-11-12 22:00:00    0.177257\n",
       "2015-11-12 22:30:00    0.138076\n",
       "2015-11-12 23:00:00   -0.211707\n",
       "Freq: 30T, dtype: float64"
      ]
     },
     "execution_count": 67,
     "metadata": {},
     "output_type": "execute_result"
    }
   ],
   "source": [
    "ts.resample('30t', how='mean', closed='left', label='left').head()\n",
    "\n",
    "# A bit advanced: how you define the boundary of each interval (bin), closed on the left/right.\n",
    "# And how you call each bin (the label to the left of the bin or the right)"
   ]
  },
  {
   "cell_type": "code",
   "execution_count": 87,
   "metadata": {
    "collapsed": false
   },
   "outputs": [
    {
     "data": {
      "text/plain": [
       "array([0, 0, 0, 0, 0, 0, 0, 0, 0, 0, 0, 0, 0, 0, 0, 0, 0, 0, 0, 0, 0, 0, 0,\n",
       "       0, 0, 0, 0, 0, 0, 0, 0, 0, 0, 0, 0, 0, 0, 0, 0, 0, 0, 0, 0, 0, 0, 0,\n",
       "       0, 0, 0, 0, 0, 0, 0, 0, 0, 0, 0, 0, 0, 0, 0, 0, 0, 0, 0, 0, 0, 0, 0,\n",
       "       0, 0], dtype=int32)"
      ]
     },
     "execution_count": 87,
     "metadata": {},
     "output_type": "execute_result"
    }
   ],
   "source": [
    "# Downsample to daily frequency\n",
    "resampled = ts.resample('D', how='mean')\n",
    "resampled.index.hour  # the beginning hour of each bin is 0 hour."
   ]
  },
  {
   "cell_type": "code",
   "execution_count": 92,
   "metadata": {
    "collapsed": false
   },
   "outputs": [
    {
     "data": {
      "text/html": [
       "<div>\n",
       "<table border=\"1\" class=\"dataframe\">\n",
       "  <thead>\n",
       "    <tr style=\"text-align: right;\">\n",
       "      <th></th>\n",
       "      <th>mean</th>\n",
       "      <th>median</th>\n",
       "      <th>count</th>\n",
       "      <th>sum</th>\n",
       "      <th>amax</th>\n",
       "    </tr>\n",
       "  </thead>\n",
       "  <tbody>\n",
       "    <tr>\n",
       "      <th>2015-11-12</th>\n",
       "      <td>0.043972</td>\n",
       "      <td>0.055535</td>\n",
       "      <td>175</td>\n",
       "      <td>7.695133</td>\n",
       "      <td>2.454071</td>\n",
       "    </tr>\n",
       "    <tr>\n",
       "      <th>2015-11-13</th>\n",
       "      <td>0.042454</td>\n",
       "      <td>0.024374</td>\n",
       "      <td>1440</td>\n",
       "      <td>61.133638</td>\n",
       "      <td>3.765761</td>\n",
       "    </tr>\n",
       "    <tr>\n",
       "      <th>2015-11-14</th>\n",
       "      <td>-0.006355</td>\n",
       "      <td>0.014058</td>\n",
       "      <td>1440</td>\n",
       "      <td>-9.150757</td>\n",
       "      <td>3.477761</td>\n",
       "    </tr>\n",
       "    <tr>\n",
       "      <th>2015-11-15</th>\n",
       "      <td>0.003032</td>\n",
       "      <td>0.008345</td>\n",
       "      <td>1440</td>\n",
       "      <td>4.366720</td>\n",
       "      <td>2.819357</td>\n",
       "    </tr>\n",
       "    <tr>\n",
       "      <th>2015-11-16</th>\n",
       "      <td>0.040104</td>\n",
       "      <td>0.068452</td>\n",
       "      <td>1440</td>\n",
       "      <td>57.749043</td>\n",
       "      <td>3.932758</td>\n",
       "    </tr>\n",
       "  </tbody>\n",
       "</table>\n",
       "</div>"
      ],
      "text/plain": [
       "                mean    median  count        sum      amax\n",
       "2015-11-12  0.043972  0.055535    175   7.695133  2.454071\n",
       "2015-11-13  0.042454  0.024374   1440  61.133638  3.765761\n",
       "2015-11-14 -0.006355  0.014058   1440  -9.150757  3.477761\n",
       "2015-11-15  0.003032  0.008345   1440   4.366720  2.819357\n",
       "2015-11-16  0.040104  0.068452   1440  57.749043  3.932758"
      ]
     },
     "execution_count": 92,
     "metadata": {},
     "output_type": "execute_result"
    }
   ],
   "source": [
    "# You can specify multiple functions\n",
    "ts.resample('D', how=['mean', 'median', 'count', 'sum', np.max]).head()"
   ]
  },
  {
   "cell_type": "code",
   "execution_count": 94,
   "metadata": {
    "collapsed": false
   },
   "outputs": [
    {
     "data": {
      "text/html": [
       "<div>\n",
       "<table border=\"1\" class=\"dataframe\">\n",
       "  <thead>\n",
       "    <tr style=\"text-align: right;\">\n",
       "      <th></th>\n",
       "      <th>open</th>\n",
       "      <th>high</th>\n",
       "      <th>low</th>\n",
       "      <th>close</th>\n",
       "    </tr>\n",
       "  </thead>\n",
       "  <tbody>\n",
       "    <tr>\n",
       "      <th>2015-11-12</th>\n",
       "      <td>1.067260</td>\n",
       "      <td>2.454071</td>\n",
       "      <td>-2.866197</td>\n",
       "      <td>-1.117700</td>\n",
       "    </tr>\n",
       "    <tr>\n",
       "      <th>2015-11-13</th>\n",
       "      <td>0.360440</td>\n",
       "      <td>3.765761</td>\n",
       "      <td>-3.258658</td>\n",
       "      <td>-1.428999</td>\n",
       "    </tr>\n",
       "    <tr>\n",
       "      <th>2015-11-14</th>\n",
       "      <td>-0.497862</td>\n",
       "      <td>3.477761</td>\n",
       "      <td>-3.240984</td>\n",
       "      <td>-2.137821</td>\n",
       "    </tr>\n",
       "    <tr>\n",
       "      <th>2015-11-15</th>\n",
       "      <td>-0.966424</td>\n",
       "      <td>2.819357</td>\n",
       "      <td>-3.382061</td>\n",
       "      <td>-1.309252</td>\n",
       "    </tr>\n",
       "    <tr>\n",
       "      <th>2015-11-16</th>\n",
       "      <td>0.213727</td>\n",
       "      <td>3.932758</td>\n",
       "      <td>-3.123560</td>\n",
       "      <td>-1.347924</td>\n",
       "    </tr>\n",
       "  </tbody>\n",
       "</table>\n",
       "</div>"
      ],
      "text/plain": [
       "                open      high       low     close\n",
       "2015-11-12  1.067260  2.454071 -2.866197 -1.117700\n",
       "2015-11-13  0.360440  3.765761 -3.258658 -1.428999\n",
       "2015-11-14 -0.497862  3.477761 -3.240984 -2.137821\n",
       "2015-11-15 -0.966424  2.819357 -3.382061 -1.309252\n",
       "2015-11-16  0.213727  3.932758 -3.123560 -1.347924"
      ]
     },
     "execution_count": 94,
     "metadata": {},
     "output_type": "execute_result"
    }
   ],
   "source": [
    "# Something fancier! Converting intra-day trading data to daily data with Open, High, Low, Close\n",
    "ts.resample('D', how='ohlc').head()"
   ]
  },
  {
   "cell_type": "code",
   "execution_count": 95,
   "metadata": {
    "collapsed": false
   },
   "outputs": [
    {
     "data": {
      "text/html": [
       "<div>\n",
       "<table border=\"1\" class=\"dataframe\">\n",
       "  <thead>\n",
       "    <tr style=\"text-align: right;\">\n",
       "      <th></th>\n",
       "      <th>first</th>\n",
       "      <th>max</th>\n",
       "      <th>min</th>\n",
       "      <th>last</th>\n",
       "    </tr>\n",
       "  </thead>\n",
       "  <tbody>\n",
       "    <tr>\n",
       "      <th>2015-11-12</th>\n",
       "      <td>1.067260</td>\n",
       "      <td>2.454071</td>\n",
       "      <td>-2.866197</td>\n",
       "      <td>-1.117700</td>\n",
       "    </tr>\n",
       "    <tr>\n",
       "      <th>2015-11-13</th>\n",
       "      <td>0.360440</td>\n",
       "      <td>3.765761</td>\n",
       "      <td>-3.258658</td>\n",
       "      <td>-1.428999</td>\n",
       "    </tr>\n",
       "    <tr>\n",
       "      <th>2015-11-14</th>\n",
       "      <td>-0.497862</td>\n",
       "      <td>3.477761</td>\n",
       "      <td>-3.240984</td>\n",
       "      <td>-2.137821</td>\n",
       "    </tr>\n",
       "    <tr>\n",
       "      <th>2015-11-15</th>\n",
       "      <td>-0.966424</td>\n",
       "      <td>2.819357</td>\n",
       "      <td>-3.382061</td>\n",
       "      <td>-1.309252</td>\n",
       "    </tr>\n",
       "    <tr>\n",
       "      <th>2015-11-16</th>\n",
       "      <td>0.213727</td>\n",
       "      <td>3.932758</td>\n",
       "      <td>-3.123560</td>\n",
       "      <td>-1.347924</td>\n",
       "    </tr>\n",
       "  </tbody>\n",
       "</table>\n",
       "</div>"
      ],
      "text/plain": [
       "               first       max       min      last\n",
       "2015-11-12  1.067260  2.454071 -2.866197 -1.117700\n",
       "2015-11-13  0.360440  3.765761 -3.258658 -1.428999\n",
       "2015-11-14 -0.497862  3.477761 -3.240984 -2.137821\n",
       "2015-11-15 -0.966424  2.819357 -3.382061 -1.309252\n",
       "2015-11-16  0.213727  3.932758 -3.123560 -1.347924"
      ]
     },
     "execution_count": 95,
     "metadata": {},
     "output_type": "execute_result"
    }
   ],
   "source": [
    "# The above example is too fancy, let's build it from the basics:\n",
    "ts.resample('D', how=['first', 'max', 'min', 'last']).head()"
   ]
  },
  {
   "cell_type": "markdown",
   "metadata": {},
   "source": [
    "The how options can support a range of inputs:\n",
    " - 'mean'\n",
    " - 'median'\n",
    " - 'count'\n",
    " - 'sum'\n",
    " - np.max or 'max'\n",
    " - lambda functions i.e.: how = lambda x: x.mean()"
   ]
  },
  {
   "cell_type": "code",
   "execution_count": 85,
   "metadata": {
    "collapsed": false
   },
   "outputs": [
    {
     "name": "stdout",
     "output_type": "stream",
     "text": [
      "1000 loops, best of 3: 1.65 ms per loop\n"
     ]
    }
   ],
   "source": [
    "# Compare the efficiency of built-in functions v.s. user-specified functions\n",
    "%timeit ts.resample('30t', how='mean')"
   ]
  },
  {
   "cell_type": "code",
   "execution_count": 86,
   "metadata": {
    "collapsed": false
   },
   "outputs": [
    {
     "name": "stdout",
     "output_type": "stream",
     "text": [
      "10 loops, best of 3: 81.6 ms per loop\n"
     ]
    }
   ],
   "source": [
    "%timeit ts.resample('30t', how = lambda x: x.mean())"
   ]
  },
  {
   "cell_type": "markdown",
   "metadata": {},
   "source": [
    "## Upsampling\n",
    "\n",
    "Say we started with 5-min level data, and upsample to 1-min level."
   ]
  },
  {
   "cell_type": "code",
   "execution_count": 97,
   "metadata": {
    "collapsed": false
   },
   "outputs": [
    {
     "data": {
      "text/plain": [
       "2015-11-12 21:05:00    0.317706\n",
       "2015-11-12 21:10:00    0.386246\n",
       "2015-11-12 21:15:00    0.264513\n",
       "2015-11-12 21:20:00    0.007747\n",
       "2015-11-12 21:25:00    0.130654\n",
       "Freq: 5T, dtype: float64"
      ]
     },
     "execution_count": 97,
     "metadata": {},
     "output_type": "execute_result"
    }
   ],
   "source": [
    "ts_5min = ts.resample('5t', how='mean')\n",
    "ts_5min.head()"
   ]
  },
  {
   "cell_type": "code",
   "execution_count": 99,
   "metadata": {
    "collapsed": false
   },
   "outputs": [
    {
     "data": {
      "text/plain": [
       "2015-11-12 21:05:00    0.317706\n",
       "2015-11-12 21:06:00         NaN\n",
       "2015-11-12 21:07:00         NaN\n",
       "2015-11-12 21:08:00         NaN\n",
       "2015-11-12 21:09:00         NaN\n",
       "2015-11-12 21:10:00    0.386246\n",
       "2015-11-12 21:11:00         NaN\n",
       "2015-11-12 21:12:00         NaN\n",
       "2015-11-12 21:13:00         NaN\n",
       "2015-11-12 21:14:00         NaN\n",
       "Freq: T, dtype: float64"
      ]
     },
     "execution_count": 99,
     "metadata": {},
     "output_type": "execute_result"
    }
   ],
   "source": [
    "ts_1min = ts_5min.resample('t')\n",
    "ts_1min.head(10)"
   ]
  },
  {
   "cell_type": "code",
   "execution_count": 102,
   "metadata": {
    "collapsed": false
   },
   "outputs": [
    {
     "data": {
      "text/plain": [
       "2015-11-12 21:05:00    0.317706\n",
       "2015-11-12 21:06:00    0.317706\n",
       "2015-11-12 21:07:00    0.317706\n",
       "2015-11-12 21:08:00    0.317706\n",
       "2015-11-12 21:09:00    0.317706\n",
       "2015-11-12 21:10:00    0.386246\n",
       "2015-11-12 21:11:00    0.386246\n",
       "2015-11-12 21:12:00    0.386246\n",
       "2015-11-12 21:13:00    0.386246\n",
       "2015-11-12 21:14:00    0.386246\n",
       "Freq: T, dtype: float64"
      ]
     },
     "execution_count": 102,
     "metadata": {},
     "output_type": "execute_result"
    }
   ],
   "source": [
    "# Suppose that you would like to carry forward the values to the NaNs\n",
    "ts_1min.fillna(method='ffill').head(10)  # 'ffill' stands for forward fill"
   ]
  },
  {
   "cell_type": "code",
   "execution_count": 103,
   "metadata": {
    "collapsed": false
   },
   "outputs": [
    {
     "data": {
      "text/plain": [
       "2015-11-12 21:05:00    0.317706\n",
       "2015-11-12 21:06:00    0.317706\n",
       "2015-11-12 21:07:00    0.317706\n",
       "2015-11-12 21:08:00         NaN\n",
       "2015-11-12 21:09:00         NaN\n",
       "2015-11-12 21:10:00    0.386246\n",
       "2015-11-12 21:11:00    0.386246\n",
       "2015-11-12 21:12:00    0.386246\n",
       "2015-11-12 21:13:00         NaN\n",
       "2015-11-12 21:14:00         NaN\n",
       "2015-11-12 21:15:00    0.264513\n",
       "2015-11-12 21:16:00    0.264513\n",
       "2015-11-12 21:17:00    0.264513\n",
       "2015-11-12 21:18:00         NaN\n",
       "2015-11-12 21:19:00         NaN\n",
       "Freq: T, dtype: float64"
      ]
     },
     "execution_count": 103,
     "metadata": {},
     "output_type": "execute_result"
    }
   ],
   "source": [
    "# You can even specify the number of forward fills\n",
    "ts_1min.fillna(method='ffill', limit=2).head(15)"
   ]
  },
  {
   "cell_type": "code",
   "execution_count": 105,
   "metadata": {
    "collapsed": false
   },
   "outputs": [
    {
     "data": {
      "text/plain": [
       "2015-11-12 21:05:00    0.317706\n",
       "2015-11-12 21:06:00    0.386246\n",
       "2015-11-12 21:07:00    0.386246\n",
       "2015-11-12 21:08:00    0.386246\n",
       "2015-11-12 21:09:00    0.386246\n",
       "2015-11-12 21:10:00    0.386246\n",
       "2015-11-12 21:11:00    0.264513\n",
       "2015-11-12 21:12:00    0.264513\n",
       "2015-11-12 21:13:00    0.264513\n",
       "2015-11-12 21:14:00    0.264513\n",
       "Freq: T, dtype: float64"
      ]
     },
     "execution_count": 105,
     "metadata": {},
     "output_type": "execute_result"
    }
   ],
   "source": [
    "# Likewise, you can do backwards filling\n",
    "ts_1min.fillna(method='bfill').head(10)"
   ]
  },
  {
   "cell_type": "code",
   "execution_count": 109,
   "metadata": {
    "collapsed": false
   },
   "outputs": [
    {
     "data": {
      "text/html": [
       "<div>\n",
       "<table border=\"1\" class=\"dataframe\">\n",
       "  <thead>\n",
       "    <tr style=\"text-align: right;\">\n",
       "      <th></th>\n",
       "      <th>open</th>\n",
       "      <th>high</th>\n",
       "      <th>low</th>\n",
       "      <th>close</th>\n",
       "    </tr>\n",
       "  </thead>\n",
       "  <tbody>\n",
       "    <tr>\n",
       "      <th>2015-11-12 00:00:00</th>\n",
       "      <td>0.317706</td>\n",
       "      <td>1.401158</td>\n",
       "      <td>-0.669698</td>\n",
       "      <td>-0.411742</td>\n",
       "    </tr>\n",
       "    <tr>\n",
       "      <th>2015-11-12 12:00:00</th>\n",
       "      <td>NaN</td>\n",
       "      <td>NaN</td>\n",
       "      <td>NaN</td>\n",
       "      <td>NaN</td>\n",
       "    </tr>\n",
       "    <tr>\n",
       "      <th>2015-11-13 00:00:00</th>\n",
       "      <td>0.847125</td>\n",
       "      <td>1.131833</td>\n",
       "      <td>-1.348696</td>\n",
       "      <td>-0.224451</td>\n",
       "    </tr>\n",
       "    <tr>\n",
       "      <th>2015-11-13 12:00:00</th>\n",
       "      <td>NaN</td>\n",
       "      <td>NaN</td>\n",
       "      <td>NaN</td>\n",
       "      <td>NaN</td>\n",
       "    </tr>\n",
       "    <tr>\n",
       "      <th>2015-11-14 00:00:00</th>\n",
       "      <td>-0.091251</td>\n",
       "      <td>1.175889</td>\n",
       "      <td>-1.378771</td>\n",
       "      <td>-0.840726</td>\n",
       "    </tr>\n",
       "  </tbody>\n",
       "</table>\n",
       "</div>"
      ],
      "text/plain": [
       "                         open      high       low     close\n",
       "2015-11-12 00:00:00  0.317706  1.401158 -0.669698 -0.411742\n",
       "2015-11-12 12:00:00       NaN       NaN       NaN       NaN\n",
       "2015-11-13 00:00:00  0.847125  1.131833 -1.348696 -0.224451\n",
       "2015-11-13 12:00:00       NaN       NaN       NaN       NaN\n",
       "2015-11-14 00:00:00 -0.091251  1.175889 -1.378771 -0.840726"
      ]
     },
     "execution_count": 109,
     "metadata": {},
     "output_type": "execute_result"
    }
   ],
   "source": [
    "# You can do linear interpolation\n",
    "df = ts_5min.resample('D', how='ohlc')\n",
    "df.head()\n",
    "df_half_day = df.resample('720t')\n",
    "df_half_day.head()"
   ]
  },
  {
   "cell_type": "code",
   "execution_count": 112,
   "metadata": {
    "collapsed": false
   },
   "outputs": [
    {
     "data": {
      "text/plain": [
       "2015-11-12 00:00:00    0.317706\n",
       "2015-11-12 12:00:00    0.582416\n",
       "2015-11-13 00:00:00    0.847125\n",
       "2015-11-13 12:00:00    0.377937\n",
       "2015-11-14 00:00:00   -0.091251\n",
       "Freq: 720T, Name: open, dtype: float64"
      ]
     },
     "execution_count": 112,
     "metadata": {},
     "output_type": "execute_result"
    }
   ],
   "source": [
    "df_half_day.open.interpolate().head()"
   ]
  },
  {
   "cell_type": "code",
   "execution_count": 118,
   "metadata": {
    "collapsed": false
   },
   "outputs": [
    {
     "data": {
      "text/html": [
       "<div>\n",
       "<table border=\"1\" class=\"dataframe\">\n",
       "  <thead>\n",
       "    <tr style=\"text-align: right;\">\n",
       "      <th></th>\n",
       "      <th>open</th>\n",
       "      <th>high</th>\n",
       "      <th>low</th>\n",
       "      <th>close</th>\n",
       "    </tr>\n",
       "  </thead>\n",
       "  <tbody>\n",
       "    <tr>\n",
       "      <th>2015-11-12 00:00:00</th>\n",
       "      <td>0.317706</td>\n",
       "      <td>1.401158</td>\n",
       "      <td>-0.669698</td>\n",
       "      <td>-0.411742</td>\n",
       "    </tr>\n",
       "    <tr>\n",
       "      <th>2015-11-12 04:00:00</th>\n",
       "      <td>NaN</td>\n",
       "      <td>NaN</td>\n",
       "      <td>NaN</td>\n",
       "      <td>NaN</td>\n",
       "    </tr>\n",
       "    <tr>\n",
       "      <th>2015-11-12 08:00:00</th>\n",
       "      <td>NaN</td>\n",
       "      <td>NaN</td>\n",
       "      <td>NaN</td>\n",
       "      <td>NaN</td>\n",
       "    </tr>\n",
       "    <tr>\n",
       "      <th>2015-11-12 12:00:00</th>\n",
       "      <td>NaN</td>\n",
       "      <td>NaN</td>\n",
       "      <td>NaN</td>\n",
       "      <td>NaN</td>\n",
       "    </tr>\n",
       "    <tr>\n",
       "      <th>2015-11-12 16:00:00</th>\n",
       "      <td>NaN</td>\n",
       "      <td>NaN</td>\n",
       "      <td>NaN</td>\n",
       "      <td>NaN</td>\n",
       "    </tr>\n",
       "  </tbody>\n",
       "</table>\n",
       "</div>"
      ],
      "text/plain": [
       "                         open      high       low     close\n",
       "2015-11-12 00:00:00  0.317706  1.401158 -0.669698 -0.411742\n",
       "2015-11-12 04:00:00       NaN       NaN       NaN       NaN\n",
       "2015-11-12 08:00:00       NaN       NaN       NaN       NaN\n",
       "2015-11-12 12:00:00       NaN       NaN       NaN       NaN\n",
       "2015-11-12 16:00:00       NaN       NaN       NaN       NaN"
      ]
     },
     "execution_count": 118,
     "metadata": {},
     "output_type": "execute_result"
    }
   ],
   "source": [
    "# You can apply any user-specified functions, using the lambda function.\n",
    "# For example, you would like to apply different limits to each of the four columns.\n",
    "limits = {'open':1, \n",
    "          'high':2, \n",
    "          'low':3, \n",
    "          'close':4}\n",
    "df_4hour = df.resample('240t')\n",
    "df_4hour.head()"
   ]
  },
  {
   "cell_type": "code",
   "execution_count": 125,
   "metadata": {
    "collapsed": false
   },
   "outputs": [
    {
     "data": {
      "text/html": [
       "<div>\n",
       "<table border=\"1\" class=\"dataframe\">\n",
       "  <thead>\n",
       "    <tr style=\"text-align: right;\">\n",
       "      <th></th>\n",
       "      <th>open</th>\n",
       "      <th>high</th>\n",
       "      <th>low</th>\n",
       "      <th>close</th>\n",
       "    </tr>\n",
       "  </thead>\n",
       "  <tbody>\n",
       "    <tr>\n",
       "      <th>2015-11-12 00:00:00</th>\n",
       "      <td>0.317706</td>\n",
       "      <td>1.401158</td>\n",
       "      <td>-0.669698</td>\n",
       "      <td>-0.411742</td>\n",
       "    </tr>\n",
       "    <tr>\n",
       "      <th>2015-11-12 04:00:00</th>\n",
       "      <td>0.317706</td>\n",
       "      <td>1.401158</td>\n",
       "      <td>-0.669698</td>\n",
       "      <td>-0.411742</td>\n",
       "    </tr>\n",
       "    <tr>\n",
       "      <th>2015-11-12 08:00:00</th>\n",
       "      <td>NaN</td>\n",
       "      <td>1.401158</td>\n",
       "      <td>-0.669698</td>\n",
       "      <td>-0.411742</td>\n",
       "    </tr>\n",
       "    <tr>\n",
       "      <th>2015-11-12 12:00:00</th>\n",
       "      <td>NaN</td>\n",
       "      <td>NaN</td>\n",
       "      <td>-0.669698</td>\n",
       "      <td>-0.411742</td>\n",
       "    </tr>\n",
       "    <tr>\n",
       "      <th>2015-11-12 16:00:00</th>\n",
       "      <td>NaN</td>\n",
       "      <td>NaN</td>\n",
       "      <td>NaN</td>\n",
       "      <td>-0.411742</td>\n",
       "    </tr>\n",
       "  </tbody>\n",
       "</table>\n",
       "</div>"
      ],
      "text/plain": [
       "                         open      high       low     close\n",
       "2015-11-12 00:00:00  0.317706  1.401158 -0.669698 -0.411742\n",
       "2015-11-12 04:00:00  0.317706  1.401158 -0.669698 -0.411742\n",
       "2015-11-12 08:00:00       NaN  1.401158 -0.669698 -0.411742\n",
       "2015-11-12 12:00:00       NaN       NaN -0.669698 -0.411742\n",
       "2015-11-12 16:00:00       NaN       NaN       NaN -0.411742"
      ]
     },
     "execution_count": 125,
     "metadata": {},
     "output_type": "execute_result"
    }
   ],
   "source": [
    "df_4hour.apply(lambda x: x.fillna(method='ffill', limit=limits[x.name])).head()"
   ]
  },
  {
   "cell_type": "code",
   "execution_count": 127,
   "metadata": {
    "collapsed": false
   },
   "outputs": [
    {
     "data": {
      "text/plain": [
       "2015-11-12 21:05:00    0.317706\n",
       "2015-11-12 21:06:00    0.317706\n",
       "2015-11-12 21:07:00    0.317706\n",
       "2015-11-12 21:08:00    0.317706\n",
       "2015-11-12 21:09:00    0.317706\n",
       "Freq: T, dtype: float64"
      ]
     },
     "execution_count": 127,
     "metadata": {},
     "output_type": "execute_result"
    }
   ],
   "source": [
    "# How about combining the fillna step with the resample method\n",
    "ts_5min.resample('t', fill_method='ffill').head()"
   ]
  },
  {
   "cell_type": "markdown",
   "metadata": {},
   "source": [
    "## Periods Logic\n",
    "\n",
    " - Periods represent timespans versus pionts in time.\n",
    " - Periods make it easy to do calendar arithmetic (moving around time axis).\n",
    " - Enable special domain logic (e.g. fiscal years and quarters).\n",
    "\n",
    "Examples:\n",
    " - June: Period('Jun-2015', 'M')\n",
    " - 2015 Financial Year, that is, 2014-July to 2015-June: Period(2015', 'A-JUN')"
   ]
  },
  {
   "cell_type": "code",
   "execution_count": 129,
   "metadata": {
    "collapsed": false
   },
   "outputs": [
    {
     "data": {
      "text/plain": [
       "pandas._period.Period"
      ]
     },
     "execution_count": 129,
     "metadata": {},
     "output_type": "execute_result"
    }
   ],
   "source": [
    "pd.Period"
   ]
  },
  {
   "cell_type": "code",
   "execution_count": 134,
   "metadata": {
    "collapsed": false
   },
   "outputs": [
    {
     "data": {
      "text/plain": [
       "Period('2015', 'A-JUN')"
      ]
     },
     "execution_count": 134,
     "metadata": {},
     "output_type": "execute_result"
    }
   ],
   "source": [
    "# We have a period, that is annual, and ends in June\n",
    "p = pd.Period('2015', freq='A-JUN')\n",
    "p"
   ]
  },
  {
   "cell_type": "code",
   "execution_count": 133,
   "metadata": {
    "collapsed": false
   },
   "outputs": [
    {
     "data": {
      "text/plain": [
       "Period('0005', 'A-JUN')"
      ]
     },
     "execution_count": 133,
     "metadata": {},
     "output_type": "execute_result"
    }
   ],
   "source": [
    "p - 2010  # The gap between 2010 and 2015 is 5 years"
   ]
  },
  {
   "cell_type": "code",
   "execution_count": 136,
   "metadata": {
    "collapsed": false
   },
   "outputs": [
    {
     "data": {
      "text/plain": [
       "Period('2015-06', 'M')"
      ]
     },
     "execution_count": 136,
     "metadata": {},
     "output_type": "execute_result"
    }
   ],
   "source": [
    "p.asfreq('M', how='end') # Convert the period (2015 fiscal year) to the last month of the period"
   ]
  },
  {
   "cell_type": "code",
   "execution_count": 138,
   "metadata": {
    "collapsed": false
   },
   "outputs": [
    {
     "data": {
      "text/plain": [
       "Period('2014-07', 'M')"
      ]
     },
     "execution_count": 138,
     "metadata": {},
     "output_type": "execute_result"
    }
   ],
   "source": [
    "p.asfreq('M', how='start') # Convert the period to the first month of the period."
   ]
  },
  {
   "cell_type": "code",
   "execution_count": 140,
   "metadata": {
    "collapsed": false
   },
   "outputs": [
    {
     "data": {
      "text/plain": [
       "Period('2014-08-27', 'B')"
      ]
     },
     "execution_count": 140,
     "metadata": {},
     "output_type": "execute_result"
    }
   ],
   "source": [
    "# Say, we like to find out the 2nd Month, 2nd last business day of the period.\n",
    "(p.asfreq('M', how='start') + 1).asfreq('B', how='end') - 2"
   ]
  },
  {
   "cell_type": "markdown",
   "metadata": {},
   "source": [
    "The analogue of DatetimeIndex is PeriodIndex."
   ]
  },
  {
   "cell_type": "code",
   "execution_count": 143,
   "metadata": {
    "collapsed": false
   },
   "outputs": [
    {
     "data": {
      "text/plain": [
       "Timestamp('2015-11-30 00:00:00', offset='M')"
      ]
     },
     "execution_count": 143,
     "metadata": {},
     "output_type": "execute_result"
    }
   ],
   "source": [
    "ts.resample('M').index[0]  # The default resample method gives you DatetimeIndex"
   ]
  },
  {
   "cell_type": "code",
   "execution_count": 145,
   "metadata": {
    "collapsed": false
   },
   "outputs": [
    {
     "data": {
      "text/plain": [
       "Period('2015-11', 'M')"
      ]
     },
     "execution_count": 145,
     "metadata": {},
     "output_type": "execute_result"
    }
   ],
   "source": [
    "ts_period = ts.resample('M', kind='period')  # This way generates the PeriodIndex\n",
    "ts_period.index[0]"
   ]
  },
  {
   "cell_type": "code",
   "execution_count": 147,
   "metadata": {
    "collapsed": false
   },
   "outputs": [
    {
     "data": {
      "text/plain": [
       "2015-11-30    0.003769\n",
       "2015-12-31   -0.002284\n",
       "2016-01-29   -0.001867\n",
       "Freq: B, dtype: float64"
      ]
     },
     "execution_count": 147,
     "metadata": {},
     "output_type": "execute_result"
    }
   ],
   "source": [
    "# Convertion in PeriodIndex works differently\n",
    "ts_period.asfreq('B', how='end')  # Converting the time series to the last business day of the month."
   ]
  },
  {
   "cell_type": "code",
   "execution_count": 149,
   "metadata": {
    "collapsed": false
   },
   "outputs": [
    {
     "data": {
      "text/plain": [
       "PeriodIndex(['2015-11', '2015-12', '2016-01'], dtype='int64', freq='M')"
      ]
     },
     "execution_count": 149,
     "metadata": {},
     "output_type": "execute_result"
    }
   ],
   "source": [
    "# Analogue of pd.date_range is pd.period_range\n",
    "pd.period_range('2015-11', periods=3, freq='M')"
   ]
  },
  {
   "cell_type": "markdown",
   "metadata": {},
   "source": [
    "## Working with Graphs\n",
    "\n",
    "Some minor applications to plot very quickly."
   ]
  },
  {
   "cell_type": "code",
   "execution_count": 153,
   "metadata": {
    "collapsed": false
   },
   "outputs": [
    {
     "data": {
      "text/plain": [
       "<matplotlib.axes._subplots.AxesSubplot at 0x108672390>"
      ]
     },
     "execution_count": 153,
     "metadata": {},
     "output_type": "execute_result"
    },
    {
     "data": {
      "image/png": "[encoded data removed]",
      "text/plain": [
       "<matplotlib.figure.Figure at 0x10867e748>"
      ]
     },
     "metadata": {},
     "output_type": "display_data"
    }
   ],
   "source": [
    "df.open.plot()  # Produce a single plot"
   ]
  },
  {
   "cell_type": "code",
   "execution_count": 154,
   "metadata": {
    "collapsed": false
   },
   "outputs": [
    {
     "data": {
      "text/plain": [
       "<matplotlib.axes._subplots.AxesSubplot at 0x1089a1048>"
      ]
     },
     "execution_count": 154,
     "metadata": {},
     "output_type": "execute_result"
    },
    {
     "data": {
      "image/png": "[encoded data removed]",
      "text/plain": [
       "<matplotlib.figure.Figure at 0x1089ae198>"
      ]
     },
     "metadata": {},
     "output_type": "display_data"
    }
   ],
   "source": [
    "df.open['2015-12-30':].plot()  # Select a subset of the observations"
   ]
  },
  {
   "cell_type": "code",
   "execution_count": 155,
   "metadata": {
    "collapsed": false
   },
   "outputs": [
    {
     "data": {
      "text/plain": [
       "<matplotlib.axes._subplots.AxesSubplot at 0x108635cf8>"
      ]
     },
     "execution_count": 155,
     "metadata": {},
     "output_type": "execute_result"
    },
    {
     "data": {
      "image/png": "[encoded data removed]",
      "text/plain": [
       "<matplotlib.figure.Figure at 0x108cb6080>"
      ]
     },
     "metadata": {},
     "output_type": "display_data"
    }
   ],
   "source": [
    "df.ix['2015-12-30':, ['open', 'high']].plot()  # Plot two series at once"
   ]
  },
  {
   "cell_type": "code",
   "execution_count": 159,
   "metadata": {
    "collapsed": false
   },
   "outputs": [
    {
     "data": {
      "text/plain": [
       "<matplotlib.legend.Legend at 0x1092508d0>"
      ]
     },
     "execution_count": 159,
     "metadata": {},
     "output_type": "execute_result"
    },
    {
     "data": {
      "image/png": "[encoded data removed]",
      "text/plain": [
       "<matplotlib.figure.Figure at 0x109250748>"
      ]
     },
     "metadata": {},
     "output_type": "display_data"
    }
   ],
   "source": [
    "df.ix['2015-12-30':, 'open'].plot(style='k')  # Use black color\n",
    "df.ix['2015-12-30':, 'high'].plot(secondary_y=True, style='g')  # Use a seperate y axis and green colour\n",
    "plt.legend()"
   ]
  },
  {
   "cell_type": "code",
   "execution_count": 161,
   "metadata": {
    "collapsed": false
   },
   "outputs": [
    {
     "data": {
      "text/plain": [
       "<matplotlib.legend.Legend at 0x109810908>"
      ]
     },
     "execution_count": 161,
     "metadata": {},
     "output_type": "execute_result"
    },
    {
     "data": {
      "image/png": "[encoded data removed]",
      "text/plain": [
       "<matplotlib.figure.Figure at 0x1094c76d8>"
      ]
     },
     "metadata": {},
     "output_type": "display_data"
    }
   ],
   "source": [
    "# Or do it step by step\n",
    "ax1 = df.ix['2015-12-30':, 'open'].plot(style='k')  # Use black color\n",
    "ax2 = df.ix['2015-12-30':, 'high'].plot(secondary_y=True, style='g')  # Use a seperate y axis and green colour\n",
    "ax1.set_ylabel('open')\n",
    "ax2.set_ylabel('high')\n",
    "plt.legend()"
   ]
  },
  {
   "cell_type": "code",
   "execution_count": null,
   "metadata": {
    "collapsed": true
   },
   "outputs": [],
   "source": []
  },
  {
   "cell_type": "code",
   "execution_count": null,
   "metadata": {
    "collapsed": true
   },
   "outputs": [],
   "source": []
  },
  {
   "cell_type": "code",
   "execution_count": null,
   "metadata": {
    "collapsed": true
   },
   "outputs": [],
   "source": []
  }
 ],
 "metadata": {
  "kernelspec": {
   "display_name": "Python 3",
   "language": "python",
   "name": "python3"
  },
  "language_info": {
   "codemirror_mode": {
    "name": "ipython",
    "version": 3
   },
   "file_extension": ".py",
   "mimetype": "text/x-python",
   "name": "python",
   "nbconvert_exporter": "python",
   "pygments_lexer": "ipython3",
   "version": "3.4.3"
  }
 },
 "nbformat": 4,
 "nbformat_minor": 0
}
